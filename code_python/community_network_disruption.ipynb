{
 "cells": [
  {
   "cell_type": "code",
   "execution_count": 3,
   "metadata": {
    "id": "4h3vYgOtbkRJ"
   },
   "outputs": [],
   "source": [
    "#import packages\n",
    "import os\n",
    "import sys\n",
    "\n",
    "from pyspark import SparkConf, SparkContext\n",
    "import os\n",
    "import math\n",
    "from pyspark.sql.functions import *\n",
    "from pyspark.sql import SparkSession\n",
    "from pyspark.sql.types import StructType, StructField, StringType, IntegerType, FloatType \n",
    "from graphframes import *\n",
    "\n",
    "import matplotlib.pyplot as plt\n",
    "%matplotlib inline\n",
    "\n",
    "import math"
   ]
  },
  {
   "cell_type": "code",
   "execution_count": 2,
   "metadata": {},
   "outputs": [
    {
     "name": "stdout",
     "output_type": "stream",
     "text": [
      "Collecting graphframes\n",
      "  Downloading graphframes-0.6-py2.py3-none-any.whl (18 kB)\n",
      "Requirement already satisfied: numpy in /Users/salimwid/opt/anaconda3/lib/python3.8/site-packages (from graphframes) (1.20.1)\n",
      "Requirement already satisfied: nose in /Users/salimwid/opt/anaconda3/lib/python3.8/site-packages (from graphframes) (1.3.7)\n",
      "Installing collected packages: graphframes\n",
      "Successfully installed graphframes-0.6\n",
      "\u001b[33mWARNING: You are using pip version 21.3; however, version 22.0.4 is available.\n",
      "You should consider upgrading via the '/Users/salimwid/opt/anaconda3/bin/python -m pip install --upgrade pip' command.\u001b[0m\n"
     ]
    }
   ],
   "source": [
    "!pip install graphframes"
   ]
  },
  {
   "cell_type": "markdown",
   "metadata": {},
   "source": [
    "# Create Network \n",
    "\n",
    "- Get a list of nodes and edges for the desired community from leading eigenvector community detection\n",
    "- Create a graphframe "
   ]
  },
  {
   "cell_type": "code",
   "execution_count": 4,
   "metadata": {
    "id": "vFR8Zfi1bnoO"
   },
   "outputs": [],
   "source": [
    "spark = SparkSession.builder.master(\"local[*]\").config(\"spark.jars.packages\", \"graphframes:graphframes:0.8.2-spark3.2-s_2.12\").getOrCreate()"
   ]
  },
  {
   "cell_type": "code",
   "execution_count": 7,
   "metadata": {
    "id": "UoDobUijONeI"
   },
   "outputs": [],
   "source": [
    "#change node path here and change file name at bottom for export\n",
    "\n",
    "node_path = \"../le_nodes_edges_list/le_com4_nodes.csv\"\n",
    "edge_path = \"../le_nodes_edges_list/le_com4_edges.csv\"\n",
    "\n",
    "file_name_degree = \"network_disruption_images/degree_targeted_vs_random_le_com4.pdf\"\n",
    "file_name_transitivity = \"network_disruption_images/transitivity_targeted_vs_random_le_com4.pdf\""
   ]
  },
  {
   "cell_type": "code",
   "execution_count": 8,
   "metadata": {
    "colab": {
     "base_uri": "https://localhost:8080/"
    },
    "id": "syeg32uKbrQ7",
    "outputId": "c1a94188-b722-4657-99c8-5e223e5d7d62"
   },
   "outputs": [
    {
     "name": "stdout",
     "output_type": "stream",
     "text": [
      "+--------------------+--------------------+\n",
      "|                  id|                node|\n",
      "+--------------------+--------------------+\n",
      "|9.015850861804995...|9.015850861804995...|\n",
      "|7.15474256889385e+17|7.15474256889385e+17|\n",
      "|7.541154130347377...|7.541154130347377...|\n",
      "|7.767936822048195...|7.767936822048195...|\n",
      "|8.379207906453955...|8.379207906453955...|\n",
      "|7.406849387443036...|7.406849387443036...|\n",
      "|9.37671869444051e+17|9.37671869444051e+17|\n",
      "|        2262620679.0|        2262620679.0|\n",
      "|         209667075.0|         209667075.0|\n",
      "|7.575962798662902...|7.575962798662902...|\n",
      "|7.126900512016957...|7.126900512016957...|\n",
      "|        3430474763.0|        3430474763.0|\n",
      "|8.12454149912662e+17|8.12454149912662e+17|\n",
      "|7.838292218063135...|7.838292218063135...|\n",
      "|8.066952579161825...|8.066952579161825...|\n",
      "|7.765565584696975...|7.765565584696975...|\n",
      "|          23332368.0|          23332368.0|\n",
      "|        2415253009.0|        2415253009.0|\n",
      "|7.317076018477179...|7.317076018477179...|\n",
      "|        3092878870.0|        3092878870.0|\n",
      "+--------------------+--------------------+\n",
      "only showing top 20 rows\n",
      "\n"
     ]
    }
   ],
   "source": [
    "nodes_df = spark.read.csv(node_path, header = True)\n",
    "nodes_df.show()"
   ]
  },
  {
   "cell_type": "code",
   "execution_count": 9,
   "metadata": {
    "colab": {
     "base_uri": "https://localhost:8080/"
    },
    "id": "ArX9k3j9cM3W",
    "outputId": "23c6fe35-fb65-4123-ee81-6706533f5606"
   },
   "outputs": [
    {
     "name": "stdout",
     "output_type": "stream",
     "text": [
      "+--------------------+--------------------+\n",
      "|                 src|                 dst|\n",
      "+--------------------+--------------------+\n",
      "|          19043568.0|         506641461.0|\n",
      "|        3401254649.0|9.015850861804995...|\n",
      "|         407955785.0|          19043568.0|\n",
      "|         634330366.0|        3286796496.0|\n",
      "|         125128428.0|        3286796496.0|\n",
      "|        3291556676.0|         175131510.0|\n",
      "|         634330366.0|        1096394166.0|\n",
      "|          14189931.0|        2262620679.0|\n",
      "|          21283587.0|         248024430.0|\n",
      "|         125128428.0|        2415253009.0|\n",
      "|        1655766132.0|        3430474763.0|\n",
      "|         125128428.0|7.15474256889385e+17|\n",
      "|         223989188.0|        4865974714.0|\n",
      "|         634330366.0|          20998770.0|\n",
      "|7.623412586899661...|7.541154130347377...|\n",
      "|        3481965513.0|         360386911.0|\n",
      "|        3291556676.0|        4645471333.0|\n",
      "|          19043568.0|         860566802.0|\n",
      "|        3947091915.0|          67503749.0|\n",
      "|         125128428.0|         240974612.0|\n",
      "+--------------------+--------------------+\n",
      "only showing top 20 rows\n",
      "\n"
     ]
    }
   ],
   "source": [
    "edges_df = spark.read.csv(edge_path, header = True)\n",
    "edges_df.show()"
   ]
  },
  {
   "cell_type": "code",
   "execution_count": 10,
   "metadata": {
    "id": "jveSwC1Gcqzk"
   },
   "outputs": [],
   "source": [
    "graph = GraphFrame(nodes_df, edges_df)"
   ]
  },
  {
   "cell_type": "markdown",
   "metadata": {},
   "source": [
    "# Calculate Degree"
   ]
  },
  {
   "cell_type": "code",
   "execution_count": 23,
   "metadata": {
    "colab": {
     "base_uri": "https://localhost:8080/"
    },
    "id": "acLoVMqtc2Rw",
    "outputId": "adba11db-ba96-4025-b6c3-a4b78d872f63"
   },
   "outputs": [
    {
     "name": "stdout",
     "output_type": "stream",
     "text": [
      "+--------------------+------+\n",
      "|                  id|degree|\n",
      "+--------------------+------+\n",
      "|        3291556676.0|    19|\n",
      "|        2406059855.0|    12|\n",
      "|        3481965513.0|    10|\n",
      "|         634330366.0|    10|\n",
      "|         125128428.0|    10|\n",
      "|        4521330855.0|     7|\n",
      "|8.066952579161825...|     7|\n",
      "|          46455464.0|     7|\n",
      "|          19043568.0|     7|\n",
      "|        3401254649.0|     6|\n",
      "|         275276082.0|     6|\n",
      "|         885960937.0|     6|\n",
      "|        3947091915.0|     6|\n",
      "|         851059680.0|     5|\n",
      "|          98416337.0|     5|\n",
      "|          81438841.0|     5|\n",
      "|8.262089432611676...|     5|\n",
      "|        1655766132.0|     5|\n",
      "|        3247993823.0|     5|\n",
      "|        4865974714.0|     5|\n",
      "+--------------------+------+\n",
      "only showing top 20 rows\n",
      "\n"
     ]
    }
   ],
   "source": [
    "all_degree = graph.degrees"
   ]
  },
  {
   "cell_type": "code",
   "execution_count": 29,
   "metadata": {},
   "outputs": [
    {
     "name": "stdout",
     "output_type": "stream",
     "text": [
      "+------------+------+\n",
      "|          id|degree|\n",
      "+------------+------+\n",
      "|3291556676.0|    19|\n",
      "+------------+------+\n",
      "only showing top 1 row\n",
      "\n"
     ]
    }
   ],
   "source": [
    "all_degree.sort(col(\"degree\").desc()).show(1)"
   ]
  },
  {
   "cell_type": "code",
   "execution_count": 30,
   "metadata": {},
   "outputs": [
    {
     "name": "stdout",
     "output_type": "stream",
     "text": [
      "+------------+------+\n",
      "|          id|degree|\n",
      "+------------+------+\n",
      "|1096394166.0|     1|\n",
      "+------------+------+\n",
      "only showing top 1 row\n",
      "\n"
     ]
    }
   ],
   "source": [
    "all_degree.sort(col(\"degree\").asc()).show(1)"
   ]
  },
  {
   "cell_type": "code",
   "execution_count": 12,
   "metadata": {
    "colab": {
     "base_uri": "https://localhost:8080/"
    },
    "id": "FQUTQL5Oc87b",
    "outputId": "6fbfadf9-b58e-445e-ba62-96b38756b472"
   },
   "outputs": [
    {
     "name": "stdout",
     "output_type": "stream",
     "text": [
      "+------------------+\n",
      "|        avg_degree|\n",
      "+------------------+\n",
      "|2.0505050505050506|\n",
      "+------------------+\n",
      "\n"
     ]
    }
   ],
   "source": [
    "average_degree = all_degree.select(avg(\"degree\").alias('avg_degree'))\n",
    "average_degree.show()"
   ]
  },
  {
   "cell_type": "markdown",
   "metadata": {},
   "source": [
    "# Randomised Disruption\n",
    "\n",
    "- Shuffle nodes randomly\n",
    "- Remove nodes outgoing edges one at a time\n",
    "- Plot change in average degree"
   ]
  },
  {
   "cell_type": "code",
   "execution_count": 96,
   "metadata": {
    "colab": {
     "base_uri": "https://localhost:8080/"
    },
    "id": "UPhY-ygMcYNh",
    "outputId": "cca83512-b6af-4cdd-ee06-801856c6f2cf"
   },
   "outputs": [
    {
     "name": "stdout",
     "output_type": "stream",
     "text": [
      "+--------------------+--------------------+\n",
      "|                  id|                node|\n",
      "+--------------------+--------------------+\n",
      "|7.482534120646369...|7.482534120646369...|\n",
      "|7.110043505130947...|7.110043505130947...|\n",
      "| 7.5215570221534e+17| 7.5215570221534e+17|\n",
      "|7.317076018477179...|7.317076018477179...|\n",
      "|         444449581.0|         444449581.0|\n",
      "|7.02773194713772e+17|7.02773194713772e+17|\n",
      "|        2415253009.0|        2415253009.0|\n",
      "|8.092285215833661...|8.092285215833661...|\n",
      "|7.523590893389988...|7.523590893389988...|\n",
      "|        4645471333.0|        4645471333.0|\n",
      "+--------------------+--------------------+\n",
      "only showing top 10 rows\n",
      "\n"
     ]
    }
   ],
   "source": [
    "#shuffle nodes for randomised disrupton\n",
    "\n",
    "shuffled_nodes = nodes_df.orderBy(rand())\n",
    "shuffled_nodes.show(10)"
   ]
  },
  {
   "cell_type": "code",
   "execution_count": 107,
   "metadata": {
    "colab": {
     "base_uri": "https://localhost:8080/"
    },
    "id": "xzM62osIeADD",
    "outputId": "77d4c415-7bbc-46cd-ab99-9754766149b7"
   },
   "outputs": [
    {
     "name": "stdout",
     "output_type": "stream",
     "text": [
      "0.005050505050505051\n",
      "0.010101010101010102\n",
      "0.015151515151515152\n",
      "0.020202020202020204\n",
      "0.025252525252525252\n",
      "0.030303030303030304\n",
      "0.03535353535353535\n",
      "0.04040404040404041\n",
      "0.045454545454545456\n",
      "0.050505050505050504\n",
      "0.05555555555555555\n",
      "0.06060606060606061\n",
      "0.06565656565656566\n",
      "0.0707070707070707\n",
      "0.07575757575757576\n",
      "0.08080808080808081\n",
      "0.08585858585858586\n",
      "0.09090909090909091\n",
      "0.09595959595959595\n",
      "0.10101010101010101\n",
      "0.10606060606060606\n",
      "0.1111111111111111\n",
      "0.11616161616161616\n",
      "0.12121212121212122\n",
      "0.12626262626262627\n",
      "0.13131313131313133\n",
      "0.13636363636363635\n",
      "0.1414141414141414\n",
      "0.14646464646464646\n",
      "0.15151515151515152\n",
      "0.15656565656565657\n",
      "0.16161616161616163\n",
      "0.16666666666666666\n",
      "0.1717171717171717\n",
      "0.17676767676767677\n",
      "0.18181818181818182\n",
      "0.18686868686868688\n",
      "0.1919191919191919\n",
      "0.19696969696969696\n",
      "0.20202020202020202\n",
      "0.20707070707070707\n",
      "0.21212121212121213\n",
      "0.21717171717171718\n",
      "0.2222222222222222\n",
      "0.22727272727272727\n",
      "0.23232323232323232\n",
      "0.23737373737373738\n",
      "0.24242424242424243\n",
      "0.2474747474747475\n",
      "0.25252525252525254\n",
      "0.25757575757575757\n",
      "0.26262626262626265\n",
      "0.2676767676767677\n",
      "0.2727272727272727\n",
      "0.2777777777777778\n",
      "0.2828282828282828\n",
      "0.2878787878787879\n",
      "0.29292929292929293\n",
      "0.29797979797979796\n",
      "0.30303030303030304\n",
      "0.30808080808080807\n",
      "0.31313131313131315\n",
      "0.3181818181818182\n",
      "0.32323232323232326\n",
      "0.3282828282828283\n",
      "0.3333333333333333\n",
      "0.3383838383838384\n",
      "0.3434343434343434\n",
      "0.3484848484848485\n",
      "0.35353535353535354\n",
      "0.35858585858585856\n",
      "0.36363636363636365\n",
      "0.3686868686868687\n",
      "0.37373737373737376\n",
      "0.3787878787878788\n",
      "0.3838383838383838\n",
      "0.3888888888888889\n",
      "0.3939393939393939\n",
      "0.398989898989899\n",
      "0.40404040404040403\n",
      "0.4090909090909091\n",
      "0.41414141414141414\n",
      "0.41919191919191917\n",
      "0.42424242424242425\n",
      "0.4292929292929293\n",
      "0.43434343434343436\n",
      "0.4393939393939394\n",
      "0.4444444444444444\n",
      "0.4494949494949495\n",
      "0.45454545454545453\n",
      "0.4595959595959596\n",
      "0.46464646464646464\n",
      "0.4696969696969697\n",
      "0.47474747474747475\n",
      "0.4797979797979798\n",
      "0.48484848484848486\n",
      "0.4898989898989899\n",
      "0.494949494949495\n",
      "0.5\n",
      "0.5050505050505051\n",
      "0.51010101010101\n",
      "0.5151515151515151\n",
      "0.5202020202020202\n",
      "0.5252525252525253\n",
      "0.5303030303030303\n",
      "0.5353535353535354\n",
      "0.5404040404040404\n",
      "0.5454545454545454\n",
      "0.5505050505050505\n",
      "0.5555555555555556\n",
      "0.5606060606060606\n",
      "0.5656565656565656\n",
      "0.5707070707070707\n",
      "0.5757575757575758\n",
      "0.5808080808080808\n",
      "0.5858585858585859\n",
      "0.5909090909090909\n",
      "0.5959595959595959\n",
      "0.601010101010101\n",
      "0.6060606060606061\n",
      "0.6111111111111112\n",
      "0.6161616161616161\n",
      "0.6212121212121212\n",
      "0.6262626262626263\n",
      "0.6313131313131313\n",
      "0.6363636363636364\n",
      "0.6414141414141414\n",
      "0.6464646464646465\n",
      "0.6515151515151515\n",
      "0.6565656565656566\n",
      "0.6616161616161617\n",
      "0.6666666666666666\n",
      "0.6717171717171717\n",
      "0.6767676767676768\n",
      "0.6818181818181818\n",
      "0.6868686868686869\n",
      "0.6919191919191919\n",
      "0.696969696969697\n",
      "0.702020202020202\n",
      "0.7070707070707071\n",
      "0.7121212121212122\n",
      "0.7171717171717171\n",
      "0.7222222222222222\n",
      "0.7272727272727273\n",
      "0.7323232323232324\n",
      "0.7373737373737373\n",
      "0.7424242424242424\n",
      "0.7474747474747475\n",
      "0.7525252525252525\n",
      "0.7575757575757576\n",
      "0.7626262626262627\n",
      "0.7676767676767676\n",
      "0.7727272727272727\n",
      "0.7777777777777778\n",
      "0.7828282828282829\n",
      "0.7878787878787878\n",
      "0.7929292929292929\n",
      "0.797979797979798\n",
      "0.803030303030303\n",
      "0.8080808080808081\n",
      "0.8131313131313131\n",
      "0.8181818181818182\n",
      "0.8232323232323232\n",
      "0.8282828282828283\n",
      "0.8333333333333334\n",
      "0.8383838383838383\n",
      "0.8434343434343434\n",
      "0.8484848484848485\n",
      "0.8535353535353535\n",
      "0.8585858585858586\n",
      "0.8636363636363636\n",
      "0.8686868686868687\n",
      "0.8737373737373737\n",
      "0.8787878787878788\n",
      "0.8838383838383839\n",
      "0.8888888888888888\n",
      "0.8939393939393939\n",
      "0.898989898989899\n",
      "0.9040404040404041\n",
      "0.9090909090909091\n",
      "0.9141414141414141\n",
      "0.9191919191919192\n",
      "0.9242424242424242\n",
      "0.9292929292929293\n",
      "0.9343434343434344\n",
      "0.9393939393939394\n",
      "0.9444444444444444\n",
      "0.9494949494949495\n",
      "0.9545454545454546\n",
      "0.9595959595959596\n",
      "0.9646464646464646\n",
      "0.9696969696969697\n",
      "0.9747474747474747\n",
      "0.9797979797979798\n",
      "0.9848484848484849\n",
      "0.98989898989899\n",
      "0.9949494949494949\n",
      "1.0\n",
      "[0, 0.005050505050505051, 0.010101010101010102, 0.015151515151515152, 0.020202020202020204, 0.025252525252525252, 0.030303030303030304, 0.03535353535353535, 0.04040404040404041, 0.045454545454545456, 0.050505050505050504, 0.05555555555555555, 0.06060606060606061, 0.06565656565656566, 0.0707070707070707, 0.07575757575757576, 0.08080808080808081, 0.08585858585858586, 0.09090909090909091, 0.09595959595959595, 0.10101010101010101, 0.10606060606060606, 0.1111111111111111, 0.11616161616161616, 0.12121212121212122, 0.12626262626262627, 0.13131313131313133, 0.13636363636363635, 0.1414141414141414, 0.14646464646464646, 0.15151515151515152, 0.15656565656565657, 0.16161616161616163, 0.16666666666666666, 0.1717171717171717, 0.17676767676767677, 0.18181818181818182, 0.18686868686868688, 0.1919191919191919, 0.19696969696969696, 0.20202020202020202, 0.20707070707070707, 0.21212121212121213, 0.21717171717171718, 0.2222222222222222, 0.22727272727272727, 0.23232323232323232, 0.23737373737373738, 0.24242424242424243, 0.2474747474747475, 0.25252525252525254, 0.25757575757575757, 0.26262626262626265, 0.2676767676767677, 0.2727272727272727, 0.2777777777777778, 0.2828282828282828, 0.2878787878787879, 0.29292929292929293, 0.29797979797979796, 0.30303030303030304, 0.30808080808080807, 0.31313131313131315, 0.3181818181818182, 0.32323232323232326, 0.3282828282828283, 0.3333333333333333, 0.3383838383838384, 0.3434343434343434, 0.3484848484848485, 0.35353535353535354, 0.35858585858585856, 0.36363636363636365, 0.3686868686868687, 0.37373737373737376, 0.3787878787878788, 0.3838383838383838, 0.3888888888888889, 0.3939393939393939, 0.398989898989899, 0.40404040404040403, 0.4090909090909091, 0.41414141414141414, 0.41919191919191917, 0.42424242424242425, 0.4292929292929293, 0.43434343434343436, 0.4393939393939394, 0.4444444444444444, 0.4494949494949495, 0.45454545454545453, 0.4595959595959596, 0.46464646464646464, 0.4696969696969697, 0.47474747474747475, 0.4797979797979798, 0.48484848484848486, 0.4898989898989899, 0.494949494949495, 0.5, 0.5050505050505051, 0.51010101010101, 0.5151515151515151, 0.5202020202020202, 0.5252525252525253, 0.5303030303030303, 0.5353535353535354, 0.5404040404040404, 0.5454545454545454, 0.5505050505050505, 0.5555555555555556, 0.5606060606060606, 0.5656565656565656, 0.5707070707070707, 0.5757575757575758, 0.5808080808080808, 0.5858585858585859, 0.5909090909090909, 0.5959595959595959, 0.601010101010101, 0.6060606060606061, 0.6111111111111112, 0.6161616161616161, 0.6212121212121212, 0.6262626262626263, 0.6313131313131313, 0.6363636363636364, 0.6414141414141414, 0.6464646464646465, 0.6515151515151515, 0.6565656565656566, 0.6616161616161617, 0.6666666666666666, 0.6717171717171717, 0.6767676767676768, 0.6818181818181818, 0.6868686868686869, 0.6919191919191919, 0.696969696969697, 0.702020202020202, 0.7070707070707071, 0.7121212121212122, 0.7171717171717171, 0.7222222222222222, 0.7272727272727273, 0.7323232323232324, 0.7373737373737373, 0.7424242424242424, 0.7474747474747475, 0.7525252525252525, 0.7575757575757576, 0.7626262626262627, 0.7676767676767676, 0.7727272727272727, 0.7777777777777778, 0.7828282828282829, 0.7878787878787878, 0.7929292929292929, 0.797979797979798, 0.803030303030303, 0.8080808080808081, 0.8131313131313131, 0.8181818181818182, 0.8232323232323232, 0.8282828282828283, 0.8333333333333334, 0.8383838383838383, 0.8434343434343434, 0.8484848484848485, 0.8535353535353535, 0.8585858585858586, 0.8636363636363636, 0.8686868686868687, 0.8737373737373737, 0.8787878787878788, 0.8838383838383839, 0.8888888888888888, 0.8939393939393939, 0.898989898989899, 0.9040404040404041, 0.9090909090909091, 0.9141414141414141, 0.9191919191919192, 0.9242424242424242, 0.9292929292929293, 0.9343434343434344, 0.9393939393939394, 0.9444444444444444, 0.9494949494949495, 0.9545454545454546, 0.9595959595959596, 0.9646464646464646, 0.9696969696969697, 0.9747474747474747, 0.9797979797979798, 0.9848484848484849, 0.98989898989899, 0.9949494949494949, 1.0]\n",
      "[2.0505050505050506, 2.0505050505050506, 2.04040404040404, 2.04040404040404, 2.0408163265306123, 2.0408163265306123, 2.0412371134020617, 2.0412371134020617, 2.0414507772020727, 2.0414507772020727, 2.0414507772020727, 2.0414507772020727, 2.0414507772020727, 2.0414507772020727, 2.0414507772020727, 2.0414507772020727, 2.0414507772020727, 2.0414507772020727, 2.0418848167539267, 2.042105263157895, 2.0423280423280423, 2.0425531914893615, 2.0425531914893615, 2.0425531914893615, 2.0425531914893615, 2.0427807486631018, 2.0427807486631018, 2.0427807486631018, 2.0427807486631018, 2.0427807486631018, 2.043010752688172, 2.043010752688172, 2.043010752688172, 2.043010752688172, 2.0432432432432432, 2.0, 2.0, 1.989071038251366, 1.989071038251366, 1.978021978021978, 1.978021978021978, 1.978021978021978, 1.9668508287292819, 1.9661016949152543, 1.9661016949152543, 1.9661016949152543, 1.9661016949152543, 1.9657142857142857, 1.9644970414201184, 1.9644970414201184, 1.9644970414201184, 1.9644970414201184, 1.9644970414201184, 1.9644970414201184, 1.9390243902439024, 1.9390243902439024, 1.9386503067484662, 1.9367088607594938, 1.9367088607594938, 1.9367088607594938, 1.9367088607594938, 1.9367088607594938, 1.9367088607594938, 1.9367088607594938, 1.9367088607594938, 1.9367088607594938, 1.9367088607594938, 1.935897435897436, 1.935483870967742, 1.9350649350649352, 1.904109589041096, 1.904109589041096, 1.904109589041096, 1.903448275862069, 1.8686131386861313, 1.8686131386861313, 1.8686131386861313, 1.8686131386861313, 1.8686131386861313, 1.8676470588235294, 1.8676470588235294, 1.8676470588235294, 1.8615384615384616, 1.8615384615384616, 1.8615384615384616, 1.8615384615384616, 1.875, 1.875, 1.875, 1.8709677419354838, 1.8709677419354838, 1.8709677419354838, 1.8709677419354838, 1.85, 1.8333333333333333, 1.811965811965812, 1.811965811965812, 1.811965811965812, 1.811965811965812, 1.8103448275862069, 1.8103448275862069, 1.8103448275862069, 1.8, 1.8, 1.8, 1.8, 1.8130841121495327, 1.8130841121495327, 1.8130841121495327, 1.8130841121495327, 1.8130841121495327, 1.8130841121495327, 1.8130841121495327, 1.8130841121495327, 1.8130841121495327, 1.8130841121495327, 1.8130841121495327, 1.8130841121495327, 1.8130841121495327, 1.8076923076923077, 1.8076923076923077, 1.8076923076923077, 1.744186046511628, 1.7560975609756098, 1.7560975609756098, 1.7037037037037037, 1.7037037037037037, 1.7, 1.7, 1.7, 1.7, 1.7, 1.7, 1.6962025316455696, 1.6962025316455696, 1.6923076923076923, 1.6883116883116882, 1.6883116883116882, 1.6883116883116882, 1.6883116883116882, 1.6883116883116882, 1.7027027027027026, 1.6986301369863013, 1.6986301369863013, 1.6764705882352942, 1.6764705882352942, 1.6764705882352942, 1.6764705882352942, 1.6764705882352942, 1.6764705882352942, 1.6764705882352942, 1.696969696969697, 1.696969696969697, 1.696969696969697, 1.6923076923076923, 1.6923076923076923, 1.6923076923076923, 1.6923076923076923, 1.6923076923076923, 1.6923076923076923, 1.6923076923076923, 1.7142857142857142, 1.7142857142857142, 1.7096774193548387, 1.7096774193548387, 1.7096774193548387, 1.694915254237288, 1.719298245614035, 1.719298245614035, 1.6862745098039216, 1.7142857142857142, 1.7142857142857142, 1.7142857142857142, 1.702127659574468, 1.702127659574468, 1.7333333333333334, 1.7333333333333334, 1.75, 1.75, 1.6428571428571428, 1.6428571428571428, 1.6428571428571428, 1.6521739130434783, 1.6521739130434783, 1.6521739130434783, 1.6521739130434783, 1.6521739130434783, 1.6521739130434783, 1.6521739130434783, 1.6521739130434783, 1.6521739130434783, 1.5, 1.5, 1.6, 1.6, 1.3333333333333333, 1.3333333333333333, None, None]\n"
     ]
    }
   ],
   "source": [
    "#randomised disruption\n",
    "\n",
    "temp_df = shuffled_nodes\n",
    "\n",
    "degree_list_random = [average_degree.collect()[0].avg_degree]\n",
    "\n",
    "nodes_removed = []\n",
    "\n",
    "proportion_removed = [0]\n",
    "\n",
    "for i in range(total_nodes):\n",
    "  proportion_removed.append((i+1)/total_nodes)\n",
    "  nodes_removed.append(temp_df.collect()[0].id)\n",
    "  temp_df = spark.createDataFrame(temp_df.tail(temp_df.count()-1), temp_df.schema)\n",
    "  temp_edge_df = edges_df.filter(~edges_df.src.isin(nodes_removed))\n",
    "  g_temp = GraphFrame(temp_df, temp_edge_df)\n",
    "  temp_degree = g_temp.degrees\n",
    "  temp_avg_degree = temp_degree.select(avg(\"degree\").alias('avg_degree'))\n",
    "  degree_list_random.append(temp_avg_degree.collect()[0].avg_degree)\n",
    "  print((i+1)/total_nodes)\n",
    "\n",
    "print(proportion_removed)\n",
    "print(degree_list_random)\n",
    "#print(transitivity_random)"
   ]
  },
  {
   "cell_type": "code",
   "execution_count": 108,
   "metadata": {
    "colab": {
     "base_uri": "https://localhost:8080/",
     "height": 313
    },
    "id": "mAb6bwJEef9K",
    "outputId": "1a74008f-7793-4651-ab26-2804d36fd509"
   },
   "outputs": [
    {
     "data": {
      "text/plain": [
       "Text(0.5, 1.0, 'Randomized Removal of Nodes vs Degree')"
      ]
     },
     "execution_count": 108,
     "metadata": {},
     "output_type": "execute_result"
    },
    {
     "data": {
      "image/png": "[encoded data removed]",
      "text/plain": [
       "<Figure size 432x288 with 1 Axes>"
      ]
     },
     "metadata": {
      "needs_background": "light"
     },
     "output_type": "display_data"
    }
   ],
   "source": [
    "#plot results for randomised disruption\n",
    "\n",
    "plt.plot(proportion_removed, degree_list_random)\n",
    "plt.xlabel(\"Percentage of Nodes Removed\")\n",
    "plt.ylabel(\"Average Degree\")\n",
    "plt.title('Randomized Removal of Nodes vs Degree')"
   ]
  },
  {
   "cell_type": "markdown",
   "metadata": {},
   "source": [
    "# Targeted Disruption\n",
    "\n",
    "- Order nodes by degree\n",
    "- Remove nodes outgoing edges one at a time\n",
    "- Plot change in average degree"
   ]
  },
  {
   "cell_type": "code",
   "execution_count": 110,
   "metadata": {
    "colab": {
     "base_uri": "https://localhost:8080/"
    },
    "id": "tx32gSe6z5mB",
    "outputId": "dff6973f-92d7-41fa-db39-378862e324fb"
   },
   "outputs": [
    {
     "name": "stdout",
     "output_type": "stream",
     "text": [
      "+--------------------+------+\n",
      "|                  id|degree|\n",
      "+--------------------+------+\n",
      "|        3291556676.0|    19|\n",
      "|        2406059855.0|    12|\n",
      "|        3481965513.0|    10|\n",
      "|         634330366.0|    10|\n",
      "|         125128428.0|    10|\n",
      "|        4521330855.0|     7|\n",
      "|8.066952579161825...|     7|\n",
      "|          46455464.0|     7|\n",
      "|          19043568.0|     7|\n",
      "|        3401254649.0|     6|\n",
      "|         275276082.0|     6|\n",
      "|         885960937.0|     6|\n",
      "|        3947091915.0|     6|\n",
      "|         851059680.0|     5|\n",
      "|          98416337.0|     5|\n",
      "|          81438841.0|     5|\n",
      "|8.262089432611676...|     5|\n",
      "|        1655766132.0|     5|\n",
      "|        3247993823.0|     5|\n",
      "|        4865974714.0|     5|\n",
      "+--------------------+------+\n",
      "only showing top 20 rows\n",
      "\n"
     ]
    }
   ],
   "source": [
    "#sort nodes by degree for targeted disruption\n",
    "\n",
    "sorted_degree_df =  all_degree.sort(col('degree').desc())\n",
    "sorted_degree_df.show()"
   ]
  },
  {
   "cell_type": "code",
   "execution_count": 111,
   "metadata": {
    "colab": {
     "base_uri": "https://localhost:8080/"
    },
    "id": "TmCYoOEIer4o",
    "outputId": "07c5bf5f-ffbd-4dd0-c98c-0c53923f7f08"
   },
   "outputs": [
    {
     "name": "stdout",
     "output_type": "stream",
     "text": [
      "0.005050505050505051\n",
      "0.010101010101010102\n",
      "0.015151515151515152\n",
      "0.020202020202020204\n",
      "0.025252525252525252\n",
      "0.030303030303030304\n",
      "0.03535353535353535\n",
      "0.04040404040404041\n",
      "0.045454545454545456\n",
      "0.050505050505050504\n",
      "0.05555555555555555\n",
      "0.06060606060606061\n",
      "0.06565656565656566\n",
      "0.0707070707070707\n",
      "0.07575757575757576\n",
      "0.08080808080808081\n",
      "0.08585858585858586\n",
      "0.09090909090909091\n",
      "0.09595959595959595\n",
      "0.10101010101010101\n",
      "0.10606060606060606\n",
      "0.1111111111111111\n",
      "0.11616161616161616\n",
      "0.12121212121212122\n",
      "0.12626262626262627\n",
      "0.13131313131313133\n",
      "0.13636363636363635\n",
      "0.1414141414141414\n",
      "0.14646464646464646\n",
      "0.15151515151515152\n",
      "0.15656565656565657\n",
      "0.16161616161616163\n",
      "0.16666666666666666\n",
      "0.1717171717171717\n",
      "0.17676767676767677\n",
      "0.18181818181818182\n",
      "0.18686868686868688\n",
      "0.1919191919191919\n",
      "0.19696969696969696\n",
      "0.20202020202020202\n",
      "0.20707070707070707\n",
      "0.21212121212121213\n",
      "0.21717171717171718\n",
      "0.2222222222222222\n",
      "0.22727272727272727\n",
      "0.23232323232323232\n",
      "0.23737373737373738\n",
      "0.24242424242424243\n",
      "0.2474747474747475\n",
      "0.25252525252525254\n",
      "0.25757575757575757\n",
      "0.26262626262626265\n",
      "0.2676767676767677\n",
      "0.2727272727272727\n",
      "0.2777777777777778\n",
      "0.2828282828282828\n",
      "0.2878787878787879\n",
      "0.29292929292929293\n",
      "0.29797979797979796\n",
      "0.30303030303030304\n",
      "0.30808080808080807\n",
      "0.31313131313131315\n",
      "0.3181818181818182\n",
      "0.32323232323232326\n",
      "0.3282828282828283\n",
      "0.3333333333333333\n",
      "0.3383838383838384\n",
      "0.3434343434343434\n",
      "0.3484848484848485\n",
      "0.35353535353535354\n",
      "0.35858585858585856\n",
      "0.36363636363636365\n",
      "0.3686868686868687\n",
      "0.37373737373737376\n",
      "0.3787878787878788\n",
      "0.3838383838383838\n",
      "0.3888888888888889\n",
      "0.3939393939393939\n",
      "0.398989898989899\n",
      "0.40404040404040403\n",
      "0.4090909090909091\n",
      "0.41414141414141414\n",
      "0.41919191919191917\n",
      "0.42424242424242425\n",
      "0.4292929292929293\n",
      "0.43434343434343436\n",
      "0.4393939393939394\n",
      "0.4444444444444444\n",
      "0.4494949494949495\n",
      "0.45454545454545453\n",
      "0.4595959595959596\n",
      "0.46464646464646464\n",
      "0.4696969696969697\n",
      "0.47474747474747475\n",
      "0.4797979797979798\n",
      "0.48484848484848486\n",
      "0.4898989898989899\n",
      "0.494949494949495\n",
      "0.5\n",
      "0.5050505050505051\n",
      "0.51010101010101\n",
      "0.5151515151515151\n",
      "0.5202020202020202\n",
      "0.5252525252525253\n",
      "0.5303030303030303\n",
      "0.5353535353535354\n",
      "0.5404040404040404\n",
      "0.5454545454545454\n",
      "0.5505050505050505\n",
      "0.5555555555555556\n",
      "0.5606060606060606\n",
      "0.5656565656565656\n",
      "0.5707070707070707\n",
      "0.5757575757575758\n",
      "0.5808080808080808\n",
      "0.5858585858585859\n",
      "0.5909090909090909\n",
      "0.5959595959595959\n",
      "0.601010101010101\n",
      "0.6060606060606061\n",
      "0.6111111111111112\n",
      "0.6161616161616161\n",
      "0.6212121212121212\n",
      "0.6262626262626263\n",
      "0.6313131313131313\n",
      "0.6363636363636364\n",
      "0.6414141414141414\n",
      "0.6464646464646465\n",
      "0.6515151515151515\n",
      "0.6565656565656566\n",
      "0.6616161616161617\n",
      "0.6666666666666666\n",
      "0.6717171717171717\n",
      "0.6767676767676768\n",
      "0.6818181818181818\n",
      "0.6868686868686869\n",
      "0.6919191919191919\n",
      "0.696969696969697\n",
      "0.702020202020202\n",
      "0.7070707070707071\n",
      "0.7121212121212122\n",
      "0.7171717171717171\n",
      "0.7222222222222222\n",
      "0.7272727272727273\n",
      "0.7323232323232324\n",
      "0.7373737373737373\n",
      "0.7424242424242424\n",
      "0.7474747474747475\n",
      "0.7525252525252525\n",
      "0.7575757575757576\n",
      "0.7626262626262627\n",
      "0.7676767676767676\n",
      "0.7727272727272727\n",
      "0.7777777777777778\n",
      "0.7828282828282829\n",
      "0.7878787878787878\n",
      "0.7929292929292929\n",
      "0.797979797979798\n",
      "0.803030303030303\n",
      "0.8080808080808081\n",
      "0.8131313131313131\n",
      "0.8181818181818182\n",
      "0.8232323232323232\n",
      "0.8282828282828283\n",
      "0.8333333333333334\n",
      "0.8383838383838383\n",
      "0.8434343434343434\n",
      "0.8484848484848485\n",
      "0.8535353535353535\n",
      "0.8585858585858586\n",
      "0.8636363636363636\n",
      "0.8686868686868687\n",
      "0.8737373737373737\n",
      "0.8787878787878788\n",
      "0.8838383838383839\n",
      "0.8888888888888888\n",
      "0.8939393939393939\n",
      "0.898989898989899\n",
      "0.9040404040404041\n",
      "0.9090909090909091\n",
      "0.9141414141414141\n",
      "0.9191919191919192\n",
      "0.9242424242424242\n",
      "0.9292929292929293\n",
      "0.9343434343434344\n",
      "0.9393939393939394\n",
      "0.9444444444444444\n",
      "0.9494949494949495\n",
      "0.9545454545454546\n",
      "0.9595959595959596\n",
      "0.9646464646464646\n",
      "0.9696969696969697\n",
      "0.9747474747474747\n",
      "0.9797979797979798\n",
      "0.9848484848484849\n",
      "0.98989898989899\n",
      "0.9949494949494949\n",
      "1.0\n",
      "[0, 0.005050505050505051, 0.010101010101010102, 0.015151515151515152, 0.020202020202020204, 0.025252525252525252, 0.030303030303030304, 0.03535353535353535, 0.04040404040404041, 0.045454545454545456, 0.050505050505050504, 0.05555555555555555, 0.06060606060606061, 0.06565656565656566, 0.0707070707070707, 0.07575757575757576, 0.08080808080808081, 0.08585858585858586, 0.09090909090909091, 0.09595959595959595, 0.10101010101010101, 0.10606060606060606, 0.1111111111111111, 0.11616161616161616, 0.12121212121212122, 0.12626262626262627, 0.13131313131313133, 0.13636363636363635, 0.1414141414141414, 0.14646464646464646, 0.15151515151515152, 0.15656565656565657, 0.16161616161616163, 0.16666666666666666, 0.1717171717171717, 0.17676767676767677, 0.18181818181818182, 0.18686868686868688, 0.1919191919191919, 0.19696969696969696, 0.20202020202020202, 0.20707070707070707, 0.21212121212121213, 0.21717171717171718, 0.2222222222222222, 0.22727272727272727, 0.23232323232323232, 0.23737373737373738, 0.24242424242424243, 0.2474747474747475, 0.25252525252525254, 0.25757575757575757, 0.26262626262626265, 0.2676767676767677, 0.2727272727272727, 0.2777777777777778, 0.2828282828282828, 0.2878787878787879, 0.29292929292929293, 0.29797979797979796, 0.30303030303030304, 0.30808080808080807, 0.31313131313131315, 0.3181818181818182, 0.32323232323232326, 0.3282828282828283, 0.3333333333333333, 0.3383838383838384, 0.3434343434343434, 0.3484848484848485, 0.35353535353535354, 0.35858585858585856, 0.36363636363636365, 0.3686868686868687, 0.37373737373737376, 0.3787878787878788, 0.3838383838383838, 0.3888888888888889, 0.3939393939393939, 0.398989898989899, 0.40404040404040403, 0.4090909090909091, 0.41414141414141414, 0.41919191919191917, 0.42424242424242425, 0.4292929292929293, 0.43434343434343436, 0.4393939393939394, 0.4444444444444444, 0.4494949494949495, 0.45454545454545453, 0.4595959595959596, 0.46464646464646464, 0.4696969696969697, 0.47474747474747475, 0.4797979797979798, 0.48484848484848486, 0.4898989898989899, 0.494949494949495, 0.5, 0.5050505050505051, 0.51010101010101, 0.5151515151515151, 0.5202020202020202, 0.5252525252525253, 0.5303030303030303, 0.5353535353535354, 0.5404040404040404, 0.5454545454545454, 0.5505050505050505, 0.5555555555555556, 0.5606060606060606, 0.5656565656565656, 0.5707070707070707, 0.5757575757575758, 0.5808080808080808, 0.5858585858585859, 0.5909090909090909, 0.5959595959595959, 0.601010101010101, 0.6060606060606061, 0.6111111111111112, 0.6161616161616161, 0.6212121212121212, 0.6262626262626263, 0.6313131313131313, 0.6363636363636364, 0.6414141414141414, 0.6464646464646465, 0.6515151515151515, 0.6565656565656566, 0.6616161616161617, 0.6666666666666666, 0.6717171717171717, 0.6767676767676768, 0.6818181818181818, 0.6868686868686869, 0.6919191919191919, 0.696969696969697, 0.702020202020202, 0.7070707070707071, 0.7121212121212122, 0.7171717171717171, 0.7222222222222222, 0.7272727272727273, 0.7323232323232324, 0.7373737373737373, 0.7424242424242424, 0.7474747474747475, 0.7525252525252525, 0.7575757575757576, 0.7626262626262627, 0.7676767676767676, 0.7727272727272727, 0.7777777777777778, 0.7828282828282829, 0.7878787878787878, 0.7929292929292929, 0.797979797979798, 0.803030303030303, 0.8080808080808081, 0.8131313131313131, 0.8181818181818182, 0.8232323232323232, 0.8282828282828283, 0.8333333333333334, 0.8383838383838383, 0.8434343434343434, 0.8484848484848485, 0.8535353535353535, 0.8585858585858586, 0.8636363636363636, 0.8686868686868687, 0.8737373737373737, 0.8787878787878788, 0.8838383838383839, 0.8888888888888888, 0.8939393939393939, 0.898989898989899, 0.9040404040404041, 0.9090909090909091, 0.9141414141414141, 0.9191919191919192, 0.9242424242424242, 0.9292929292929293, 0.9343434343434344, 0.9393939393939394, 0.9444444444444444, 0.9494949494949495, 0.9545454545454546, 0.9595959595959596, 0.9646464646464646, 0.9696969696969697, 0.9747474747474747, 0.9797979797979798, 0.9848484848484849, 0.98989898989899, 0.9949494949494949, 1.0]\n",
      "[2.0505050505050506, 2.0331491712707184, 2.0116959064327484, 1.975609756097561, 1.9363057324840764, 1.8933333333333333, 1.8630136986301369, 1.8297872340425532, 1.8297872340425532, 1.7697841726618706, 1.7593984962406015, 1.7480314960629921, 1.7073170731707317, 1.6923076923076923, 1.6896551724137931, 1.663716814159292, 1.625, 1.5925925925925926, 1.5728155339805825, 1.5445544554455446, 1.510204081632653, 1.510204081632653, 1.4680851063829787, 1.4680851063829787, 1.4285714285714286, 1.4285714285714286, 1.4285714285714286, 1.4285714285714286, 1.4022988505747127, 1.3734939759036144, 1.3734939759036144, 1.3734939759036144, 1.3734939759036144, 1.3658536585365855, 1.3670886075949367, 1.3421052631578947, 1.3150684931506849, 1.323943661971831, 1.3235294117647058, 1.3235294117647058, 1.3333333333333333, 1.3333333333333333, 1.3333333333333333, 1.34375, 1.3333333333333333, 1.3114754098360655, 1.2881355932203389, 1.2881355932203389, 1.2857142857142858, 1.2592592592592593, 1.2592592592592593, 1.2592592592592593, 1.2592592592592593, 1.2592592592592593, 1.2592592592592593, 1.2307692307692308, 1.24, 1.2083333333333333, 1.2173913043478262, 1.2173913043478262, 1.2173913043478262, 1.2173913043478262, 1.2272727272727273, 1.1904761904761905, 1.2, 1.2, 1.2, 1.1891891891891893, 1.1891891891891893, 1.1891891891891893, 1.1764705882352942, 1.1764705882352942, 1.1764705882352942, 1.1764705882352942, 1.1875, 1.1875, 1.1875, 1.1875, 1.1875, 1.1875, 1.1612903225806452, 1.1724137931034482, 1.1724137931034482, 1.1724137931034482, 1.1724137931034482, 1.1724137931034482, 1.1724137931034482, 1.1724137931034482, 1.1724137931034482, 1.1724137931034482, 1.1724137931034482, 1.1724137931034482, 1.1724137931034482, 1.1724137931034482, 1.1724137931034482, 1.1724137931034482, 1.1724137931034482, 1.1724137931034482, 1.1724137931034482, 1.1724137931034482, 1.1724137931034482, 1.1724137931034482, 1.1724137931034482, 1.1724137931034482, 1.1724137931034482, 1.1724137931034482, 1.1724137931034482, 1.1724137931034482, 1.1428571428571428, 1.1428571428571428, 1.1428571428571428, 1.1428571428571428, 1.1428571428571428, 1.1428571428571428, 1.1428571428571428, 1.1428571428571428, 1.1428571428571428, 1.1428571428571428, 1.1428571428571428, 1.1428571428571428, 1.1111111111111112, 1.1111111111111112, 1.1111111111111112, 1.1111111111111112, 1.1111111111111112, 1.1111111111111112, 1.1111111111111112, 1.1111111111111112, 1.12, 1.12, 1.12, 1.12, 1.12, 1.12, 1.12, 1.12, 1.12, 1.12, 1.12, 1.12, 1.12, 1.12, 1.12, 1.12, 1.0833333333333333, 1.0833333333333333, 1.0909090909090908, 1.0909090909090908, 1.0909090909090908, 1.0476190476190477, 1.0476190476190477, 1.0526315789473684, 1.0526315789473684, 1.0, 1.0, 1.0, 1.0, 1.0, 1.0, 1.0, 1.0, 1.0, 1.0, 1.0, 1.0, 1.0, 1.0, 1.0, 1.0, 1.0, 1.0, 1.0, 1.0, 1.0, 1.0, 1.0, 1.0, 1.0, 1.0, 1.0, 1.0, 1.0, 1.0, 1.0, 1.0, 1.0, 1.0, 1.0, 1.0, 1.0, 1.0, 1.0, 1.0, 1.0, 1.0, 1.0, 1.0, 1.0, None]\n"
     ]
    }
   ],
   "source": [
    "#targeted disruption\n",
    "\n",
    "temp_sorted = sorted_degree_df\n",
    "\n",
    "degree_list_targeted = [average_degree.collect()[0].avg_degree]\n",
    "\n",
    "nodes_removed_targeted = []\n",
    "\n",
    "proportion_removed_targeted = [0]\n",
    "\n",
    "for i in range(total_nodes):\n",
    "  proportion_removed_targeted.append((i+1)/total_nodes)\n",
    "  nodes_removed_targeted.append(temp_sorted.collect()[0].id)\n",
    "\n",
    "  temp_sorted = spark.createDataFrame(temp_sorted.tail(temp_sorted.count()-1), temp_sorted.schema)\n",
    "  temp_edge_df = edges_df.filter(~edges_df.src.isin(nodes_removed_targeted))\n",
    "\n",
    "  g_temp = GraphFrame(temp_sorted, temp_edge_df)\n",
    "\n",
    "  temp_degree = g_temp.degrees\n",
    "\n",
    "  temp_avg_degree = temp_degree.select(avg(\"degree\").alias('avg_degree'))\n",
    "\n",
    "  degree_list_targeted.append(temp_avg_degree.collect()[0].avg_degree)\n",
    "  print((i+1)/total_nodes)\n",
    "\n",
    "print(proportion_removed_targeted)\n",
    "print(degree_list_targeted)"
   ]
  },
  {
   "cell_type": "code",
   "execution_count": 112,
   "metadata": {
    "colab": {
     "base_uri": "https://localhost:8080/",
     "height": 313
    },
    "id": "JhVUaBiOe1WM",
    "outputId": "b5b4b30b-93fd-4624-abdf-c90235d16850"
   },
   "outputs": [
    {
     "data": {
      "text/plain": [
       "Text(0.5, 1.0, 'Targeted Removal of Nodes vs Degree')"
      ]
     },
     "execution_count": 112,
     "metadata": {},
     "output_type": "execute_result"
    },
    {
     "data": {
      "image/png": "[encoded data removed]",
      "text/plain": [
       "<Figure size 432x288 with 1 Axes>"
      ]
     },
     "metadata": {
      "needs_background": "light"
     },
     "output_type": "display_data"
    }
   ],
   "source": [
    "#plot results for targeted disruption\n",
    "\n",
    "plt.plot(proportion_removed_targeted, degree_list_targeted)\n",
    "plt.xlabel(\"Percentage of Nodes Removed\")\n",
    "plt.ylabel(\"Average Degree\")\n",
    "plt.title('Targeted Removal of Nodes vs Degree')"
   ]
  },
  {
   "cell_type": "markdown",
   "metadata": {},
   "source": [
    "# Final Results\n",
    "\n",
    "- Compare average degree plots of randomised and targeted disruption"
   ]
  },
  {
   "cell_type": "code",
   "execution_count": 114,
   "metadata": {
    "colab": {
     "base_uri": "https://localhost:8080/",
     "height": 295
    },
    "id": "5LuD_U8_fAp7",
    "outputId": "0cc2a208-51bb-42a8-8fa9-660726d8ed8e"
   },
   "outputs": [
    {
     "data": {
      "image/png": "[encoded data removed]",
      "text/plain": [
       "<Figure size 432x288 with 1 Axes>"
      ]
     },
     "metadata": {
      "needs_background": "light"
     },
     "output_type": "display_data"
    }
   ],
   "source": [
    "plt.plot(proportion_removed, degree_list_random, label = 'Random')\n",
    "plt.plot(proportion_removed_targeted, degree_list_targeted, label = 'Targeted')\n",
    "plt.xlabel(\"Percentage of Nodes Removed\")\n",
    "plt.ylabel(\"Average Degree\")\n",
    "plt.title('Removal of Nodes vs Average Degree')\n",
    "plt.legend(loc=\"upper right\")\n",
    "plt.savefig(file_name_degree, format=\"pdf\")"
   ]
  }
 ],
 "metadata": {
  "colab": {
   "name": "leading_eigenvectore_com_network_disruption.ipynb",
   "provenance": []
  },
  "kernelspec": {
   "display_name": "Python 3",
   "language": "python",
   "name": "python3"
  },
  "language_info": {
   "codemirror_mode": {
    "name": "ipython",
    "version": 3
   },
   "file_extension": ".py",
   "mimetype": "text/x-python",
   "name": "python",
   "nbconvert_exporter": "python",
   "pygments_lexer": "ipython3",
   "version": "3.8.8"
  }
 },
 "nbformat": 4,
 "nbformat_minor": 1
}
