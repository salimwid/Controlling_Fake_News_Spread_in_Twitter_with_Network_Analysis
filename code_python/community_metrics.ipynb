{
 "cells": [
  {
   "cell_type": "code",
   "execution_count": 3,
   "metadata": {
    "id": "4h3vYgOtbkRJ"
   },
   "outputs": [],
   "source": [
    "#import packages\n",
    "import os\n",
    "import sys\n",
    "\n",
    "from pyspark import SparkConf, SparkContext\n",
    "import os\n",
    "import math\n",
    "from pyspark.sql.functions import *\n",
    "from pyspark.sql import SparkSession\n",
    "from pyspark.sql.types import StructType, StructField, StringType, IntegerType, FloatType \n",
    "from graphframes import *\n",
    "\n",
    "import matplotlib.pyplot as plt\n",
    "%matplotlib inline\n",
    "\n",
    "import math"
   ]
  },
  {
   "cell_type": "code",
   "execution_count": 2,
   "metadata": {},
   "outputs": [
    {
     "name": "stdout",
     "output_type": "stream",
     "text": [
      "Collecting graphframes\n",
      "  Downloading graphframes-0.6-py2.py3-none-any.whl (18 kB)\n",
      "Requirement already satisfied: numpy in /Users/salimwid/opt/anaconda3/lib/python3.8/site-packages (from graphframes) (1.20.1)\n",
      "Requirement already satisfied: nose in /Users/salimwid/opt/anaconda3/lib/python3.8/site-packages (from graphframes) (1.3.7)\n",
      "Installing collected packages: graphframes\n",
      "Successfully installed graphframes-0.6\n",
      "\u001b[33mWARNING: You are using pip version 21.3; however, version 22.0.4 is available.\n",
      "You should consider upgrading via the '/Users/salimwid/opt/anaconda3/bin/python -m pip install --upgrade pip' command.\u001b[0m\n"
     ]
    }
   ],
   "source": [
    "!pip install graphframes"
   ]
  },
  {
   "cell_type": "markdown",
   "metadata": {},
   "source": [
    "# Create Network \n",
    "\n",
    "- Get a list of nodes and edges for the desired community from leading eigenvector community detection\n",
    "- Create a graphframe "
   ]
  },
  {
   "cell_type": "code",
   "execution_count": 4,
   "metadata": {
    "id": "vFR8Zfi1bnoO"
   },
   "outputs": [],
   "source": [
    "spark = SparkSession.builder.master(\"local[*]\").config(\"spark.jars.packages\", \"graphframes:graphframes:0.8.2-spark3.2-s_2.12\").getOrCreate()"
   ]
  },
  {
   "cell_type": "code",
   "execution_count": 7,
   "metadata": {
    "id": "UoDobUijONeI"
   },
   "outputs": [],
   "source": [
    "#change node path here and change file name at bottom for export\n",
    "\n",
    "node_path = \"../le_nodes_edges_list/le_com4_nodes.csv\"\n",
    "edge_path = \"../le_nodes_edges_list/le_com4_edges.csv\"\n",
    "\n",
    "file_name_degree = \"network_disruption_images/degree_targeted_vs_random_le_com4.pdf\"\n",
    "file_name_transitivity = \"network_disruption_images/transitivity_targeted_vs_random_le_com4.pdf\""
   ]
  },
  {
   "cell_type": "code",
   "execution_count": 8,
   "metadata": {
    "colab": {
     "base_uri": "https://localhost:8080/"
    },
    "id": "syeg32uKbrQ7",
    "outputId": "c1a94188-b722-4657-99c8-5e223e5d7d62"
   },
   "outputs": [
    {
     "name": "stdout",
     "output_type": "stream",
     "text": [
      "+--------------------+--------------------+\n",
      "|                  id|                node|\n",
      "+--------------------+--------------------+\n",
      "|9.015850861804995...|9.015850861804995...|\n",
      "|7.15474256889385e+17|7.15474256889385e+17|\n",
      "|7.541154130347377...|7.541154130347377...|\n",
      "|7.767936822048195...|7.767936822048195...|\n",
      "|8.379207906453955...|8.379207906453955...|\n",
      "|7.406849387443036...|7.406849387443036...|\n",
      "|9.37671869444051e+17|9.37671869444051e+17|\n",
      "|        2262620679.0|        2262620679.0|\n",
      "|         209667075.0|         209667075.0|\n",
      "|7.575962798662902...|7.575962798662902...|\n",
      "|7.126900512016957...|7.126900512016957...|\n",
      "|        3430474763.0|        3430474763.0|\n",
      "|8.12454149912662e+17|8.12454149912662e+17|\n",
      "|7.838292218063135...|7.838292218063135...|\n",
      "|8.066952579161825...|8.066952579161825...|\n",
      "|7.765565584696975...|7.765565584696975...|\n",
      "|          23332368.0|          23332368.0|\n",
      "|        2415253009.0|        2415253009.0|\n",
      "|7.317076018477179...|7.317076018477179...|\n",
      "|        3092878870.0|        3092878870.0|\n",
      "+--------------------+--------------------+\n",
      "only showing top 20 rows\n",
      "\n"
     ]
    }
   ],
   "source": [
    "nodes_df = spark.read.csv(node_path, header = True)\n",
    "nodes_df.show()"
   ]
  },
  {
   "cell_type": "code",
   "execution_count": 9,
   "metadata": {
    "colab": {
     "base_uri": "https://localhost:8080/"
    },
    "id": "ArX9k3j9cM3W",
    "outputId": "23c6fe35-fb65-4123-ee81-6706533f5606"
   },
   "outputs": [
    {
     "name": "stdout",
     "output_type": "stream",
     "text": [
      "+--------------------+--------------------+\n",
      "|                 src|                 dst|\n",
      "+--------------------+--------------------+\n",
      "|          19043568.0|         506641461.0|\n",
      "|        3401254649.0|9.015850861804995...|\n",
      "|         407955785.0|          19043568.0|\n",
      "|         634330366.0|        3286796496.0|\n",
      "|         125128428.0|        3286796496.0|\n",
      "|        3291556676.0|         175131510.0|\n",
      "|         634330366.0|        1096394166.0|\n",
      "|          14189931.0|        2262620679.0|\n",
      "|          21283587.0|         248024430.0|\n",
      "|         125128428.0|        2415253009.0|\n",
      "|        1655766132.0|        3430474763.0|\n",
      "|         125128428.0|7.15474256889385e+17|\n",
      "|         223989188.0|        4865974714.0|\n",
      "|         634330366.0|          20998770.0|\n",
      "|7.623412586899661...|7.541154130347377...|\n",
      "|        3481965513.0|         360386911.0|\n",
      "|        3291556676.0|        4645471333.0|\n",
      "|          19043568.0|         860566802.0|\n",
      "|        3947091915.0|          67503749.0|\n",
      "|         125128428.0|         240974612.0|\n",
      "+--------------------+--------------------+\n",
      "only showing top 20 rows\n",
      "\n"
     ]
    }
   ],
   "source": [
    "edges_df = spark.read.csv(edge_path, header = True)\n",
    "edges_df.show()"
   ]
  },
  {
   "cell_type": "code",
   "execution_count": 10,
   "metadata": {
    "id": "jveSwC1Gcqzk"
   },
   "outputs": [],
   "source": [
    "graph = GraphFrame(nodes_df, edges_df)"
   ]
  },
  {
   "cell_type": "markdown",
   "metadata": {},
   "source": [
    "# Calculate Degree"
   ]
  },
  {
   "cell_type": "code",
   "execution_count": 23,
   "metadata": {
    "colab": {
     "base_uri": "https://localhost:8080/"
    },
    "id": "acLoVMqtc2Rw",
    "outputId": "adba11db-ba96-4025-b6c3-a4b78d872f63"
   },
   "outputs": [
    {
     "name": "stdout",
     "output_type": "stream",
     "text": [
      "+--------------------+------+\n",
      "|                  id|degree|\n",
      "+--------------------+------+\n",
      "|        3291556676.0|    19|\n",
      "|        2406059855.0|    12|\n",
      "|        3481965513.0|    10|\n",
      "|         634330366.0|    10|\n",
      "|         125128428.0|    10|\n",
      "|        4521330855.0|     7|\n",
      "|8.066952579161825...|     7|\n",
      "|          46455464.0|     7|\n",
      "|          19043568.0|     7|\n",
      "|        3401254649.0|     6|\n",
      "|         275276082.0|     6|\n",
      "|         885960937.0|     6|\n",
      "|        3947091915.0|     6|\n",
      "|         851059680.0|     5|\n",
      "|          98416337.0|     5|\n",
      "|          81438841.0|     5|\n",
      "|8.262089432611676...|     5|\n",
      "|        1655766132.0|     5|\n",
      "|        3247993823.0|     5|\n",
      "|        4865974714.0|     5|\n",
      "+--------------------+------+\n",
      "only showing top 20 rows\n",
      "\n"
     ]
    }
   ],
   "source": [
    "all_degree = graph.degrees"
   ]
  },
  {
   "cell_type": "code",
   "execution_count": 29,
   "metadata": {},
   "outputs": [
    {
     "name": "stdout",
     "output_type": "stream",
     "text": [
      "+------------+------+\n",
      "|          id|degree|\n",
      "+------------+------+\n",
      "|3291556676.0|    19|\n",
      "+------------+------+\n",
      "only showing top 1 row\n",
      "\n"
     ]
    }
   ],
   "source": [
    "all_degree.sort(col(\"degree\").desc()).show(1)"
   ]
  },
  {
   "cell_type": "code",
   "execution_count": 30,
   "metadata": {},
   "outputs": [
    {
     "name": "stdout",
     "output_type": "stream",
     "text": [
      "+------------+------+\n",
      "|          id|degree|\n",
      "+------------+------+\n",
      "|1096394166.0|     1|\n",
      "+------------+------+\n",
      "only showing top 1 row\n",
      "\n"
     ]
    }
   ],
   "source": [
    "all_degree.sort(col(\"degree\").asc()).show(1)"
   ]
  },
  {
   "cell_type": "code",
   "execution_count": 12,
   "metadata": {
    "colab": {
     "base_uri": "https://localhost:8080/"
    },
    "id": "FQUTQL5Oc87b",
    "outputId": "6fbfadf9-b58e-445e-ba62-96b38756b472"
   },
   "outputs": [
    {
     "name": "stdout",
     "output_type": "stream",
     "text": [
      "+------------------+\n",
      "|        avg_degree|\n",
      "+------------------+\n",
      "|2.0505050505050506|\n",
      "+------------------+\n",
      "\n"
     ]
    }
   ],
   "source": [
    "average_degree = all_degree.select(avg(\"degree\").alias('avg_degree'))\n",
    "average_degree.show()"
   ]
  }
 ],
 "metadata": {
  "colab": {
   "name": "leading_eigenvectore_com_network_disruption.ipynb",
   "provenance": []
  },
  "kernelspec": {
   "display_name": "Python 3",
   "language": "python",
   "name": "python3"
  },
  "language_info": {
   "codemirror_mode": {
    "name": "ipython",
    "version": 3
   },
   "file_extension": ".py",
   "mimetype": "text/x-python",
   "name": "python",
   "nbconvert_exporter": "python",
   "pygments_lexer": "ipython3",
   "version": "3.8.8"
  }
 },
 "nbformat": 4,
 "nbformat_minor": 1
}
