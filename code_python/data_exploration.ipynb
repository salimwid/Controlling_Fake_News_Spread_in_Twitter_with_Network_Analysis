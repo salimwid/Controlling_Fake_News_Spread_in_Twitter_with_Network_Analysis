{
 "cells": [
  {
   "cell_type": "code",
   "execution_count": 1,
   "id": "3bbeb189",
   "metadata": {},
   "outputs": [],
   "source": [
    "import pandas as pd\n",
    "import numpy as np\n",
    "import seaborn as sns\n",
    "import matplotlib.pyplot as plt\n",
    "from scipy import stats\n",
    "\n",
    "%matplotlib inline"
   ]
  },
  {
   "cell_type": "markdown",
   "id": "997238e3",
   "metadata": {},
   "source": [
    "## Fake news counts calculation"
   ]
  },
  {
   "cell_type": "code",
   "execution_count": null,
   "id": "3a38e618",
   "metadata": {
    "colab": {
     "base_uri": "https://localhost:8080/",
     "height": 424
    },
    "executionInfo": {
     "elapsed": 1054,
     "status": "ok",
     "timestamp": 1648768235164,
     "user": {
      "displayName": "Susan Koruthu",
      "userId": "06654082065688126266"
     },
     "user_tz": -480
    },
    "id": "jj5oPPnG89B7",
    "outputId": "e9543d42-2499-4fa5-fcfd-395382d86cb2"
   },
   "outputs": [
    {
     "data": {
      "text/html": [
       "\n",
       "  <div id=\"df-93e624e1-85d6-425c-b3c4-cedca8d6da23\">\n",
       "    <div class=\"colab-df-container\">\n",
       "      <div>\n",
       "<style scoped>\n",
       "    .dataframe tbody tr th:only-of-type {\n",
       "        vertical-align: middle;\n",
       "    }\n",
       "\n",
       "    .dataframe tbody tr th {\n",
       "        vertical-align: top;\n",
       "    }\n",
       "\n",
       "    .dataframe thead th {\n",
       "        text-align: right;\n",
       "    }\n",
       "</style>\n",
       "<table border=\"1\" class=\"dataframe\">\n",
       "  <thead>\n",
       "    <tr style=\"text-align: right;\">\n",
       "      <th></th>\n",
       "      <th>tweet_id</th>\n",
       "      <th>user_id_retweet_df</th>\n",
       "      <th>user_id_tweet_df</th>\n",
       "      <th>news_id</th>\n",
       "      <th>is_fake_news</th>\n",
       "    </tr>\n",
       "  </thead>\n",
       "  <tbody>\n",
       "    <tr>\n",
       "      <th>0</th>\n",
       "      <td>1033706162695356417</td>\n",
       "      <td>7.873112e+08</td>\n",
       "      <td>4.335085e+07</td>\n",
       "      <td>politifact99</td>\n",
       "      <td>0.0</td>\n",
       "    </tr>\n",
       "    <tr>\n",
       "      <th>1</th>\n",
       "      <td>1033706162695356417</td>\n",
       "      <td>7.873112e+08</td>\n",
       "      <td>4.335085e+07</td>\n",
       "      <td>politifact340</td>\n",
       "      <td>0.0</td>\n",
       "    </tr>\n",
       "    <tr>\n",
       "      <th>2</th>\n",
       "      <td>1035580865160638464</td>\n",
       "      <td>3.338247e+09</td>\n",
       "      <td>1.629771e+07</td>\n",
       "      <td>politifact99</td>\n",
       "      <td>0.0</td>\n",
       "    </tr>\n",
       "    <tr>\n",
       "      <th>3</th>\n",
       "      <td>1035580865160638464</td>\n",
       "      <td>3.338247e+09</td>\n",
       "      <td>1.629771e+07</td>\n",
       "      <td>politifact340</td>\n",
       "      <td>0.0</td>\n",
       "    </tr>\n",
       "    <tr>\n",
       "      <th>4</th>\n",
       "      <td>934206237708865537</td>\n",
       "      <td>7.543102e+17</td>\n",
       "      <td>5.820642e+06</td>\n",
       "      <td>politifact99</td>\n",
       "      <td>0.0</td>\n",
       "    </tr>\n",
       "    <tr>\n",
       "      <th>...</th>\n",
       "      <td>...</td>\n",
       "      <td>...</td>\n",
       "      <td>...</td>\n",
       "      <td>...</td>\n",
       "      <td>...</td>\n",
       "    </tr>\n",
       "    <tr>\n",
       "      <th>573632</th>\n",
       "      <td>813192381583466496</td>\n",
       "      <td>NaN</td>\n",
       "      <td>3.001448e+09</td>\n",
       "      <td>politifact13600</td>\n",
       "      <td>1.0</td>\n",
       "    </tr>\n",
       "    <tr>\n",
       "      <th>573633</th>\n",
       "      <td>812814063763918848</td>\n",
       "      <td>NaN</td>\n",
       "      <td>5.256945e+08</td>\n",
       "      <td>politifact13600</td>\n",
       "      <td>1.0</td>\n",
       "    </tr>\n",
       "    <tr>\n",
       "      <th>573634</th>\n",
       "      <td>918510122363744257</td>\n",
       "      <td>NaN</td>\n",
       "      <td>1.525687e+09</td>\n",
       "      <td>politifact14621</td>\n",
       "      <td>1.0</td>\n",
       "    </tr>\n",
       "    <tr>\n",
       "      <th>573635</th>\n",
       "      <td>917522953390223366</td>\n",
       "      <td>NaN</td>\n",
       "      <td>7.889922e+17</td>\n",
       "      <td>politifact14621</td>\n",
       "      <td>1.0</td>\n",
       "    </tr>\n",
       "    <tr>\n",
       "      <th>573636</th>\n",
       "      <td>917849762417831936</td>\n",
       "      <td>NaN</td>\n",
       "      <td>9.489712e+08</td>\n",
       "      <td>politifact14621</td>\n",
       "      <td>1.0</td>\n",
       "    </tr>\n",
       "  </tbody>\n",
       "</table>\n",
       "<p>573637 rows × 5 columns</p>\n",
       "</div>\n",
       "      <button class=\"colab-df-convert\" onclick=\"convertToInteractive('df-93e624e1-85d6-425c-b3c4-cedca8d6da23')\"\n",
       "              title=\"Convert this dataframe to an interactive table.\"\n",
       "              style=\"display:none;\">\n",
       "        \n",
       "  <svg xmlns=\"http://www.w3.org/2000/svg\" height=\"24px\"viewBox=\"0 0 24 24\"\n",
       "       width=\"24px\">\n",
       "    <path d=\"M0 0h24v24H0V0z\" fill=\"none\"/>\n",
       "    <path d=\"M18.56 5.44l.94 2.06.94-2.06 2.06-.94-2.06-.94-.94-2.06-.94 2.06-2.06.94zm-11 1L8.5 8.5l.94-2.06 2.06-.94-2.06-.94L8.5 2.5l-.94 2.06-2.06.94zm10 10l.94 2.06.94-2.06 2.06-.94-2.06-.94-.94-2.06-.94 2.06-2.06.94z\"/><path d=\"M17.41 7.96l-1.37-1.37c-.4-.4-.92-.59-1.43-.59-.52 0-1.04.2-1.43.59L10.3 9.45l-7.72 7.72c-.78.78-.78 2.05 0 2.83L4 21.41c.39.39.9.59 1.41.59.51 0 1.02-.2 1.41-.59l7.78-7.78 2.81-2.81c.8-.78.8-2.07 0-2.86zM5.41 20L4 18.59l7.72-7.72 1.47 1.35L5.41 20z\"/>\n",
       "  </svg>\n",
       "      </button>\n",
       "      \n",
       "  <style>\n",
       "    .colab-df-container {\n",
       "      display:flex;\n",
       "      flex-wrap:wrap;\n",
       "      gap: 12px;\n",
       "    }\n",
       "\n",
       "    .colab-df-convert {\n",
       "      background-color: #E8F0FE;\n",
       "      border: none;\n",
       "      border-radius: 50%;\n",
       "      cursor: pointer;\n",
       "      display: none;\n",
       "      fill: #1967D2;\n",
       "      height: 32px;\n",
       "      padding: 0 0 0 0;\n",
       "      width: 32px;\n",
       "    }\n",
       "\n",
       "    .colab-df-convert:hover {\n",
       "      background-color: #E2EBFA;\n",
       "      box-shadow: 0px 1px 2px rgba(60, 64, 67, 0.3), 0px 1px 3px 1px rgba(60, 64, 67, 0.15);\n",
       "      fill: #174EA6;\n",
       "    }\n",
       "\n",
       "    [theme=dark] .colab-df-convert {\n",
       "      background-color: #3B4455;\n",
       "      fill: #D2E3FC;\n",
       "    }\n",
       "\n",
       "    [theme=dark] .colab-df-convert:hover {\n",
       "      background-color: #434B5C;\n",
       "      box-shadow: 0px 1px 3px 1px rgba(0, 0, 0, 0.15);\n",
       "      filter: drop-shadow(0px 1px 2px rgba(0, 0, 0, 0.3));\n",
       "      fill: #FFFFFF;\n",
       "    }\n",
       "  </style>\n",
       "\n",
       "      <script>\n",
       "        const buttonEl =\n",
       "          document.querySelector('#df-93e624e1-85d6-425c-b3c4-cedca8d6da23 button.colab-df-convert');\n",
       "        buttonEl.style.display =\n",
       "          google.colab.kernel.accessAllowed ? 'block' : 'none';\n",
       "\n",
       "        async function convertToInteractive(key) {\n",
       "          const element = document.querySelector('#df-93e624e1-85d6-425c-b3c4-cedca8d6da23');\n",
       "          const dataTable =\n",
       "            await google.colab.kernel.invokeFunction('convertToInteractive',\n",
       "                                                     [key], {});\n",
       "          if (!dataTable) return;\n",
       "\n",
       "          const docLinkHtml = 'Like what you see? Visit the ' +\n",
       "            '<a target=\"_blank\" href=https://colab.research.google.com/notebooks/data_table.ipynb>data table notebook</a>'\n",
       "            + ' to learn more about interactive tables.';\n",
       "          element.innerHTML = '';\n",
       "          dataTable['output_type'] = 'display_data';\n",
       "          await google.colab.output.renderOutput(dataTable, element);\n",
       "          const docLink = document.createElement('div');\n",
       "          docLink.innerHTML = docLinkHtml;\n",
       "          element.appendChild(docLink);\n",
       "        }\n",
       "      </script>\n",
       "    </div>\n",
       "  </div>\n",
       "  "
      ],
      "text/plain": [
       "                   tweet_id  user_id_retweet_df  user_id_tweet_df  \\\n",
       "0       1033706162695356417        7.873112e+08      4.335085e+07   \n",
       "1       1033706162695356417        7.873112e+08      4.335085e+07   \n",
       "2       1035580865160638464        3.338247e+09      1.629771e+07   \n",
       "3       1035580865160638464        3.338247e+09      1.629771e+07   \n",
       "4        934206237708865537        7.543102e+17      5.820642e+06   \n",
       "...                     ...                 ...               ...   \n",
       "573632   813192381583466496                 NaN      3.001448e+09   \n",
       "573633   812814063763918848                 NaN      5.256945e+08   \n",
       "573634   918510122363744257                 NaN      1.525687e+09   \n",
       "573635   917522953390223366                 NaN      7.889922e+17   \n",
       "573636   917849762417831936                 NaN      9.489712e+08   \n",
       "\n",
       "                news_id  is_fake_news  \n",
       "0          politifact99           0.0  \n",
       "1         politifact340           0.0  \n",
       "2          politifact99           0.0  \n",
       "3         politifact340           0.0  \n",
       "4          politifact99           0.0  \n",
       "...                 ...           ...  \n",
       "573632  politifact13600           1.0  \n",
       "573633  politifact13600           1.0  \n",
       "573634  politifact14621           1.0  \n",
       "573635  politifact14621           1.0  \n",
       "573636  politifact14621           1.0  \n",
       "\n",
       "[573637 rows x 5 columns]"
      ]
     },
     "metadata": {},
     "output_type": "display_data"
    }
   ],
   "source": [
    "df = pd.read_csv('tweet_retweet_network.csv', dtype={'user_id':str})\n",
    "df"
   ]
  },
  {
   "cell_type": "code",
   "execution_count": null,
   "id": "7bc124ce",
   "metadata": {
    "colab": {
     "base_uri": "https://localhost:8080/"
    },
    "executionInfo": {
     "elapsed": 4,
     "status": "ok",
     "timestamp": 1648768241157,
     "user": {
      "displayName": "Susan Koruthu",
      "userId": "06654082065688126266"
     },
     "user_tz": -480
    },
    "id": "914UwAAQPXe4",
    "outputId": "ced4238a-4313-4a1f-fff2-5cdcde43e77e"
   },
   "outputs": [
    {
     "data": {
      "text/plain": [
       "tweet_id                   0\n",
       "user_id_retweet_df    484610\n",
       "user_id_tweet_df       29610\n",
       "news_id                    1\n",
       "is_fake_news               1\n",
       "dtype: int64"
      ]
     },
     "metadata": {},
     "output_type": "display_data"
    }
   ],
   "source": [
    "df.isna().sum()"
   ]
  },
  {
   "cell_type": "code",
   "execution_count": null,
   "id": "93c605f2",
   "metadata": {
    "colab": {
     "base_uri": "https://localhost:8080/",
     "height": 424
    },
    "executionInfo": {
     "elapsed": 339,
     "status": "ok",
     "timestamp": 1648768416024,
     "user": {
      "displayName": "Susan Koruthu",
      "userId": "06654082065688126266"
     },
     "user_tz": -480
    },
    "id": "2aYh39RPQT2G",
    "outputId": "ae657add-8c62-42aa-cc4c-29b3a8c3f098"
   },
   "outputs": [
    {
     "data": {
      "text/html": [
       "\n",
       "  <div id=\"df-1f229287-f67c-4e65-9c5d-5d0bb2ad5bbb\">\n",
       "    <div class=\"colab-df-container\">\n",
       "      <div>\n",
       "<style scoped>\n",
       "    .dataframe tbody tr th:only-of-type {\n",
       "        vertical-align: middle;\n",
       "    }\n",
       "\n",
       "    .dataframe tbody tr th {\n",
       "        vertical-align: top;\n",
       "    }\n",
       "\n",
       "    .dataframe thead th {\n",
       "        text-align: right;\n",
       "    }\n",
       "</style>\n",
       "<table border=\"1\" class=\"dataframe\">\n",
       "  <thead>\n",
       "    <tr style=\"text-align: right;\">\n",
       "      <th></th>\n",
       "      <th>tweet_id</th>\n",
       "      <th>user_id_retweet_df</th>\n",
       "      <th>user_id_tweet_df</th>\n",
       "      <th>news_id</th>\n",
       "      <th>is_fake_news</th>\n",
       "    </tr>\n",
       "  </thead>\n",
       "  <tbody>\n",
       "    <tr>\n",
       "      <th>0</th>\n",
       "      <td>1033706162695356417</td>\n",
       "      <td>7.873112e+08</td>\n",
       "      <td>4.335085e+07</td>\n",
       "      <td>politifact99</td>\n",
       "      <td>0.0</td>\n",
       "    </tr>\n",
       "    <tr>\n",
       "      <th>1</th>\n",
       "      <td>1033706162695356417</td>\n",
       "      <td>7.873112e+08</td>\n",
       "      <td>4.335085e+07</td>\n",
       "      <td>politifact340</td>\n",
       "      <td>0.0</td>\n",
       "    </tr>\n",
       "    <tr>\n",
       "      <th>2</th>\n",
       "      <td>1035580865160638464</td>\n",
       "      <td>3.338247e+09</td>\n",
       "      <td>1.629771e+07</td>\n",
       "      <td>politifact99</td>\n",
       "      <td>0.0</td>\n",
       "    </tr>\n",
       "    <tr>\n",
       "      <th>3</th>\n",
       "      <td>1035580865160638464</td>\n",
       "      <td>3.338247e+09</td>\n",
       "      <td>1.629771e+07</td>\n",
       "      <td>politifact340</td>\n",
       "      <td>0.0</td>\n",
       "    </tr>\n",
       "    <tr>\n",
       "      <th>4</th>\n",
       "      <td>934206237708865537</td>\n",
       "      <td>7.543102e+17</td>\n",
       "      <td>5.820642e+06</td>\n",
       "      <td>politifact99</td>\n",
       "      <td>0.0</td>\n",
       "    </tr>\n",
       "    <tr>\n",
       "      <th>...</th>\n",
       "      <td>...</td>\n",
       "      <td>...</td>\n",
       "      <td>...</td>\n",
       "      <td>...</td>\n",
       "      <td>...</td>\n",
       "    </tr>\n",
       "    <tr>\n",
       "      <th>573632</th>\n",
       "      <td>813192381583466496</td>\n",
       "      <td>NaN</td>\n",
       "      <td>3.001448e+09</td>\n",
       "      <td>politifact13600</td>\n",
       "      <td>1.0</td>\n",
       "    </tr>\n",
       "    <tr>\n",
       "      <th>573633</th>\n",
       "      <td>812814063763918848</td>\n",
       "      <td>NaN</td>\n",
       "      <td>5.256945e+08</td>\n",
       "      <td>politifact13600</td>\n",
       "      <td>1.0</td>\n",
       "    </tr>\n",
       "    <tr>\n",
       "      <th>573634</th>\n",
       "      <td>918510122363744257</td>\n",
       "      <td>NaN</td>\n",
       "      <td>1.525687e+09</td>\n",
       "      <td>politifact14621</td>\n",
       "      <td>1.0</td>\n",
       "    </tr>\n",
       "    <tr>\n",
       "      <th>573635</th>\n",
       "      <td>917522953390223366</td>\n",
       "      <td>NaN</td>\n",
       "      <td>7.889922e+17</td>\n",
       "      <td>politifact14621</td>\n",
       "      <td>1.0</td>\n",
       "    </tr>\n",
       "    <tr>\n",
       "      <th>573636</th>\n",
       "      <td>917849762417831936</td>\n",
       "      <td>NaN</td>\n",
       "      <td>9.489712e+08</td>\n",
       "      <td>politifact14621</td>\n",
       "      <td>1.0</td>\n",
       "    </tr>\n",
       "  </tbody>\n",
       "</table>\n",
       "<p>544027 rows × 5 columns</p>\n",
       "</div>\n",
       "      <button class=\"colab-df-convert\" onclick=\"convertToInteractive('df-1f229287-f67c-4e65-9c5d-5d0bb2ad5bbb')\"\n",
       "              title=\"Convert this dataframe to an interactive table.\"\n",
       "              style=\"display:none;\">\n",
       "        \n",
       "  <svg xmlns=\"http://www.w3.org/2000/svg\" height=\"24px\"viewBox=\"0 0 24 24\"\n",
       "       width=\"24px\">\n",
       "    <path d=\"M0 0h24v24H0V0z\" fill=\"none\"/>\n",
       "    <path d=\"M18.56 5.44l.94 2.06.94-2.06 2.06-.94-2.06-.94-.94-2.06-.94 2.06-2.06.94zm-11 1L8.5 8.5l.94-2.06 2.06-.94-2.06-.94L8.5 2.5l-.94 2.06-2.06.94zm10 10l.94 2.06.94-2.06 2.06-.94-2.06-.94-.94-2.06-.94 2.06-2.06.94z\"/><path d=\"M17.41 7.96l-1.37-1.37c-.4-.4-.92-.59-1.43-.59-.52 0-1.04.2-1.43.59L10.3 9.45l-7.72 7.72c-.78.78-.78 2.05 0 2.83L4 21.41c.39.39.9.59 1.41.59.51 0 1.02-.2 1.41-.59l7.78-7.78 2.81-2.81c.8-.78.8-2.07 0-2.86zM5.41 20L4 18.59l7.72-7.72 1.47 1.35L5.41 20z\"/>\n",
       "  </svg>\n",
       "      </button>\n",
       "      \n",
       "  <style>\n",
       "    .colab-df-container {\n",
       "      display:flex;\n",
       "      flex-wrap:wrap;\n",
       "      gap: 12px;\n",
       "    }\n",
       "\n",
       "    .colab-df-convert {\n",
       "      background-color: #E8F0FE;\n",
       "      border: none;\n",
       "      border-radius: 50%;\n",
       "      cursor: pointer;\n",
       "      display: none;\n",
       "      fill: #1967D2;\n",
       "      height: 32px;\n",
       "      padding: 0 0 0 0;\n",
       "      width: 32px;\n",
       "    }\n",
       "\n",
       "    .colab-df-convert:hover {\n",
       "      background-color: #E2EBFA;\n",
       "      box-shadow: 0px 1px 2px rgba(60, 64, 67, 0.3), 0px 1px 3px 1px rgba(60, 64, 67, 0.15);\n",
       "      fill: #174EA6;\n",
       "    }\n",
       "\n",
       "    [theme=dark] .colab-df-convert {\n",
       "      background-color: #3B4455;\n",
       "      fill: #D2E3FC;\n",
       "    }\n",
       "\n",
       "    [theme=dark] .colab-df-convert:hover {\n",
       "      background-color: #434B5C;\n",
       "      box-shadow: 0px 1px 3px 1px rgba(0, 0, 0, 0.15);\n",
       "      filter: drop-shadow(0px 1px 2px rgba(0, 0, 0, 0.3));\n",
       "      fill: #FFFFFF;\n",
       "    }\n",
       "  </style>\n",
       "\n",
       "      <script>\n",
       "        const buttonEl =\n",
       "          document.querySelector('#df-1f229287-f67c-4e65-9c5d-5d0bb2ad5bbb button.colab-df-convert');\n",
       "        buttonEl.style.display =\n",
       "          google.colab.kernel.accessAllowed ? 'block' : 'none';\n",
       "\n",
       "        async function convertToInteractive(key) {\n",
       "          const element = document.querySelector('#df-1f229287-f67c-4e65-9c5d-5d0bb2ad5bbb');\n",
       "          const dataTable =\n",
       "            await google.colab.kernel.invokeFunction('convertToInteractive',\n",
       "                                                     [key], {});\n",
       "          if (!dataTable) return;\n",
       "\n",
       "          const docLinkHtml = 'Like what you see? Visit the ' +\n",
       "            '<a target=\"_blank\" href=https://colab.research.google.com/notebooks/data_table.ipynb>data table notebook</a>'\n",
       "            + ' to learn more about interactive tables.';\n",
       "          element.innerHTML = '';\n",
       "          dataTable['output_type'] = 'display_data';\n",
       "          await google.colab.output.renderOutput(dataTable, element);\n",
       "          const docLink = document.createElement('div');\n",
       "          docLink.innerHTML = docLinkHtml;\n",
       "          element.appendChild(docLink);\n",
       "        }\n",
       "      </script>\n",
       "    </div>\n",
       "  </div>\n",
       "  "
      ],
      "text/plain": [
       "                   tweet_id  user_id_retweet_df  user_id_tweet_df  \\\n",
       "0       1033706162695356417        7.873112e+08      4.335085e+07   \n",
       "1       1033706162695356417        7.873112e+08      4.335085e+07   \n",
       "2       1035580865160638464        3.338247e+09      1.629771e+07   \n",
       "3       1035580865160638464        3.338247e+09      1.629771e+07   \n",
       "4        934206237708865537        7.543102e+17      5.820642e+06   \n",
       "...                     ...                 ...               ...   \n",
       "573632   813192381583466496                 NaN      3.001448e+09   \n",
       "573633   812814063763918848                 NaN      5.256945e+08   \n",
       "573634   918510122363744257                 NaN      1.525687e+09   \n",
       "573635   917522953390223366                 NaN      7.889922e+17   \n",
       "573636   917849762417831936                 NaN      9.489712e+08   \n",
       "\n",
       "                news_id  is_fake_news  \n",
       "0          politifact99           0.0  \n",
       "1         politifact340           0.0  \n",
       "2          politifact99           0.0  \n",
       "3         politifact340           0.0  \n",
       "4          politifact99           0.0  \n",
       "...                 ...           ...  \n",
       "573632  politifact13600           1.0  \n",
       "573633  politifact13600           1.0  \n",
       "573634  politifact14621           1.0  \n",
       "573635  politifact14621           1.0  \n",
       "573636  politifact14621           1.0  \n",
       "\n",
       "[544027 rows x 5 columns]"
      ]
     },
     "metadata": {},
     "output_type": "display_data"
    }
   ],
   "source": [
    "df = df[df['user_id_tweet_df'].notna()]\n",
    "df"
   ]
  },
  {
   "cell_type": "code",
   "execution_count": null,
   "id": "de003b63",
   "metadata": {
    "colab": {
     "base_uri": "https://localhost:8080/",
     "height": 424
    },
    "executionInfo": {
     "elapsed": 7904,
     "status": "ok",
     "timestamp": 1648768552784,
     "user": {
      "displayName": "Susan Koruthu",
      "userId": "06654082065688126266"
     },
     "user_tz": -480
    },
    "id": "5kYf-BjpQpYh",
    "outputId": "895bb789-e401-49ba-8db7-b39be80636c9"
   },
   "outputs": [
    {
     "data": {
      "text/html": [
       "\n",
       "  <div id=\"df-894a653d-56e2-400d-8ce4-fccad954f722\">\n",
       "    <div class=\"colab-df-container\">\n",
       "      <div>\n",
       "<style scoped>\n",
       "    .dataframe tbody tr th:only-of-type {\n",
       "        vertical-align: middle;\n",
       "    }\n",
       "\n",
       "    .dataframe tbody tr th {\n",
       "        vertical-align: top;\n",
       "    }\n",
       "\n",
       "    .dataframe thead th {\n",
       "        text-align: right;\n",
       "    }\n",
       "</style>\n",
       "<table border=\"1\" class=\"dataframe\">\n",
       "  <thead>\n",
       "    <tr style=\"text-align: right;\">\n",
       "      <th></th>\n",
       "      <th>followers</th>\n",
       "      <th>user_id</th>\n",
       "      <th>is_fake_news</th>\n",
       "      <th>follow_or_retweet</th>\n",
       "    </tr>\n",
       "  </thead>\n",
       "  <tbody>\n",
       "    <tr>\n",
       "      <th>0</th>\n",
       "      <td>7.873112e+08</td>\n",
       "      <td>43350851</td>\n",
       "      <td>0.0</td>\n",
       "      <td>retweet</td>\n",
       "    </tr>\n",
       "    <tr>\n",
       "      <th>1</th>\n",
       "      <td>3.338247e+09</td>\n",
       "      <td>16297707</td>\n",
       "      <td>0.0</td>\n",
       "      <td>retweet</td>\n",
       "    </tr>\n",
       "    <tr>\n",
       "      <th>2</th>\n",
       "      <td>7.543102e+17</td>\n",
       "      <td>5820642</td>\n",
       "      <td>0.0</td>\n",
       "      <td>retweet</td>\n",
       "    </tr>\n",
       "    <tr>\n",
       "      <th>3</th>\n",
       "      <td>2.157919e+09</td>\n",
       "      <td>1716121</td>\n",
       "      <td>0.0</td>\n",
       "      <td>retweet</td>\n",
       "    </tr>\n",
       "    <tr>\n",
       "      <th>4</th>\n",
       "      <td>4.867759e+09</td>\n",
       "      <td>31056977</td>\n",
       "      <td>0.0</td>\n",
       "      <td>retweet</td>\n",
       "    </tr>\n",
       "    <tr>\n",
       "      <th>...</th>\n",
       "      <td>...</td>\n",
       "      <td>...</td>\n",
       "      <td>...</td>\n",
       "      <td>...</td>\n",
       "    </tr>\n",
       "    <tr>\n",
       "      <th>4032402</th>\n",
       "      <td>3.306284e+09</td>\n",
       "      <td>3416678236</td>\n",
       "      <td>NaN</td>\n",
       "      <td>follower</td>\n",
       "    </tr>\n",
       "    <tr>\n",
       "      <th>4032403</th>\n",
       "      <td>4.102376e+09</td>\n",
       "      <td>3416678236</td>\n",
       "      <td>NaN</td>\n",
       "      <td>follower</td>\n",
       "    </tr>\n",
       "    <tr>\n",
       "      <th>4032404</th>\n",
       "      <td>4.165642e+09</td>\n",
       "      <td>3416678236</td>\n",
       "      <td>NaN</td>\n",
       "      <td>follower</td>\n",
       "    </tr>\n",
       "    <tr>\n",
       "      <th>4032405</th>\n",
       "      <td>3.847086e+08</td>\n",
       "      <td>3416678236</td>\n",
       "      <td>NaN</td>\n",
       "      <td>follower</td>\n",
       "    </tr>\n",
       "    <tr>\n",
       "      <th>4032406</th>\n",
       "      <td>8.042356e+17</td>\n",
       "      <td>3416678236</td>\n",
       "      <td>NaN</td>\n",
       "      <td>follower</td>\n",
       "    </tr>\n",
       "  </tbody>\n",
       "</table>\n",
       "<p>4032407 rows × 4 columns</p>\n",
       "</div>\n",
       "      <button class=\"colab-df-convert\" onclick=\"convertToInteractive('df-894a653d-56e2-400d-8ce4-fccad954f722')\"\n",
       "              title=\"Convert this dataframe to an interactive table.\"\n",
       "              style=\"display:none;\">\n",
       "        \n",
       "  <svg xmlns=\"http://www.w3.org/2000/svg\" height=\"24px\"viewBox=\"0 0 24 24\"\n",
       "       width=\"24px\">\n",
       "    <path d=\"M0 0h24v24H0V0z\" fill=\"none\"/>\n",
       "    <path d=\"M18.56 5.44l.94 2.06.94-2.06 2.06-.94-2.06-.94-.94-2.06-.94 2.06-2.06.94zm-11 1L8.5 8.5l.94-2.06 2.06-.94-2.06-.94L8.5 2.5l-.94 2.06-2.06.94zm10 10l.94 2.06.94-2.06 2.06-.94-2.06-.94-.94-2.06-.94 2.06-2.06.94z\"/><path d=\"M17.41 7.96l-1.37-1.37c-.4-.4-.92-.59-1.43-.59-.52 0-1.04.2-1.43.59L10.3 9.45l-7.72 7.72c-.78.78-.78 2.05 0 2.83L4 21.41c.39.39.9.59 1.41.59.51 0 1.02-.2 1.41-.59l7.78-7.78 2.81-2.81c.8-.78.8-2.07 0-2.86zM5.41 20L4 18.59l7.72-7.72 1.47 1.35L5.41 20z\"/>\n",
       "  </svg>\n",
       "      </button>\n",
       "      \n",
       "  <style>\n",
       "    .colab-df-container {\n",
       "      display:flex;\n",
       "      flex-wrap:wrap;\n",
       "      gap: 12px;\n",
       "    }\n",
       "\n",
       "    .colab-df-convert {\n",
       "      background-color: #E8F0FE;\n",
       "      border: none;\n",
       "      border-radius: 50%;\n",
       "      cursor: pointer;\n",
       "      display: none;\n",
       "      fill: #1967D2;\n",
       "      height: 32px;\n",
       "      padding: 0 0 0 0;\n",
       "      width: 32px;\n",
       "    }\n",
       "\n",
       "    .colab-df-convert:hover {\n",
       "      background-color: #E2EBFA;\n",
       "      box-shadow: 0px 1px 2px rgba(60, 64, 67, 0.3), 0px 1px 3px 1px rgba(60, 64, 67, 0.15);\n",
       "      fill: #174EA6;\n",
       "    }\n",
       "\n",
       "    [theme=dark] .colab-df-convert {\n",
       "      background-color: #3B4455;\n",
       "      fill: #D2E3FC;\n",
       "    }\n",
       "\n",
       "    [theme=dark] .colab-df-convert:hover {\n",
       "      background-color: #434B5C;\n",
       "      box-shadow: 0px 1px 3px 1px rgba(0, 0, 0, 0.15);\n",
       "      filter: drop-shadow(0px 1px 2px rgba(0, 0, 0, 0.3));\n",
       "      fill: #FFFFFF;\n",
       "    }\n",
       "  </style>\n",
       "\n",
       "      <script>\n",
       "        const buttonEl =\n",
       "          document.querySelector('#df-894a653d-56e2-400d-8ce4-fccad954f722 button.colab-df-convert');\n",
       "        buttonEl.style.display =\n",
       "          google.colab.kernel.accessAllowed ? 'block' : 'none';\n",
       "\n",
       "        async function convertToInteractive(key) {\n",
       "          const element = document.querySelector('#df-894a653d-56e2-400d-8ce4-fccad954f722');\n",
       "          const dataTable =\n",
       "            await google.colab.kernel.invokeFunction('convertToInteractive',\n",
       "                                                     [key], {});\n",
       "          if (!dataTable) return;\n",
       "\n",
       "          const docLinkHtml = 'Like what you see? Visit the ' +\n",
       "            '<a target=\"_blank\" href=https://colab.research.google.com/notebooks/data_table.ipynb>data table notebook</a>'\n",
       "            + ' to learn more about interactive tables.';\n",
       "          element.innerHTML = '';\n",
       "          dataTable['output_type'] = 'display_data';\n",
       "          await google.colab.output.renderOutput(dataTable, element);\n",
       "          const docLink = document.createElement('div');\n",
       "          docLink.innerHTML = docLinkHtml;\n",
       "          element.appendChild(docLink);\n",
       "        }\n",
       "      </script>\n",
       "    </div>\n",
       "  </div>\n",
       "  "
      ],
      "text/plain": [
       "            followers     user_id  is_fake_news follow_or_retweet\n",
       "0        7.873112e+08    43350851           0.0           retweet\n",
       "1        3.338247e+09    16297707           0.0           retweet\n",
       "2        7.543102e+17     5820642           0.0           retweet\n",
       "3        2.157919e+09     1716121           0.0           retweet\n",
       "4        4.867759e+09    31056977           0.0           retweet\n",
       "...               ...         ...           ...               ...\n",
       "4032402  3.306284e+09  3416678236           NaN          follower\n",
       "4032403  4.102376e+09  3416678236           NaN          follower\n",
       "4032404  4.165642e+09  3416678236           NaN          follower\n",
       "4032405  3.847086e+08  3416678236           NaN          follower\n",
       "4032406  8.042356e+17  3416678236           NaN          follower\n",
       "\n",
       "[4032407 rows x 4 columns]"
      ]
     },
     "metadata": {},
     "output_type": "display_data"
    }
   ],
   "source": [
    "df_followers = pd.read_csv('tweet_retweet_follower_network.csv', dtype={'user_id':str})\n",
    "df_followers"
   ]
  },
  {
   "cell_type": "code",
   "execution_count": null,
   "id": "dc15517c",
   "metadata": {
    "colab": {
     "base_uri": "https://localhost:8080/"
    },
    "executionInfo": {
     "elapsed": 4,
     "status": "ok",
     "timestamp": 1648768638846,
     "user": {
      "displayName": "Susan Koruthu",
      "userId": "06654082065688126266"
     },
     "user_tz": -480
    },
    "id": "Ai0SsPSsRBqx",
    "outputId": "622e30f6-a58e-4693-829f-804399570b11"
   },
   "outputs": [
    {
     "data": {
      "text/plain": [
       "[0.0, 1.0, nan]"
      ]
     },
     "metadata": {},
     "output_type": "display_data"
    }
   ],
   "source": [
    "df_followers['is_fake_news'].unique().tolist()"
   ]
  },
  {
   "cell_type": "code",
   "execution_count": null,
   "id": "ee4874f8",
   "metadata": {
    "colab": {
     "base_uri": "https://localhost:8080/"
    },
    "executionInfo": {
     "elapsed": 1090,
     "status": "ok",
     "timestamp": 1648768663277,
     "user": {
      "displayName": "Susan Koruthu",
      "userId": "06654082065688126266"
     },
     "user_tz": -480
    },
    "id": "2ZtkjogJRPpj",
    "outputId": "d13a1308-70b0-4e82-b7bc-ada7ad8537e0"
   },
   "outputs": [
    {
     "data": {
      "text/plain": [
       "followers             267908\n",
       "user_id                 2174\n",
       "is_fake_news         3683264\n",
       "follow_or_retweet          0\n",
       "dtype: int64"
      ]
     },
     "metadata": {},
     "output_type": "display_data"
    }
   ],
   "source": [
    "df_followers.isna().sum()"
   ]
  },
  {
   "cell_type": "code",
   "execution_count": null,
   "id": "c2007697",
   "metadata": {
    "colab": {
     "base_uri": "https://localhost:8080/"
    },
    "executionInfo": {
     "elapsed": 75395,
     "status": "ok",
     "timestamp": 1648769895621,
     "user": {
      "displayName": "Susan Koruthu",
      "userId": "06654082065688126266"
     },
     "user_tz": -480
    },
    "id": "6kjUIothVXFD",
    "outputId": "5f95184f-c280-4b81-a4d1-f0fb45fbb171"
   },
   "outputs": [
    {
     "name": "stdout",
     "output_type": "stream",
     "text": [
      "Collecting pyspark\n",
      "  Downloading pyspark-3.2.1.tar.gz (281.4 MB)\n",
      "\u001b[K     |████████████████████████████████| 281.4 MB 35 kB/s \n",
      "\u001b[?25hCollecting py4j==0.10.9.3\n",
      "  Downloading py4j-0.10.9.3-py2.py3-none-any.whl (198 kB)\n",
      "\u001b[K     |████████████████████████████████| 198 kB 66.3 MB/s \n",
      "\u001b[?25hBuilding wheels for collected packages: pyspark\n",
      "  Building wheel for pyspark (setup.py) ... \u001b[?25l\u001b[?25hdone\n",
      "  Created wheel for pyspark: filename=pyspark-3.2.1-py2.py3-none-any.whl size=281853642 sha256=0701ea0d4dd0673f3e418c9d8bc3230666f318101951433078f6d3fa7f18a9cc\n",
      "  Stored in directory: /root/.cache/pip/wheels/9f/f5/07/7cd8017084dce4e93e84e92efd1e1d5334db05f2e83bcef74f\n",
      "Successfully built pyspark\n",
      "Installing collected packages: py4j, pyspark\n",
      "Successfully installed py4j-0.10.9.3 pyspark-3.2.1\n",
      "Collecting graphframes\n",
      "  Downloading graphframes-0.6-py2.py3-none-any.whl (18 kB)\n",
      "Requirement already satisfied: numpy in /usr/local/lib/python3.7/dist-packages (from graphframes) (1.21.5)\n",
      "Collecting nose\n",
      "  Downloading nose-1.3.7-py3-none-any.whl (154 kB)\n",
      "\u001b[K     |████████████████████████████████| 154 kB 39.7 MB/s \n",
      "\u001b[?25hInstalling collected packages: nose, graphframes\n",
      "Successfully installed graphframes-0.6 nose-1.3.7\n",
      "Reading package lists... Done\n",
      "Building dependency tree       \n",
      "Reading state information... Done\n",
      "The following additional packages will be installed:\n",
      "  libhawtjni-runtime-java libjansi-java libjansi-native-java libjline2-java\n",
      "  scala-library scala-parser-combinators scala-xml\n",
      "Suggested packages:\n",
      "  scala-doc\n",
      "The following NEW packages will be installed:\n",
      "  libhawtjni-runtime-java libjansi-java libjansi-native-java libjline2-java\n",
      "  scala scala-library scala-parser-combinators scala-xml\n",
      "0 upgraded, 8 newly installed, 0 to remove and 39 not upgraded.\n",
      "Need to get 25.0 MB of archives.\n",
      "After this operation, 28.6 MB of additional disk space will be used.\n",
      "Get:1 http://archive.ubuntu.com/ubuntu bionic/universe amd64 libhawtjni-runtime-java all 1.15-2 [27.1 kB]\n",
      "Get:2 http://archive.ubuntu.com/ubuntu bionic/universe amd64 libjansi-native-java all 1.7-1 [19.4 kB]\n",
      "Get:3 http://archive.ubuntu.com/ubuntu bionic/universe amd64 libjansi-java all 1.16-1 [36.2 kB]\n",
      "Get:4 http://archive.ubuntu.com/ubuntu bionic/universe amd64 libjline2-java all 2.14.6-1 [150 kB]\n",
      "Get:5 http://archive.ubuntu.com/ubuntu bionic-updates/universe amd64 scala-library all 2.11.12-4~18.04 [9,589 kB]\n",
      "Get:6 http://archive.ubuntu.com/ubuntu bionic/universe amd64 scala-parser-combinators all 1.0.3-3 [355 kB]\n",
      "Get:7 http://archive.ubuntu.com/ubuntu bionic/universe amd64 scala-xml all 1.0.3-3 [601 kB]\n",
      "Get:8 http://archive.ubuntu.com/ubuntu bionic-updates/universe amd64 scala all 2.11.12-4~18.04 [14.2 MB]\n",
      "Fetched 25.0 MB in 1s (47.1 MB/s)\n",
      "Selecting previously unselected package libhawtjni-runtime-java.\n",
      "(Reading database ... 156210 files and directories currently installed.)\n",
      "Preparing to unpack .../0-libhawtjni-runtime-java_1.15-2_all.deb ...\n",
      "Unpacking libhawtjni-runtime-java (1.15-2) ...\n",
      "Selecting previously unselected package libjansi-native-java.\n",
      "Preparing to unpack .../1-libjansi-native-java_1.7-1_all.deb ...\n",
      "Unpacking libjansi-native-java (1.7-1) ...\n",
      "Selecting previously unselected package libjansi-java.\n",
      "Preparing to unpack .../2-libjansi-java_1.16-1_all.deb ...\n",
      "Unpacking libjansi-java (1.16-1) ...\n",
      "Selecting previously unselected package libjline2-java.\n",
      "Preparing to unpack .../3-libjline2-java_2.14.6-1_all.deb ...\n",
      "Unpacking libjline2-java (2.14.6-1) ...\n",
      "Selecting previously unselected package scala-library.\n",
      "Preparing to unpack .../4-scala-library_2.11.12-4~18.04_all.deb ...\n",
      "Unpacking scala-library (2.11.12-4~18.04) ...\n",
      "Selecting previously unselected package scala-parser-combinators.\n",
      "Preparing to unpack .../5-scala-parser-combinators_1.0.3-3_all.deb ...\n",
      "Unpacking scala-parser-combinators (1.0.3-3) ...\n",
      "Selecting previously unselected package scala-xml.\n",
      "Preparing to unpack .../6-scala-xml_1.0.3-3_all.deb ...\n",
      "Unpacking scala-xml (1.0.3-3) ...\n",
      "Selecting previously unselected package scala.\n",
      "Preparing to unpack .../7-scala_2.11.12-4~18.04_all.deb ...\n",
      "Unpacking scala (2.11.12-4~18.04) ...\n",
      "Setting up scala-parser-combinators (1.0.3-3) ...\n",
      "Setting up libhawtjni-runtime-java (1.15-2) ...\n",
      "Setting up scala-library (2.11.12-4~18.04) ...\n",
      "Setting up scala-xml (1.0.3-3) ...\n",
      "Setting up libjansi-native-java (1.7-1) ...\n",
      "Setting up libjansi-java (1.16-1) ...\n",
      "Setting up libjline2-java (2.14.6-1) ...\n",
      "Setting up scala (2.11.12-4~18.04) ...\n",
      "update-alternatives: using /usr/share/scala-2.11/bin/scala to provide /usr/bin/scala (scala) in auto mode\n"
     ]
    }
   ],
   "source": [
    "!pip install pyspark\n",
    "!pip install graphframes\n",
    "!apt-get install scala\n",
    "!apt-get install openjdk-8-jdk-headless -qq > /dev/null"
   ]
  },
  {
   "cell_type": "code",
   "execution_count": null,
   "id": "fcf80e98",
   "metadata": {
    "executionInfo": {
     "elapsed": 329,
     "status": "ok",
     "timestamp": 1648771134200,
     "user": {
      "displayName": "Susan Koruthu",
      "userId": "06654082065688126266"
     },
     "user_tz": -480
    },
    "id": "TbdBMTMbVvGe"
   },
   "outputs": [],
   "source": [
    "#import packages\n",
    "import os\n",
    "import sys\n",
    "\n",
    "from pyspark import SparkConf, SparkContext\n",
    "import os\n",
    "import math\n",
    "from pyspark.sql.functions import *\n",
    "from pyspark.sql import SparkSession, Row\n",
    "from pyspark.sql.types import StructType, StructField, StringType, IntegerType, FloatType \n",
    "from graphframes import *\n",
    "\n",
    "import matplotlib.pyplot as plt\n",
    "%matplotlib inline\n",
    "\n",
    "import math"
   ]
  },
  {
   "cell_type": "code",
   "execution_count": null,
   "id": "a0edc83b",
   "metadata": {
    "executionInfo": {
     "elapsed": 14837,
     "status": "ok",
     "timestamp": 1648769910449,
     "user": {
      "displayName": "Susan Koruthu",
      "userId": "06654082065688126266"
     },
     "user_tz": -480
    },
    "id": "GYz4g9DxV9hM"
   },
   "outputs": [],
   "source": [
    "spark = SparkSession.builder.master(\"local[*]\").config(\"spark.jars.packages\", \"graphframes:graphframes:0.8.2-spark3.2-s_2.12\").getOrCreate()"
   ]
  },
  {
   "cell_type": "code",
   "execution_count": null,
   "id": "12492084",
   "metadata": {
    "colab": {
     "base_uri": "https://localhost:8080/"
    },
    "executionInfo": {
     "elapsed": 2750,
     "status": "ok",
     "timestamp": 1648770070388,
     "user": {
      "displayName": "Susan Koruthu",
      "userId": "06654082065688126266"
     },
     "user_tz": -480
    },
    "id": "eOgUaeLhWUZ1",
    "outputId": "3c771ec4-1b78-4740-d73d-5e2977fd2f34"
   },
   "outputs": [
    {
     "name": "stdout",
     "output_type": "stream",
     "text": [
      "+-------------------+-------------------+----------------+-------------+------------+\n",
      "|           tweet_id| user_id_retweet_df|user_id_tweet_df|      news_id|is_fake_news|\n",
      "+-------------------+-------------------+----------------+-------------+------------+\n",
      "|1033706162695356417|          787311228|        43350851| politifact99|         0.0|\n",
      "|1033706162695356417|          787311228|        43350851|politifact340|         0.0|\n",
      "|1035580865160638464|         3338246572|        16297707| politifact99|         0.0|\n",
      "|1035580865160638464|         3338246572|        16297707|politifact340|         0.0|\n",
      "| 934206237708865537| 754310205546954757|         5820642| politifact99|         0.0|\n",
      "|1035367234569269248|         2157919340|         1716121| politifact99|         0.0|\n",
      "|1035367234569269248|         2157919340|         1716121|politifact340|         0.0|\n",
      "|1034217862313861120|         4867759271|        31056977| politifact99|         0.0|\n",
      "|1034217862313861120|         4867759271|        31056977|politifact340|         0.0|\n",
      "|1033708230634086401|          370794560|        13115682| politifact99|         0.0|\n",
      "|1033708230634086401|          370794560|        13115682|politifact340|         0.0|\n",
      "|1033708230634086401|          370794560|        13115682|politifact542|         0.0|\n",
      "|1034445554208702468|1034479942895951873|        22696550| politifact99|         0.0|\n",
      "|1034445554208702468|1034479942895951873|        22696550|politifact340|         0.0|\n",
      "|1037729219919278080|          254708177|       135247359| politifact99|         0.0|\n",
      "|1037729219919278080|          254708177|       135247359|politifact340|         0.0|\n",
      "|1033521490422116352|           27128191|        16312576| politifact99|         0.0|\n",
      "|1033521490422116352|           27128191|        16312576|politifact340|         0.0|\n",
      "| 840301175937388544|         1325337348|        17112878| politifact99|         0.0|\n",
      "| 912466954052620288|         1924285831|        10400902| politifact99|         0.0|\n",
      "+-------------------+-------------------+----------------+-------------+------------+\n",
      "only showing top 20 rows\n",
      "\n"
     ]
    }
   ],
   "source": [
    "df = spark.read.csv('tweet_retweet_network.csv', header = True)\n",
    "df.show()"
   ]
  },
  {
   "cell_type": "code",
   "execution_count": null,
   "id": "ec2ead69",
   "metadata": {
    "colab": {
     "base_uri": "https://localhost:8080/"
    },
    "executionInfo": {
     "elapsed": 922,
     "status": "ok",
     "timestamp": 1648770222266,
     "user": {
      "displayName": "Susan Koruthu",
      "userId": "06654082065688126266"
     },
     "user_tz": -480
    },
    "id": "XZKZBpWpWttM",
    "outputId": "d506d896-3942-4e89-ed35-fede5aac72e9"
   },
   "outputs": [
    {
     "name": "stdout",
     "output_type": "stream",
     "text": [
      "+----------------+-------------+------------+\n",
      "|user_id_tweet_df|      news_id|is_fake_news|\n",
      "+----------------+-------------+------------+\n",
      "|        43350851| politifact99|         0.0|\n",
      "|        43350851|politifact340|         0.0|\n",
      "|        16297707| politifact99|         0.0|\n",
      "|        16297707|politifact340|         0.0|\n",
      "|         5820642| politifact99|         0.0|\n",
      "|         1716121| politifact99|         0.0|\n",
      "|         1716121|politifact340|         0.0|\n",
      "|        31056977| politifact99|         0.0|\n",
      "|        31056977|politifact340|         0.0|\n",
      "|        13115682| politifact99|         0.0|\n",
      "|        13115682|politifact340|         0.0|\n",
      "|        13115682|politifact542|         0.0|\n",
      "|        22696550| politifact99|         0.0|\n",
      "|        22696550|politifact340|         0.0|\n",
      "|       135247359| politifact99|         0.0|\n",
      "|       135247359|politifact340|         0.0|\n",
      "|        16312576| politifact99|         0.0|\n",
      "|        16312576|politifact340|         0.0|\n",
      "|        17112878| politifact99|         0.0|\n",
      "|        10400902| politifact99|         0.0|\n",
      "+----------------+-------------+------------+\n",
      "only showing top 20 rows\n",
      "\n"
     ]
    }
   ],
   "source": [
    "tweets_df = df.select('user_id_tweet_df','news_id', 'is_fake_news')\n",
    "tweets_df.show()"
   ]
  },
  {
   "cell_type": "code",
   "execution_count": null,
   "id": "46196b37",
   "metadata": {
    "colab": {
     "base_uri": "https://localhost:8080/"
    },
    "executionInfo": {
     "elapsed": 326,
     "status": "ok",
     "timestamp": 1648773999827,
     "user": {
      "displayName": "Susan Koruthu",
      "userId": "06654082065688126266"
     },
     "user_tz": -480
    },
    "id": "j00j5RlwXZ2e",
    "outputId": "30408c16-6136-4764-d682-c370167b9474"
   },
   "outputs": [
    {
     "name": "stdout",
     "output_type": "stream",
     "text": [
      "+-------------------+---------------+------------+\n",
      "|   user_id_tweet_df|        news_id|is_fake_news|\n",
      "+-------------------+---------------+------------+\n",
      "|               null|politifact13905|         1.0|\n",
      "|           39744993|politifact14667|         1.0|\n",
      "|           82770649|politifact14667|         1.0|\n",
      "|           21474769|politifact14667|         1.0|\n",
      "| 824797212425191425|politifact14667|         1.0|\n",
      "|          110918004|politifact14667|         1.0|\n",
      "|          184929716|politifact14667|         1.0|\n",
      "|          110918004|politifact14667|         1.0|\n",
      "|          191589342|politifact14667|         1.0|\n",
      "|          110918004|politifact14667|         1.0|\n",
      "|         4520399652|politifact14667|         1.0|\n",
      "|          110918004|politifact14667|         1.0|\n",
      "| 866690638909104129|politifact14667|         1.0|\n",
      "|         2850251396|politifact14548|         1.0|\n",
      "|           62088756|politifact14548|         1.0|\n",
      "| 746236470684311552|politifact14548|         1.0|\n",
      "|           47299616|politifact14548|         1.0|\n",
      "|1004813571161755648|politifact14548|         1.0|\n",
      "| 932123145665781760|politifact14548|         1.0|\n",
      "|               null|politifact14548|         1.0|\n",
      "+-------------------+---------------+------------+\n",
      "only showing top 20 rows\n",
      "\n"
     ]
    }
   ],
   "source": [
    "tweets_df_fake = tweets_df.filter('is_fake_news = 1.0')\n",
    "tweets_df_fake.show()"
   ]
  },
  {
   "cell_type": "code",
   "execution_count": null,
   "id": "0c2d2112",
   "metadata": {
    "colab": {
     "base_uri": "https://localhost:8080/"
    },
    "executionInfo": {
     "elapsed": 3,
     "status": "ok",
     "timestamp": 1648774001689,
     "user": {
      "displayName": "Susan Koruthu",
      "userId": "06654082065688126266"
     },
     "user_tz": -480
    },
    "id": "OVox0zPmX22U",
    "outputId": "52f070fa-a07b-4ef9-afcd-0aca26bc04c8"
   },
   "outputs": [
    {
     "name": "stdout",
     "output_type": "stream",
     "text": [
      "+----------------+-------------+------------+\n",
      "|user_id_tweet_df|      news_id|is_fake_news|\n",
      "+----------------+-------------+------------+\n",
      "|        43350851| politifact99|         0.0|\n",
      "|        43350851|politifact340|         0.0|\n",
      "|        16297707| politifact99|         0.0|\n",
      "|        16297707|politifact340|         0.0|\n",
      "|         5820642| politifact99|         0.0|\n",
      "|         1716121| politifact99|         0.0|\n",
      "|         1716121|politifact340|         0.0|\n",
      "|        31056977| politifact99|         0.0|\n",
      "|        31056977|politifact340|         0.0|\n",
      "|        13115682| politifact99|         0.0|\n",
      "|        13115682|politifact340|         0.0|\n",
      "|        13115682|politifact542|         0.0|\n",
      "|        22696550| politifact99|         0.0|\n",
      "|        22696550|politifact340|         0.0|\n",
      "|       135247359| politifact99|         0.0|\n",
      "|       135247359|politifact340|         0.0|\n",
      "|        16312576| politifact99|         0.0|\n",
      "|        16312576|politifact340|         0.0|\n",
      "|        17112878| politifact99|         0.0|\n",
      "|        10400902| politifact99|         0.0|\n",
      "+----------------+-------------+------------+\n",
      "only showing top 20 rows\n",
      "\n"
     ]
    }
   ],
   "source": [
    "tweets_df_real = tweets_df.filter('is_fake_news = 0.0')\n",
    "tweets_df_real.show()"
   ]
  },
  {
   "cell_type": "code",
   "execution_count": null,
   "id": "838eee0f",
   "metadata": {
    "colab": {
     "base_uri": "https://localhost:8080/"
    },
    "executionInfo": {
     "elapsed": 918,
     "status": "ok",
     "timestamp": 1648774010970,
     "user": {
      "displayName": "Susan Koruthu",
      "userId": "06654082065688126266"
     },
     "user_tz": -480
    },
    "id": "P6nnXULalcH4",
    "outputId": "f62e63a9-2240-467c-dc90-e8994e20d5c1"
   },
   "outputs": [
    {
     "name": "stdout",
     "output_type": "stream",
     "text": [
      "+-------------------+---------------+------------+\n",
      "|   user_id_tweet_df|        news_id|is_fake_news|\n",
      "+-------------------+---------------+------------+\n",
      "|           39744993|politifact14667|         1.0|\n",
      "|           82770649|politifact14667|         1.0|\n",
      "|           21474769|politifact14667|         1.0|\n",
      "| 824797212425191425|politifact14667|         1.0|\n",
      "|          110918004|politifact14667|         1.0|\n",
      "|          184929716|politifact14667|         1.0|\n",
      "|          110918004|politifact14667|         1.0|\n",
      "|          191589342|politifact14667|         1.0|\n",
      "|          110918004|politifact14667|         1.0|\n",
      "|         4520399652|politifact14667|         1.0|\n",
      "|          110918004|politifact14667|         1.0|\n",
      "| 866690638909104129|politifact14667|         1.0|\n",
      "|         2850251396|politifact14548|         1.0|\n",
      "|           62088756|politifact14548|         1.0|\n",
      "| 746236470684311552|politifact14548|         1.0|\n",
      "|           47299616|politifact14548|         1.0|\n",
      "|1004813571161755648|politifact14548|         1.0|\n",
      "| 932123145665781760|politifact14548|         1.0|\n",
      "|          311552533|politifact14548|         1.0|\n",
      "|         1323937488|politifact14548|         1.0|\n",
      "+-------------------+---------------+------------+\n",
      "only showing top 20 rows\n",
      "\n"
     ]
    }
   ],
   "source": [
    "tweets_df_fake = tweets_df_fake.na.drop()\n",
    "tweets_df_fake.show()"
   ]
  },
  {
   "cell_type": "code",
   "execution_count": null,
   "id": "dcb1b624",
   "metadata": {
    "colab": {
     "base_uri": "https://localhost:8080/"
    },
    "executionInfo": {
     "elapsed": 415,
     "status": "ok",
     "timestamp": 1648774034930,
     "user": {
      "displayName": "Susan Koruthu",
      "userId": "06654082065688126266"
     },
     "user_tz": -480
    },
    "id": "0jUaFJz2luRr",
    "outputId": "7d214c50-a6ea-4e50-a7aa-7d9eb43a969e"
   },
   "outputs": [
    {
     "name": "stdout",
     "output_type": "stream",
     "text": [
      "+----------------+-------------+------------+\n",
      "|user_id_tweet_df|      news_id|is_fake_news|\n",
      "+----------------+-------------+------------+\n",
      "|        43350851| politifact99|         0.0|\n",
      "|        43350851|politifact340|         0.0|\n",
      "|        16297707| politifact99|         0.0|\n",
      "|        16297707|politifact340|         0.0|\n",
      "|         5820642| politifact99|         0.0|\n",
      "|         1716121| politifact99|         0.0|\n",
      "|         1716121|politifact340|         0.0|\n",
      "|        31056977| politifact99|         0.0|\n",
      "|        31056977|politifact340|         0.0|\n",
      "|        13115682| politifact99|         0.0|\n",
      "|        13115682|politifact340|         0.0|\n",
      "|        13115682|politifact542|         0.0|\n",
      "|        22696550| politifact99|         0.0|\n",
      "|        22696550|politifact340|         0.0|\n",
      "|       135247359| politifact99|         0.0|\n",
      "|       135247359|politifact340|         0.0|\n",
      "|        16312576| politifact99|         0.0|\n",
      "|        16312576|politifact340|         0.0|\n",
      "|        17112878| politifact99|         0.0|\n",
      "|        10400902| politifact99|         0.0|\n",
      "+----------------+-------------+------------+\n",
      "only showing top 20 rows\n",
      "\n"
     ]
    }
   ],
   "source": [
    "tweets_df_real = tweets_df_real.na.drop()\n",
    "tweets_df_real.show()"
   ]
  },
  {
   "cell_type": "code",
   "execution_count": null,
   "id": "e8b57e58",
   "metadata": {
    "colab": {
     "base_uri": "https://localhost:8080/"
    },
    "executionInfo": {
     "elapsed": 751,
     "status": "ok",
     "timestamp": 1648774038943,
     "user": {
      "displayName": "Susan Koruthu",
      "userId": "06654082065688126266"
     },
     "user_tz": -480
    },
    "id": "iyXNUCiNYKPa",
    "outputId": "6791cfde-b268-4da0-a654-911016bbaa9e"
   },
   "outputs": [
    {
     "data": {
      "text/plain": [
       "[('39744993', 'politifact14667', '1.0'),\n",
       " ('82770649', 'politifact14667', '1.0'),\n",
       " ('21474769', 'politifact14667', '1.0'),\n",
       " ('824797212425191425', 'politifact14667', '1.0'),\n",
       " ('110918004', 'politifact14667', '1.0'),\n",
       " ('184929716', 'politifact14667', '1.0'),\n",
       " ('110918004', 'politifact14667', '1.0'),\n",
       " ('191589342', 'politifact14667', '1.0'),\n",
       " ('110918004', 'politifact14667', '1.0'),\n",
       " ('4520399652', 'politifact14667', '1.0')]"
      ]
     },
     "metadata": {},
     "output_type": "display_data"
    }
   ],
   "source": [
    "fake_tweets_rdd = tweets_df_fake.rdd.map(tuple)\n",
    "fake_tweets_rdd.take(10)"
   ]
  },
  {
   "cell_type": "code",
   "execution_count": null,
   "id": "335628f5",
   "metadata": {
    "colab": {
     "base_uri": "https://localhost:8080/",
     "height": 35
    },
    "executionInfo": {
     "elapsed": 316,
     "status": "ok",
     "timestamp": 1648774085871,
     "user": {
      "displayName": "Susan Koruthu",
      "userId": "06654082065688126266"
     },
     "user_tz": -480
    },
    "id": "4-z8KxF1Zx4S",
    "outputId": "0f2c6297-7105-40a8-fce2-c7ba28c2848d"
   },
   "outputs": [
    {
     "data": {
      "application/vnd.google.colaboratory.intrinsic+json": {
       "type": "string"
      },
      "text/plain": [
       "'1.0'"
      ]
     },
     "metadata": {},
     "output_type": "display_data"
    }
   ],
   "source": [
    "fake_tweets_rdd.take(1)[0][2]"
   ]
  },
  {
   "cell_type": "code",
   "execution_count": null,
   "id": "e8e2df1d",
   "metadata": {
    "colab": {
     "base_uri": "https://localhost:8080/"
    },
    "executionInfo": {
     "elapsed": 889,
     "status": "ok",
     "timestamp": 1648774255059,
     "user": {
      "displayName": "Susan Koruthu",
      "userId": "06654082065688126266"
     },
     "user_tz": -480
    },
    "id": "kKch6ulSlXS0",
    "outputId": "15b58568-0cf3-4db6-b06c-a6c7860b4f59"
   },
   "outputs": [
    {
     "data": {
      "text/plain": [
       "[('39744993', 1),\n",
       " ('82770649', 1),\n",
       " ('21474769', 1),\n",
       " ('824797212425191425', 1),\n",
       " ('110918004', 1),\n",
       " ('184929716', 1),\n",
       " ('110918004', 1),\n",
       " ('191589342', 1),\n",
       " ('110918004', 1),\n",
       " ('4520399652', 1)]"
      ]
     },
     "metadata": {},
     "output_type": "display_data"
    }
   ],
   "source": [
    "fake_tweets_map = fake_tweets_rdd.map(lambda x: (x[0], 1))\n",
    "fake_tweets_map.take(10)"
   ]
  },
  {
   "cell_type": "code",
   "execution_count": null,
   "id": "eca33fab",
   "metadata": {
    "colab": {
     "base_uri": "https://localhost:8080/"
    },
    "executionInfo": {
     "elapsed": 4854,
     "status": "ok",
     "timestamp": 1648774362725,
     "user": {
      "displayName": "Susan Koruthu",
      "userId": "06654082065688126266"
     },
     "user_tz": -480
    },
    "id": "iLPmywY4mrzv",
    "outputId": "0f837705-f2c3-4fd5-b930-69b2542ef348"
   },
   "outputs": [
    {
     "data": {
      "text/plain": [
       "[('21474769', 4),\n",
       " ('824797212425191425', 1),\n",
       " ('110918004', 25),\n",
       " ('191589342', 1),\n",
       " ('62088756', 1),\n",
       " ('3097431114', 6),\n",
       " ('2862646276', 1),\n",
       " ('835117966165364736', 3),\n",
       " ('2905658255', 2),\n",
       " ('935085971451924480', 2)]"
      ]
     },
     "metadata": {},
     "output_type": "display_data"
    }
   ],
   "source": [
    "fake_tweets_count = fake_tweets_map.reduceByKey(lambda n1,n2: n1+n2)\n",
    "fake_tweets_count.take(10)"
   ]
  },
  {
   "cell_type": "code",
   "execution_count": null,
   "id": "88f75c22",
   "metadata": {
    "colab": {
     "base_uri": "https://localhost:8080/"
    },
    "executionInfo": {
     "elapsed": 745,
     "status": "ok",
     "timestamp": 1648774443682,
     "user": {
      "displayName": "Susan Koruthu",
      "userId": "06654082065688126266"
     },
     "user_tz": -480
    },
    "id": "J9GeGyEQnUR9",
    "outputId": "1e0f3b23-0e2a-4f2d-b0f0-66529e57794b"
   },
   "outputs": [
    {
     "data": {
      "text/plain": [
       "[('43350851', 'politifact99', '0.0'),\n",
       " ('43350851', 'politifact340', '0.0'),\n",
       " ('16297707', 'politifact99', '0.0'),\n",
       " ('16297707', 'politifact340', '0.0'),\n",
       " ('5820642', 'politifact99', '0.0'),\n",
       " ('1716121', 'politifact99', '0.0'),\n",
       " ('1716121', 'politifact340', '0.0'),\n",
       " ('31056977', 'politifact99', '0.0'),\n",
       " ('31056977', 'politifact340', '0.0'),\n",
       " ('13115682', 'politifact99', '0.0')]"
      ]
     },
     "metadata": {},
     "output_type": "display_data"
    }
   ],
   "source": [
    "real_tweets_rdd = tweets_df_real.rdd.map(tuple)\n",
    "real_tweets_rdd.take(10)"
   ]
  },
  {
   "cell_type": "code",
   "execution_count": null,
   "id": "b08ea135",
   "metadata": {
    "colab": {
     "base_uri": "https://localhost:8080/"
    },
    "executionInfo": {
     "elapsed": 6,
     "status": "ok",
     "timestamp": 1648774446353,
     "user": {
      "displayName": "Susan Koruthu",
      "userId": "06654082065688126266"
     },
     "user_tz": -480
    },
    "id": "_esLSeMjnK0y",
    "outputId": "cb3edd20-e7eb-4303-c6fe-1c08f11d61fb"
   },
   "outputs": [
    {
     "data": {
      "text/plain": [
       "[('43350851', 1),\n",
       " ('43350851', 1),\n",
       " ('16297707', 1),\n",
       " ('16297707', 1),\n",
       " ('5820642', 1),\n",
       " ('1716121', 1),\n",
       " ('1716121', 1),\n",
       " ('31056977', 1),\n",
       " ('31056977', 1),\n",
       " ('13115682', 1)]"
      ]
     },
     "metadata": {},
     "output_type": "display_data"
    }
   ],
   "source": [
    "real_tweets_map = real_tweets_rdd.map(lambda x: (x[0], 1))\n",
    "real_tweets_map.take(10)"
   ]
  },
  {
   "cell_type": "code",
   "execution_count": null,
   "id": "27de5ab0",
   "metadata": {
    "colab": {
     "base_uri": "https://localhost:8080/"
    },
    "executionInfo": {
     "elapsed": 7190,
     "status": "ok",
     "timestamp": 1648774488154,
     "user": {
      "displayName": "Susan Koruthu",
      "userId": "06654082065688126266"
     },
     "user_tz": -480
    },
    "id": "ZAQqLhevnY9o",
    "outputId": "8287a74a-400b-421a-9560-93dc0d67672d"
   },
   "outputs": [
    {
     "data": {
      "text/plain": [
       "[('1716121', 7),\n",
       " ('13115682', 20),\n",
       " ('135247359', 4),\n",
       " ('17112878', 426),\n",
       " ('993451813', 1),\n",
       " ('50174697', 2),\n",
       " ('17921386', 2),\n",
       " ('18812572', 11),\n",
       " ('2463977196', 1),\n",
       " ('994358258646355968', 2)]"
      ]
     },
     "metadata": {},
     "output_type": "display_data"
    }
   ],
   "source": [
    "real_tweets_count = real_tweets_map.reduceByKey(lambda n1,n2: n1+n2)\n",
    "real_tweets_count.take(10)"
   ]
  },
  {
   "cell_type": "code",
   "execution_count": null,
   "id": "d83eacd5",
   "metadata": {
    "colab": {
     "base_uri": "https://localhost:8080/"
    },
    "executionInfo": {
     "elapsed": 2569,
     "status": "ok",
     "timestamp": 1648775721376,
     "user": {
      "displayName": "Susan Koruthu",
      "userId": "06654082065688126266"
     },
     "user_tz": -480
    },
    "id": "bWGoOOBrnjn7",
    "outputId": "29d2f037-311d-483d-f94b-4a8fa6327fea"
   },
   "outputs": [
    {
     "data": {
      "text/plain": [
       "[('1716121', 7, None),\n",
       " ('13115682', 20, 1),\n",
       " ('135247359', 4, 2),\n",
       " ('17112878', 426, None),\n",
       " ('993451813', 1, 3),\n",
       " ('50174697', 2, 1),\n",
       " ('17921386', 2, None),\n",
       " ('18812572', 11, None),\n",
       " ('2463977196', 1, None),\n",
       " ('994358258646355968', 2, None)]"
      ]
     },
     "metadata": {},
     "output_type": "display_data"
    }
   ],
   "source": [
    "all_tweets_count = real_tweets_count.fullOuterJoin(fake_tweets_count)\n",
    "all_tweets_count = all_tweets_count.map(lambda x: (x[0], x[1][0], x[1][1]))\n",
    "all_tweets_count.take(10)"
   ]
  },
  {
   "cell_type": "code",
   "execution_count": null,
   "id": "59ab29ef",
   "metadata": {
    "colab": {
     "base_uri": "https://localhost:8080/"
    },
    "executionInfo": {
     "elapsed": 2737,
     "status": "ok",
     "timestamp": 1648777749165,
     "user": {
      "displayName": "Susan Koruthu",
      "userId": "06654082065688126266"
     },
     "user_tz": -480
    },
    "id": "8bZ0WqQ4raQW",
    "outputId": "a322f41d-8e9b-4687-b99f-e1d719b3ec64"
   },
   "outputs": [
    {
     "name": "stdout",
     "output_type": "stream",
     "text": [
      "+------------------+---------------------+---------------------+\n",
      "|           user_id|tweet_real_news_count|tweet_fake_news_count|\n",
      "+------------------+---------------------+---------------------+\n",
      "|           1716121|                    7|                    0|\n",
      "|          13115682|                   20|                    1|\n",
      "|         135247359|                    4|                    2|\n",
      "|          17112878|                  426|                    0|\n",
      "|         993451813|                    1|                    3|\n",
      "|          50174697|                    2|                    1|\n",
      "|          17921386|                    2|                    0|\n",
      "|          18812572|                   11|                    0|\n",
      "|        2463977196|                    1|                    0|\n",
      "|994358258646355968|                    2|                    0|\n",
      "+------------------+---------------------+---------------------+\n",
      "only showing top 10 rows\n",
      "\n"
     ]
    }
   ],
   "source": [
    "rdd_columns = ['user_id', 'tweet_real_news_count', 'tweet_fake_news_count']\n",
    "tweet_count_df = spark.createDataFrame(all_tweets_count, schema = rdd_columns)\n",
    "tweet_count_df = tweet_count_df.na.fill(0)\n",
    "tweet_count_df.show(10)"
   ]
  },
  {
   "cell_type": "code",
   "execution_count": null,
   "id": "63bf5668",
   "metadata": {
    "colab": {
     "base_uri": "https://localhost:8080/"
    },
    "executionInfo": {
     "elapsed": 9,
     "status": "ok",
     "timestamp": 1648777749166,
     "user": {
      "displayName": "Susan Koruthu",
      "userId": "06654082065688126266"
     },
     "user_tz": -480
    },
    "id": "NjNcLJ-YtBi5",
    "outputId": "4dc4af48-3552-44ed-fe01-98f71b8d6067"
   },
   "outputs": [
    {
     "name": "stdout",
     "output_type": "stream",
     "text": [
      "+-------------------+-------------+------------+\n",
      "| user_id_retweet_df|      news_id|is_fake_news|\n",
      "+-------------------+-------------+------------+\n",
      "|          787311228| politifact99|         0.0|\n",
      "|          787311228|politifact340|         0.0|\n",
      "|         3338246572| politifact99|         0.0|\n",
      "|         3338246572|politifact340|         0.0|\n",
      "| 754310205546954757| politifact99|         0.0|\n",
      "|         2157919340| politifact99|         0.0|\n",
      "|         2157919340|politifact340|         0.0|\n",
      "|         4867759271| politifact99|         0.0|\n",
      "|         4867759271|politifact340|         0.0|\n",
      "|          370794560| politifact99|         0.0|\n",
      "|          370794560|politifact340|         0.0|\n",
      "|          370794560|politifact542|         0.0|\n",
      "|1034479942895951873| politifact99|         0.0|\n",
      "|1034479942895951873|politifact340|         0.0|\n",
      "|          254708177| politifact99|         0.0|\n",
      "|          254708177|politifact340|         0.0|\n",
      "|           27128191| politifact99|         0.0|\n",
      "|           27128191|politifact340|         0.0|\n",
      "|         1325337348| politifact99|         0.0|\n",
      "|         1924285831| politifact99|         0.0|\n",
      "+-------------------+-------------+------------+\n",
      "only showing top 20 rows\n",
      "\n"
     ]
    }
   ],
   "source": [
    "retweets_df = df.select('user_id_retweet_df','news_id', 'is_fake_news')\n",
    "retweets_df.show()"
   ]
  },
  {
   "cell_type": "code",
   "execution_count": null,
   "id": "a79900aa",
   "metadata": {
    "colab": {
     "base_uri": "https://localhost:8080/"
    },
    "executionInfo": {
     "elapsed": 399,
     "status": "ok",
     "timestamp": 1648777749559,
     "user": {
      "displayName": "Susan Koruthu",
      "userId": "06654082065688126266"
     },
     "user_tz": -480
    },
    "id": "kwRXBsXMtOW-",
    "outputId": "31adeef0-2f0d-45f9-ea67-a01e21739180"
   },
   "outputs": [
    {
     "name": "stdout",
     "output_type": "stream",
     "text": [
      "+-------------------+-------------+------------+\n",
      "| user_id_retweet_df|      news_id|is_fake_news|\n",
      "+-------------------+-------------+------------+\n",
      "|          787311228| politifact99|         0.0|\n",
      "|          787311228|politifact340|         0.0|\n",
      "|         3338246572| politifact99|         0.0|\n",
      "|         3338246572|politifact340|         0.0|\n",
      "| 754310205546954757| politifact99|         0.0|\n",
      "|         2157919340| politifact99|         0.0|\n",
      "|         2157919340|politifact340|         0.0|\n",
      "|         4867759271| politifact99|         0.0|\n",
      "|         4867759271|politifact340|         0.0|\n",
      "|          370794560| politifact99|         0.0|\n",
      "|          370794560|politifact340|         0.0|\n",
      "|          370794560|politifact542|         0.0|\n",
      "|1034479942895951873| politifact99|         0.0|\n",
      "|1034479942895951873|politifact340|         0.0|\n",
      "|          254708177| politifact99|         0.0|\n",
      "|          254708177|politifact340|         0.0|\n",
      "|           27128191| politifact99|         0.0|\n",
      "|           27128191|politifact340|         0.0|\n",
      "|         1325337348| politifact99|         0.0|\n",
      "|         1924285831| politifact99|         0.0|\n",
      "+-------------------+-------------+------------+\n",
      "only showing top 20 rows\n",
      "\n"
     ]
    }
   ],
   "source": [
    "retweets_df = retweets_df.na.drop()\n",
    "retweets_df.show()"
   ]
  },
  {
   "cell_type": "code",
   "execution_count": null,
   "id": "71acb5cf",
   "metadata": {
    "colab": {
     "base_uri": "https://localhost:8080/"
    },
    "executionInfo": {
     "elapsed": 7,
     "status": "ok",
     "timestamp": 1648777749559,
     "user": {
      "displayName": "Susan Koruthu",
      "userId": "06654082065688126266"
     },
     "user_tz": -480
    },
    "id": "YO6fjzx8vGFS",
    "outputId": "5e866857-a871-4775-df03-c4baca51baa6"
   },
   "outputs": [
    {
     "name": "stdout",
     "output_type": "stream",
     "text": [
      "+-------------------+---------------+------------+\n",
      "| user_id_retweet_df|        news_id|is_fake_news|\n",
      "+-------------------+---------------+------------+\n",
      "|         3162969997|politifact13905|         1.0|\n",
      "| 885692002591006720|politifact14667|         1.0|\n",
      "|         1917218150|politifact14667|         1.0|\n",
      "|          255928301|politifact14667|         1.0|\n",
      "| 822271632383295493|politifact14667|         1.0|\n",
      "|           17597022|politifact14667|         1.0|\n",
      "|           22824243|politifact14667|         1.0|\n",
      "|         1378552322|politifact14667|         1.0|\n",
      "|          188343111|politifact14667|         1.0|\n",
      "|1017951685224759296|politifact14667|         1.0|\n",
      "|            9924742|politifact14667|         1.0|\n",
      "|          915331472|politifact14667|         1.0|\n",
      "| 960571982780731392|politifact14667|         1.0|\n",
      "|         2716850508|politifact14548|         1.0|\n",
      "| 948025288356642816|politifact14548|         1.0|\n",
      "| 759421234375331840|politifact14548|         1.0|\n",
      "|          103253996|politifact14548|         1.0|\n",
      "| 833608902935605248|politifact14548|         1.0|\n",
      "|          120725508|politifact14548|         1.0|\n",
      "|           84793887|politifact14548|         1.0|\n",
      "+-------------------+---------------+------------+\n",
      "only showing top 20 rows\n",
      "\n"
     ]
    }
   ],
   "source": [
    "retweets_df_fake = retweets_df.filter('is_fake_news = 1.0')\n",
    "retweets_df_fake.show()"
   ]
  },
  {
   "cell_type": "code",
   "execution_count": null,
   "id": "e70a21f6",
   "metadata": {
    "colab": {
     "base_uri": "https://localhost:8080/"
    },
    "executionInfo": {
     "elapsed": 333,
     "status": "ok",
     "timestamp": 1648777749889,
     "user": {
      "displayName": "Susan Koruthu",
      "userId": "06654082065688126266"
     },
     "user_tz": -480
    },
    "id": "u6v7k75UvOP8",
    "outputId": "917bcdb4-8004-4fb1-bb6e-c14fae51cda5"
   },
   "outputs": [
    {
     "name": "stdout",
     "output_type": "stream",
     "text": [
      "+-------------------+-------------+------------+\n",
      "| user_id_retweet_df|      news_id|is_fake_news|\n",
      "+-------------------+-------------+------------+\n",
      "|          787311228| politifact99|         0.0|\n",
      "|          787311228|politifact340|         0.0|\n",
      "|         3338246572| politifact99|         0.0|\n",
      "|         3338246572|politifact340|         0.0|\n",
      "| 754310205546954757| politifact99|         0.0|\n",
      "|         2157919340| politifact99|         0.0|\n",
      "|         2157919340|politifact340|         0.0|\n",
      "|         4867759271| politifact99|         0.0|\n",
      "|         4867759271|politifact340|         0.0|\n",
      "|          370794560| politifact99|         0.0|\n",
      "|          370794560|politifact340|         0.0|\n",
      "|          370794560|politifact542|         0.0|\n",
      "|1034479942895951873| politifact99|         0.0|\n",
      "|1034479942895951873|politifact340|         0.0|\n",
      "|          254708177| politifact99|         0.0|\n",
      "|          254708177|politifact340|         0.0|\n",
      "|           27128191| politifact99|         0.0|\n",
      "|           27128191|politifact340|         0.0|\n",
      "|         1325337348| politifact99|         0.0|\n",
      "|         1924285831| politifact99|         0.0|\n",
      "+-------------------+-------------+------------+\n",
      "only showing top 20 rows\n",
      "\n"
     ]
    }
   ],
   "source": [
    "retweets_df_real = retweets_df.filter('is_fake_news = 0.0')\n",
    "retweets_df_real.show()"
   ]
  },
  {
   "cell_type": "code",
   "execution_count": null,
   "id": "557f987c",
   "metadata": {
    "colab": {
     "base_uri": "https://localhost:8080/"
    },
    "executionInfo": {
     "elapsed": 402,
     "status": "ok",
     "timestamp": 1648777750288,
     "user": {
      "displayName": "Susan Koruthu",
      "userId": "06654082065688126266"
     },
     "user_tz": -480
    },
    "id": "3XOpaM4KvTMn",
    "outputId": "b5cd7c56-31d2-415f-b173-0846576acd00"
   },
   "outputs": [
    {
     "data": {
      "text/plain": [
       "[('3162969997', 'politifact13905', '1.0'),\n",
       " ('885692002591006720', 'politifact14667', '1.0'),\n",
       " ('1917218150', 'politifact14667', '1.0'),\n",
       " ('255928301', 'politifact14667', '1.0'),\n",
       " ('822271632383295493', 'politifact14667', '1.0'),\n",
       " ('17597022', 'politifact14667', '1.0'),\n",
       " ('22824243', 'politifact14667', '1.0'),\n",
       " ('1378552322', 'politifact14667', '1.0'),\n",
       " ('188343111', 'politifact14667', '1.0'),\n",
       " ('1017951685224759296', 'politifact14667', '1.0')]"
      ]
     },
     "metadata": {},
     "output_type": "display_data"
    }
   ],
   "source": [
    "fake_retweets_rdd = retweets_df_fake.rdd.map(tuple)\n",
    "fake_retweets_rdd.take(10)"
   ]
  },
  {
   "cell_type": "code",
   "execution_count": null,
   "id": "d8fb4a78",
   "metadata": {
    "colab": {
     "base_uri": "https://localhost:8080/"
    },
    "executionInfo": {
     "elapsed": 8,
     "status": "ok",
     "timestamp": 1648777750288,
     "user": {
      "displayName": "Susan Koruthu",
      "userId": "06654082065688126266"
     },
     "user_tz": -480
    },
    "id": "yJ0y6R-AwITU",
    "outputId": "155dead0-1694-4de7-87f3-efb5381bd384"
   },
   "outputs": [
    {
     "data": {
      "text/plain": [
       "[('787311228', 'politifact99', '0.0'),\n",
       " ('787311228', 'politifact340', '0.0'),\n",
       " ('3338246572', 'politifact99', '0.0'),\n",
       " ('3338246572', 'politifact340', '0.0'),\n",
       " ('754310205546954757', 'politifact99', '0.0'),\n",
       " ('2157919340', 'politifact99', '0.0'),\n",
       " ('2157919340', 'politifact340', '0.0'),\n",
       " ('4867759271', 'politifact99', '0.0'),\n",
       " ('4867759271', 'politifact340', '0.0'),\n",
       " ('370794560', 'politifact99', '0.0')]"
      ]
     },
     "metadata": {},
     "output_type": "display_data"
    }
   ],
   "source": [
    "real_retweets_rdd = retweets_df_real.rdd.map(tuple)\n",
    "real_retweets_rdd.take(10)"
   ]
  },
  {
   "cell_type": "code",
   "execution_count": null,
   "id": "841e7247",
   "metadata": {
    "colab": {
     "base_uri": "https://localhost:8080/"
    },
    "executionInfo": {
     "elapsed": 416,
     "status": "ok",
     "timestamp": 1648777750700,
     "user": {
      "displayName": "Susan Koruthu",
      "userId": "06654082065688126266"
     },
     "user_tz": -480
    },
    "id": "vhT5XPuawS7g",
    "outputId": "aafdd787-5025-48c3-ab52-2d389c599223"
   },
   "outputs": [
    {
     "data": {
      "text/plain": [
       "[('3162969997', 1),\n",
       " ('885692002591006720', 1),\n",
       " ('1917218150', 1),\n",
       " ('255928301', 1),\n",
       " ('822271632383295493', 1),\n",
       " ('17597022', 1),\n",
       " ('22824243', 1),\n",
       " ('1378552322', 1),\n",
       " ('188343111', 1),\n",
       " ('1017951685224759296', 1)]"
      ]
     },
     "metadata": {},
     "output_type": "display_data"
    }
   ],
   "source": [
    "fake_retweets_map = fake_retweets_rdd.map(lambda x: (x[0], 1))\n",
    "fake_retweets_map.take(10)"
   ]
  },
  {
   "cell_type": "code",
   "execution_count": null,
   "id": "89060397",
   "metadata": {
    "colab": {
     "base_uri": "https://localhost:8080/"
    },
    "executionInfo": {
     "elapsed": 389,
     "status": "ok",
     "timestamp": 1648777751083,
     "user": {
      "displayName": "Susan Koruthu",
      "userId": "06654082065688126266"
     },
     "user_tz": -480
    },
    "id": "Q4VPfRDowMkR",
    "outputId": "0554396c-55a7-4bc9-a4b1-36dac1842e63"
   },
   "outputs": [
    {
     "data": {
      "text/plain": [
       "[('787311228', 1),\n",
       " ('787311228', 1),\n",
       " ('3338246572', 1),\n",
       " ('3338246572', 1),\n",
       " ('754310205546954757', 1),\n",
       " ('2157919340', 1),\n",
       " ('2157919340', 1),\n",
       " ('4867759271', 1),\n",
       " ('4867759271', 1),\n",
       " ('370794560', 1)]"
      ]
     },
     "metadata": {},
     "output_type": "display_data"
    }
   ],
   "source": [
    "real_retweets_map = real_retweets_rdd.map(lambda x: (x[0], 1))\n",
    "real_retweets_map.take(10)"
   ]
  },
  {
   "cell_type": "code",
   "execution_count": null,
   "id": "be526b8d",
   "metadata": {
    "colab": {
     "base_uri": "https://localhost:8080/"
    },
    "executionInfo": {
     "elapsed": 1726,
     "status": "ok",
     "timestamp": 1648777752807,
     "user": {
      "displayName": "Susan Koruthu",
      "userId": "06654082065688126266"
     },
     "user_tz": -480
    },
    "id": "pYPqiHgywjy_",
    "outputId": "edd6d5fe-5b20-4a53-cb09-6ad560a1b19e"
   },
   "outputs": [
    {
     "data": {
      "text/plain": [
       "[('3162969997', 1),\n",
       " ('1917218150', 1),\n",
       " ('255928301', 1),\n",
       " ('822271632383295493', 1),\n",
       " ('17597022', 1),\n",
       " ('22824243', 1),\n",
       " ('1378552322', 1),\n",
       " ('1017951685224759296', 2),\n",
       " ('9924742', 1),\n",
       " ('960571982780731392', 1)]"
      ]
     },
     "metadata": {},
     "output_type": "display_data"
    }
   ],
   "source": [
    "fake_retweets_count = fake_retweets_map.reduceByKey(lambda n1,n2: n1+n2)\n",
    "fake_retweets_count.take(10)"
   ]
  },
  {
   "cell_type": "code",
   "execution_count": null,
   "id": "942a286c",
   "metadata": {
    "colab": {
     "base_uri": "https://localhost:8080/"
    },
    "executionInfo": {
     "elapsed": 2264,
     "status": "ok",
     "timestamp": 1648777755068,
     "user": {
      "displayName": "Susan Koruthu",
      "userId": "06654082065688126266"
     },
     "user_tz": -480
    },
    "id": "KyUdoUCVwj3l",
    "outputId": "a666b887-6a05-4348-ee90-64d25f56669f"
   },
   "outputs": [
    {
     "data": {
      "text/plain": [
       "[('3338246572', 2),\n",
       " ('2157919340', 2),\n",
       " ('4867759271', 2),\n",
       " ('370794560', 3),\n",
       " ('1325337348', 2),\n",
       " ('1924285831', 1),\n",
       " ('2548750220', 1),\n",
       " ('3107597132', 1),\n",
       " ('18907297', 1),\n",
       " ('479832877', 2)]"
      ]
     },
     "metadata": {},
     "output_type": "display_data"
    }
   ],
   "source": [
    "real_retweets_count = real_retweets_map.reduceByKey(lambda n1,n2: n1+n2)\n",
    "real_retweets_count.take(10)"
   ]
  },
  {
   "cell_type": "code",
   "execution_count": null,
   "id": "276929fd",
   "metadata": {
    "colab": {
     "base_uri": "https://localhost:8080/"
    },
    "executionInfo": {
     "elapsed": 8,
     "status": "ok",
     "timestamp": 1648777755069,
     "user": {
      "displayName": "Susan Koruthu",
      "userId": "06654082065688126266"
     },
     "user_tz": -480
    },
    "id": "Yhrr2-Fdwt7x",
    "outputId": "52159f18-7f5e-4776-f626-b791a10d1fcb"
   },
   "outputs": [
    {
     "data": {
      "text/plain": [
       "[('3338246572', 2, None),\n",
       " ('2157919340', 2, 1),\n",
       " ('4867759271', 2, None),\n",
       " ('370794560', 3, None),\n",
       " ('1325337348', 2, 2),\n",
       " ('1924285831', 1, None),\n",
       " ('2548750220', 1, None),\n",
       " ('3107597132', 1, 1),\n",
       " ('18907297', 1, None),\n",
       " ('479832877', 2, None)]"
      ]
     },
     "metadata": {},
     "output_type": "display_data"
    }
   ],
   "source": [
    "all_retweets_count = real_retweets_count.fullOuterJoin(fake_retweets_count)\n",
    "all_retweets_count = all_retweets_count.map(lambda x: (x[0], x[1][0], x[1][1]))\n",
    "all_retweets_count.take(10)"
   ]
  },
  {
   "cell_type": "code",
   "execution_count": null,
   "id": "27033bc2",
   "metadata": {
    "colab": {
     "base_uri": "https://localhost:8080/"
    },
    "executionInfo": {
     "elapsed": 1376,
     "status": "ok",
     "timestamp": 1648777756440,
     "user": {
      "displayName": "Susan Koruthu",
      "userId": "06654082065688126266"
     },
     "user_tz": -480
    },
    "id": "ClQczmUGw5Cz",
    "outputId": "1ad23314-3bcd-4d02-9453-5af0838aa276"
   },
   "outputs": [
    {
     "name": "stdout",
     "output_type": "stream",
     "text": [
      "+----------+-----------------------+-----------------------+\n",
      "|   user_id|retweet_real_news_count|retweet_fake_news_count|\n",
      "+----------+-----------------------+-----------------------+\n",
      "|3338246572|                      2|                      0|\n",
      "|2157919340|                      2|                      1|\n",
      "|4867759271|                      2|                      0|\n",
      "| 370794560|                      3|                      0|\n",
      "|1325337348|                      2|                      2|\n",
      "|1924285831|                      1|                      0|\n",
      "|2548750220|                      1|                      0|\n",
      "|3107597132|                      1|                      1|\n",
      "|  18907297|                      1|                      0|\n",
      "| 479832877|                      2|                      0|\n",
      "+----------+-----------------------+-----------------------+\n",
      "only showing top 10 rows\n",
      "\n"
     ]
    }
   ],
   "source": [
    "rdd_columns_2 = ['user_id', 'retweet_real_news_count', 'retweet_fake_news_count']\n",
    "retweet_count_df = spark.createDataFrame(all_retweets_count, schema = rdd_columns_2)\n",
    "retweet_count_df = retweet_count_df.na.fill(0)\n",
    "retweet_count_df.show(10)"
   ]
  },
  {
   "cell_type": "code",
   "execution_count": null,
   "id": "d8bcc7d3",
   "metadata": {
    "colab": {
     "base_uri": "https://localhost:8080/"
    },
    "executionInfo": {
     "elapsed": 910,
     "status": "ok",
     "timestamp": 1648777757347,
     "user": {
      "displayName": "Susan Koruthu",
      "userId": "06654082065688126266"
     },
     "user_tz": -480
    },
    "id": "z0ajFaO6xX_Q",
    "outputId": "490c98ba-38b6-4342-db6b-bb35e41c3b95"
   },
   "outputs": [
    {
     "name": "stdout",
     "output_type": "stream",
     "text": [
      "+------------------+---------------------+---------------------+-----------+\n",
      "|           user_id|tweet_real_news_count|tweet_fake_news_count|tweet_count|\n",
      "+------------------+---------------------+---------------------+-----------+\n",
      "|           1716121|                    7|                    0|          7|\n",
      "|          13115682|                   20|                    1|         21|\n",
      "|         135247359|                    4|                    2|          6|\n",
      "|          17112878|                  426|                    0|        426|\n",
      "|         993451813|                    1|                    3|          4|\n",
      "|          50174697|                    2|                    1|          3|\n",
      "|          17921386|                    2|                    0|          2|\n",
      "|          18812572|                   11|                    0|         11|\n",
      "|        2463977196|                    1|                    0|          1|\n",
      "|994358258646355968|                    2|                    0|          2|\n",
      "+------------------+---------------------+---------------------+-----------+\n",
      "only showing top 10 rows\n",
      "\n"
     ]
    }
   ],
   "source": [
    "tweet_count_df = tweet_count_df.withColumn(\"tweet_count\", tweet_count_df[\"tweet_real_news_count\"] + tweet_count_df[\"tweet_fake_news_count\"])\n",
    "tweet_count_df.show(10)"
   ]
  },
  {
   "cell_type": "code",
   "execution_count": null,
   "id": "f1f5830c",
   "metadata": {
    "colab": {
     "base_uri": "https://localhost:8080/"
    },
    "executionInfo": {
     "elapsed": 349,
     "status": "ok",
     "timestamp": 1648777757693,
     "user": {
      "displayName": "Susan Koruthu",
      "userId": "06654082065688126266"
     },
     "user_tz": -480
    },
    "id": "JN2UBNP2x_zE",
    "outputId": "13d128e5-88a0-4bc7-bd33-b051da979da3"
   },
   "outputs": [
    {
     "name": "stdout",
     "output_type": "stream",
     "text": [
      "+----------+-----------------------+-----------------------+-------------+\n",
      "|   user_id|retweet_real_news_count|retweet_fake_news_count|retweet_count|\n",
      "+----------+-----------------------+-----------------------+-------------+\n",
      "|3338246572|                      2|                      0|            2|\n",
      "|2157919340|                      2|                      1|            3|\n",
      "|4867759271|                      2|                      0|            2|\n",
      "| 370794560|                      3|                      0|            3|\n",
      "|1325337348|                      2|                      2|            4|\n",
      "|1924285831|                      1|                      0|            1|\n",
      "|2548750220|                      1|                      0|            1|\n",
      "|3107597132|                      1|                      1|            2|\n",
      "|  18907297|                      1|                      0|            1|\n",
      "| 479832877|                      2|                      0|            2|\n",
      "+----------+-----------------------+-----------------------+-------------+\n",
      "only showing top 10 rows\n",
      "\n"
     ]
    }
   ],
   "source": [
    "retweet_count_df = retweet_count_df.withColumn(\"retweet_count\", retweet_count_df[\"retweet_real_news_count\"] + retweet_count_df[\"retweet_fake_news_count\"])\n",
    "retweet_count_df.show(10)"
   ]
  },
  {
   "cell_type": "code",
   "execution_count": null,
   "id": "a59a5610",
   "metadata": {
    "colab": {
     "base_uri": "https://localhost:8080/"
    },
    "executionInfo": {
     "elapsed": 5723,
     "status": "ok",
     "timestamp": 1648777983068,
     "user": {
      "displayName": "Susan Koruthu",
      "userId": "06654082065688126266"
     },
     "user_tz": -480
    },
    "id": "yOWlh12CyLgD",
    "outputId": "9112967f-726f-4ec5-8c19-16ad3a42165c"
   },
   "outputs": [
    {
     "name": "stdout",
     "output_type": "stream",
     "text": [
      "+-------------------+---------------------+---------------------+-----------+-----------------------+-----------------------+-------------+\n",
      "|            user_id|tweet_real_news_count|tweet_fake_news_count|tweet_count|retweet_real_news_count|retweet_fake_news_count|retweet_count|\n",
      "+-------------------+---------------------+---------------------+-----------+-----------------------+-----------------------+-------------+\n",
      "|1000011520099737600|                    1|                    0|          1|                      0|                      0|            0|\n",
      "|1000015310651645953|                    1|                    0|          1|                      0|                      0|            0|\n",
      "|1000016148920913920|                    1|                    0|          1|                      0|                      0|            0|\n",
      "|1000017210381819904|                    1|                    0|          1|                      0|                      0|            0|\n",
      "|          100002112|                    2|                    0|          2|                      0|                      0|            0|\n",
      "|1000022482349211653|                    0|                    0|          0|                      0|                      1|            1|\n",
      "|1000025349072277504|                    2|                    5|          7|                      0|                      0|            0|\n",
      "|1000027408508977152|                    0|                    0|          0|                      2|                      0|            2|\n",
      "|1000033798451417090|                    1|                    0|          1|                      0|                      0|            0|\n",
      "|1000036263385280513|                    0|                    2|          2|                      0|                      0|            0|\n",
      "+-------------------+---------------------+---------------------+-----------+-----------------------+-----------------------+-------------+\n",
      "only showing top 10 rows\n",
      "\n"
     ]
    }
   ],
   "source": [
    "tweet_retweet_counts_df = tweet_count_df.join(retweet_count_df,'user_id',\"outer\")\n",
    "tweet_retweet_counts_df = tweet_retweet_counts_df.na.fill(0)\n",
    "tweet_retweet_counts_df.show(10)"
   ]
  },
  {
   "cell_type": "code",
   "execution_count": null,
   "id": "bfe8777a",
   "metadata": {
    "colab": {
     "base_uri": "https://localhost:8080/"
    },
    "executionInfo": {
     "elapsed": 5612,
     "status": "ok",
     "timestamp": 1648777999812,
     "user": {
      "displayName": "Susan Koruthu",
      "userId": "06654082065688126266"
     },
     "user_tz": -480
    },
    "id": "2-4a6BpE0H61",
    "outputId": "c58d3bf1-5421-49a0-c60a-6fdadbb532b9"
   },
   "outputs": [
    {
     "name": "stdout",
     "output_type": "stream",
     "text": [
      "+-------------------+---------------------+---------------------+-----------+-----------------------+-----------------------+-------------+------------------------+------------------------+-------------------+\n",
      "|            user_id|tweet_real_news_count|tweet_fake_news_count|tweet_count|retweet_real_news_count|retweet_fake_news_count|retweet_count|tweet_retweet_fake_count|tweet_retweet_real_count|tweet_retweet_count|\n",
      "+-------------------+---------------------+---------------------+-----------+-----------------------+-----------------------+-------------+------------------------+------------------------+-------------------+\n",
      "|1000011520099737600|                    1|                    0|          1|                      0|                      0|            0|                       0|                       1|                  1|\n",
      "|1000015310651645953|                    1|                    0|          1|                      0|                      0|            0|                       0|                       1|                  1|\n",
      "|1000016148920913920|                    1|                    0|          1|                      0|                      0|            0|                       0|                       1|                  1|\n",
      "|1000017210381819904|                    1|                    0|          1|                      0|                      0|            0|                       0|                       1|                  1|\n",
      "|          100002112|                    2|                    0|          2|                      0|                      0|            0|                       0|                       2|                  2|\n",
      "|1000022482349211653|                    0|                    0|          0|                      0|                      1|            1|                       1|                       0|                  1|\n",
      "|1000025349072277504|                    2|                    5|          7|                      0|                      0|            0|                       5|                       2|                  7|\n",
      "|1000027408508977152|                    0|                    0|          0|                      2|                      0|            2|                       0|                       2|                  2|\n",
      "|1000033798451417090|                    1|                    0|          1|                      0|                      0|            0|                       0|                       1|                  1|\n",
      "|1000036263385280513|                    0|                    2|          2|                      0|                      0|            0|                       2|                       0|                  2|\n",
      "+-------------------+---------------------+---------------------+-----------+-----------------------+-----------------------+-------------+------------------------+------------------------+-------------------+\n",
      "only showing top 10 rows\n",
      "\n"
     ]
    }
   ],
   "source": [
    "tweet_retweet_counts_df = tweet_retweet_counts_df.withColumn(\"tweet_retweet_fake_count\", tweet_retweet_counts_df[\"tweet_fake_news_count\"] + tweet_retweet_counts_df[\"retweet_fake_news_count\"])\n",
    "tweet_retweet_counts_df = tweet_retweet_counts_df.withColumn(\"tweet_retweet_real_count\", tweet_retweet_counts_df[\"tweet_real_news_count\"] + tweet_retweet_counts_df[\"retweet_real_news_count\"])\n",
    "tweet_retweet_counts_df = tweet_retweet_counts_df.withColumn(\"tweet_retweet_count\", tweet_retweet_counts_df[\"retweet_count\"] + tweet_retweet_counts_df[\"tweet_count\"])\n",
    "tweet_retweet_counts_df.show(10)"
   ]
  },
  {
   "cell_type": "code",
   "execution_count": null,
   "id": "2c625614",
   "metadata": {
    "colab": {
     "base_uri": "https://localhost:8080/"
    },
    "executionInfo": {
     "elapsed": 5189,
     "status": "ok",
     "timestamp": 1648778075652,
     "user": {
      "displayName": "Susan Koruthu",
      "userId": "06654082065688126266"
     },
     "user_tz": -480
    },
    "id": "pKUZ1C7qytfn",
    "outputId": "f2bdc696-7502-45da-cf0e-194a11aad720"
   },
   "outputs": [
    {
     "name": "stdout",
     "output_type": "stream",
     "text": [
      "+-------------------+---------------------+---------------------+-----------+-----------------------+-----------------------+-------------+------------------------+------------------------+-------------------+------------------+\n",
      "|            user_id|tweet_real_news_count|tweet_fake_news_count|tweet_count|retweet_real_news_count|retweet_fake_news_count|retweet_count|tweet_retweet_fake_count|tweet_retweet_real_count|tweet_retweet_count|   percentage_fake|\n",
      "+-------------------+---------------------+---------------------+-----------+-----------------------+-----------------------+-------------+------------------------+------------------------+-------------------+------------------+\n",
      "|1000011520099737600|                    1|                    0|          1|                      0|                      0|            0|                       0|                       1|                  1|               0.0|\n",
      "|1000015310651645953|                    1|                    0|          1|                      0|                      0|            0|                       0|                       1|                  1|               0.0|\n",
      "|1000016148920913920|                    1|                    0|          1|                      0|                      0|            0|                       0|                       1|                  1|               0.0|\n",
      "|1000017210381819904|                    1|                    0|          1|                      0|                      0|            0|                       0|                       1|                  1|               0.0|\n",
      "|          100002112|                    2|                    0|          2|                      0|                      0|            0|                       0|                       2|                  2|               0.0|\n",
      "|1000022482349211653|                    0|                    0|          0|                      0|                      1|            1|                       1|                       0|                  1|               1.0|\n",
      "|1000025349072277504|                    2|                    5|          7|                      0|                      0|            0|                       5|                       2|                  7|0.7142857142857143|\n",
      "|1000027408508977152|                    0|                    0|          0|                      2|                      0|            2|                       0|                       2|                  2|               0.0|\n",
      "|1000033798451417090|                    1|                    0|          1|                      0|                      0|            0|                       0|                       1|                  1|               0.0|\n",
      "|1000036263385280513|                    0|                    2|          2|                      0|                      0|            0|                       2|                       0|                  2|               1.0|\n",
      "+-------------------+---------------------+---------------------+-----------+-----------------------+-----------------------+-------------+------------------------+------------------------+-------------------+------------------+\n",
      "only showing top 10 rows\n",
      "\n"
     ]
    }
   ],
   "source": [
    "tweet_retweet_counts_df = tweet_retweet_counts_df.withColumn(\"percentage_fake\", tweet_retweet_counts_df[\"tweet_retweet_fake_count\"] / tweet_retweet_counts_df[\"tweet_retweet_count\"])\n",
    "tweet_retweet_counts_df.show(10)"
   ]
  },
  {
   "cell_type": "code",
   "execution_count": null,
   "id": "8d42b0e4",
   "metadata": {
    "executionInfo": {
     "elapsed": 11760,
     "status": "ok",
     "timestamp": 1648778201115,
     "user": {
      "displayName": "Susan Koruthu",
      "userId": "06654082065688126266"
     },
     "user_tz": -480
    },
    "id": "V3hdfoUP1VQv"
   },
   "outputs": [],
   "source": [
    "#tweet_retweet_counts_df.toPandas().to_csv('tweet_retweet_counts.csv', index = False)"
   ]
  },
  {
   "cell_type": "code",
   "execution_count": null,
   "id": "85db5f2f",
   "metadata": {
    "colab": {
     "base_uri": "https://localhost:8080/",
     "height": 487
    },
    "executionInfo": {
     "elapsed": 355,
     "status": "ok",
     "timestamp": 1648778210604,
     "user": {
      "displayName": "Susan Koruthu",
      "userId": "06654082065688126266"
     },
     "user_tz": -480
    },
    "id": "_O-q8PTT1izh",
    "outputId": "885124e9-7df0-41bd-e3bb-2b7ecc302f06"
   },
   "outputs": [
    {
     "data": {
      "text/html": [
       "\n",
       "  <div id=\"df-5f360c25-2b75-4370-a150-031f0a6f1833\">\n",
       "    <div class=\"colab-df-container\">\n",
       "      <div>\n",
       "<style scoped>\n",
       "    .dataframe tbody tr th:only-of-type {\n",
       "        vertical-align: middle;\n",
       "    }\n",
       "\n",
       "    .dataframe tbody tr th {\n",
       "        vertical-align: top;\n",
       "    }\n",
       "\n",
       "    .dataframe thead th {\n",
       "        text-align: right;\n",
       "    }\n",
       "</style>\n",
       "<table border=\"1\" class=\"dataframe\">\n",
       "  <thead>\n",
       "    <tr style=\"text-align: right;\">\n",
       "      <th></th>\n",
       "      <th>user_id</th>\n",
       "      <th>tweet_real_news_count</th>\n",
       "      <th>tweet_fake_news_count</th>\n",
       "      <th>tweet_count</th>\n",
       "      <th>retweet_real_news_count</th>\n",
       "      <th>retweet_fake_news_count</th>\n",
       "      <th>retweet_count</th>\n",
       "      <th>tweet_retweet_fake_count</th>\n",
       "      <th>tweet_retweet_real_count</th>\n",
       "      <th>tweet_retweet_count</th>\n",
       "      <th>percentage_fake</th>\n",
       "    </tr>\n",
       "  </thead>\n",
       "  <tbody>\n",
       "    <tr>\n",
       "      <th>0</th>\n",
       "      <td>1000011520099737600</td>\n",
       "      <td>1</td>\n",
       "      <td>0</td>\n",
       "      <td>1</td>\n",
       "      <td>0</td>\n",
       "      <td>0</td>\n",
       "      <td>0</td>\n",
       "      <td>0</td>\n",
       "      <td>1</td>\n",
       "      <td>1</td>\n",
       "      <td>0.0</td>\n",
       "    </tr>\n",
       "    <tr>\n",
       "      <th>1</th>\n",
       "      <td>1000015310651645953</td>\n",
       "      <td>1</td>\n",
       "      <td>0</td>\n",
       "      <td>1</td>\n",
       "      <td>0</td>\n",
       "      <td>0</td>\n",
       "      <td>0</td>\n",
       "      <td>0</td>\n",
       "      <td>1</td>\n",
       "      <td>1</td>\n",
       "      <td>0.0</td>\n",
       "    </tr>\n",
       "    <tr>\n",
       "      <th>2</th>\n",
       "      <td>1000016148920913920</td>\n",
       "      <td>1</td>\n",
       "      <td>0</td>\n",
       "      <td>1</td>\n",
       "      <td>0</td>\n",
       "      <td>0</td>\n",
       "      <td>0</td>\n",
       "      <td>0</td>\n",
       "      <td>1</td>\n",
       "      <td>1</td>\n",
       "      <td>0.0</td>\n",
       "    </tr>\n",
       "    <tr>\n",
       "      <th>3</th>\n",
       "      <td>1000017210381819904</td>\n",
       "      <td>1</td>\n",
       "      <td>0</td>\n",
       "      <td>1</td>\n",
       "      <td>0</td>\n",
       "      <td>0</td>\n",
       "      <td>0</td>\n",
       "      <td>0</td>\n",
       "      <td>1</td>\n",
       "      <td>1</td>\n",
       "      <td>0.0</td>\n",
       "    </tr>\n",
       "    <tr>\n",
       "      <th>4</th>\n",
       "      <td>100002112</td>\n",
       "      <td>2</td>\n",
       "      <td>0</td>\n",
       "      <td>2</td>\n",
       "      <td>0</td>\n",
       "      <td>0</td>\n",
       "      <td>0</td>\n",
       "      <td>0</td>\n",
       "      <td>2</td>\n",
       "      <td>2</td>\n",
       "      <td>0.0</td>\n",
       "    </tr>\n",
       "    <tr>\n",
       "      <th>...</th>\n",
       "      <td>...</td>\n",
       "      <td>...</td>\n",
       "      <td>...</td>\n",
       "      <td>...</td>\n",
       "      <td>...</td>\n",
       "      <td>...</td>\n",
       "      <td>...</td>\n",
       "      <td>...</td>\n",
       "      <td>...</td>\n",
       "      <td>...</td>\n",
       "      <td>...</td>\n",
       "    </tr>\n",
       "    <tr>\n",
       "      <th>364759</th>\n",
       "      <td>999970415748435969</td>\n",
       "      <td>4</td>\n",
       "      <td>0</td>\n",
       "      <td>4</td>\n",
       "      <td>0</td>\n",
       "      <td>0</td>\n",
       "      <td>0</td>\n",
       "      <td>0</td>\n",
       "      <td>4</td>\n",
       "      <td>4</td>\n",
       "      <td>0.0</td>\n",
       "    </tr>\n",
       "    <tr>\n",
       "      <th>364760</th>\n",
       "      <td>999973035540209664</td>\n",
       "      <td>8</td>\n",
       "      <td>0</td>\n",
       "      <td>8</td>\n",
       "      <td>0</td>\n",
       "      <td>0</td>\n",
       "      <td>0</td>\n",
       "      <td>0</td>\n",
       "      <td>8</td>\n",
       "      <td>8</td>\n",
       "      <td>0.0</td>\n",
       "    </tr>\n",
       "    <tr>\n",
       "      <th>364761</th>\n",
       "      <td>999973630195961856</td>\n",
       "      <td>1</td>\n",
       "      <td>0</td>\n",
       "      <td>1</td>\n",
       "      <td>0</td>\n",
       "      <td>0</td>\n",
       "      <td>0</td>\n",
       "      <td>0</td>\n",
       "      <td>1</td>\n",
       "      <td>1</td>\n",
       "      <td>0.0</td>\n",
       "    </tr>\n",
       "    <tr>\n",
       "      <th>364762</th>\n",
       "      <td>999975256981942273</td>\n",
       "      <td>0</td>\n",
       "      <td>1</td>\n",
       "      <td>1</td>\n",
       "      <td>0</td>\n",
       "      <td>0</td>\n",
       "      <td>0</td>\n",
       "      <td>1</td>\n",
       "      <td>0</td>\n",
       "      <td>1</td>\n",
       "      <td>1.0</td>\n",
       "    </tr>\n",
       "    <tr>\n",
       "      <th>364763</th>\n",
       "      <td>999988765664993281</td>\n",
       "      <td>1</td>\n",
       "      <td>0</td>\n",
       "      <td>1</td>\n",
       "      <td>0</td>\n",
       "      <td>0</td>\n",
       "      <td>0</td>\n",
       "      <td>0</td>\n",
       "      <td>1</td>\n",
       "      <td>1</td>\n",
       "      <td>0.0</td>\n",
       "    </tr>\n",
       "  </tbody>\n",
       "</table>\n",
       "<p>364764 rows × 11 columns</p>\n",
       "</div>\n",
       "      <button class=\"colab-df-convert\" onclick=\"convertToInteractive('df-5f360c25-2b75-4370-a150-031f0a6f1833')\"\n",
       "              title=\"Convert this dataframe to an interactive table.\"\n",
       "              style=\"display:none;\">\n",
       "        \n",
       "  <svg xmlns=\"http://www.w3.org/2000/svg\" height=\"24px\"viewBox=\"0 0 24 24\"\n",
       "       width=\"24px\">\n",
       "    <path d=\"M0 0h24v24H0V0z\" fill=\"none\"/>\n",
       "    <path d=\"M18.56 5.44l.94 2.06.94-2.06 2.06-.94-2.06-.94-.94-2.06-.94 2.06-2.06.94zm-11 1L8.5 8.5l.94-2.06 2.06-.94-2.06-.94L8.5 2.5l-.94 2.06-2.06.94zm10 10l.94 2.06.94-2.06 2.06-.94-2.06-.94-.94-2.06-.94 2.06-2.06.94z\"/><path d=\"M17.41 7.96l-1.37-1.37c-.4-.4-.92-.59-1.43-.59-.52 0-1.04.2-1.43.59L10.3 9.45l-7.72 7.72c-.78.78-.78 2.05 0 2.83L4 21.41c.39.39.9.59 1.41.59.51 0 1.02-.2 1.41-.59l7.78-7.78 2.81-2.81c.8-.78.8-2.07 0-2.86zM5.41 20L4 18.59l7.72-7.72 1.47 1.35L5.41 20z\"/>\n",
       "  </svg>\n",
       "      </button>\n",
       "      \n",
       "  <style>\n",
       "    .colab-df-container {\n",
       "      display:flex;\n",
       "      flex-wrap:wrap;\n",
       "      gap: 12px;\n",
       "    }\n",
       "\n",
       "    .colab-df-convert {\n",
       "      background-color: #E8F0FE;\n",
       "      border: none;\n",
       "      border-radius: 50%;\n",
       "      cursor: pointer;\n",
       "      display: none;\n",
       "      fill: #1967D2;\n",
       "      height: 32px;\n",
       "      padding: 0 0 0 0;\n",
       "      width: 32px;\n",
       "    }\n",
       "\n",
       "    .colab-df-convert:hover {\n",
       "      background-color: #E2EBFA;\n",
       "      box-shadow: 0px 1px 2px rgba(60, 64, 67, 0.3), 0px 1px 3px 1px rgba(60, 64, 67, 0.15);\n",
       "      fill: #174EA6;\n",
       "    }\n",
       "\n",
       "    [theme=dark] .colab-df-convert {\n",
       "      background-color: #3B4455;\n",
       "      fill: #D2E3FC;\n",
       "    }\n",
       "\n",
       "    [theme=dark] .colab-df-convert:hover {\n",
       "      background-color: #434B5C;\n",
       "      box-shadow: 0px 1px 3px 1px rgba(0, 0, 0, 0.15);\n",
       "      filter: drop-shadow(0px 1px 2px rgba(0, 0, 0, 0.3));\n",
       "      fill: #FFFFFF;\n",
       "    }\n",
       "  </style>\n",
       "\n",
       "      <script>\n",
       "        const buttonEl =\n",
       "          document.querySelector('#df-5f360c25-2b75-4370-a150-031f0a6f1833 button.colab-df-convert');\n",
       "        buttonEl.style.display =\n",
       "          google.colab.kernel.accessAllowed ? 'block' : 'none';\n",
       "\n",
       "        async function convertToInteractive(key) {\n",
       "          const element = document.querySelector('#df-5f360c25-2b75-4370-a150-031f0a6f1833');\n",
       "          const dataTable =\n",
       "            await google.colab.kernel.invokeFunction('convertToInteractive',\n",
       "                                                     [key], {});\n",
       "          if (!dataTable) return;\n",
       "\n",
       "          const docLinkHtml = 'Like what you see? Visit the ' +\n",
       "            '<a target=\"_blank\" href=https://colab.research.google.com/notebooks/data_table.ipynb>data table notebook</a>'\n",
       "            + ' to learn more about interactive tables.';\n",
       "          element.innerHTML = '';\n",
       "          dataTable['output_type'] = 'display_data';\n",
       "          await google.colab.output.renderOutput(dataTable, element);\n",
       "          const docLink = document.createElement('div');\n",
       "          docLink.innerHTML = docLinkHtml;\n",
       "          element.appendChild(docLink);\n",
       "        }\n",
       "      </script>\n",
       "    </div>\n",
       "  </div>\n",
       "  "
      ],
      "text/plain": [
       "                    user_id  tweet_real_news_count  tweet_fake_news_count  \\\n",
       "0       1000011520099737600                      1                      0   \n",
       "1       1000015310651645953                      1                      0   \n",
       "2       1000016148920913920                      1                      0   \n",
       "3       1000017210381819904                      1                      0   \n",
       "4                 100002112                      2                      0   \n",
       "...                     ...                    ...                    ...   \n",
       "364759   999970415748435969                      4                      0   \n",
       "364760   999973035540209664                      8                      0   \n",
       "364761   999973630195961856                      1                      0   \n",
       "364762   999975256981942273                      0                      1   \n",
       "364763   999988765664993281                      1                      0   \n",
       "\n",
       "        tweet_count  retweet_real_news_count  retweet_fake_news_count  \\\n",
       "0                 1                        0                        0   \n",
       "1                 1                        0                        0   \n",
       "2                 1                        0                        0   \n",
       "3                 1                        0                        0   \n",
       "4                 2                        0                        0   \n",
       "...             ...                      ...                      ...   \n",
       "364759            4                        0                        0   \n",
       "364760            8                        0                        0   \n",
       "364761            1                        0                        0   \n",
       "364762            1                        0                        0   \n",
       "364763            1                        0                        0   \n",
       "\n",
       "        retweet_count  tweet_retweet_fake_count  tweet_retweet_real_count  \\\n",
       "0                   0                         0                         1   \n",
       "1                   0                         0                         1   \n",
       "2                   0                         0                         1   \n",
       "3                   0                         0                         1   \n",
       "4                   0                         0                         2   \n",
       "...               ...                       ...                       ...   \n",
       "364759              0                         0                         4   \n",
       "364760              0                         0                         8   \n",
       "364761              0                         0                         1   \n",
       "364762              0                         1                         0   \n",
       "364763              0                         0                         1   \n",
       "\n",
       "        tweet_retweet_count  percentage_fake  \n",
       "0                         1              0.0  \n",
       "1                         1              0.0  \n",
       "2                         1              0.0  \n",
       "3                         1              0.0  \n",
       "4                         2              0.0  \n",
       "...                     ...              ...  \n",
       "364759                    4              0.0  \n",
       "364760                    8              0.0  \n",
       "364761                    1              0.0  \n",
       "364762                    1              1.0  \n",
       "364763                    1              0.0  \n",
       "\n",
       "[364764 rows x 11 columns]"
      ]
     },
     "metadata": {},
     "output_type": "display_data"
    }
   ],
   "source": [
    "df_test = pd.read_csv('tweet_retweet_counts.csv')\n",
    "df_test"
   ]
  },
  {
   "cell_type": "markdown",
   "id": "ff0bcbad",
   "metadata": {},
   "source": [
    "# EDA Tweet_retweet network"
   ]
  },
  {
   "cell_type": "code",
   "execution_count": 149,
   "id": "2b814698",
   "metadata": {},
   "outputs": [
    {
     "data": {
      "text/html": [
       "<div>\n",
       "<style scoped>\n",
       "    .dataframe tbody tr th:only-of-type {\n",
       "        vertical-align: middle;\n",
       "    }\n",
       "\n",
       "    .dataframe tbody tr th {\n",
       "        vertical-align: top;\n",
       "    }\n",
       "\n",
       "    .dataframe thead th {\n",
       "        text-align: right;\n",
       "    }\n",
       "</style>\n",
       "<table border=\"1\" class=\"dataframe\">\n",
       "  <thead>\n",
       "    <tr style=\"text-align: right;\">\n",
       "      <th></th>\n",
       "      <th>user_id</th>\n",
       "      <th>tweet_real_news_count</th>\n",
       "      <th>tweet_fake_news_count</th>\n",
       "      <th>tweet_count</th>\n",
       "      <th>retweet_real_news_count</th>\n",
       "      <th>retweet_fake_news_count</th>\n",
       "      <th>retweet_count</th>\n",
       "      <th>tweet_retweet_fake_count</th>\n",
       "      <th>tweet_retweet_real_count</th>\n",
       "      <th>tweet_retweet_count</th>\n",
       "      <th>percentage_fake</th>\n",
       "    </tr>\n",
       "  </thead>\n",
       "  <tbody>\n",
       "    <tr>\n",
       "      <th>0</th>\n",
       "      <td>1000011520099737600</td>\n",
       "      <td>1</td>\n",
       "      <td>0</td>\n",
       "      <td>1</td>\n",
       "      <td>0</td>\n",
       "      <td>0</td>\n",
       "      <td>0</td>\n",
       "      <td>0</td>\n",
       "      <td>1</td>\n",
       "      <td>1</td>\n",
       "      <td>0.0</td>\n",
       "    </tr>\n",
       "    <tr>\n",
       "      <th>1</th>\n",
       "      <td>1000015310651645953</td>\n",
       "      <td>1</td>\n",
       "      <td>0</td>\n",
       "      <td>1</td>\n",
       "      <td>0</td>\n",
       "      <td>0</td>\n",
       "      <td>0</td>\n",
       "      <td>0</td>\n",
       "      <td>1</td>\n",
       "      <td>1</td>\n",
       "      <td>0.0</td>\n",
       "    </tr>\n",
       "    <tr>\n",
       "      <th>2</th>\n",
       "      <td>1000016148920913920</td>\n",
       "      <td>1</td>\n",
       "      <td>0</td>\n",
       "      <td>1</td>\n",
       "      <td>0</td>\n",
       "      <td>0</td>\n",
       "      <td>0</td>\n",
       "      <td>0</td>\n",
       "      <td>1</td>\n",
       "      <td>1</td>\n",
       "      <td>0.0</td>\n",
       "    </tr>\n",
       "    <tr>\n",
       "      <th>3</th>\n",
       "      <td>1000017210381819904</td>\n",
       "      <td>1</td>\n",
       "      <td>0</td>\n",
       "      <td>1</td>\n",
       "      <td>0</td>\n",
       "      <td>0</td>\n",
       "      <td>0</td>\n",
       "      <td>0</td>\n",
       "      <td>1</td>\n",
       "      <td>1</td>\n",
       "      <td>0.0</td>\n",
       "    </tr>\n",
       "    <tr>\n",
       "      <th>4</th>\n",
       "      <td>100002112</td>\n",
       "      <td>2</td>\n",
       "      <td>0</td>\n",
       "      <td>2</td>\n",
       "      <td>0</td>\n",
       "      <td>0</td>\n",
       "      <td>0</td>\n",
       "      <td>0</td>\n",
       "      <td>2</td>\n",
       "      <td>2</td>\n",
       "      <td>0.0</td>\n",
       "    </tr>\n",
       "    <tr>\n",
       "      <th>...</th>\n",
       "      <td>...</td>\n",
       "      <td>...</td>\n",
       "      <td>...</td>\n",
       "      <td>...</td>\n",
       "      <td>...</td>\n",
       "      <td>...</td>\n",
       "      <td>...</td>\n",
       "      <td>...</td>\n",
       "      <td>...</td>\n",
       "      <td>...</td>\n",
       "      <td>...</td>\n",
       "    </tr>\n",
       "    <tr>\n",
       "      <th>364759</th>\n",
       "      <td>999970415748435969</td>\n",
       "      <td>4</td>\n",
       "      <td>0</td>\n",
       "      <td>4</td>\n",
       "      <td>0</td>\n",
       "      <td>0</td>\n",
       "      <td>0</td>\n",
       "      <td>0</td>\n",
       "      <td>4</td>\n",
       "      <td>4</td>\n",
       "      <td>0.0</td>\n",
       "    </tr>\n",
       "    <tr>\n",
       "      <th>364760</th>\n",
       "      <td>999973035540209664</td>\n",
       "      <td>8</td>\n",
       "      <td>0</td>\n",
       "      <td>8</td>\n",
       "      <td>0</td>\n",
       "      <td>0</td>\n",
       "      <td>0</td>\n",
       "      <td>0</td>\n",
       "      <td>8</td>\n",
       "      <td>8</td>\n",
       "      <td>0.0</td>\n",
       "    </tr>\n",
       "    <tr>\n",
       "      <th>364761</th>\n",
       "      <td>999973630195961856</td>\n",
       "      <td>1</td>\n",
       "      <td>0</td>\n",
       "      <td>1</td>\n",
       "      <td>0</td>\n",
       "      <td>0</td>\n",
       "      <td>0</td>\n",
       "      <td>0</td>\n",
       "      <td>1</td>\n",
       "      <td>1</td>\n",
       "      <td>0.0</td>\n",
       "    </tr>\n",
       "    <tr>\n",
       "      <th>364762</th>\n",
       "      <td>999975256981942273</td>\n",
       "      <td>0</td>\n",
       "      <td>1</td>\n",
       "      <td>1</td>\n",
       "      <td>0</td>\n",
       "      <td>0</td>\n",
       "      <td>0</td>\n",
       "      <td>1</td>\n",
       "      <td>0</td>\n",
       "      <td>1</td>\n",
       "      <td>1.0</td>\n",
       "    </tr>\n",
       "    <tr>\n",
       "      <th>364763</th>\n",
       "      <td>999988765664993281</td>\n",
       "      <td>1</td>\n",
       "      <td>0</td>\n",
       "      <td>1</td>\n",
       "      <td>0</td>\n",
       "      <td>0</td>\n",
       "      <td>0</td>\n",
       "      <td>0</td>\n",
       "      <td>1</td>\n",
       "      <td>1</td>\n",
       "      <td>0.0</td>\n",
       "    </tr>\n",
       "  </tbody>\n",
       "</table>\n",
       "<p>364764 rows × 11 columns</p>\n",
       "</div>"
      ],
      "text/plain": [
       "                    user_id  tweet_real_news_count  tweet_fake_news_count  \\\n",
       "0       1000011520099737600                      1                      0   \n",
       "1       1000015310651645953                      1                      0   \n",
       "2       1000016148920913920                      1                      0   \n",
       "3       1000017210381819904                      1                      0   \n",
       "4                 100002112                      2                      0   \n",
       "...                     ...                    ...                    ...   \n",
       "364759   999970415748435969                      4                      0   \n",
       "364760   999973035540209664                      8                      0   \n",
       "364761   999973630195961856                      1                      0   \n",
       "364762   999975256981942273                      0                      1   \n",
       "364763   999988765664993281                      1                      0   \n",
       "\n",
       "        tweet_count  retweet_real_news_count  retweet_fake_news_count  \\\n",
       "0                 1                        0                        0   \n",
       "1                 1                        0                        0   \n",
       "2                 1                        0                        0   \n",
       "3                 1                        0                        0   \n",
       "4                 2                        0                        0   \n",
       "...             ...                      ...                      ...   \n",
       "364759            4                        0                        0   \n",
       "364760            8                        0                        0   \n",
       "364761            1                        0                        0   \n",
       "364762            1                        0                        0   \n",
       "364763            1                        0                        0   \n",
       "\n",
       "        retweet_count  tweet_retweet_fake_count  tweet_retweet_real_count  \\\n",
       "0                   0                         0                         1   \n",
       "1                   0                         0                         1   \n",
       "2                   0                         0                         1   \n",
       "3                   0                         0                         1   \n",
       "4                   0                         0                         2   \n",
       "...               ...                       ...                       ...   \n",
       "364759              0                         0                         4   \n",
       "364760              0                         0                         8   \n",
       "364761              0                         0                         1   \n",
       "364762              0                         1                         0   \n",
       "364763              0                         0                         1   \n",
       "\n",
       "        tweet_retweet_count  percentage_fake  \n",
       "0                         1              0.0  \n",
       "1                         1              0.0  \n",
       "2                         1              0.0  \n",
       "3                         1              0.0  \n",
       "4                         2              0.0  \n",
       "...                     ...              ...  \n",
       "364759                    4              0.0  \n",
       "364760                    8              0.0  \n",
       "364761                    1              0.0  \n",
       "364762                    1              1.0  \n",
       "364763                    1              0.0  \n",
       "\n",
       "[364764 rows x 11 columns]"
      ]
     },
     "execution_count": 149,
     "metadata": {},
     "output_type": "execute_result"
    }
   ],
   "source": [
    "df = pd.read_csv('tweet_retweet_counts.csv')\n",
    "df"
   ]
  },
  {
   "cell_type": "code",
   "execution_count": 170,
   "id": "f9a8fbc8",
   "metadata": {},
   "outputs": [
    {
     "data": {
      "image/png": "[encoded data removed]",
      "text/plain": [
       "<Figure size 792x576 with 1 Axes>"
      ]
     },
     "metadata": {
      "needs_background": "light"
     },
     "output_type": "display_data"
    }
   ],
   "source": [
    "plt.figure(figsize=(11,8))\n",
    "# sns.regplot()\n",
    "\n",
    "sns.regplot(data=df, y='percentage_fake', x='tweet_retweet_count')\n",
    "plt.ylim(-.03,1)\n",
    "plt.title('Tweet-Retweet interactions vs FakeNews %')\n",
    "plt.xlim(0,600)\n",
    "\n",
    "plt.show()"
   ]
  },
  {
   "cell_type": "code",
   "execution_count": 144,
   "id": "f1389e81",
   "metadata": {},
   "outputs": [
    {
     "data": {
      "text/html": [
       "<div>\n",
       "<style scoped>\n",
       "    .dataframe tbody tr th:only-of-type {\n",
       "        vertical-align: middle;\n",
       "    }\n",
       "\n",
       "    .dataframe tbody tr th {\n",
       "        vertical-align: top;\n",
       "    }\n",
       "\n",
       "    .dataframe thead th {\n",
       "        text-align: right;\n",
       "    }\n",
       "</style>\n",
       "<table border=\"1\" class=\"dataframe\">\n",
       "  <thead>\n",
       "    <tr style=\"text-align: right;\">\n",
       "      <th></th>\n",
       "      <th>followers</th>\n",
       "      <th>user_id</th>\n",
       "      <th>follow_or_retweet</th>\n",
       "      <th>is_fake_news</th>\n",
       "    </tr>\n",
       "  </thead>\n",
       "  <tbody>\n",
       "    <tr>\n",
       "      <th>0</th>\n",
       "      <td>7.873112e+08</td>\n",
       "      <td>43350851</td>\n",
       "      <td>retweet</td>\n",
       "      <td>0</td>\n",
       "    </tr>\n",
       "    <tr>\n",
       "      <th>1</th>\n",
       "      <td>1.149386e+08</td>\n",
       "      <td>43350851</td>\n",
       "      <td>retweet</td>\n",
       "      <td>0</td>\n",
       "    </tr>\n",
       "    <tr>\n",
       "      <th>2</th>\n",
       "      <td>9.609944e+17</td>\n",
       "      <td>43350851</td>\n",
       "      <td>retweet</td>\n",
       "      <td>0</td>\n",
       "    </tr>\n",
       "    <tr>\n",
       "      <th>3</th>\n",
       "      <td>9.924177e+17</td>\n",
       "      <td>43350851</td>\n",
       "      <td>retweet</td>\n",
       "      <td>0</td>\n",
       "    </tr>\n",
       "    <tr>\n",
       "      <th>4</th>\n",
       "      <td>9.300641e+08</td>\n",
       "      <td>43350851</td>\n",
       "      <td>retweet</td>\n",
       "      <td>0</td>\n",
       "    </tr>\n",
       "    <tr>\n",
       "      <th>...</th>\n",
       "      <td>...</td>\n",
       "      <td>...</td>\n",
       "      <td>...</td>\n",
       "      <td>...</td>\n",
       "    </tr>\n",
       "    <tr>\n",
       "      <th>4030228</th>\n",
       "      <td>3.306284e+09</td>\n",
       "      <td>3416678236</td>\n",
       "      <td>follower</td>\n",
       "      <td>0</td>\n",
       "    </tr>\n",
       "    <tr>\n",
       "      <th>4030229</th>\n",
       "      <td>4.102376e+09</td>\n",
       "      <td>3416678236</td>\n",
       "      <td>follower</td>\n",
       "      <td>0</td>\n",
       "    </tr>\n",
       "    <tr>\n",
       "      <th>4030230</th>\n",
       "      <td>4.165642e+09</td>\n",
       "      <td>3416678236</td>\n",
       "      <td>follower</td>\n",
       "      <td>0</td>\n",
       "    </tr>\n",
       "    <tr>\n",
       "      <th>4030231</th>\n",
       "      <td>3.847086e+08</td>\n",
       "      <td>3416678236</td>\n",
       "      <td>follower</td>\n",
       "      <td>0</td>\n",
       "    </tr>\n",
       "    <tr>\n",
       "      <th>4030232</th>\n",
       "      <td>8.042356e+17</td>\n",
       "      <td>3416678236</td>\n",
       "      <td>follower</td>\n",
       "      <td>0</td>\n",
       "    </tr>\n",
       "  </tbody>\n",
       "</table>\n",
       "<p>4030233 rows × 4 columns</p>\n",
       "</div>"
      ],
      "text/plain": [
       "            followers     user_id follow_or_retweet  is_fake_news\n",
       "0        7.873112e+08    43350851           retweet             0\n",
       "1        1.149386e+08    43350851           retweet             0\n",
       "2        9.609944e+17    43350851           retweet             0\n",
       "3        9.924177e+17    43350851           retweet             0\n",
       "4        9.300641e+08    43350851           retweet             0\n",
       "...               ...         ...               ...           ...\n",
       "4030228  3.306284e+09  3416678236          follower             0\n",
       "4030229  4.102376e+09  3416678236          follower             0\n",
       "4030230  4.165642e+09  3416678236          follower             0\n",
       "4030231  3.847086e+08  3416678236          follower             0\n",
       "4030232  8.042356e+17  3416678236          follower             0\n",
       "\n",
       "[4030233 rows x 4 columns]"
      ]
     },
     "execution_count": 144,
     "metadata": {},
     "output_type": "execute_result"
    }
   ],
   "source": [
    "# df_ff = pd.read_csv('data_summary/tweet_retweet_follower_network.csv', dtype={'user_id':str})\n",
    "# fake_cnt = df_ff[['user_id','is_fake_news']].groupby('user_id').sum()\n",
    "# fake_cnt = fake_cnt.reset_index()\n",
    "# fake_cnt = fake_cnt.drop_duplicates(subset='user_id')\n",
    "# df_ff = df_ff.drop(columns=['is_fake_news']).merge(fake_cnt,  left_on='user_id', right_on='user_id')\n",
    "# df_ff['is_fake_news'] = df_ff['is_fake_news'].astype(int)\n",
    "# df_ff\n"
   ]
  },
  {
   "cell_type": "code",
   "execution_count": 228,
   "id": "1dc06d7a",
   "metadata": {},
   "outputs": [
    {
     "data": {
      "image/png": "[encoded data removed]",
      "text/plain": [
       "<Figure size 792x576 with 1 Axes>"
      ]
     },
     "metadata": {
      "needs_background": "light"
     },
     "output_type": "display_data"
    }
   ],
   "source": [
    "df_ff = pd.read_csv('data_summary/tweet_retweet_follower_network.csv').dropna()\n",
    "# df_ff = df_ff[df_ff['is_fake_news']==1]\n",
    "df_ff = df_ff.groupby('user_id').agg({'followers':'count','follow_or_retweet':'count', 'is_fake_news':'sum'})\n",
    "df_ff['interactions_fake_pct'] = df_ff['is_fake_news']/df_ff['follow_or_retweet']\n",
    "        \n",
    "        \n",
    "plt.figure(figsize=(11,8))\n",
    "sns.regplot(x=\"followers\", y=\"interactions_fake_pct\", data=df_ff)\n",
    "plt.ylim(-.03,1)\n",
    "plt.title('Follower-Followee interactions vs FakeNews %')\n",
    "\n",
    "plt.show()"
   ]
  },
  {
   "cell_type": "code",
   "execution_count": 181,
   "id": "dfe3b1fe",
   "metadata": {},
   "outputs": [
    {
     "name": "stderr",
     "output_type": "stream",
     "text": [
      "C:\\Users\\f2110\\AppData\\Local\\Temp\\ipykernel_36012\\3861400377.py:1: DtypeWarning: Columns (79,84,90,95,111,112,113,114,115,116,117,118,119) have mixed types. Specify dtype option on import or set low_memory=False.\n",
      "  tweet_df = pd.concat([pd.read_csv('data_summary/news_tweet_real.csv', index_col=0, dtype={'user_id':str}), pd.read_csv('data_summary/news_tweet_fake.csv', index_col=0, dtype={'user_id':str})])\n",
      "C:\\Users\\f2110\\AppData\\Local\\Temp\\ipykernel_36012\\3861400377.py:1: DtypeWarning: Columns (99,110,111,112,113,114,115,116,117,118) have mixed types. Specify dtype option on import or set low_memory=False.\n",
      "  tweet_df = pd.concat([pd.read_csv('data_summary/news_tweet_real.csv', index_col=0, dtype={'user_id':str}), pd.read_csv('data_summary/news_tweet_fake.csv', index_col=0, dtype={'user_id':str})])\n"
     ]
    }
   ],
   "source": [
    "tweet_df = pd.concat([pd.read_csv('data_summary/news_tweet_real.csv', index_col=0, dtype={'user_id':str}), pd.read_csv('data_summary/news_tweet_fake.csv', index_col=0, dtype={'user_id':str})])"
   ]
  },
  {
   "cell_type": "code",
   "execution_count": 234,
   "id": "99978949",
   "metadata": {},
   "outputs": [
    {
     "name": "stdout",
     "output_type": "stream",
     "text": [
      "(1119893, 5)\n"
     ]
    },
    {
     "data": {
      "image/png": "[encoded data removed]",
      "text/plain": [
       "<Figure size 792x576 with 1 Axes>"
      ]
     },
     "metadata": {
      "needs_background": "light"
     },
     "output_type": "display_data"
    }
   ],
   "source": [
    "# Merge\n",
    "\n",
    "df_likes_fake = pd.read_csv('data_summary/news_likes_fake.csv', dtype={'likes':str}, index_col=0)\n",
    "df_likes_fake['likes']  = df_likes_fake.index\n",
    "df_likes = pd.concat([pd.read_csv('data_summary/news_likes_real.csv', dtype={'likes':str}, index_col=0), df_likes_fake])\n",
    "\n",
    "df_likes_network = df_likes.merge(tweet_df[['tweet_id','user_id','is_fake_news', 'news_id']], left_on='tweet_id', right_on='tweet_id', how='outer', suffixes=['_likes_df', '_tweet_df'])\n",
    "\n",
    "df_likes_network['news_id'] = df_likes_network['news_id_tweet_df']\n",
    "df_likes_network['is_fake_news'] = df_likes_network['is_fake_news_tweet_df']\n",
    "\n",
    "df_likes_network.drop(columns=['news_id_likes_df','is_fake_news_likes_df','news_id_tweet_df','is_fake_news_tweet_df'], inplace=True)\n",
    "print(df_likes_network.shape)\n",
    "df_likes_network.head()\n",
    "\n",
    "df_likes = df_likes_network.groupby('user_id').agg({'likes':'count','tweet_id':'count', 'is_fake_news':'sum'})\n",
    "df_likes['interactions_fake_pct'] = df_likes['is_fake_news']/df_likes['tweet_id']\n",
    "        \n",
    "# # slope, intercept, r_value, pv, se = stats.linregress(df_like['followers'],df_like['interactions_fake_pct'])\n",
    "\n",
    "plt.figure(figsize=(11,8))\n",
    "sns.regplot(x=\"likes\", y=\"interactions_fake_pct\", data=df_likes)\n",
    "plt.ylim(-0.03,1)\n",
    "plt.title('Likes-Tweet interactions vs FakeNews %')\n",
    "\n",
    "plt.show()"
   ]
  },
  {
   "cell_type": "markdown",
   "id": "7deabc7e",
   "metadata": {},
   "source": [
    "### Correlations"
   ]
  },
  {
   "cell_type": "code",
   "execution_count": 223,
   "id": "59952cc8",
   "metadata": {},
   "outputs": [
    {
     "data": {
      "text/html": [
       "<div>\n",
       "<style scoped>\n",
       "    .dataframe tbody tr th:only-of-type {\n",
       "        vertical-align: middle;\n",
       "    }\n",
       "\n",
       "    .dataframe tbody tr th {\n",
       "        vertical-align: top;\n",
       "    }\n",
       "\n",
       "    .dataframe thead th {\n",
       "        text-align: right;\n",
       "    }\n",
       "</style>\n",
       "<table border=\"1\" class=\"dataframe\">\n",
       "  <thead>\n",
       "    <tr style=\"text-align: right;\">\n",
       "      <th></th>\n",
       "      <th>tweet_retweet_count</th>\n",
       "      <th>tweet_retweet_fake_count</th>\n",
       "    </tr>\n",
       "  </thead>\n",
       "  <tbody>\n",
       "    <tr>\n",
       "      <th>tweet_retweet_count</th>\n",
       "      <td>1.000000</td>\n",
       "      <td>0.344434</td>\n",
       "    </tr>\n",
       "    <tr>\n",
       "      <th>tweet_retweet_fake_count</th>\n",
       "      <td>0.344434</td>\n",
       "      <td>1.000000</td>\n",
       "    </tr>\n",
       "  </tbody>\n",
       "</table>\n",
       "</div>"
      ],
      "text/plain": [
       "                          tweet_retweet_count  tweet_retweet_fake_count\n",
       "tweet_retweet_count                  1.000000                  0.344434\n",
       "tweet_retweet_fake_count             0.344434                  1.000000"
      ]
     },
     "execution_count": 223,
     "metadata": {},
     "output_type": "execute_result"
    }
   ],
   "source": [
    "df[['tweet_retweet_count','tweet_retweet_fake_count']].corr()"
   ]
  },
  {
   "cell_type": "code",
   "execution_count": 229,
   "id": "841a5f22",
   "metadata": {},
   "outputs": [
    {
     "data": {
      "text/html": [
       "<div>\n",
       "<style scoped>\n",
       "    .dataframe tbody tr th:only-of-type {\n",
       "        vertical-align: middle;\n",
       "    }\n",
       "\n",
       "    .dataframe tbody tr th {\n",
       "        vertical-align: top;\n",
       "    }\n",
       "\n",
       "    .dataframe thead th {\n",
       "        text-align: right;\n",
       "    }\n",
       "</style>\n",
       "<table border=\"1\" class=\"dataframe\">\n",
       "  <thead>\n",
       "    <tr style=\"text-align: right;\">\n",
       "      <th></th>\n",
       "      <th>followers</th>\n",
       "      <th>is_fake_news</th>\n",
       "    </tr>\n",
       "  </thead>\n",
       "  <tbody>\n",
       "    <tr>\n",
       "      <th>followers</th>\n",
       "      <td>1.0000</td>\n",
       "      <td>0.3752</td>\n",
       "    </tr>\n",
       "    <tr>\n",
       "      <th>is_fake_news</th>\n",
       "      <td>0.3752</td>\n",
       "      <td>1.0000</td>\n",
       "    </tr>\n",
       "  </tbody>\n",
       "</table>\n",
       "</div>"
      ],
      "text/plain": [
       "              followers  is_fake_news\n",
       "followers        1.0000        0.3752\n",
       "is_fake_news     0.3752        1.0000"
      ]
     },
     "execution_count": 229,
     "metadata": {},
     "output_type": "execute_result"
    }
   ],
   "source": [
    "df_ff[['followers','is_fake_news']].corr()"
   ]
  },
  {
   "cell_type": "code",
   "execution_count": 232,
   "id": "878f8219",
   "metadata": {},
   "outputs": [
    {
     "data": {
      "text/html": [
       "<div>\n",
       "<style scoped>\n",
       "    .dataframe tbody tr th:only-of-type {\n",
       "        vertical-align: middle;\n",
       "    }\n",
       "\n",
       "    .dataframe tbody tr th {\n",
       "        vertical-align: top;\n",
       "    }\n",
       "\n",
       "    .dataframe thead th {\n",
       "        text-align: right;\n",
       "    }\n",
       "</style>\n",
       "<table border=\"1\" class=\"dataframe\">\n",
       "  <thead>\n",
       "    <tr style=\"text-align: right;\">\n",
       "      <th></th>\n",
       "      <th>likes</th>\n",
       "      <th>interactions_fake_pct</th>\n",
       "    </tr>\n",
       "  </thead>\n",
       "  <tbody>\n",
       "    <tr>\n",
       "      <th>likes</th>\n",
       "      <td>1.000000</td>\n",
       "      <td>-0.012845</td>\n",
       "    </tr>\n",
       "    <tr>\n",
       "      <th>interactions_fake_pct</th>\n",
       "      <td>-0.012845</td>\n",
       "      <td>1.000000</td>\n",
       "    </tr>\n",
       "  </tbody>\n",
       "</table>\n",
       "</div>"
      ],
      "text/plain": [
       "                          likes  interactions_fake_pct\n",
       "likes                  1.000000              -0.012845\n",
       "interactions_fake_pct -0.012845               1.000000"
      ]
     },
     "execution_count": 232,
     "metadata": {},
     "output_type": "execute_result"
    }
   ],
   "source": [
    "df_likes[['likes','interactions_fake_pct']].corr()"
   ]
  },
  {
   "cell_type": "code",
   "execution_count": null,
   "id": "25f86af3",
   "metadata": {},
   "outputs": [],
   "source": []
  },
  {
   "cell_type": "markdown",
   "id": "e79e7ada",
   "metadata": {},
   "source": [
    "## Tweet retweet communities"
   ]
  },
  {
   "cell_type": "code",
   "execution_count": 3,
   "id": "93e99ad2",
   "metadata": {},
   "outputs": [
    {
     "data": {
      "text/html": [
       "<div>\n",
       "<style scoped>\n",
       "    .dataframe tbody tr th:only-of-type {\n",
       "        vertical-align: middle;\n",
       "    }\n",
       "\n",
       "    .dataframe tbody tr th {\n",
       "        vertical-align: top;\n",
       "    }\n",
       "\n",
       "    .dataframe thead th {\n",
       "        text-align: right;\n",
       "    }\n",
       "</style>\n",
       "<table border=\"1\" class=\"dataframe\">\n",
       "  <thead>\n",
       "    <tr style=\"text-align: right;\">\n",
       "      <th></th>\n",
       "      <th>Unnamed: 0</th>\n",
       "      <th>id</th>\n",
       "      <th>degree</th>\n",
       "    </tr>\n",
       "  </thead>\n",
       "  <tbody>\n",
       "    <tr>\n",
       "      <th>0</th>\n",
       "      <td>0</td>\n",
       "      <td>1.911303e+09</td>\n",
       "      <td>146</td>\n",
       "    </tr>\n",
       "    <tr>\n",
       "      <th>1</th>\n",
       "      <td>1</td>\n",
       "      <td>1.997682e+08</td>\n",
       "      <td>15</td>\n",
       "    </tr>\n",
       "    <tr>\n",
       "      <th>2</th>\n",
       "      <td>2</td>\n",
       "      <td>7.148876e+17</td>\n",
       "      <td>13</td>\n",
       "    </tr>\n",
       "    <tr>\n",
       "      <th>3</th>\n",
       "      <td>3</td>\n",
       "      <td>5.329788e+07</td>\n",
       "      <td>12</td>\n",
       "    </tr>\n",
       "    <tr>\n",
       "      <th>4</th>\n",
       "      <td>4</td>\n",
       "      <td>2.999356e+07</td>\n",
       "      <td>11</td>\n",
       "    </tr>\n",
       "    <tr>\n",
       "      <th>...</th>\n",
       "      <td>...</td>\n",
       "      <td>...</td>\n",
       "      <td>...</td>\n",
       "    </tr>\n",
       "    <tr>\n",
       "      <th>381</th>\n",
       "      <td>381</td>\n",
       "      <td>4.014770e+08</td>\n",
       "      <td>1</td>\n",
       "    </tr>\n",
       "    <tr>\n",
       "      <th>382</th>\n",
       "      <td>382</td>\n",
       "      <td>6.038136e+07</td>\n",
       "      <td>1</td>\n",
       "    </tr>\n",
       "    <tr>\n",
       "      <th>383</th>\n",
       "      <td>383</td>\n",
       "      <td>1.098960e+08</td>\n",
       "      <td>1</td>\n",
       "    </tr>\n",
       "    <tr>\n",
       "      <th>384</th>\n",
       "      <td>384</td>\n",
       "      <td>5.488242e+07</td>\n",
       "      <td>1</td>\n",
       "    </tr>\n",
       "    <tr>\n",
       "      <th>385</th>\n",
       "      <td>385</td>\n",
       "      <td>4.912204e+08</td>\n",
       "      <td>1</td>\n",
       "    </tr>\n",
       "  </tbody>\n",
       "</table>\n",
       "<p>386 rows × 3 columns</p>\n",
       "</div>"
      ],
      "text/plain": [
       "     Unnamed: 0            id  degree\n",
       "0             0  1.911303e+09     146\n",
       "1             1  1.997682e+08      15\n",
       "2             2  7.148876e+17      13\n",
       "3             3  5.329788e+07      12\n",
       "4             4  2.999356e+07      11\n",
       "..          ...           ...     ...\n",
       "381         381  4.014770e+08       1\n",
       "382         382  6.038136e+07       1\n",
       "383         383  1.098960e+08       1\n",
       "384         384  5.488242e+07       1\n",
       "385         385  4.912204e+08       1\n",
       "\n",
       "[386 rows x 3 columns]"
      ]
     },
     "execution_count": 3,
     "metadata": {},
     "output_type": "execute_result"
    }
   ],
   "source": [
    "df_com1 = pd.read_csv('le_community_degrees/le_com1_degrees.csv')\n",
    "df_com2 = pd.read_csv('le_community_degrees/le_com2_degrees.csv')\n",
    "df_com3 = pd.read_csv('le_community_degrees/le_com3_degrees.csv')\n",
    "df_com4 = pd.read_csv('le_community_degrees/le_com4_degrees.csv')\n",
    "df_com5 = pd.read_csv('le_community_degrees/le_com5_degrees.csv')\n",
    "df_com1"
   ]
  },
  {
   "cell_type": "code",
   "execution_count": 4,
   "id": "ee6d18ec",
   "metadata": {},
   "outputs": [
    {
     "data": {
      "text/html": [
       "<div>\n",
       "<style scoped>\n",
       "    .dataframe tbody tr th:only-of-type {\n",
       "        vertical-align: middle;\n",
       "    }\n",
       "\n",
       "    .dataframe tbody tr th {\n",
       "        vertical-align: top;\n",
       "    }\n",
       "\n",
       "    .dataframe thead th {\n",
       "        text-align: right;\n",
       "    }\n",
       "</style>\n",
       "<table border=\"1\" class=\"dataframe\">\n",
       "  <thead>\n",
       "    <tr style=\"text-align: right;\">\n",
       "      <th></th>\n",
       "      <th>id</th>\n",
       "      <th>degree</th>\n",
       "    </tr>\n",
       "  </thead>\n",
       "  <tbody>\n",
       "    <tr>\n",
       "      <th>0</th>\n",
       "      <td>1.911303e+09</td>\n",
       "      <td>146</td>\n",
       "    </tr>\n",
       "    <tr>\n",
       "      <th>1</th>\n",
       "      <td>1.997682e+08</td>\n",
       "      <td>15</td>\n",
       "    </tr>\n",
       "    <tr>\n",
       "      <th>2</th>\n",
       "      <td>7.148876e+17</td>\n",
       "      <td>13</td>\n",
       "    </tr>\n",
       "    <tr>\n",
       "      <th>3</th>\n",
       "      <td>5.329788e+07</td>\n",
       "      <td>12</td>\n",
       "    </tr>\n",
       "    <tr>\n",
       "      <th>4</th>\n",
       "      <td>2.999356e+07</td>\n",
       "      <td>11</td>\n",
       "    </tr>\n",
       "    <tr>\n",
       "      <th>...</th>\n",
       "      <td>...</td>\n",
       "      <td>...</td>\n",
       "    </tr>\n",
       "    <tr>\n",
       "      <th>381</th>\n",
       "      <td>4.014770e+08</td>\n",
       "      <td>1</td>\n",
       "    </tr>\n",
       "    <tr>\n",
       "      <th>382</th>\n",
       "      <td>6.038136e+07</td>\n",
       "      <td>1</td>\n",
       "    </tr>\n",
       "    <tr>\n",
       "      <th>383</th>\n",
       "      <td>1.098960e+08</td>\n",
       "      <td>1</td>\n",
       "    </tr>\n",
       "    <tr>\n",
       "      <th>384</th>\n",
       "      <td>5.488242e+07</td>\n",
       "      <td>1</td>\n",
       "    </tr>\n",
       "    <tr>\n",
       "      <th>385</th>\n",
       "      <td>4.912204e+08</td>\n",
       "      <td>1</td>\n",
       "    </tr>\n",
       "  </tbody>\n",
       "</table>\n",
       "<p>386 rows × 2 columns</p>\n",
       "</div>"
      ],
      "text/plain": [
       "               id  degree\n",
       "0    1.911303e+09     146\n",
       "1    1.997682e+08      15\n",
       "2    7.148876e+17      13\n",
       "3    5.329788e+07      12\n",
       "4    2.999356e+07      11\n",
       "..            ...     ...\n",
       "381  4.014770e+08       1\n",
       "382  6.038136e+07       1\n",
       "383  1.098960e+08       1\n",
       "384  5.488242e+07       1\n",
       "385  4.912204e+08       1\n",
       "\n",
       "[386 rows x 2 columns]"
      ]
     },
     "execution_count": 4,
     "metadata": {},
     "output_type": "execute_result"
    }
   ],
   "source": [
    "df_com1.drop('Unnamed: 0', axis = 1, inplace = True)\n",
    "df_com2.drop('Unnamed: 0', axis = 1, inplace = True)\n",
    "df_com3.drop('Unnamed: 0', axis = 1, inplace = True)\n",
    "df_com4.drop('Unnamed: 0', axis = 1, inplace = True)\n",
    "df_com5.drop('Unnamed: 0', axis = 1, inplace = True)\n",
    "df_com1"
   ]
  },
  {
   "cell_type": "code",
   "execution_count": 5,
   "id": "052c750c",
   "metadata": {},
   "outputs": [
    {
     "data": {
      "text/html": [
       "<div>\n",
       "<style scoped>\n",
       "    .dataframe tbody tr th:only-of-type {\n",
       "        vertical-align: middle;\n",
       "    }\n",
       "\n",
       "    .dataframe tbody tr th {\n",
       "        vertical-align: top;\n",
       "    }\n",
       "\n",
       "    .dataframe thead th {\n",
       "        text-align: right;\n",
       "    }\n",
       "</style>\n",
       "<table border=\"1\" class=\"dataframe\">\n",
       "  <thead>\n",
       "    <tr style=\"text-align: right;\">\n",
       "      <th></th>\n",
       "      <th>user_id</th>\n",
       "      <th>tweet_real_news_count</th>\n",
       "      <th>tweet_fake_news_count</th>\n",
       "      <th>tweet_count</th>\n",
       "      <th>retweet_real_news_count</th>\n",
       "      <th>retweet_fake_news_count</th>\n",
       "      <th>retweet_count</th>\n",
       "      <th>tweet_retweet_fake_count</th>\n",
       "      <th>tweet_retweet_real_count</th>\n",
       "      <th>tweet_retweet_count</th>\n",
       "      <th>percentage_fake</th>\n",
       "      <th>id</th>\n",
       "      <th>degree</th>\n",
       "    </tr>\n",
       "  </thead>\n",
       "  <tbody>\n",
       "    <tr>\n",
       "      <th>39</th>\n",
       "      <td>1911303422</td>\n",
       "      <td>3</td>\n",
       "      <td>189</td>\n",
       "      <td>192</td>\n",
       "      <td>0</td>\n",
       "      <td>0</td>\n",
       "      <td>0</td>\n",
       "      <td>189</td>\n",
       "      <td>3</td>\n",
       "      <td>192</td>\n",
       "      <td>0.984375</td>\n",
       "      <td>1.911303e+09</td>\n",
       "      <td>146</td>\n",
       "    </tr>\n",
       "    <tr>\n",
       "      <th>43</th>\n",
       "      <td>199768203</td>\n",
       "      <td>3</td>\n",
       "      <td>12</td>\n",
       "      <td>15</td>\n",
       "      <td>0</td>\n",
       "      <td>9</td>\n",
       "      <td>9</td>\n",
       "      <td>21</td>\n",
       "      <td>3</td>\n",
       "      <td>24</td>\n",
       "      <td>0.875000</td>\n",
       "      <td>1.997682e+08</td>\n",
       "      <td>15</td>\n",
       "    </tr>\n",
       "    <tr>\n",
       "      <th>156</th>\n",
       "      <td>714887575081607168</td>\n",
       "      <td>0</td>\n",
       "      <td>37</td>\n",
       "      <td>37</td>\n",
       "      <td>0</td>\n",
       "      <td>0</td>\n",
       "      <td>0</td>\n",
       "      <td>37</td>\n",
       "      <td>0</td>\n",
       "      <td>37</td>\n",
       "      <td>1.000000</td>\n",
       "      <td>7.148876e+17</td>\n",
       "      <td>13</td>\n",
       "    </tr>\n",
       "    <tr>\n",
       "      <th>132</th>\n",
       "      <td>53297881</td>\n",
       "      <td>2</td>\n",
       "      <td>13</td>\n",
       "      <td>15</td>\n",
       "      <td>0</td>\n",
       "      <td>0</td>\n",
       "      <td>0</td>\n",
       "      <td>13</td>\n",
       "      <td>2</td>\n",
       "      <td>15</td>\n",
       "      <td>0.866667</td>\n",
       "      <td>5.329788e+07</td>\n",
       "      <td>12</td>\n",
       "    </tr>\n",
       "    <tr>\n",
       "      <th>77</th>\n",
       "      <td>29993565</td>\n",
       "      <td>0</td>\n",
       "      <td>15</td>\n",
       "      <td>15</td>\n",
       "      <td>0</td>\n",
       "      <td>0</td>\n",
       "      <td>0</td>\n",
       "      <td>15</td>\n",
       "      <td>0</td>\n",
       "      <td>15</td>\n",
       "      <td>1.000000</td>\n",
       "      <td>2.999356e+07</td>\n",
       "      <td>11</td>\n",
       "    </tr>\n",
       "    <tr>\n",
       "      <th>...</th>\n",
       "      <td>...</td>\n",
       "      <td>...</td>\n",
       "      <td>...</td>\n",
       "      <td>...</td>\n",
       "      <td>...</td>\n",
       "      <td>...</td>\n",
       "      <td>...</td>\n",
       "      <td>...</td>\n",
       "      <td>...</td>\n",
       "      <td>...</td>\n",
       "      <td>...</td>\n",
       "      <td>...</td>\n",
       "      <td>...</td>\n",
       "    </tr>\n",
       "    <tr>\n",
       "      <th>56</th>\n",
       "      <td>26107813</td>\n",
       "      <td>0</td>\n",
       "      <td>0</td>\n",
       "      <td>0</td>\n",
       "      <td>0</td>\n",
       "      <td>1</td>\n",
       "      <td>1</td>\n",
       "      <td>1</td>\n",
       "      <td>0</td>\n",
       "      <td>1</td>\n",
       "      <td>1.000000</td>\n",
       "      <td>2.610781e+07</td>\n",
       "      <td>1</td>\n",
       "    </tr>\n",
       "    <tr>\n",
       "      <th>195</th>\n",
       "      <td>1420535665</td>\n",
       "      <td>0</td>\n",
       "      <td>0</td>\n",
       "      <td>0</td>\n",
       "      <td>1</td>\n",
       "      <td>1</td>\n",
       "      <td>2</td>\n",
       "      <td>1</td>\n",
       "      <td>1</td>\n",
       "      <td>2</td>\n",
       "      <td>0.500000</td>\n",
       "      <td>1.420536e+09</td>\n",
       "      <td>1</td>\n",
       "    </tr>\n",
       "    <tr>\n",
       "      <th>196</th>\n",
       "      <td>143959357</td>\n",
       "      <td>0</td>\n",
       "      <td>1</td>\n",
       "      <td>1</td>\n",
       "      <td>0</td>\n",
       "      <td>0</td>\n",
       "      <td>0</td>\n",
       "      <td>1</td>\n",
       "      <td>0</td>\n",
       "      <td>1</td>\n",
       "      <td>1.000000</td>\n",
       "      <td>1.439594e+08</td>\n",
       "      <td>1</td>\n",
       "    </tr>\n",
       "    <tr>\n",
       "      <th>197</th>\n",
       "      <td>1440616824</td>\n",
       "      <td>0</td>\n",
       "      <td>6</td>\n",
       "      <td>6</td>\n",
       "      <td>0</td>\n",
       "      <td>1</td>\n",
       "      <td>1</td>\n",
       "      <td>7</td>\n",
       "      <td>0</td>\n",
       "      <td>7</td>\n",
       "      <td>1.000000</td>\n",
       "      <td>1.440617e+09</td>\n",
       "      <td>1</td>\n",
       "    </tr>\n",
       "    <tr>\n",
       "      <th>367</th>\n",
       "      <td>98042044</td>\n",
       "      <td>0</td>\n",
       "      <td>0</td>\n",
       "      <td>0</td>\n",
       "      <td>0</td>\n",
       "      <td>1</td>\n",
       "      <td>1</td>\n",
       "      <td>1</td>\n",
       "      <td>0</td>\n",
       "      <td>1</td>\n",
       "      <td>1.000000</td>\n",
       "      <td>9.804204e+07</td>\n",
       "      <td>1</td>\n",
       "    </tr>\n",
       "  </tbody>\n",
       "</table>\n",
       "<p>368 rows × 13 columns</p>\n",
       "</div>"
      ],
      "text/plain": [
       "                user_id  tweet_real_news_count  tweet_fake_news_count  \\\n",
       "39           1911303422                      3                    189   \n",
       "43            199768203                      3                     12   \n",
       "156  714887575081607168                      0                     37   \n",
       "132            53297881                      2                     13   \n",
       "77             29993565                      0                     15   \n",
       "..                  ...                    ...                    ...   \n",
       "56             26107813                      0                      0   \n",
       "195          1420535665                      0                      0   \n",
       "196           143959357                      0                      1   \n",
       "197          1440616824                      0                      6   \n",
       "367            98042044                      0                      0   \n",
       "\n",
       "     tweet_count  retweet_real_news_count  retweet_fake_news_count  \\\n",
       "39           192                        0                        0   \n",
       "43            15                        0                        9   \n",
       "156           37                        0                        0   \n",
       "132           15                        0                        0   \n",
       "77            15                        0                        0   \n",
       "..           ...                      ...                      ...   \n",
       "56             0                        0                        1   \n",
       "195            0                        1                        1   \n",
       "196            1                        0                        0   \n",
       "197            6                        0                        1   \n",
       "367            0                        0                        1   \n",
       "\n",
       "     retweet_count  tweet_retweet_fake_count  tweet_retweet_real_count  \\\n",
       "39               0                       189                         3   \n",
       "43               9                        21                         3   \n",
       "156              0                        37                         0   \n",
       "132              0                        13                         2   \n",
       "77               0                        15                         0   \n",
       "..             ...                       ...                       ...   \n",
       "56               1                         1                         0   \n",
       "195              2                         1                         1   \n",
       "196              0                         1                         0   \n",
       "197              1                         7                         0   \n",
       "367              1                         1                         0   \n",
       "\n",
       "     tweet_retweet_count  percentage_fake            id  degree  \n",
       "39                   192         0.984375  1.911303e+09     146  \n",
       "43                    24         0.875000  1.997682e+08      15  \n",
       "156                   37         1.000000  7.148876e+17      13  \n",
       "132                   15         0.866667  5.329788e+07      12  \n",
       "77                    15         1.000000  2.999356e+07      11  \n",
       "..                   ...              ...           ...     ...  \n",
       "56                     1         1.000000  2.610781e+07       1  \n",
       "195                    2         0.500000  1.420536e+09       1  \n",
       "196                    1         1.000000  1.439594e+08       1  \n",
       "197                    7         1.000000  1.440617e+09       1  \n",
       "367                    1         1.000000  9.804204e+07       1  \n",
       "\n",
       "[368 rows x 13 columns]"
      ]
     },
     "execution_count": 5,
     "metadata": {},
     "output_type": "execute_result"
    }
   ],
   "source": [
    "com1_metrics = pd.merge(df,df_com1, left_on = \"user_id\", right_on = 'id').sort_values('degree', ascending = False)\n",
    "com1_metrics"
   ]
  },
  {
   "cell_type": "code",
   "execution_count": 6,
   "id": "878504d1",
   "metadata": {},
   "outputs": [
    {
     "data": {
      "text/html": [
       "<div>\n",
       "<style scoped>\n",
       "    .dataframe tbody tr th:only-of-type {\n",
       "        vertical-align: middle;\n",
       "    }\n",
       "\n",
       "    .dataframe tbody tr th {\n",
       "        vertical-align: top;\n",
       "    }\n",
       "\n",
       "    .dataframe thead th {\n",
       "        text-align: right;\n",
       "    }\n",
       "</style>\n",
       "<table border=\"1\" class=\"dataframe\">\n",
       "  <thead>\n",
       "    <tr style=\"text-align: right;\">\n",
       "      <th></th>\n",
       "      <th>user_id</th>\n",
       "      <th>tweet_real_news_count</th>\n",
       "      <th>tweet_fake_news_count</th>\n",
       "      <th>tweet_count</th>\n",
       "      <th>retweet_real_news_count</th>\n",
       "      <th>retweet_fake_news_count</th>\n",
       "      <th>retweet_count</th>\n",
       "      <th>tweet_retweet_fake_count</th>\n",
       "      <th>tweet_retweet_real_count</th>\n",
       "      <th>tweet_retweet_count</th>\n",
       "      <th>percentage_fake</th>\n",
       "      <th>id</th>\n",
       "      <th>degree</th>\n",
       "    </tr>\n",
       "  </thead>\n",
       "  <tbody>\n",
       "    <tr>\n",
       "      <th>60</th>\n",
       "      <td>3772895061</td>\n",
       "      <td>15</td>\n",
       "      <td>42</td>\n",
       "      <td>57</td>\n",
       "      <td>0</td>\n",
       "      <td>0</td>\n",
       "      <td>0</td>\n",
       "      <td>42</td>\n",
       "      <td>15</td>\n",
       "      <td>57</td>\n",
       "      <td>0.736842</td>\n",
       "      <td>3.772895e+09</td>\n",
       "      <td>28</td>\n",
       "    </tr>\n",
       "    <tr>\n",
       "      <th>158</th>\n",
       "      <td>24544802</td>\n",
       "      <td>3</td>\n",
       "      <td>24</td>\n",
       "      <td>27</td>\n",
       "      <td>0</td>\n",
       "      <td>0</td>\n",
       "      <td>0</td>\n",
       "      <td>24</td>\n",
       "      <td>3</td>\n",
       "      <td>27</td>\n",
       "      <td>0.888889</td>\n",
       "      <td>2.454480e+07</td>\n",
       "      <td>23</td>\n",
       "    </tr>\n",
       "    <tr>\n",
       "      <th>224</th>\n",
       "      <td>790019230389248000</td>\n",
       "      <td>166</td>\n",
       "      <td>66</td>\n",
       "      <td>232</td>\n",
       "      <td>0</td>\n",
       "      <td>0</td>\n",
       "      <td>0</td>\n",
       "      <td>66</td>\n",
       "      <td>166</td>\n",
       "      <td>232</td>\n",
       "      <td>0.284483</td>\n",
       "      <td>7.900192e+17</td>\n",
       "      <td>14</td>\n",
       "    </tr>\n",
       "    <tr>\n",
       "      <th>84</th>\n",
       "      <td>550955977</td>\n",
       "      <td>0</td>\n",
       "      <td>36</td>\n",
       "      <td>36</td>\n",
       "      <td>0</td>\n",
       "      <td>0</td>\n",
       "      <td>0</td>\n",
       "      <td>36</td>\n",
       "      <td>0</td>\n",
       "      <td>36</td>\n",
       "      <td>1.000000</td>\n",
       "      <td>5.509560e+08</td>\n",
       "      <td>14</td>\n",
       "    </tr>\n",
       "    <tr>\n",
       "      <th>67</th>\n",
       "      <td>42685467</td>\n",
       "      <td>0</td>\n",
       "      <td>49</td>\n",
       "      <td>49</td>\n",
       "      <td>0</td>\n",
       "      <td>0</td>\n",
       "      <td>0</td>\n",
       "      <td>49</td>\n",
       "      <td>0</td>\n",
       "      <td>49</td>\n",
       "      <td>1.000000</td>\n",
       "      <td>4.268547e+07</td>\n",
       "      <td>14</td>\n",
       "    </tr>\n",
       "    <tr>\n",
       "      <th>...</th>\n",
       "      <td>...</td>\n",
       "      <td>...</td>\n",
       "      <td>...</td>\n",
       "      <td>...</td>\n",
       "      <td>...</td>\n",
       "      <td>...</td>\n",
       "      <td>...</td>\n",
       "      <td>...</td>\n",
       "      <td>...</td>\n",
       "      <td>...</td>\n",
       "      <td>...</td>\n",
       "      <td>...</td>\n",
       "      <td>...</td>\n",
       "    </tr>\n",
       "    <tr>\n",
       "      <th>111</th>\n",
       "      <td>889040726</td>\n",
       "      <td>0</td>\n",
       "      <td>0</td>\n",
       "      <td>0</td>\n",
       "      <td>0</td>\n",
       "      <td>1</td>\n",
       "      <td>1</td>\n",
       "      <td>1</td>\n",
       "      <td>0</td>\n",
       "      <td>1</td>\n",
       "      <td>1.000000</td>\n",
       "      <td>8.890407e+08</td>\n",
       "      <td>1</td>\n",
       "    </tr>\n",
       "    <tr>\n",
       "      <th>112</th>\n",
       "      <td>896187666</td>\n",
       "      <td>0</td>\n",
       "      <td>0</td>\n",
       "      <td>0</td>\n",
       "      <td>0</td>\n",
       "      <td>1</td>\n",
       "      <td>1</td>\n",
       "      <td>1</td>\n",
       "      <td>0</td>\n",
       "      <td>1</td>\n",
       "      <td>1.000000</td>\n",
       "      <td>8.961877e+08</td>\n",
       "      <td>1</td>\n",
       "    </tr>\n",
       "    <tr>\n",
       "      <th>113</th>\n",
       "      <td>904321107112722432</td>\n",
       "      <td>0</td>\n",
       "      <td>0</td>\n",
       "      <td>0</td>\n",
       "      <td>0</td>\n",
       "      <td>1</td>\n",
       "      <td>1</td>\n",
       "      <td>1</td>\n",
       "      <td>0</td>\n",
       "      <td>1</td>\n",
       "      <td>1.000000</td>\n",
       "      <td>9.043211e+17</td>\n",
       "      <td>1</td>\n",
       "    </tr>\n",
       "    <tr>\n",
       "      <th>114</th>\n",
       "      <td>950830002</td>\n",
       "      <td>0</td>\n",
       "      <td>1</td>\n",
       "      <td>1</td>\n",
       "      <td>0</td>\n",
       "      <td>0</td>\n",
       "      <td>0</td>\n",
       "      <td>1</td>\n",
       "      <td>0</td>\n",
       "      <td>1</td>\n",
       "      <td>1.000000</td>\n",
       "      <td>9.508300e+08</td>\n",
       "      <td>1</td>\n",
       "    </tr>\n",
       "    <tr>\n",
       "      <th>248</th>\n",
       "      <td>98261204</td>\n",
       "      <td>0</td>\n",
       "      <td>1</td>\n",
       "      <td>1</td>\n",
       "      <td>0</td>\n",
       "      <td>0</td>\n",
       "      <td>0</td>\n",
       "      <td>1</td>\n",
       "      <td>0</td>\n",
       "      <td>1</td>\n",
       "      <td>1.000000</td>\n",
       "      <td>9.826120e+07</td>\n",
       "      <td>1</td>\n",
       "    </tr>\n",
       "  </tbody>\n",
       "</table>\n",
       "<p>249 rows × 13 columns</p>\n",
       "</div>"
      ],
      "text/plain": [
       "                user_id  tweet_real_news_count  tweet_fake_news_count  \\\n",
       "60           3772895061                     15                     42   \n",
       "158            24544802                      3                     24   \n",
       "224  790019230389248000                    166                     66   \n",
       "84            550955977                      0                     36   \n",
       "67             42685467                      0                     49   \n",
       "..                  ...                    ...                    ...   \n",
       "111           889040726                      0                      0   \n",
       "112           896187666                      0                      0   \n",
       "113  904321107112722432                      0                      0   \n",
       "114           950830002                      0                      1   \n",
       "248            98261204                      0                      1   \n",
       "\n",
       "     tweet_count  retweet_real_news_count  retweet_fake_news_count  \\\n",
       "60            57                        0                        0   \n",
       "158           27                        0                        0   \n",
       "224          232                        0                        0   \n",
       "84            36                        0                        0   \n",
       "67            49                        0                        0   \n",
       "..           ...                      ...                      ...   \n",
       "111            0                        0                        1   \n",
       "112            0                        0                        1   \n",
       "113            0                        0                        1   \n",
       "114            1                        0                        0   \n",
       "248            1                        0                        0   \n",
       "\n",
       "     retweet_count  tweet_retweet_fake_count  tweet_retweet_real_count  \\\n",
       "60               0                        42                        15   \n",
       "158              0                        24                         3   \n",
       "224              0                        66                       166   \n",
       "84               0                        36                         0   \n",
       "67               0                        49                         0   \n",
       "..             ...                       ...                       ...   \n",
       "111              1                         1                         0   \n",
       "112              1                         1                         0   \n",
       "113              1                         1                         0   \n",
       "114              0                         1                         0   \n",
       "248              0                         1                         0   \n",
       "\n",
       "     tweet_retweet_count  percentage_fake            id  degree  \n",
       "60                    57         0.736842  3.772895e+09      28  \n",
       "158                   27         0.888889  2.454480e+07      23  \n",
       "224                  232         0.284483  7.900192e+17      14  \n",
       "84                    36         1.000000  5.509560e+08      14  \n",
       "67                    49         1.000000  4.268547e+07      14  \n",
       "..                   ...              ...           ...     ...  \n",
       "111                    1         1.000000  8.890407e+08       1  \n",
       "112                    1         1.000000  8.961877e+08       1  \n",
       "113                    1         1.000000  9.043211e+17       1  \n",
       "114                    1         1.000000  9.508300e+08       1  \n",
       "248                    1         1.000000  9.826120e+07       1  \n",
       "\n",
       "[249 rows x 13 columns]"
      ]
     },
     "execution_count": 6,
     "metadata": {},
     "output_type": "execute_result"
    }
   ],
   "source": [
    "com2_metrics = pd.merge(df,df_com2, left_on = \"user_id\", right_on = 'id').sort_values('degree', ascending = False)\n",
    "com2_metrics"
   ]
  },
  {
   "cell_type": "code",
   "execution_count": 7,
   "id": "4547d9c7",
   "metadata": {},
   "outputs": [
    {
     "data": {
      "text/html": [
       "<div>\n",
       "<style scoped>\n",
       "    .dataframe tbody tr th:only-of-type {\n",
       "        vertical-align: middle;\n",
       "    }\n",
       "\n",
       "    .dataframe tbody tr th {\n",
       "        vertical-align: top;\n",
       "    }\n",
       "\n",
       "    .dataframe thead th {\n",
       "        text-align: right;\n",
       "    }\n",
       "</style>\n",
       "<table border=\"1\" class=\"dataframe\">\n",
       "  <thead>\n",
       "    <tr style=\"text-align: right;\">\n",
       "      <th></th>\n",
       "      <th>user_id</th>\n",
       "      <th>tweet_real_news_count</th>\n",
       "      <th>tweet_fake_news_count</th>\n",
       "      <th>tweet_count</th>\n",
       "      <th>retweet_real_news_count</th>\n",
       "      <th>retweet_fake_news_count</th>\n",
       "      <th>retweet_count</th>\n",
       "      <th>tweet_retweet_fake_count</th>\n",
       "      <th>tweet_retweet_real_count</th>\n",
       "      <th>tweet_retweet_count</th>\n",
       "      <th>percentage_fake</th>\n",
       "      <th>id</th>\n",
       "      <th>degree</th>\n",
       "    </tr>\n",
       "  </thead>\n",
       "  <tbody>\n",
       "    <tr>\n",
       "      <th>64</th>\n",
       "      <td>52572719</td>\n",
       "      <td>2</td>\n",
       "      <td>65</td>\n",
       "      <td>67</td>\n",
       "      <td>0</td>\n",
       "      <td>0</td>\n",
       "      <td>0</td>\n",
       "      <td>65</td>\n",
       "      <td>2</td>\n",
       "      <td>67</td>\n",
       "      <td>0.970149</td>\n",
       "      <td>5.257272e+07</td>\n",
       "      <td>31</td>\n",
       "    </tr>\n",
       "    <tr>\n",
       "      <th>79</th>\n",
       "      <td>753776864682999808</td>\n",
       "      <td>0</td>\n",
       "      <td>19</td>\n",
       "      <td>19</td>\n",
       "      <td>0</td>\n",
       "      <td>0</td>\n",
       "      <td>0</td>\n",
       "      <td>19</td>\n",
       "      <td>0</td>\n",
       "      <td>19</td>\n",
       "      <td>1.000000</td>\n",
       "      <td>7.537769e+17</td>\n",
       "      <td>18</td>\n",
       "    </tr>\n",
       "    <tr>\n",
       "      <th>132</th>\n",
       "      <td>38863786</td>\n",
       "      <td>0</td>\n",
       "      <td>32</td>\n",
       "      <td>32</td>\n",
       "      <td>0</td>\n",
       "      <td>0</td>\n",
       "      <td>0</td>\n",
       "      <td>32</td>\n",
       "      <td>0</td>\n",
       "      <td>32</td>\n",
       "      <td>1.000000</td>\n",
       "      <td>3.886379e+07</td>\n",
       "      <td>11</td>\n",
       "    </tr>\n",
       "    <tr>\n",
       "      <th>39</th>\n",
       "      <td>317223956</td>\n",
       "      <td>1</td>\n",
       "      <td>13</td>\n",
       "      <td>14</td>\n",
       "      <td>1</td>\n",
       "      <td>0</td>\n",
       "      <td>1</td>\n",
       "      <td>13</td>\n",
       "      <td>2</td>\n",
       "      <td>15</td>\n",
       "      <td>0.866667</td>\n",
       "      <td>3.172240e+08</td>\n",
       "      <td>10</td>\n",
       "    </tr>\n",
       "    <tr>\n",
       "      <th>168</th>\n",
       "      <td>829735580</td>\n",
       "      <td>6</td>\n",
       "      <td>11</td>\n",
       "      <td>17</td>\n",
       "      <td>0</td>\n",
       "      <td>0</td>\n",
       "      <td>0</td>\n",
       "      <td>11</td>\n",
       "      <td>6</td>\n",
       "      <td>17</td>\n",
       "      <td>0.647059</td>\n",
       "      <td>8.297356e+08</td>\n",
       "      <td>9</td>\n",
       "    </tr>\n",
       "    <tr>\n",
       "      <th>...</th>\n",
       "      <td>...</td>\n",
       "      <td>...</td>\n",
       "      <td>...</td>\n",
       "      <td>...</td>\n",
       "      <td>...</td>\n",
       "      <td>...</td>\n",
       "      <td>...</td>\n",
       "      <td>...</td>\n",
       "      <td>...</td>\n",
       "      <td>...</td>\n",
       "      <td>...</td>\n",
       "      <td>...</td>\n",
       "      <td>...</td>\n",
       "    </tr>\n",
       "    <tr>\n",
       "      <th>60</th>\n",
       "      <td>4886325111</td>\n",
       "      <td>0</td>\n",
       "      <td>0</td>\n",
       "      <td>0</td>\n",
       "      <td>0</td>\n",
       "      <td>1</td>\n",
       "      <td>1</td>\n",
       "      <td>1</td>\n",
       "      <td>0</td>\n",
       "      <td>1</td>\n",
       "      <td>1.000000</td>\n",
       "      <td>4.886325e+09</td>\n",
       "      <td>1</td>\n",
       "    </tr>\n",
       "    <tr>\n",
       "      <th>58</th>\n",
       "      <td>474999990</td>\n",
       "      <td>0</td>\n",
       "      <td>1</td>\n",
       "      <td>1</td>\n",
       "      <td>0</td>\n",
       "      <td>1</td>\n",
       "      <td>1</td>\n",
       "      <td>2</td>\n",
       "      <td>0</td>\n",
       "      <td>2</td>\n",
       "      <td>1.000000</td>\n",
       "      <td>4.750000e+08</td>\n",
       "      <td>1</td>\n",
       "    </tr>\n",
       "    <tr>\n",
       "      <th>57</th>\n",
       "      <td>4659654224</td>\n",
       "      <td>0</td>\n",
       "      <td>0</td>\n",
       "      <td>0</td>\n",
       "      <td>0</td>\n",
       "      <td>1</td>\n",
       "      <td>1</td>\n",
       "      <td>1</td>\n",
       "      <td>0</td>\n",
       "      <td>1</td>\n",
       "      <td>1.000000</td>\n",
       "      <td>4.659654e+09</td>\n",
       "      <td>1</td>\n",
       "    </tr>\n",
       "    <tr>\n",
       "      <th>56</th>\n",
       "      <td>4627221853</td>\n",
       "      <td>0</td>\n",
       "      <td>0</td>\n",
       "      <td>0</td>\n",
       "      <td>0</td>\n",
       "      <td>1</td>\n",
       "      <td>1</td>\n",
       "      <td>1</td>\n",
       "      <td>0</td>\n",
       "      <td>1</td>\n",
       "      <td>1.000000</td>\n",
       "      <td>4.627222e+09</td>\n",
       "      <td>1</td>\n",
       "    </tr>\n",
       "    <tr>\n",
       "      <th>175</th>\n",
       "      <td>991650668048998400</td>\n",
       "      <td>0</td>\n",
       "      <td>0</td>\n",
       "      <td>0</td>\n",
       "      <td>1</td>\n",
       "      <td>1</td>\n",
       "      <td>2</td>\n",
       "      <td>1</td>\n",
       "      <td>1</td>\n",
       "      <td>2</td>\n",
       "      <td>0.500000</td>\n",
       "      <td>9.916507e+17</td>\n",
       "      <td>1</td>\n",
       "    </tr>\n",
       "  </tbody>\n",
       "</table>\n",
       "<p>176 rows × 13 columns</p>\n",
       "</div>"
      ],
      "text/plain": [
       "                user_id  tweet_real_news_count  tweet_fake_news_count  \\\n",
       "64             52572719                      2                     65   \n",
       "79   753776864682999808                      0                     19   \n",
       "132            38863786                      0                     32   \n",
       "39            317223956                      1                     13   \n",
       "168           829735580                      6                     11   \n",
       "..                  ...                    ...                    ...   \n",
       "60           4886325111                      0                      0   \n",
       "58            474999990                      0                      1   \n",
       "57           4659654224                      0                      0   \n",
       "56           4627221853                      0                      0   \n",
       "175  991650668048998400                      0                      0   \n",
       "\n",
       "     tweet_count  retweet_real_news_count  retweet_fake_news_count  \\\n",
       "64            67                        0                        0   \n",
       "79            19                        0                        0   \n",
       "132           32                        0                        0   \n",
       "39            14                        1                        0   \n",
       "168           17                        0                        0   \n",
       "..           ...                      ...                      ...   \n",
       "60             0                        0                        1   \n",
       "58             1                        0                        1   \n",
       "57             0                        0                        1   \n",
       "56             0                        0                        1   \n",
       "175            0                        1                        1   \n",
       "\n",
       "     retweet_count  tweet_retweet_fake_count  tweet_retweet_real_count  \\\n",
       "64               0                        65                         2   \n",
       "79               0                        19                         0   \n",
       "132              0                        32                         0   \n",
       "39               1                        13                         2   \n",
       "168              0                        11                         6   \n",
       "..             ...                       ...                       ...   \n",
       "60               1                         1                         0   \n",
       "58               1                         2                         0   \n",
       "57               1                         1                         0   \n",
       "56               1                         1                         0   \n",
       "175              2                         1                         1   \n",
       "\n",
       "     tweet_retweet_count  percentage_fake            id  degree  \n",
       "64                    67         0.970149  5.257272e+07      31  \n",
       "79                    19         1.000000  7.537769e+17      18  \n",
       "132                   32         1.000000  3.886379e+07      11  \n",
       "39                    15         0.866667  3.172240e+08      10  \n",
       "168                   17         0.647059  8.297356e+08       9  \n",
       "..                   ...              ...           ...     ...  \n",
       "60                     1         1.000000  4.886325e+09       1  \n",
       "58                     2         1.000000  4.750000e+08       1  \n",
       "57                     1         1.000000  4.659654e+09       1  \n",
       "56                     1         1.000000  4.627222e+09       1  \n",
       "175                    2         0.500000  9.916507e+17       1  \n",
       "\n",
       "[176 rows x 13 columns]"
      ]
     },
     "execution_count": 7,
     "metadata": {},
     "output_type": "execute_result"
    }
   ],
   "source": [
    "com3_metrics = pd.merge(df,df_com3, left_on = \"user_id\", right_on = 'id').sort_values('degree', ascending = False)\n",
    "com3_metrics"
   ]
  },
  {
   "cell_type": "code",
   "execution_count": 8,
   "id": "2deea5d9",
   "metadata": {},
   "outputs": [
    {
     "data": {
      "text/html": [
       "<div>\n",
       "<style scoped>\n",
       "    .dataframe tbody tr th:only-of-type {\n",
       "        vertical-align: middle;\n",
       "    }\n",
       "\n",
       "    .dataframe tbody tr th {\n",
       "        vertical-align: top;\n",
       "    }\n",
       "\n",
       "    .dataframe thead th {\n",
       "        text-align: right;\n",
       "    }\n",
       "</style>\n",
       "<table border=\"1\" class=\"dataframe\">\n",
       "  <thead>\n",
       "    <tr style=\"text-align: right;\">\n",
       "      <th></th>\n",
       "      <th>user_id</th>\n",
       "      <th>tweet_real_news_count</th>\n",
       "      <th>tweet_fake_news_count</th>\n",
       "      <th>tweet_count</th>\n",
       "      <th>retweet_real_news_count</th>\n",
       "      <th>retweet_fake_news_count</th>\n",
       "      <th>retweet_count</th>\n",
       "      <th>tweet_retweet_fake_count</th>\n",
       "      <th>tweet_retweet_real_count</th>\n",
       "      <th>tweet_retweet_count</th>\n",
       "      <th>percentage_fake</th>\n",
       "      <th>id</th>\n",
       "      <th>degree</th>\n",
       "    </tr>\n",
       "  </thead>\n",
       "  <tbody>\n",
       "    <tr>\n",
       "      <th>126</th>\n",
       "      <td>3291556676</td>\n",
       "      <td>0</td>\n",
       "      <td>23</td>\n",
       "      <td>23</td>\n",
       "      <td>0</td>\n",
       "      <td>0</td>\n",
       "      <td>0</td>\n",
       "      <td>23</td>\n",
       "      <td>0</td>\n",
       "      <td>23</td>\n",
       "      <td>1.000000</td>\n",
       "      <td>3.291557e+09</td>\n",
       "      <td>19</td>\n",
       "    </tr>\n",
       "    <tr>\n",
       "      <th>115</th>\n",
       "      <td>2406059855</td>\n",
       "      <td>1</td>\n",
       "      <td>66</td>\n",
       "      <td>67</td>\n",
       "      <td>0</td>\n",
       "      <td>0</td>\n",
       "      <td>0</td>\n",
       "      <td>66</td>\n",
       "      <td>1</td>\n",
       "      <td>67</td>\n",
       "      <td>0.985075</td>\n",
       "      <td>2.406060e+09</td>\n",
       "      <td>12</td>\n",
       "    </tr>\n",
       "    <tr>\n",
       "      <th>98</th>\n",
       "      <td>125128428</td>\n",
       "      <td>0</td>\n",
       "      <td>14</td>\n",
       "      <td>14</td>\n",
       "      <td>0</td>\n",
       "      <td>0</td>\n",
       "      <td>0</td>\n",
       "      <td>14</td>\n",
       "      <td>0</td>\n",
       "      <td>14</td>\n",
       "      <td>1.000000</td>\n",
       "      <td>1.251284e+08</td>\n",
       "      <td>10</td>\n",
       "    </tr>\n",
       "    <tr>\n",
       "      <th>63</th>\n",
       "      <td>634330366</td>\n",
       "      <td>0</td>\n",
       "      <td>11</td>\n",
       "      <td>11</td>\n",
       "      <td>0</td>\n",
       "      <td>0</td>\n",
       "      <td>0</td>\n",
       "      <td>11</td>\n",
       "      <td>0</td>\n",
       "      <td>11</td>\n",
       "      <td>1.000000</td>\n",
       "      <td>6.343304e+08</td>\n",
       "      <td>10</td>\n",
       "    </tr>\n",
       "    <tr>\n",
       "      <th>40</th>\n",
       "      <td>3481965513</td>\n",
       "      <td>3</td>\n",
       "      <td>13</td>\n",
       "      <td>16</td>\n",
       "      <td>0</td>\n",
       "      <td>0</td>\n",
       "      <td>0</td>\n",
       "      <td>13</td>\n",
       "      <td>3</td>\n",
       "      <td>16</td>\n",
       "      <td>0.812500</td>\n",
       "      <td>3.481966e+09</td>\n",
       "      <td>10</td>\n",
       "    </tr>\n",
       "    <tr>\n",
       "      <th>...</th>\n",
       "      <td>...</td>\n",
       "      <td>...</td>\n",
       "      <td>...</td>\n",
       "      <td>...</td>\n",
       "      <td>...</td>\n",
       "      <td>...</td>\n",
       "      <td>...</td>\n",
       "      <td>...</td>\n",
       "      <td>...</td>\n",
       "      <td>...</td>\n",
       "      <td>...</td>\n",
       "      <td>...</td>\n",
       "      <td>...</td>\n",
       "    </tr>\n",
       "    <tr>\n",
       "      <th>89</th>\n",
       "      <td>892130999454257152</td>\n",
       "      <td>0</td>\n",
       "      <td>0</td>\n",
       "      <td>0</td>\n",
       "      <td>0</td>\n",
       "      <td>1</td>\n",
       "      <td>1</td>\n",
       "      <td>1</td>\n",
       "      <td>0</td>\n",
       "      <td>1</td>\n",
       "      <td>1.000000</td>\n",
       "      <td>8.921310e+17</td>\n",
       "      <td>1</td>\n",
       "    </tr>\n",
       "    <tr>\n",
       "      <th>37</th>\n",
       "      <td>3317055925</td>\n",
       "      <td>0</td>\n",
       "      <td>0</td>\n",
       "      <td>0</td>\n",
       "      <td>1</td>\n",
       "      <td>1</td>\n",
       "      <td>2</td>\n",
       "      <td>1</td>\n",
       "      <td>1</td>\n",
       "      <td>2</td>\n",
       "      <td>0.500000</td>\n",
       "      <td>3.317056e+09</td>\n",
       "      <td>1</td>\n",
       "    </tr>\n",
       "    <tr>\n",
       "      <th>1</th>\n",
       "      <td>1193212386</td>\n",
       "      <td>0</td>\n",
       "      <td>8</td>\n",
       "      <td>8</td>\n",
       "      <td>1</td>\n",
       "      <td>0</td>\n",
       "      <td>1</td>\n",
       "      <td>8</td>\n",
       "      <td>1</td>\n",
       "      <td>9</td>\n",
       "      <td>0.888889</td>\n",
       "      <td>1.193212e+09</td>\n",
       "      <td>1</td>\n",
       "    </tr>\n",
       "    <tr>\n",
       "      <th>86</th>\n",
       "      <td>881522095045332992</td>\n",
       "      <td>0</td>\n",
       "      <td>0</td>\n",
       "      <td>0</td>\n",
       "      <td>0</td>\n",
       "      <td>1</td>\n",
       "      <td>1</td>\n",
       "      <td>1</td>\n",
       "      <td>0</td>\n",
       "      <td>1</td>\n",
       "      <td>1.000000</td>\n",
       "      <td>8.815221e+17</td>\n",
       "      <td>1</td>\n",
       "    </tr>\n",
       "    <tr>\n",
       "      <th>0</th>\n",
       "      <td>1096394166</td>\n",
       "      <td>0</td>\n",
       "      <td>0</td>\n",
       "      <td>0</td>\n",
       "      <td>0</td>\n",
       "      <td>1</td>\n",
       "      <td>1</td>\n",
       "      <td>1</td>\n",
       "      <td>0</td>\n",
       "      <td>1</td>\n",
       "      <td>1.000000</td>\n",
       "      <td>1.096394e+09</td>\n",
       "      <td>1</td>\n",
       "    </tr>\n",
       "  </tbody>\n",
       "</table>\n",
       "<p>175 rows × 13 columns</p>\n",
       "</div>"
      ],
      "text/plain": [
       "                user_id  tweet_real_news_count  tweet_fake_news_count  \\\n",
       "126          3291556676                      0                     23   \n",
       "115          2406059855                      1                     66   \n",
       "98            125128428                      0                     14   \n",
       "63            634330366                      0                     11   \n",
       "40           3481965513                      3                     13   \n",
       "..                  ...                    ...                    ...   \n",
       "89   892130999454257152                      0                      0   \n",
       "37           3317055925                      0                      0   \n",
       "1            1193212386                      0                      8   \n",
       "86   881522095045332992                      0                      0   \n",
       "0            1096394166                      0                      0   \n",
       "\n",
       "     tweet_count  retweet_real_news_count  retweet_fake_news_count  \\\n",
       "126           23                        0                        0   \n",
       "115           67                        0                        0   \n",
       "98            14                        0                        0   \n",
       "63            11                        0                        0   \n",
       "40            16                        0                        0   \n",
       "..           ...                      ...                      ...   \n",
       "89             0                        0                        1   \n",
       "37             0                        1                        1   \n",
       "1              8                        1                        0   \n",
       "86             0                        0                        1   \n",
       "0              0                        0                        1   \n",
       "\n",
       "     retweet_count  tweet_retweet_fake_count  tweet_retweet_real_count  \\\n",
       "126              0                        23                         0   \n",
       "115              0                        66                         1   \n",
       "98               0                        14                         0   \n",
       "63               0                        11                         0   \n",
       "40               0                        13                         3   \n",
       "..             ...                       ...                       ...   \n",
       "89               1                         1                         0   \n",
       "37               2                         1                         1   \n",
       "1                1                         8                         1   \n",
       "86               1                         1                         0   \n",
       "0                1                         1                         0   \n",
       "\n",
       "     tweet_retweet_count  percentage_fake            id  degree  \n",
       "126                   23         1.000000  3.291557e+09      19  \n",
       "115                   67         0.985075  2.406060e+09      12  \n",
       "98                    14         1.000000  1.251284e+08      10  \n",
       "63                    11         1.000000  6.343304e+08      10  \n",
       "40                    16         0.812500  3.481966e+09      10  \n",
       "..                   ...              ...           ...     ...  \n",
       "89                     1         1.000000  8.921310e+17       1  \n",
       "37                     2         0.500000  3.317056e+09       1  \n",
       "1                      9         0.888889  1.193212e+09       1  \n",
       "86                     1         1.000000  8.815221e+17       1  \n",
       "0                      1         1.000000  1.096394e+09       1  \n",
       "\n",
       "[175 rows x 13 columns]"
      ]
     },
     "execution_count": 8,
     "metadata": {},
     "output_type": "execute_result"
    }
   ],
   "source": [
    "com4_metrics = pd.merge(df,df_com4, left_on = \"user_id\", right_on = 'id').sort_values('degree', ascending = False)\n",
    "com4_metrics"
   ]
  },
  {
   "cell_type": "code",
   "execution_count": 9,
   "id": "4138ef58",
   "metadata": {},
   "outputs": [
    {
     "data": {
      "text/html": [
       "<div>\n",
       "<style scoped>\n",
       "    .dataframe tbody tr th:only-of-type {\n",
       "        vertical-align: middle;\n",
       "    }\n",
       "\n",
       "    .dataframe tbody tr th {\n",
       "        vertical-align: top;\n",
       "    }\n",
       "\n",
       "    .dataframe thead th {\n",
       "        text-align: right;\n",
       "    }\n",
       "</style>\n",
       "<table border=\"1\" class=\"dataframe\">\n",
       "  <thead>\n",
       "    <tr style=\"text-align: right;\">\n",
       "      <th></th>\n",
       "      <th>user_id</th>\n",
       "      <th>tweet_real_news_count</th>\n",
       "      <th>tweet_fake_news_count</th>\n",
       "      <th>tweet_count</th>\n",
       "      <th>retweet_real_news_count</th>\n",
       "      <th>retweet_fake_news_count</th>\n",
       "      <th>retweet_count</th>\n",
       "      <th>tweet_retweet_fake_count</th>\n",
       "      <th>tweet_retweet_real_count</th>\n",
       "      <th>tweet_retweet_count</th>\n",
       "      <th>percentage_fake</th>\n",
       "      <th>id</th>\n",
       "      <th>degree</th>\n",
       "    </tr>\n",
       "  </thead>\n",
       "  <tbody>\n",
       "    <tr>\n",
       "      <th>41</th>\n",
       "      <td>55312746</td>\n",
       "      <td>0</td>\n",
       "      <td>16</td>\n",
       "      <td>16</td>\n",
       "      <td>0</td>\n",
       "      <td>0</td>\n",
       "      <td>0</td>\n",
       "      <td>16</td>\n",
       "      <td>0</td>\n",
       "      <td>16</td>\n",
       "      <td>1.000000</td>\n",
       "      <td>5.531275e+07</td>\n",
       "      <td>16</td>\n",
       "    </tr>\n",
       "    <tr>\n",
       "      <th>17</th>\n",
       "      <td>234126951</td>\n",
       "      <td>1</td>\n",
       "      <td>18</td>\n",
       "      <td>19</td>\n",
       "      <td>0</td>\n",
       "      <td>0</td>\n",
       "      <td>0</td>\n",
       "      <td>18</td>\n",
       "      <td>1</td>\n",
       "      <td>19</td>\n",
       "      <td>0.947368</td>\n",
       "      <td>2.341270e+08</td>\n",
       "      <td>13</td>\n",
       "    </tr>\n",
       "    <tr>\n",
       "      <th>25</th>\n",
       "      <td>314536920</td>\n",
       "      <td>7</td>\n",
       "      <td>18</td>\n",
       "      <td>25</td>\n",
       "      <td>0</td>\n",
       "      <td>0</td>\n",
       "      <td>0</td>\n",
       "      <td>18</td>\n",
       "      <td>7</td>\n",
       "      <td>25</td>\n",
       "      <td>0.720000</td>\n",
       "      <td>3.145369e+08</td>\n",
       "      <td>13</td>\n",
       "    </tr>\n",
       "    <tr>\n",
       "      <th>9</th>\n",
       "      <td>16634544</td>\n",
       "      <td>1</td>\n",
       "      <td>25</td>\n",
       "      <td>26</td>\n",
       "      <td>1</td>\n",
       "      <td>0</td>\n",
       "      <td>1</td>\n",
       "      <td>25</td>\n",
       "      <td>2</td>\n",
       "      <td>27</td>\n",
       "      <td>0.925926</td>\n",
       "      <td>1.663454e+07</td>\n",
       "      <td>8</td>\n",
       "    </tr>\n",
       "    <tr>\n",
       "      <th>116</th>\n",
       "      <td>4781576424</td>\n",
       "      <td>0</td>\n",
       "      <td>13</td>\n",
       "      <td>13</td>\n",
       "      <td>0</td>\n",
       "      <td>0</td>\n",
       "      <td>0</td>\n",
       "      <td>13</td>\n",
       "      <td>0</td>\n",
       "      <td>13</td>\n",
       "      <td>1.000000</td>\n",
       "      <td>4.781576e+09</td>\n",
       "      <td>8</td>\n",
       "    </tr>\n",
       "    <tr>\n",
       "      <th>...</th>\n",
       "      <td>...</td>\n",
       "      <td>...</td>\n",
       "      <td>...</td>\n",
       "      <td>...</td>\n",
       "      <td>...</td>\n",
       "      <td>...</td>\n",
       "      <td>...</td>\n",
       "      <td>...</td>\n",
       "      <td>...</td>\n",
       "      <td>...</td>\n",
       "      <td>...</td>\n",
       "      <td>...</td>\n",
       "      <td>...</td>\n",
       "    </tr>\n",
       "    <tr>\n",
       "      <th>58</th>\n",
       "      <td>833311885743255552</td>\n",
       "      <td>0</td>\n",
       "      <td>1</td>\n",
       "      <td>1</td>\n",
       "      <td>0</td>\n",
       "      <td>1</td>\n",
       "      <td>1</td>\n",
       "      <td>2</td>\n",
       "      <td>0</td>\n",
       "      <td>2</td>\n",
       "      <td>1.000000</td>\n",
       "      <td>8.333119e+17</td>\n",
       "      <td>1</td>\n",
       "    </tr>\n",
       "    <tr>\n",
       "      <th>57</th>\n",
       "      <td>824420374351863808</td>\n",
       "      <td>11</td>\n",
       "      <td>1</td>\n",
       "      <td>12</td>\n",
       "      <td>0</td>\n",
       "      <td>0</td>\n",
       "      <td>0</td>\n",
       "      <td>1</td>\n",
       "      <td>11</td>\n",
       "      <td>12</td>\n",
       "      <td>0.083333</td>\n",
       "      <td>8.244204e+17</td>\n",
       "      <td>1</td>\n",
       "    </tr>\n",
       "    <tr>\n",
       "      <th>56</th>\n",
       "      <td>822423872</td>\n",
       "      <td>0</td>\n",
       "      <td>1</td>\n",
       "      <td>1</td>\n",
       "      <td>0</td>\n",
       "      <td>0</td>\n",
       "      <td>0</td>\n",
       "      <td>1</td>\n",
       "      <td>0</td>\n",
       "      <td>1</td>\n",
       "      <td>1.000000</td>\n",
       "      <td>8.224239e+08</td>\n",
       "      <td>1</td>\n",
       "    </tr>\n",
       "    <tr>\n",
       "      <th>55</th>\n",
       "      <td>801991902409146368</td>\n",
       "      <td>0</td>\n",
       "      <td>0</td>\n",
       "      <td>0</td>\n",
       "      <td>0</td>\n",
       "      <td>1</td>\n",
       "      <td>1</td>\n",
       "      <td>1</td>\n",
       "      <td>0</td>\n",
       "      <td>1</td>\n",
       "      <td>1.000000</td>\n",
       "      <td>8.019919e+17</td>\n",
       "      <td>1</td>\n",
       "    </tr>\n",
       "    <tr>\n",
       "      <th>81</th>\n",
       "      <td>183520216</td>\n",
       "      <td>0</td>\n",
       "      <td>0</td>\n",
       "      <td>0</td>\n",
       "      <td>0</td>\n",
       "      <td>1</td>\n",
       "      <td>1</td>\n",
       "      <td>1</td>\n",
       "      <td>0</td>\n",
       "      <td>1</td>\n",
       "      <td>1.000000</td>\n",
       "      <td>1.835202e+08</td>\n",
       "      <td>1</td>\n",
       "    </tr>\n",
       "  </tbody>\n",
       "</table>\n",
       "<p>143 rows × 13 columns</p>\n",
       "</div>"
      ],
      "text/plain": [
       "                user_id  tweet_real_news_count  tweet_fake_news_count  \\\n",
       "41             55312746                      0                     16   \n",
       "17            234126951                      1                     18   \n",
       "25            314536920                      7                     18   \n",
       "9              16634544                      1                     25   \n",
       "116          4781576424                      0                     13   \n",
       "..                  ...                    ...                    ...   \n",
       "58   833311885743255552                      0                      1   \n",
       "57   824420374351863808                     11                      1   \n",
       "56            822423872                      0                      1   \n",
       "55   801991902409146368                      0                      0   \n",
       "81            183520216                      0                      0   \n",
       "\n",
       "     tweet_count  retweet_real_news_count  retweet_fake_news_count  \\\n",
       "41            16                        0                        0   \n",
       "17            19                        0                        0   \n",
       "25            25                        0                        0   \n",
       "9             26                        1                        0   \n",
       "116           13                        0                        0   \n",
       "..           ...                      ...                      ...   \n",
       "58             1                        0                        1   \n",
       "57            12                        0                        0   \n",
       "56             1                        0                        0   \n",
       "55             0                        0                        1   \n",
       "81             0                        0                        1   \n",
       "\n",
       "     retweet_count  tweet_retweet_fake_count  tweet_retweet_real_count  \\\n",
       "41               0                        16                         0   \n",
       "17               0                        18                         1   \n",
       "25               0                        18                         7   \n",
       "9                1                        25                         2   \n",
       "116              0                        13                         0   \n",
       "..             ...                       ...                       ...   \n",
       "58               1                         2                         0   \n",
       "57               0                         1                        11   \n",
       "56               0                         1                         0   \n",
       "55               1                         1                         0   \n",
       "81               1                         1                         0   \n",
       "\n",
       "     tweet_retweet_count  percentage_fake            id  degree  \n",
       "41                    16         1.000000  5.531275e+07      16  \n",
       "17                    19         0.947368  2.341270e+08      13  \n",
       "25                    25         0.720000  3.145369e+08      13  \n",
       "9                     27         0.925926  1.663454e+07       8  \n",
       "116                   13         1.000000  4.781576e+09       8  \n",
       "..                   ...              ...           ...     ...  \n",
       "58                     2         1.000000  8.333119e+17       1  \n",
       "57                    12         0.083333  8.244204e+17       1  \n",
       "56                     1         1.000000  8.224239e+08       1  \n",
       "55                     1         1.000000  8.019919e+17       1  \n",
       "81                     1         1.000000  1.835202e+08       1  \n",
       "\n",
       "[143 rows x 13 columns]"
      ]
     },
     "execution_count": 9,
     "metadata": {},
     "output_type": "execute_result"
    }
   ],
   "source": [
    "com5_metrics = pd.merge(df,df_com5, left_on = \"user_id\", right_on = 'id').sort_values('degree', ascending = False)\n",
    "com5_metrics"
   ]
  },
  {
   "cell_type": "code",
   "execution_count": 61,
   "id": "1d2f139b",
   "metadata": {},
   "outputs": [
    {
     "data": {
      "image/png": "[encoded data removed]",
      "text/plain": [
       "<Figure size 864x576 with 1 Axes>"
      ]
     },
     "metadata": {
      "needs_background": "light"
     },
     "output_type": "display_data"
    }
   ],
   "source": [
    "fig, ax = plt.subplots(figsize=(12,8))\n",
    "sns.scatterplot(data=com1_metrics, x=\"tweet_retweet_fake_count\", y=\"percentage_fake\",legend = False, \n",
    "                size=\"degree\", sizes=(50, 2000), alpha = 0.3, color = 'r')\n",
    "\n",
    "plt.xlabel('Fake Tweet/Retweet Count', fontsize=15)\n",
    "plt.ylabel('Percentage Fake News',  fontsize=15)\n",
    "\n",
    "ax.set_title('Fake Tweet Count vs Percentage Fake vs Degree for Community 1',fontsize = 18, pad=40)\n",
    "ax.spines['right'].set_visible(False)\n",
    "ax.spines['top'].set_visible(False)\n",
    "\n",
    "plt.show()"
   ]
  },
  {
   "cell_type": "code",
   "execution_count": 62,
   "id": "90350ec9",
   "metadata": {},
   "outputs": [
    {
     "data": {
      "image/png": "[encoded data removed]",
      "text/plain": [
       "<Figure size 864x576 with 1 Axes>"
      ]
     },
     "metadata": {
      "needs_background": "light"
     },
     "output_type": "display_data"
    }
   ],
   "source": [
    "fig, ax = plt.subplots(figsize=(12,8))\n",
    "sns.scatterplot(data=com2_metrics, x=\"tweet_retweet_fake_count\", y=\"percentage_fake\",legend = False, \n",
    "                size=\"degree\", sizes=(50, 2000), alpha = 0.3, color = 'r')\n",
    "\n",
    "plt.xlabel('Fake Tweet/Retweet Count', fontsize=15)\n",
    "plt.ylabel('Percentage Fake News',  fontsize=15)\n",
    "\n",
    "ax.set_title('Fake Tweet Count vs Percentage Fake vs Degree for Community 2',fontsize = 18, pad=40)\n",
    "ax.spines['right'].set_visible(False)\n",
    "ax.spines['top'].set_visible(False)\n",
    "\n",
    "plt.show()"
   ]
  },
  {
   "cell_type": "code",
   "execution_count": 63,
   "id": "df7fbec4",
   "metadata": {},
   "outputs": [
    {
     "data": {
      "image/png": "[encoded data removed]",
      "text/plain": [
       "<Figure size 864x576 with 1 Axes>"
      ]
     },
     "metadata": {
      "needs_background": "light"
     },
     "output_type": "display_data"
    }
   ],
   "source": [
    "fig, ax = plt.subplots(figsize=(12,8))\n",
    "sns.scatterplot(data=com3_metrics, x=\"tweet_retweet_fake_count\", y=\"percentage_fake\",legend = False, \n",
    "                size=\"degree\", sizes=(50, 2000), alpha = 0.3, color = 'r')\n",
    "\n",
    "plt.xlabel('Fake Tweet/Retweet Count', fontsize=15)\n",
    "plt.ylabel('Percentage Fake News',  fontsize=15)\n",
    "\n",
    "ax.set_title('Fake Tweet Count vs Percentage Fake vs Degree for Community 3',fontsize = 18, pad=40)\n",
    "ax.spines['right'].set_visible(False)\n",
    "ax.spines['top'].set_visible(False)\n",
    "\n",
    "plt.show()"
   ]
  },
  {
   "cell_type": "code",
   "execution_count": 64,
   "id": "086ef3e0",
   "metadata": {},
   "outputs": [
    {
     "data": {
      "image/png": "[encoded data removed]",
      "text/plain": [
       "<Figure size 864x576 with 1 Axes>"
      ]
     },
     "metadata": {
      "needs_background": "light"
     },
     "output_type": "display_data"
    }
   ],
   "source": [
    "fig, ax = plt.subplots(figsize=(12,8))\n",
    "sns.scatterplot(data=com4_metrics, x=\"tweet_retweet_fake_count\", y=\"percentage_fake\",legend = False, \n",
    "                size=\"degree\", sizes=(50, 2000), alpha = 0.3, color = 'r')\n",
    "\n",
    "plt.xlabel('Fake Tweet/Retweet Count', fontsize=15)\n",
    "plt.ylabel('Percentage Fake News',  fontsize=15)\n",
    "\n",
    "ax.set_title('Fake Tweet Count vs Percentage Fake vs Degree for Community 4',fontsize = 18, pad=40)\n",
    "ax.spines['right'].set_visible(False)\n",
    "ax.spines['top'].set_visible(False)\n",
    "\n",
    "plt.show()"
   ]
  },
  {
   "cell_type": "code",
   "execution_count": 77,
   "id": "efab3ed6",
   "metadata": {},
   "outputs": [
    {
     "data": {
      "image/png": "[encoded data removed]",
      "text/plain": [
       "<Figure size 864x576 with 1 Axes>"
      ]
     },
     "metadata": {
      "needs_background": "light"
     },
     "output_type": "display_data"
    }
   ],
   "source": [
    "fig, ax = plt.subplots(figsize=(12,8))\n",
    "sns.scatterplot(data=com5_metrics, x=\"tweet_retweet_fake_count\", y=\"percentage_fake\", legend = False,\n",
    "                size=\"degree\", sizes=(50, 2000), alpha = 0.3, color = 'r', marker='o')\n",
    "\n",
    "plt.xlabel('Fake Tweet/Retweet Count', fontsize=15)\n",
    "plt.ylabel('Percentage Fake News',  fontsize=15)\n",
    "\n",
    "ax.set_title('Fake Tweet Count vs Percentage Fake vs Degree for Community 5',fontsize = 18, pad=40)\n",
    "ax.spines['right'].set_visible(False)\n",
    "ax.spines['top'].set_visible(False)\n",
    "\n",
    "plt.show()"
   ]
  },
  {
   "cell_type": "code",
   "execution_count": 78,
   "id": "742c1d06",
   "metadata": {},
   "outputs": [],
   "source": [
    "import plotly.express as px"
   ]
  },
  {
   "cell_type": "code",
   "execution_count": 104,
   "id": "59d23c54",
   "metadata": {},
   "outputs": [
    {
     "data": {
      "application/vnd.plotly.v1+json": {
       "config": {
        "plotlyServerURL": "https://plot.ly"
       },
       "data": [
        {
         "hovertemplate": "<b>%{hovertext}</b><br><br>Fake Tweet/Retweet Count=%{x}<br>Degree=%{marker.size}<br>Percentage Fake=%{marker.color}<extra></extra>",
         "hovertext": [
          1911303422,
          199768203,
          714887575081607200,
          53297881,
          29993565,
          2259041257,
          537904539,
          15843059,
          1035115242,
          905374200,
          217575068,
          503585510,
          3957294317,
          2326604153,
          52989817,
          264934281,
          583122991,
          632378545,
          86796377,
          31579226,
          2460974640,
          874990561765322800,
          4482362015,
          286025358,
          2981075888,
          938948774,
          345343418,
          65949052,
          3319287287,
          550560179,
          247176719,
          1341686353,
          122596891,
          1066459346,
          3305030403,
          735579023946944500,
          718748352997777400,
          67595149,
          33981571,
          537602851,
          763180569345654800,
          113423108,
          840409243375272000,
          941224903,
          33170847,
          19218108,
          2719597309,
          2191707162,
          3145706092,
          16722647,
          3817328187,
          4085135908,
          2845849081,
          3939674009,
          54524007,
          630577781,
          613132047,
          283455112,
          591981595,
          703681242429046800,
          564725304,
          54983311,
          751214924,
          2685275712,
          338283187,
          792054519907643400,
          307926374,
          441378703,
          400270219,
          350437162,
          3167591273,
          628678146,
          426735405,
          67887578,
          2172026164,
          213968367,
          20203344,
          420406208,
          186520409,
          482418139,
          2284614762,
          1529809286,
          2287366542,
          2307296066,
          48986203,
          1004671860,
          51199923,
          524435492,
          789246000258920400,
          767100119049236500,
          2366196514,
          2393225036,
          61013605,
          707494776,
          69163320,
          1074216337,
          1206161593,
          308520434,
          2898201135,
          305979692,
          1863145748,
          1145837502,
          1184641903,
          266458189,
          21503693,
          1583684022,
          1109531767,
          35435904,
          364661917,
          3430962999,
          352169101,
          3657635540,
          3399349145,
          3394241285,
          1608010855,
          166207599,
          16621190,
          32414658,
          365028122,
          34109146,
          36649334,
          376020156,
          38093586,
          381234311,
          384599314,
          386040111,
          387915584,
          392519677,
          1548047228,
          3950928695,
          401476997,
          40398279,
          1530504780,
          415280026,
          152610683,
          380543217,
          318328884,
          323308427,
          4258239203,
          2815402178,
          2825240079,
          2832236690,
          177182882,
          2845224610,
          1708038163,
          2865726875,
          28662619,
          2869837616,
          2875866962,
          2878751485,
          2880287133,
          2883469589,
          2935416411,
          29409786,
          2948520401,
          2974627510,
          2975507348,
          170057636,
          3001049548,
          3004249311,
          3025266342,
          16963034,
          3083284793,
          16672102,
          3159457957,
          3161363832,
          166594076,
          31718463,
          423502732,
          4428208822,
          4263383185,
          729552023121735700,
          118396349,
          764080735,
          774041620559822800,
          779879770330849300,
          786259108936552400,
          793631569650982900,
          794778854,
          795899283325276200,
          797312105540034600,
          797473896215838700,
          801876800951357400,
          816422754572324900,
          822244212,
          823203099820965900,
          830118236406632400,
          831675103,
          840230431,
          853711446,
          110912820,
          874814213197357000,
          87504275,
          878425577094488000,
          885852887624101900,
          890005525,
          110071965,
          930326239,
          937177038510727200,
          109908399,
          961706424,
          732445833682018300,
          719756100598427600,
          152508248,
          71926170,
          4427177261,
          185977718,
          445015186,
          46419721,
          468110721,
          471619937,
          4809840779,
          14359655,
          4859150405,
          1419005648,
          4910270788,
          491220394,
          49141281,
          492681551,
          50287759,
          505214831,
          1396779372,
          523443851,
          138178844,
          135697030,
          133178002,
          56814425,
          60381360,
          607978139,
          60861852,
          132229098,
          130301581,
          1298623189,
          67514697,
          2755272040,
          2540825701,
          2600517884,
          2958157228,
          3234248484,
          31276933,
          30925817,
          54882415,
          553388088,
          55539703,
          3042177503,
          3016618421,
          58925278,
          2999847544,
          5920142,
          606316616,
          299046498,
          615360297,
          29230247,
          26002250,
          66833170,
          2909445756,
          28821697,
          28732136,
          713447417287299100,
          714434936,
          28649283,
          716888328008835100,
          2859834039,
          2841487088,
          740473468920156200,
          74169289,
          75397647,
          755908516255264800,
          526073036,
          50902189,
          3235627787,
          4830472692,
          3381217769,
          3313105635,
          3604237222,
          3609635354,
          37892499,
          390555976,
          3304347244,
          3296504462,
          403997170,
          40952195,
          411377266,
          4117939516,
          4237222877,
          4257385693,
          4277363655,
          42914466,
          4298089121,
          438900003,
          3293564224,
          4479867201,
          3261405989,
          4493182468,
          451850533,
          4520812055,
          45467431,
          458116092,
          4739901797,
          4774170301,
          4821267819,
          2835978636,
          787296414695092200,
          2790768176,
          1485125072,
          1515892296,
          152448425,
          2494936734,
          153049921,
          1570779979,
          1703385944,
          17115086,
          246082925,
          241291014,
          1961579168,
          2386087811,
          22250210,
          215459458,
          222048639,
          219736461,
          224118311,
          2159220026,
          2279480828,
          19805053,
          2303776496,
          19650992,
          23247155,
          1917632858,
          2342479104,
          187513512,
          237720874,
          241084501,
          251040359,
          3412873691,
          1496608986,
          146666171,
          793521662545264600,
          14427407,
          797075391378837500,
          804785157106466800,
          815245393969709000,
          827830128474415100,
          833756904,
          863021084156858400,
          868823510235435000,
          27551703,
          877662187074056200,
          898975153,
          933737821910614000,
          2729946330,
          942448939,
          954186496067616800,
          99522642,
          1090259760,
          104504317,
          261879278,
          1077434971,
          109895960,
          1144041037,
          118552712,
          261462593,
          1261767385,
          1281940632,
          26107813,
          1420535665,
          143959357,
          1440616824,
          98042044
         ],
         "legendgroup": "",
         "marker": {
          "color": [
           0.984375,
           0.875,
           1,
           0.8666666666666667,
           1,
           0.9705882352941176,
           1,
           1,
           1,
           0.5833333333333334,
           0.88,
           0.8571428571428571,
           1,
           1,
           0.6666666666666666,
           0.5238095238095238,
           0.8571428571428571,
           0.5294117647058824,
           0.9,
           1,
           1,
           1,
           1,
           1,
           0.8,
           0.875,
           1,
           0.9166666666666666,
           1,
           1,
           1,
           0.8,
           1,
           1,
           1,
           1,
           1,
           0.5714285714285714,
           0.375,
           0.7142857142857143,
           1,
           0.6666666666666666,
           1,
           0.75,
           0.5,
           0.75,
           1,
           1,
           1,
           1,
           1,
           0.4285714285714285,
           0.6,
           1,
           1,
           1,
           1,
           1,
           0.5,
           1,
           1,
           1,
           1,
           1,
           1,
           1,
           1,
           1,
           0.5,
           0.5,
           1,
           1,
           1,
           1,
           1,
           1,
           0.6666666666666666,
           1,
           1,
           1,
           0.5,
           1,
           1,
           0.1333333333333333,
           1,
           1,
           1,
           1,
           1,
           1,
           1,
           0.5,
           1,
           1,
           0.7142857142857143,
           0.6666666666666666,
           0.5,
           1,
           1,
           0.25,
           1,
           1,
           0.6666666666666666,
           0.6666666666666666,
           0.8,
           0.25,
           1,
           0.5,
           1,
           1,
           1,
           1,
           1,
           1,
           1,
           1,
           1,
           0.3333333333333333,
           1,
           1,
           0.5,
           0.25,
           1,
           1,
           0.5,
           1,
           1,
           1,
           1,
           1,
           1,
           1,
           1,
           1,
           1,
           1,
           1,
           1,
           1,
           1,
           1,
           0.5,
           1,
           1,
           1,
           1,
           1,
           0.6666666666666666,
           1,
           1,
           1,
           1,
           0.75,
           0.25,
           0.125,
           1,
           1,
           1,
           0.5,
           1,
           1,
           0.3333333333333333,
           1,
           1,
           1,
           1,
           0.8,
           0.2,
           1,
           1,
           1,
           1,
           1,
           1,
           1,
           1,
           1,
           1,
           1,
           1,
           1,
           1,
           1,
           1,
           1,
           1,
           1,
           1,
           1,
           0.6666666666666666,
           1,
           1,
           0.3333333333333333,
           1,
           1,
           0.8,
           0.2727272727272727,
           1,
           1,
           1,
           1,
           1,
           1,
           1,
           0.3333333333333333,
           1,
           1,
           0.6,
           1,
           1,
           1,
           1,
           0.6,
           1,
           0.5,
           1,
           1,
           1,
           1,
           0.5,
           1,
           1,
           1,
           1,
           1,
           1,
           1,
           1,
           1,
           1,
           1,
           1,
           1,
           1,
           1,
           1,
           1,
           1,
           1,
           0.5,
           1,
           1,
           1,
           1,
           1,
           1,
           1,
           1,
           1,
           1,
           0.3,
           1,
           1,
           1,
           1,
           1,
           1,
           0.6666666666666666,
           1,
           1,
           1,
           1,
           1,
           1,
           1,
           1,
           1,
           1,
           1,
           1,
           1,
           1,
           1,
           1,
           1,
           0.3333333333333333,
           1,
           0.6,
           1,
           1,
           1,
           1,
           1,
           1,
           1,
           1,
           1,
           1,
           1,
           1,
           1,
           1,
           1,
           1,
           1,
           1,
           1,
           1,
           1,
           1,
           1,
           1,
           1,
           1,
           1,
           1,
           1,
           1,
           1,
           1,
           1,
           0.5,
           0.3333333333333333,
           1,
           1,
           1,
           1,
           1,
           1,
           1,
           1,
           1,
           1,
           1,
           1,
           1,
           1,
           1,
           1,
           1,
           1,
           1,
           1,
           1,
           1,
           1,
           1,
           0.1666666666666666,
           1,
           1,
           0.5,
           1,
           1,
           1,
           1,
           1,
           1,
           0.2857142857142857,
           1,
           1,
           1,
           1,
           1,
           1,
           1,
           1,
           0.5,
           1,
           1,
           0.25,
           0.6666666666666666,
           1,
           1,
           1,
           0.5,
           1,
           1,
           1
          ],
          "coloraxis": "coloraxis",
          "size": [
           146,
           15,
           13,
           12,
           11,
           10,
           9,
           9,
           8,
           7,
           6,
           6,
           6,
           6,
           6,
           6,
           5,
           5,
           5,
           4,
           4,
           4,
           4,
           4,
           4,
           4,
           4,
           4,
           3,
           3,
           3,
           3,
           3,
           3,
           3,
           3,
           3,
           3,
           3,
           3,
           3,
           3,
           3,
           3,
           3,
           3,
           3,
           3,
           3,
           3,
           3,
           3,
           3,
           3,
           2,
           2,
           2,
           2,
           2,
           2,
           2,
           2,
           2,
           2,
           2,
           2,
           2,
           2,
           2,
           2,
           2,
           2,
           2,
           2,
           2,
           2,
           2,
           2,
           2,
           2,
           2,
           2,
           2,
           2,
           2,
           2,
           2,
           2,
           2,
           2,
           2,
           2,
           2,
           2,
           2,
           2,
           2,
           2,
           2,
           2,
           2,
           2,
           2,
           2,
           2,
           2,
           2,
           1,
           1,
           1,
           1,
           1,
           1,
           1,
           1,
           1,
           1,
           1,
           1,
           1,
           1,
           1,
           1,
           1,
           1,
           1,
           1,
           1,
           1,
           1,
           1,
           1,
           1,
           1,
           1,
           1,
           1,
           1,
           1,
           1,
           1,
           1,
           1,
           1,
           1,
           1,
           1,
           1,
           1,
           1,
           1,
           1,
           1,
           1,
           1,
           1,
           1,
           1,
           1,
           1,
           1,
           1,
           1,
           1,
           1,
           1,
           1,
           1,
           1,
           1,
           1,
           1,
           1,
           1,
           1,
           1,
           1,
           1,
           1,
           1,
           1,
           1,
           1,
           1,
           1,
           1,
           1,
           1,
           1,
           1,
           1,
           1,
           1,
           1,
           1,
           1,
           1,
           1,
           1,
           1,
           1,
           1,
           1,
           1,
           1,
           1,
           1,
           1,
           1,
           1,
           1,
           1,
           1,
           1,
           1,
           1,
           1,
           1,
           1,
           1,
           1,
           1,
           1,
           1,
           1,
           1,
           1,
           1,
           1,
           1,
           1,
           1,
           1,
           1,
           1,
           1,
           1,
           1,
           1,
           1,
           1,
           1,
           1,
           1,
           1,
           1,
           1,
           1,
           1,
           1,
           1,
           1,
           1,
           1,
           1,
           1,
           1,
           1,
           1,
           1,
           1,
           1,
           1,
           1,
           1,
           1,
           1,
           1,
           1,
           1,
           1,
           1,
           1,
           1,
           1,
           1,
           1,
           1,
           1,
           1,
           1,
           1,
           1,
           1,
           1,
           1,
           1,
           1,
           1,
           1,
           1,
           1,
           1,
           1,
           1,
           1,
           1,
           1,
           1,
           1,
           1,
           1,
           1,
           1,
           1,
           1,
           1,
           1,
           1,
           1,
           1,
           1,
           1,
           1,
           1,
           1,
           1,
           1,
           1,
           1,
           1,
           1,
           1,
           1,
           1,
           1,
           1,
           1,
           1,
           1,
           1,
           1,
           1,
           1,
           1,
           1,
           1,
           1,
           1,
           1,
           1,
           1,
           1,
           1,
           1,
           1,
           1,
           1,
           1,
           1,
           1,
           1,
           1,
           1,
           1,
           1,
           1,
           1,
           1,
           1,
           1,
           1,
           1,
           1,
           1,
           1,
           1,
           1
          ],
          "sizemode": "area",
          "sizeref": 0.04055555555555555,
          "symbol": "circle"
         },
         "mode": "markers",
         "name": "",
         "orientation": "v",
         "showlegend": false,
         "type": "scatter",
         "x": [
          189,
          21,
          37,
          13,
          15,
          33,
          10,
          9,
          19,
          7,
          44,
          6,
          11,
          17,
          12,
          11,
          6,
          9,
          9,
          5,
          4,
          4,
          7,
          11,
          4,
          7,
          4,
          11,
          3,
          4,
          3,
          4,
          4,
          3,
          3,
          3,
          4,
          4,
          3,
          5,
          4,
          4,
          4,
          3,
          4,
          3,
          4,
          3,
          5,
          4,
          3,
          3,
          3,
          3,
          2,
          4,
          2,
          2,
          3,
          2,
          4,
          2,
          2,
          2,
          2,
          3,
          5,
          2,
          2,
          2,
          2,
          2,
          3,
          2,
          2,
          2,
          2,
          7,
          2,
          3,
          3,
          2,
          3,
          2,
          2,
          3,
          2,
          2,
          2,
          3,
          3,
          2,
          2,
          2,
          5,
          2,
          2,
          2,
          2,
          2,
          2,
          3,
          2,
          2,
          4,
          2,
          14,
          1,
          1,
          1,
          1,
          1,
          1,
          1,
          1,
          1,
          1,
          1,
          1,
          1,
          1,
          1,
          1,
          1,
          1,
          1,
          1,
          1,
          1,
          1,
          1,
          1,
          1,
          1,
          1,
          1,
          1,
          1,
          1,
          1,
          1,
          1,
          1,
          1,
          1,
          1,
          3,
          2,
          1,
          5,
          1,
          1,
          3,
          1,
          1,
          1,
          1,
          1,
          1,
          1,
          1,
          1,
          1,
          1,
          1,
          1,
          4,
          1,
          1,
          1,
          1,
          1,
          1,
          1,
          1,
          1,
          1,
          1,
          1,
          1,
          3,
          1,
          1,
          2,
          2,
          1,
          1,
          1,
          1,
          2,
          1,
          1,
          1,
          1,
          3,
          4,
          3,
          1,
          2,
          1,
          1,
          1,
          1,
          1,
          2,
          5,
          6,
          6,
          1,
          1,
          1,
          1,
          3,
          1,
          1,
          5,
          2,
          1,
          1,
          1,
          1,
          1,
          1,
          1,
          1,
          1,
          3,
          1,
          4,
          1,
          1,
          1,
          1,
          1,
          1,
          1,
          1,
          3,
          1,
          1,
          1,
          1,
          1,
          1,
          3,
          1,
          1,
          1,
          3,
          1,
          3,
          1,
          1,
          2,
          1,
          1,
          1,
          2,
          1,
          1,
          1,
          1,
          1,
          1,
          1,
          1,
          1,
          1,
          1,
          1,
          2,
          1,
          1,
          1,
          1,
          2,
          1,
          3,
          1,
          1,
          1,
          1,
          1,
          1,
          2,
          1,
          1,
          1,
          2,
          1,
          1,
          1,
          1,
          1,
          1,
          1,
          1,
          1,
          1,
          1,
          1,
          1,
          1,
          1,
          1,
          1,
          1,
          1,
          2,
          3,
          1,
          1,
          2,
          1,
          2,
          1,
          15,
          27,
          1,
          1,
          1,
          1,
          1,
          1,
          1,
          1,
          1,
          1,
          1,
          1,
          1,
          1,
          1,
          1,
          3,
          1,
          1,
          1,
          1,
          1,
          1,
          1,
          1,
          1,
          1,
          1,
          1,
          2,
          1,
          1,
          1,
          1,
          1,
          1,
          1,
          1,
          1,
          1,
          1,
          1,
          2,
          1,
          2,
          1,
          1,
          1,
          7,
          1
         ],
         "xaxis": "x",
         "y": [
          146,
          15,
          13,
          12,
          11,
          10,
          9,
          9,
          8,
          7,
          6,
          6,
          6,
          6,
          6,
          6,
          5,
          5,
          5,
          4,
          4,
          4,
          4,
          4,
          4,
          4,
          4,
          4,
          3,
          3,
          3,
          3,
          3,
          3,
          3,
          3,
          3,
          3,
          3,
          3,
          3,
          3,
          3,
          3,
          3,
          3,
          3,
          3,
          3,
          3,
          3,
          3,
          3,
          3,
          2,
          2,
          2,
          2,
          2,
          2,
          2,
          2,
          2,
          2,
          2,
          2,
          2,
          2,
          2,
          2,
          2,
          2,
          2,
          2,
          2,
          2,
          2,
          2,
          2,
          2,
          2,
          2,
          2,
          2,
          2,
          2,
          2,
          2,
          2,
          2,
          2,
          2,
          2,
          2,
          2,
          2,
          2,
          2,
          2,
          2,
          2,
          2,
          2,
          2,
          2,
          2,
          2,
          1,
          1,
          1,
          1,
          1,
          1,
          1,
          1,
          1,
          1,
          1,
          1,
          1,
          1,
          1,
          1,
          1,
          1,
          1,
          1,
          1,
          1,
          1,
          1,
          1,
          1,
          1,
          1,
          1,
          1,
          1,
          1,
          1,
          1,
          1,
          1,
          1,
          1,
          1,
          1,
          1,
          1,
          1,
          1,
          1,
          1,
          1,
          1,
          1,
          1,
          1,
          1,
          1,
          1,
          1,
          1,
          1,
          1,
          1,
          1,
          1,
          1,
          1,
          1,
          1,
          1,
          1,
          1,
          1,
          1,
          1,
          1,
          1,
          1,
          1,
          1,
          1,
          1,
          1,
          1,
          1,
          1,
          1,
          1,
          1,
          1,
          1,
          1,
          1,
          1,
          1,
          1,
          1,
          1,
          1,
          1,
          1,
          1,
          1,
          1,
          1,
          1,
          1,
          1,
          1,
          1,
          1,
          1,
          1,
          1,
          1,
          1,
          1,
          1,
          1,
          1,
          1,
          1,
          1,
          1,
          1,
          1,
          1,
          1,
          1,
          1,
          1,
          1,
          1,
          1,
          1,
          1,
          1,
          1,
          1,
          1,
          1,
          1,
          1,
          1,
          1,
          1,
          1,
          1,
          1,
          1,
          1,
          1,
          1,
          1,
          1,
          1,
          1,
          1,
          1,
          1,
          1,
          1,
          1,
          1,
          1,
          1,
          1,
          1,
          1,
          1,
          1,
          1,
          1,
          1,
          1,
          1,
          1,
          1,
          1,
          1,
          1,
          1,
          1,
          1,
          1,
          1,
          1,
          1,
          1,
          1,
          1,
          1,
          1,
          1,
          1,
          1,
          1,
          1,
          1,
          1,
          1,
          1,
          1,
          1,
          1,
          1,
          1,
          1,
          1,
          1,
          1,
          1,
          1,
          1,
          1,
          1,
          1,
          1,
          1,
          1,
          1,
          1,
          1,
          1,
          1,
          1,
          1,
          1,
          1,
          1,
          1,
          1,
          1,
          1,
          1,
          1,
          1,
          1,
          1,
          1,
          1,
          1,
          1,
          1,
          1,
          1,
          1,
          1,
          1,
          1,
          1,
          1,
          1,
          1,
          1,
          1,
          1,
          1,
          1,
          1,
          1,
          1,
          1,
          1,
          1
         ],
         "yaxis": "y"
        }
       ],
       "layout": {
        "coloraxis": {
         "colorbar": {
          "title": {
           "text": "Percentage Fake"
          }
         },
         "colorscale": [
          [
           0,
           "rgb(0, 147, 146)"
          ],
          [
           0.16666666666666666,
           "rgb(57, 177, 133)"
          ],
          [
           0.3333333333333333,
           "rgb(156, 203, 134)"
          ],
          [
           0.5,
           "rgb(233, 226, 156)"
          ],
          [
           0.6666666666666666,
           "rgb(238, 180, 121)"
          ],
          [
           0.8333333333333334,
           "rgb(232, 132, 113)"
          ],
          [
           1,
           "rgb(207, 89, 126)"
          ]
         ]
        },
        "legend": {
         "itemsizing": "constant",
         "tracegroupgap": 0
        },
        "plot_bgcolor": "rgb(255,255,255)",
        "template": {
         "data": {
          "bar": [
           {
            "error_x": {
             "color": "#2a3f5f"
            },
            "error_y": {
             "color": "#2a3f5f"
            },
            "marker": {
             "line": {
              "color": "#E5ECF6",
              "width": 0.5
             },
             "pattern": {
              "fillmode": "overlay",
              "size": 10,
              "solidity": 0.2
             }
            },
            "type": "bar"
           }
          ],
          "barpolar": [
           {
            "marker": {
             "line": {
              "color": "#E5ECF6",
              "width": 0.5
             },
             "pattern": {
              "fillmode": "overlay",
              "size": 10,
              "solidity": 0.2
             }
            },
            "type": "barpolar"
           }
          ],
          "carpet": [
           {
            "aaxis": {
             "endlinecolor": "#2a3f5f",
             "gridcolor": "white",
             "linecolor": "white",
             "minorgridcolor": "white",
             "startlinecolor": "#2a3f5f"
            },
            "baxis": {
             "endlinecolor": "#2a3f5f",
             "gridcolor": "white",
             "linecolor": "white",
             "minorgridcolor": "white",
             "startlinecolor": "#2a3f5f"
            },
            "type": "carpet"
           }
          ],
          "choropleth": [
           {
            "colorbar": {
             "outlinewidth": 0,
             "ticks": ""
            },
            "type": "choropleth"
           }
          ],
          "contour": [
           {
            "colorbar": {
             "outlinewidth": 0,
             "ticks": ""
            },
            "colorscale": [
             [
              0,
              "#0d0887"
             ],
             [
              0.1111111111111111,
              "#46039f"
             ],
             [
              0.2222222222222222,
              "#7201a8"
             ],
             [
              0.3333333333333333,
              "#9c179e"
             ],
             [
              0.4444444444444444,
              "#bd3786"
             ],
             [
              0.5555555555555556,
              "#d8576b"
             ],
             [
              0.6666666666666666,
              "#ed7953"
             ],
             [
              0.7777777777777778,
              "#fb9f3a"
             ],
             [
              0.8888888888888888,
              "#fdca26"
             ],
             [
              1,
              "#f0f921"
             ]
            ],
            "type": "contour"
           }
          ],
          "contourcarpet": [
           {
            "colorbar": {
             "outlinewidth": 0,
             "ticks": ""
            },
            "type": "contourcarpet"
           }
          ],
          "heatmap": [
           {
            "colorbar": {
             "outlinewidth": 0,
             "ticks": ""
            },
            "colorscale": [
             [
              0,
              "#0d0887"
             ],
             [
              0.1111111111111111,
              "#46039f"
             ],
             [
              0.2222222222222222,
              "#7201a8"
             ],
             [
              0.3333333333333333,
              "#9c179e"
             ],
             [
              0.4444444444444444,
              "#bd3786"
             ],
             [
              0.5555555555555556,
              "#d8576b"
             ],
             [
              0.6666666666666666,
              "#ed7953"
             ],
             [
              0.7777777777777778,
              "#fb9f3a"
             ],
             [
              0.8888888888888888,
              "#fdca26"
             ],
             [
              1,
              "#f0f921"
             ]
            ],
            "type": "heatmap"
           }
          ],
          "heatmapgl": [
           {
            "colorbar": {
             "outlinewidth": 0,
             "ticks": ""
            },
            "colorscale": [
             [
              0,
              "#0d0887"
             ],
             [
              0.1111111111111111,
              "#46039f"
             ],
             [
              0.2222222222222222,
              "#7201a8"
             ],
             [
              0.3333333333333333,
              "#9c179e"
             ],
             [
              0.4444444444444444,
              "#bd3786"
             ],
             [
              0.5555555555555556,
              "#d8576b"
             ],
             [
              0.6666666666666666,
              "#ed7953"
             ],
             [
              0.7777777777777778,
              "#fb9f3a"
             ],
             [
              0.8888888888888888,
              "#fdca26"
             ],
             [
              1,
              "#f0f921"
             ]
            ],
            "type": "heatmapgl"
           }
          ],
          "histogram": [
           {
            "marker": {
             "pattern": {
              "fillmode": "overlay",
              "size": 10,
              "solidity": 0.2
             }
            },
            "type": "histogram"
           }
          ],
          "histogram2d": [
           {
            "colorbar": {
             "outlinewidth": 0,
             "ticks": ""
            },
            "colorscale": [
             [
              0,
              "#0d0887"
             ],
             [
              0.1111111111111111,
              "#46039f"
             ],
             [
              0.2222222222222222,
              "#7201a8"
             ],
             [
              0.3333333333333333,
              "#9c179e"
             ],
             [
              0.4444444444444444,
              "#bd3786"
             ],
             [
              0.5555555555555556,
              "#d8576b"
             ],
             [
              0.6666666666666666,
              "#ed7953"
             ],
             [
              0.7777777777777778,
              "#fb9f3a"
             ],
             [
              0.8888888888888888,
              "#fdca26"
             ],
             [
              1,
              "#f0f921"
             ]
            ],
            "type": "histogram2d"
           }
          ],
          "histogram2dcontour": [
           {
            "colorbar": {
             "outlinewidth": 0,
             "ticks": ""
            },
            "colorscale": [
             [
              0,
              "#0d0887"
             ],
             [
              0.1111111111111111,
              "#46039f"
             ],
             [
              0.2222222222222222,
              "#7201a8"
             ],
             [
              0.3333333333333333,
              "#9c179e"
             ],
             [
              0.4444444444444444,
              "#bd3786"
             ],
             [
              0.5555555555555556,
              "#d8576b"
             ],
             [
              0.6666666666666666,
              "#ed7953"
             ],
             [
              0.7777777777777778,
              "#fb9f3a"
             ],
             [
              0.8888888888888888,
              "#fdca26"
             ],
             [
              1,
              "#f0f921"
             ]
            ],
            "type": "histogram2dcontour"
           }
          ],
          "mesh3d": [
           {
            "colorbar": {
             "outlinewidth": 0,
             "ticks": ""
            },
            "type": "mesh3d"
           }
          ],
          "parcoords": [
           {
            "line": {
             "colorbar": {
              "outlinewidth": 0,
              "ticks": ""
             }
            },
            "type": "parcoords"
           }
          ],
          "pie": [
           {
            "automargin": true,
            "type": "pie"
           }
          ],
          "scatter": [
           {
            "marker": {
             "colorbar": {
              "outlinewidth": 0,
              "ticks": ""
             }
            },
            "type": "scatter"
           }
          ],
          "scatter3d": [
           {
            "line": {
             "colorbar": {
              "outlinewidth": 0,
              "ticks": ""
             }
            },
            "marker": {
             "colorbar": {
              "outlinewidth": 0,
              "ticks": ""
             }
            },
            "type": "scatter3d"
           }
          ],
          "scattercarpet": [
           {
            "marker": {
             "colorbar": {
              "outlinewidth": 0,
              "ticks": ""
             }
            },
            "type": "scattercarpet"
           }
          ],
          "scattergeo": [
           {
            "marker": {
             "colorbar": {
              "outlinewidth": 0,
              "ticks": ""
             }
            },
            "type": "scattergeo"
           }
          ],
          "scattergl": [
           {
            "marker": {
             "colorbar": {
              "outlinewidth": 0,
              "ticks": ""
             }
            },
            "type": "scattergl"
           }
          ],
          "scattermapbox": [
           {
            "marker": {
             "colorbar": {
              "outlinewidth": 0,
              "ticks": ""
             }
            },
            "type": "scattermapbox"
           }
          ],
          "scatterpolar": [
           {
            "marker": {
             "colorbar": {
              "outlinewidth": 0,
              "ticks": ""
             }
            },
            "type": "scatterpolar"
           }
          ],
          "scatterpolargl": [
           {
            "marker": {
             "colorbar": {
              "outlinewidth": 0,
              "ticks": ""
             }
            },
            "type": "scatterpolargl"
           }
          ],
          "scatterternary": [
           {
            "marker": {
             "colorbar": {
              "outlinewidth": 0,
              "ticks": ""
             }
            },
            "type": "scatterternary"
           }
          ],
          "surface": [
           {
            "colorbar": {
             "outlinewidth": 0,
             "ticks": ""
            },
            "colorscale": [
             [
              0,
              "#0d0887"
             ],
             [
              0.1111111111111111,
              "#46039f"
             ],
             [
              0.2222222222222222,
              "#7201a8"
             ],
             [
              0.3333333333333333,
              "#9c179e"
             ],
             [
              0.4444444444444444,
              "#bd3786"
             ],
             [
              0.5555555555555556,
              "#d8576b"
             ],
             [
              0.6666666666666666,
              "#ed7953"
             ],
             [
              0.7777777777777778,
              "#fb9f3a"
             ],
             [
              0.8888888888888888,
              "#fdca26"
             ],
             [
              1,
              "#f0f921"
             ]
            ],
            "type": "surface"
           }
          ],
          "table": [
           {
            "cells": {
             "fill": {
              "color": "#EBF0F8"
             },
             "line": {
              "color": "white"
             }
            },
            "header": {
             "fill": {
              "color": "#C8D4E3"
             },
             "line": {
              "color": "white"
             }
            },
            "type": "table"
           }
          ]
         },
         "layout": {
          "annotationdefaults": {
           "arrowcolor": "#2a3f5f",
           "arrowhead": 0,
           "arrowwidth": 1
          },
          "autotypenumbers": "strict",
          "coloraxis": {
           "colorbar": {
            "outlinewidth": 0,
            "ticks": ""
           }
          },
          "colorscale": {
           "diverging": [
            [
             0,
             "#8e0152"
            ],
            [
             0.1,
             "#c51b7d"
            ],
            [
             0.2,
             "#de77ae"
            ],
            [
             0.3,
             "#f1b6da"
            ],
            [
             0.4,
             "#fde0ef"
            ],
            [
             0.5,
             "#f7f7f7"
            ],
            [
             0.6,
             "#e6f5d0"
            ],
            [
             0.7,
             "#b8e186"
            ],
            [
             0.8,
             "#7fbc41"
            ],
            [
             0.9,
             "#4d9221"
            ],
            [
             1,
             "#276419"
            ]
           ],
           "sequential": [
            [
             0,
             "#0d0887"
            ],
            [
             0.1111111111111111,
             "#46039f"
            ],
            [
             0.2222222222222222,
             "#7201a8"
            ],
            [
             0.3333333333333333,
             "#9c179e"
            ],
            [
             0.4444444444444444,
             "#bd3786"
            ],
            [
             0.5555555555555556,
             "#d8576b"
            ],
            [
             0.6666666666666666,
             "#ed7953"
            ],
            [
             0.7777777777777778,
             "#fb9f3a"
            ],
            [
             0.8888888888888888,
             "#fdca26"
            ],
            [
             1,
             "#f0f921"
            ]
           ],
           "sequentialminus": [
            [
             0,
             "#0d0887"
            ],
            [
             0.1111111111111111,
             "#46039f"
            ],
            [
             0.2222222222222222,
             "#7201a8"
            ],
            [
             0.3333333333333333,
             "#9c179e"
            ],
            [
             0.4444444444444444,
             "#bd3786"
            ],
            [
             0.5555555555555556,
             "#d8576b"
            ],
            [
             0.6666666666666666,
             "#ed7953"
            ],
            [
             0.7777777777777778,
             "#fb9f3a"
            ],
            [
             0.8888888888888888,
             "#fdca26"
            ],
            [
             1,
             "#f0f921"
            ]
           ]
          },
          "colorway": [
           "#636efa",
           "#EF553B",
           "#00cc96",
           "#ab63fa",
           "#FFA15A",
           "#19d3f3",
           "#FF6692",
           "#B6E880",
           "#FF97FF",
           "#FECB52"
          ],
          "font": {
           "color": "#2a3f5f"
          },
          "geo": {
           "bgcolor": "white",
           "lakecolor": "white",
           "landcolor": "#E5ECF6",
           "showlakes": true,
           "showland": true,
           "subunitcolor": "white"
          },
          "hoverlabel": {
           "align": "left"
          },
          "hovermode": "closest",
          "mapbox": {
           "style": "light"
          },
          "paper_bgcolor": "white",
          "plot_bgcolor": "#E5ECF6",
          "polar": {
           "angularaxis": {
            "gridcolor": "white",
            "linecolor": "white",
            "ticks": ""
           },
           "bgcolor": "#E5ECF6",
           "radialaxis": {
            "gridcolor": "white",
            "linecolor": "white",
            "ticks": ""
           }
          },
          "scene": {
           "xaxis": {
            "backgroundcolor": "#E5ECF6",
            "gridcolor": "white",
            "gridwidth": 2,
            "linecolor": "white",
            "showbackground": true,
            "ticks": "",
            "zerolinecolor": "white"
           },
           "yaxis": {
            "backgroundcolor": "#E5ECF6",
            "gridcolor": "white",
            "gridwidth": 2,
            "linecolor": "white",
            "showbackground": true,
            "ticks": "",
            "zerolinecolor": "white"
           },
           "zaxis": {
            "backgroundcolor": "#E5ECF6",
            "gridcolor": "white",
            "gridwidth": 2,
            "linecolor": "white",
            "showbackground": true,
            "ticks": "",
            "zerolinecolor": "white"
           }
          },
          "shapedefaults": {
           "line": {
            "color": "#2a3f5f"
           }
          },
          "ternary": {
           "aaxis": {
            "gridcolor": "white",
            "linecolor": "white",
            "ticks": ""
           },
           "baxis": {
            "gridcolor": "white",
            "linecolor": "white",
            "ticks": ""
           },
           "bgcolor": "#E5ECF6",
           "caxis": {
            "gridcolor": "white",
            "linecolor": "white",
            "ticks": ""
           }
          },
          "title": {
           "x": 0.05
          },
          "xaxis": {
           "automargin": true,
           "gridcolor": "white",
           "linecolor": "white",
           "ticks": "",
           "title": {
            "standoff": 15
           },
           "zerolinecolor": "white",
           "zerolinewidth": 2
          },
          "yaxis": {
           "automargin": true,
           "gridcolor": "white",
           "linecolor": "white",
           "ticks": "",
           "title": {
            "standoff": 15
           },
           "zerolinecolor": "white",
           "zerolinewidth": 2
          }
         }
        },
        "title": {
         "text": "Fake Tweet Count vs Percentage Fake vs Degree for Community 1"
        },
        "xaxis": {
         "anchor": "y",
         "domain": [
          0,
          1
         ],
         "title": {
          "text": "Fake Tweet/Retweet Count"
         }
        },
        "yaxis": {
         "anchor": "x",
         "domain": [
          0,
          1
         ],
         "title": {
          "text": "Degree"
         }
        }
       }
      },
      "text/html": [
       "<div>                            <div id=\"c4f5cc33-a152-4574-8ca2-2baea27de7aa\" class=\"plotly-graph-div\" style=\"height:525px; width:100%;\"></div>            <script type=\"text/javascript\">                require([\"plotly\"], function(Plotly) {                    window.PLOTLYENV=window.PLOTLYENV || {};                                    if (document.getElementById(\"c4f5cc33-a152-4574-8ca2-2baea27de7aa\")) {                    Plotly.newPlot(                        \"c4f5cc33-a152-4574-8ca2-2baea27de7aa\",                        [{\"hovertemplate\":\"<b>%{hovertext}</b><br><br>Fake Tweet/Retweet Count=%{x}<br>Degree=%{marker.size}<br>Percentage Fake=%{marker.color}<extra></extra>\",\"hovertext\":[1911303422.0,199768203.0,7.148875750816072e+17,53297881.0,29993565.0,2259041257.0,537904539.0,15843059.0,1035115242.0,905374200.0,217575068.0,503585510.0,3957294317.0,2326604153.0,52989817.0,264934281.0,583122991.0,632378545.0,86796377.0,31579226.0,2460974640.0,8.749905617653228e+17,4482362015.0,286025358.0,2981075888.0,938948774.0,345343418.0,65949052.0,3319287287.0,550560179.0,247176719.0,1341686353.0,122596891.0,1066459346.0,3305030403.0,7.355790239469445e+17,7.187483529977774e+17,67595149.0,33981571.0,537602851.0,7.631805693456548e+17,113423108.0,8.40409243375272e+17,941224903.0,33170847.0,19218108.0,2719597309.0,2191707162.0,3145706092.0,16722647.0,3817328187.0,4085135908.0,2845849081.0,3939674009.0,54524007.0,630577781.0,613132047.0,283455112.0,591981595.0,7.036812424290468e+17,564725304.0,54983311.0,751214924.0,2685275712.0,338283187.0,7.920545199076434e+17,307926374.0,441378703.0,400270219.0,350437162.0,3167591273.0,628678146.0,426735405.0,67887578.0,2172026164.0,213968367.0,20203344.0,420406208.0,186520409.0,482418139.0,2284614762.0,1529809286.0,2287366542.0,2307296066.0,48986203.0,1004671860.0,51199923.0,524435492.0,7.892460002589204e+17,7.671001190492365e+17,2366196514.0,2393225036.0,61013605.0,707494776.0,69163320.0,1074216337.0,1206161593.0,308520434.0,2898201135.0,305979692.0,1863145748.0,1145837502.0,1184641903.0,266458189.0,21503693.0,1583684022.0,1109531767.0,35435904.0,364661917.0,3430962999.0,352169101.0,3657635540.0,3399349145.0,3394241285.0,1608010855.0,166207599.0,16621190.0,32414658.0,365028122.0,34109146.0,36649334.0,376020156.0,38093586.0,381234311.0,384599314.0,386040111.0,387915584.0,392519677.0,1548047228.0,3950928695.0,401476997.0,40398279.0,1530504780.0,415280026.0,152610683.0,380543217.0,318328884.0,323308427.0,4258239203.0,2815402178.0,2825240079.0,2832236690.0,177182882.0,2845224610.0,1708038163.0,2865726875.0,28662619.0,2869837616.0,2875866962.0,2878751485.0,2880287133.0,2883469589.0,2935416411.0,29409786.0,2948520401.0,2974627510.0,2975507348.0,170057636.0,3001049548.0,3004249311.0,3025266342.0,16963034.0,3083284793.0,16672102.0,3159457957.0,3161363832.0,166594076.0,31718463.0,423502732.0,4428208822.0,4263383185.0,7.295520231217357e+17,118396349.0,764080735.0,7.740416205598228e+17,7.798797703308493e+17,7.862591089365524e+17,7.936315696509829e+17,794778854.0,7.958992833252762e+17,7.973121055400346e+17,7.974738962158387e+17,8.018768009513574e+17,8.164227545723249e+17,822244212.0,8.232030998209659e+17,8.301182364066324e+17,831675103.0,840230431.0,853711446.0,110912820.0,8.74814213197357e+17,87504275.0,8.78425577094488e+17,8.858528876241019e+17,890005525.0,110071965.0,930326239.0,9.371770385107272e+17,109908399.0,961706424.0,7.324458336820183e+17,7.197561005984276e+17,152508248.0,71926170.0,4427177261.0,185977718.0,445015186.0,46419721.0,468110721.0,471619937.0,4809840779.0,14359655.0,4859150405.0,1419005648.0,4910270788.0,491220394.0,49141281.0,492681551.0,50287759.0,505214831.0,1396779372.0,523443851.0,138178844.0,135697030.0,133178002.0,56814425.0,60381360.0,607978139.0,60861852.0,132229098.0,130301581.0,1298623189.0,67514697.0,2755272040.0,2540825701.0,2600517884.0,2958157228.0,3234248484.0,31276933.0,30925817.0,54882415.0,553388088.0,55539703.0,3042177503.0,3016618421.0,58925278.0,2999847544.0,5920142.0,606316616.0,299046498.0,615360297.0,29230247.0,26002250.0,66833170.0,2909445756.0,28821697.0,28732136.0,7.134474172872991e+17,714434936.0,28649283.0,7.168883280088351e+17,2859834039.0,2841487088.0,7.404734689201562e+17,74169289.0,75397647.0,7.559085162552648e+17,526073036.0,50902189.0,3235627787.0,4830472692.0,3381217769.0,3313105635.0,3604237222.0,3609635354.0,37892499.0,390555976.0,3304347244.0,3296504462.0,403997170.0,40952195.0,411377266.0,4117939516.0,4237222877.0,4257385693.0,4277363655.0,42914466.0,4298089121.0,438900003.0,3293564224.0,4479867201.0,3261405989.0,4493182468.0,451850533.0,4520812055.0,45467431.0,458116092.0,4739901797.0,4774170301.0,4821267819.0,2835978636.0,7.872964146950922e+17,2790768176.0,1485125072.0,1515892296.0,152448425.0,2494936734.0,153049921.0,1570779979.0,1703385944.0,17115086.0,246082925.0,241291014.0,1961579168.0,2386087811.0,22250210.0,215459458.0,222048639.0,219736461.0,224118311.0,2159220026.0,2279480828.0,19805053.0,2303776496.0,19650992.0,23247155.0,1917632858.0,2342479104.0,187513512.0,237720874.0,241084501.0,251040359.0,3412873691.0,1496608986.0,146666171.0,7.935216625452646e+17,14427407.0,7.970753913788375e+17,8.047851571064668e+17,8.15245393969709e+17,8.278301284744151e+17,833756904.0,8.630210841568584e+17,8.68823510235435e+17,27551703.0,8.776621870740562e+17,898975153.0,9.33737821910614e+17,2729946330.0,942448939.0,9.541864960676168e+17,99522642.0,1090259760.0,104504317.0,261879278.0,1077434971.0,109895960.0,1144041037.0,118552712.0,261462593.0,1261767385.0,1281940632.0,26107813.0,1420535665.0,143959357.0,1440616824.0,98042044.0],\"legendgroup\":\"\",\"marker\":{\"color\":[0.984375,0.875,1.0,0.8666666666666667,1.0,0.9705882352941176,1.0,1.0,1.0,0.5833333333333334,0.88,0.8571428571428571,1.0,1.0,0.6666666666666666,0.5238095238095238,0.8571428571428571,0.5294117647058824,0.9,1.0,1.0,1.0,1.0,1.0,0.8,0.875,1.0,0.9166666666666666,1.0,1.0,1.0,0.8,1.0,1.0,1.0,1.0,1.0,0.5714285714285714,0.375,0.7142857142857143,1.0,0.6666666666666666,1.0,0.75,0.5,0.75,1.0,1.0,1.0,1.0,1.0,0.4285714285714285,0.6,1.0,1.0,1.0,1.0,1.0,0.5,1.0,1.0,1.0,1.0,1.0,1.0,1.0,1.0,1.0,0.5,0.5,1.0,1.0,1.0,1.0,1.0,1.0,0.6666666666666666,1.0,1.0,1.0,0.5,1.0,1.0,0.1333333333333333,1.0,1.0,1.0,1.0,1.0,1.0,1.0,0.5,1.0,1.0,0.7142857142857143,0.6666666666666666,0.5,1.0,1.0,0.25,1.0,1.0,0.6666666666666666,0.6666666666666666,0.8,0.25,1.0,0.5,1.0,1.0,1.0,1.0,1.0,1.0,1.0,1.0,1.0,0.3333333333333333,1.0,1.0,0.5,0.25,1.0,1.0,0.5,1.0,1.0,1.0,1.0,1.0,1.0,1.0,1.0,1.0,1.0,1.0,1.0,1.0,1.0,1.0,1.0,0.5,1.0,1.0,1.0,1.0,1.0,0.6666666666666666,1.0,1.0,1.0,1.0,0.75,0.25,0.125,1.0,1.0,1.0,0.5,1.0,1.0,0.3333333333333333,1.0,1.0,1.0,1.0,0.8,0.2,1.0,1.0,1.0,1.0,1.0,1.0,1.0,1.0,1.0,1.0,1.0,1.0,1.0,1.0,1.0,1.0,1.0,1.0,1.0,1.0,1.0,0.6666666666666666,1.0,1.0,0.3333333333333333,1.0,1.0,0.8,0.2727272727272727,1.0,1.0,1.0,1.0,1.0,1.0,1.0,0.3333333333333333,1.0,1.0,0.6,1.0,1.0,1.0,1.0,0.6,1.0,0.5,1.0,1.0,1.0,1.0,0.5,1.0,1.0,1.0,1.0,1.0,1.0,1.0,1.0,1.0,1.0,1.0,1.0,1.0,1.0,1.0,1.0,1.0,1.0,1.0,0.5,1.0,1.0,1.0,1.0,1.0,1.0,1.0,1.0,1.0,1.0,0.3,1.0,1.0,1.0,1.0,1.0,1.0,0.6666666666666666,1.0,1.0,1.0,1.0,1.0,1.0,1.0,1.0,1.0,1.0,1.0,1.0,1.0,1.0,1.0,1.0,1.0,0.3333333333333333,1.0,0.6,1.0,1.0,1.0,1.0,1.0,1.0,1.0,1.0,1.0,1.0,1.0,1.0,1.0,1.0,1.0,1.0,1.0,1.0,1.0,1.0,1.0,1.0,1.0,1.0,1.0,1.0,1.0,1.0,1.0,1.0,1.0,1.0,1.0,0.5,0.3333333333333333,1.0,1.0,1.0,1.0,1.0,1.0,1.0,1.0,1.0,1.0,1.0,1.0,1.0,1.0,1.0,1.0,1.0,1.0,1.0,1.0,1.0,1.0,1.0,1.0,0.1666666666666666,1.0,1.0,0.5,1.0,1.0,1.0,1.0,1.0,1.0,0.2857142857142857,1.0,1.0,1.0,1.0,1.0,1.0,1.0,1.0,0.5,1.0,1.0,0.25,0.6666666666666666,1.0,1.0,1.0,0.5,1.0,1.0,1.0],\"coloraxis\":\"coloraxis\",\"size\":[146,15,13,12,11,10,9,9,8,7,6,6,6,6,6,6,5,5,5,4,4,4,4,4,4,4,4,4,3,3,3,3,3,3,3,3,3,3,3,3,3,3,3,3,3,3,3,3,3,3,3,3,3,3,2,2,2,2,2,2,2,2,2,2,2,2,2,2,2,2,2,2,2,2,2,2,2,2,2,2,2,2,2,2,2,2,2,2,2,2,2,2,2,2,2,2,2,2,2,2,2,2,2,2,2,2,2,1,1,1,1,1,1,1,1,1,1,1,1,1,1,1,1,1,1,1,1,1,1,1,1,1,1,1,1,1,1,1,1,1,1,1,1,1,1,1,1,1,1,1,1,1,1,1,1,1,1,1,1,1,1,1,1,1,1,1,1,1,1,1,1,1,1,1,1,1,1,1,1,1,1,1,1,1,1,1,1,1,1,1,1,1,1,1,1,1,1,1,1,1,1,1,1,1,1,1,1,1,1,1,1,1,1,1,1,1,1,1,1,1,1,1,1,1,1,1,1,1,1,1,1,1,1,1,1,1,1,1,1,1,1,1,1,1,1,1,1,1,1,1,1,1,1,1,1,1,1,1,1,1,1,1,1,1,1,1,1,1,1,1,1,1,1,1,1,1,1,1,1,1,1,1,1,1,1,1,1,1,1,1,1,1,1,1,1,1,1,1,1,1,1,1,1,1,1,1,1,1,1,1,1,1,1,1,1,1,1,1,1,1,1,1,1,1,1,1,1,1,1,1,1,1,1,1,1,1,1,1,1,1,1,1,1,1,1,1,1,1,1,1,1,1,1,1,1,1,1,1,1,1,1,1,1,1,1,1,1,1],\"sizemode\":\"area\",\"sizeref\":0.04055555555555555,\"symbol\":\"circle\"},\"mode\":\"markers\",\"name\":\"\",\"orientation\":\"v\",\"showlegend\":false,\"type\":\"scatter\",\"x\":[189,21,37,13,15,33,10,9,19,7,44,6,11,17,12,11,6,9,9,5,4,4,7,11,4,7,4,11,3,4,3,4,4,3,3,3,4,4,3,5,4,4,4,3,4,3,4,3,5,4,3,3,3,3,2,4,2,2,3,2,4,2,2,2,2,3,5,2,2,2,2,2,3,2,2,2,2,7,2,3,3,2,3,2,2,3,2,2,2,3,3,2,2,2,5,2,2,2,2,2,2,3,2,2,4,2,14,1,1,1,1,1,1,1,1,1,1,1,1,1,1,1,1,1,1,1,1,1,1,1,1,1,1,1,1,1,1,1,1,1,1,1,1,1,1,1,3,2,1,5,1,1,3,1,1,1,1,1,1,1,1,1,1,1,1,1,4,1,1,1,1,1,1,1,1,1,1,1,1,1,3,1,1,2,2,1,1,1,1,2,1,1,1,1,3,4,3,1,2,1,1,1,1,1,2,5,6,6,1,1,1,1,3,1,1,5,2,1,1,1,1,1,1,1,1,1,3,1,4,1,1,1,1,1,1,1,1,3,1,1,1,1,1,1,3,1,1,1,3,1,3,1,1,2,1,1,1,2,1,1,1,1,1,1,1,1,1,1,1,1,2,1,1,1,1,2,1,3,1,1,1,1,1,1,2,1,1,1,2,1,1,1,1,1,1,1,1,1,1,1,1,1,1,1,1,1,1,1,2,3,1,1,2,1,2,1,15,27,1,1,1,1,1,1,1,1,1,1,1,1,1,1,1,1,3,1,1,1,1,1,1,1,1,1,1,1,1,2,1,1,1,1,1,1,1,1,1,1,1,1,2,1,2,1,1,1,7,1],\"xaxis\":\"x\",\"y\":[146,15,13,12,11,10,9,9,8,7,6,6,6,6,6,6,5,5,5,4,4,4,4,4,4,4,4,4,3,3,3,3,3,3,3,3,3,3,3,3,3,3,3,3,3,3,3,3,3,3,3,3,3,3,2,2,2,2,2,2,2,2,2,2,2,2,2,2,2,2,2,2,2,2,2,2,2,2,2,2,2,2,2,2,2,2,2,2,2,2,2,2,2,2,2,2,2,2,2,2,2,2,2,2,2,2,2,1,1,1,1,1,1,1,1,1,1,1,1,1,1,1,1,1,1,1,1,1,1,1,1,1,1,1,1,1,1,1,1,1,1,1,1,1,1,1,1,1,1,1,1,1,1,1,1,1,1,1,1,1,1,1,1,1,1,1,1,1,1,1,1,1,1,1,1,1,1,1,1,1,1,1,1,1,1,1,1,1,1,1,1,1,1,1,1,1,1,1,1,1,1,1,1,1,1,1,1,1,1,1,1,1,1,1,1,1,1,1,1,1,1,1,1,1,1,1,1,1,1,1,1,1,1,1,1,1,1,1,1,1,1,1,1,1,1,1,1,1,1,1,1,1,1,1,1,1,1,1,1,1,1,1,1,1,1,1,1,1,1,1,1,1,1,1,1,1,1,1,1,1,1,1,1,1,1,1,1,1,1,1,1,1,1,1,1,1,1,1,1,1,1,1,1,1,1,1,1,1,1,1,1,1,1,1,1,1,1,1,1,1,1,1,1,1,1,1,1,1,1,1,1,1,1,1,1,1,1,1,1,1,1,1,1,1,1,1,1,1,1,1,1,1,1,1,1,1,1,1,1,1,1,1,1,1,1,1,1,1],\"yaxis\":\"y\"}],                        {\"coloraxis\":{\"colorbar\":{\"title\":{\"text\":\"Percentage Fake\"}},\"colorscale\":[[0.0,\"rgb(0, 147, 146)\"],[0.16666666666666666,\"rgb(57, 177, 133)\"],[0.3333333333333333,\"rgb(156, 203, 134)\"],[0.5,\"rgb(233, 226, 156)\"],[0.6666666666666666,\"rgb(238, 180, 121)\"],[0.8333333333333334,\"rgb(232, 132, 113)\"],[1.0,\"rgb(207, 89, 126)\"]]},\"legend\":{\"itemsizing\":\"constant\",\"tracegroupgap\":0},\"plot_bgcolor\":\"rgb(255,255,255)\",\"template\":{\"data\":{\"bar\":[{\"error_x\":{\"color\":\"#2a3f5f\"},\"error_y\":{\"color\":\"#2a3f5f\"},\"marker\":{\"line\":{\"color\":\"#E5ECF6\",\"width\":0.5},\"pattern\":{\"fillmode\":\"overlay\",\"size\":10,\"solidity\":0.2}},\"type\":\"bar\"}],\"barpolar\":[{\"marker\":{\"line\":{\"color\":\"#E5ECF6\",\"width\":0.5},\"pattern\":{\"fillmode\":\"overlay\",\"size\":10,\"solidity\":0.2}},\"type\":\"barpolar\"}],\"carpet\":[{\"aaxis\":{\"endlinecolor\":\"#2a3f5f\",\"gridcolor\":\"white\",\"linecolor\":\"white\",\"minorgridcolor\":\"white\",\"startlinecolor\":\"#2a3f5f\"},\"baxis\":{\"endlinecolor\":\"#2a3f5f\",\"gridcolor\":\"white\",\"linecolor\":\"white\",\"minorgridcolor\":\"white\",\"startlinecolor\":\"#2a3f5f\"},\"type\":\"carpet\"}],\"choropleth\":[{\"colorbar\":{\"outlinewidth\":0,\"ticks\":\"\"},\"type\":\"choropleth\"}],\"contour\":[{\"colorbar\":{\"outlinewidth\":0,\"ticks\":\"\"},\"colorscale\":[[0.0,\"#0d0887\"],[0.1111111111111111,\"#46039f\"],[0.2222222222222222,\"#7201a8\"],[0.3333333333333333,\"#9c179e\"],[0.4444444444444444,\"#bd3786\"],[0.5555555555555556,\"#d8576b\"],[0.6666666666666666,\"#ed7953\"],[0.7777777777777778,\"#fb9f3a\"],[0.8888888888888888,\"#fdca26\"],[1.0,\"#f0f921\"]],\"type\":\"contour\"}],\"contourcarpet\":[{\"colorbar\":{\"outlinewidth\":0,\"ticks\":\"\"},\"type\":\"contourcarpet\"}],\"heatmap\":[{\"colorbar\":{\"outlinewidth\":0,\"ticks\":\"\"},\"colorscale\":[[0.0,\"#0d0887\"],[0.1111111111111111,\"#46039f\"],[0.2222222222222222,\"#7201a8\"],[0.3333333333333333,\"#9c179e\"],[0.4444444444444444,\"#bd3786\"],[0.5555555555555556,\"#d8576b\"],[0.6666666666666666,\"#ed7953\"],[0.7777777777777778,\"#fb9f3a\"],[0.8888888888888888,\"#fdca26\"],[1.0,\"#f0f921\"]],\"type\":\"heatmap\"}],\"heatmapgl\":[{\"colorbar\":{\"outlinewidth\":0,\"ticks\":\"\"},\"colorscale\":[[0.0,\"#0d0887\"],[0.1111111111111111,\"#46039f\"],[0.2222222222222222,\"#7201a8\"],[0.3333333333333333,\"#9c179e\"],[0.4444444444444444,\"#bd3786\"],[0.5555555555555556,\"#d8576b\"],[0.6666666666666666,\"#ed7953\"],[0.7777777777777778,\"#fb9f3a\"],[0.8888888888888888,\"#fdca26\"],[1.0,\"#f0f921\"]],\"type\":\"heatmapgl\"}],\"histogram\":[{\"marker\":{\"pattern\":{\"fillmode\":\"overlay\",\"size\":10,\"solidity\":0.2}},\"type\":\"histogram\"}],\"histogram2d\":[{\"colorbar\":{\"outlinewidth\":0,\"ticks\":\"\"},\"colorscale\":[[0.0,\"#0d0887\"],[0.1111111111111111,\"#46039f\"],[0.2222222222222222,\"#7201a8\"],[0.3333333333333333,\"#9c179e\"],[0.4444444444444444,\"#bd3786\"],[0.5555555555555556,\"#d8576b\"],[0.6666666666666666,\"#ed7953\"],[0.7777777777777778,\"#fb9f3a\"],[0.8888888888888888,\"#fdca26\"],[1.0,\"#f0f921\"]],\"type\":\"histogram2d\"}],\"histogram2dcontour\":[{\"colorbar\":{\"outlinewidth\":0,\"ticks\":\"\"},\"colorscale\":[[0.0,\"#0d0887\"],[0.1111111111111111,\"#46039f\"],[0.2222222222222222,\"#7201a8\"],[0.3333333333333333,\"#9c179e\"],[0.4444444444444444,\"#bd3786\"],[0.5555555555555556,\"#d8576b\"],[0.6666666666666666,\"#ed7953\"],[0.7777777777777778,\"#fb9f3a\"],[0.8888888888888888,\"#fdca26\"],[1.0,\"#f0f921\"]],\"type\":\"histogram2dcontour\"}],\"mesh3d\":[{\"colorbar\":{\"outlinewidth\":0,\"ticks\":\"\"},\"type\":\"mesh3d\"}],\"parcoords\":[{\"line\":{\"colorbar\":{\"outlinewidth\":0,\"ticks\":\"\"}},\"type\":\"parcoords\"}],\"pie\":[{\"automargin\":true,\"type\":\"pie\"}],\"scatter\":[{\"marker\":{\"colorbar\":{\"outlinewidth\":0,\"ticks\":\"\"}},\"type\":\"scatter\"}],\"scatter3d\":[{\"line\":{\"colorbar\":{\"outlinewidth\":0,\"ticks\":\"\"}},\"marker\":{\"colorbar\":{\"outlinewidth\":0,\"ticks\":\"\"}},\"type\":\"scatter3d\"}],\"scattercarpet\":[{\"marker\":{\"colorbar\":{\"outlinewidth\":0,\"ticks\":\"\"}},\"type\":\"scattercarpet\"}],\"scattergeo\":[{\"marker\":{\"colorbar\":{\"outlinewidth\":0,\"ticks\":\"\"}},\"type\":\"scattergeo\"}],\"scattergl\":[{\"marker\":{\"colorbar\":{\"outlinewidth\":0,\"ticks\":\"\"}},\"type\":\"scattergl\"}],\"scattermapbox\":[{\"marker\":{\"colorbar\":{\"outlinewidth\":0,\"ticks\":\"\"}},\"type\":\"scattermapbox\"}],\"scatterpolar\":[{\"marker\":{\"colorbar\":{\"outlinewidth\":0,\"ticks\":\"\"}},\"type\":\"scatterpolar\"}],\"scatterpolargl\":[{\"marker\":{\"colorbar\":{\"outlinewidth\":0,\"ticks\":\"\"}},\"type\":\"scatterpolargl\"}],\"scatterternary\":[{\"marker\":{\"colorbar\":{\"outlinewidth\":0,\"ticks\":\"\"}},\"type\":\"scatterternary\"}],\"surface\":[{\"colorbar\":{\"outlinewidth\":0,\"ticks\":\"\"},\"colorscale\":[[0.0,\"#0d0887\"],[0.1111111111111111,\"#46039f\"],[0.2222222222222222,\"#7201a8\"],[0.3333333333333333,\"#9c179e\"],[0.4444444444444444,\"#bd3786\"],[0.5555555555555556,\"#d8576b\"],[0.6666666666666666,\"#ed7953\"],[0.7777777777777778,\"#fb9f3a\"],[0.8888888888888888,\"#fdca26\"],[1.0,\"#f0f921\"]],\"type\":\"surface\"}],\"table\":[{\"cells\":{\"fill\":{\"color\":\"#EBF0F8\"},\"line\":{\"color\":\"white\"}},\"header\":{\"fill\":{\"color\":\"#C8D4E3\"},\"line\":{\"color\":\"white\"}},\"type\":\"table\"}]},\"layout\":{\"annotationdefaults\":{\"arrowcolor\":\"#2a3f5f\",\"arrowhead\":0,\"arrowwidth\":1},\"autotypenumbers\":\"strict\",\"coloraxis\":{\"colorbar\":{\"outlinewidth\":0,\"ticks\":\"\"}},\"colorscale\":{\"diverging\":[[0,\"#8e0152\"],[0.1,\"#c51b7d\"],[0.2,\"#de77ae\"],[0.3,\"#f1b6da\"],[0.4,\"#fde0ef\"],[0.5,\"#f7f7f7\"],[0.6,\"#e6f5d0\"],[0.7,\"#b8e186\"],[0.8,\"#7fbc41\"],[0.9,\"#4d9221\"],[1,\"#276419\"]],\"sequential\":[[0.0,\"#0d0887\"],[0.1111111111111111,\"#46039f\"],[0.2222222222222222,\"#7201a8\"],[0.3333333333333333,\"#9c179e\"],[0.4444444444444444,\"#bd3786\"],[0.5555555555555556,\"#d8576b\"],[0.6666666666666666,\"#ed7953\"],[0.7777777777777778,\"#fb9f3a\"],[0.8888888888888888,\"#fdca26\"],[1.0,\"#f0f921\"]],\"sequentialminus\":[[0.0,\"#0d0887\"],[0.1111111111111111,\"#46039f\"],[0.2222222222222222,\"#7201a8\"],[0.3333333333333333,\"#9c179e\"],[0.4444444444444444,\"#bd3786\"],[0.5555555555555556,\"#d8576b\"],[0.6666666666666666,\"#ed7953\"],[0.7777777777777778,\"#fb9f3a\"],[0.8888888888888888,\"#fdca26\"],[1.0,\"#f0f921\"]]},\"colorway\":[\"#636efa\",\"#EF553B\",\"#00cc96\",\"#ab63fa\",\"#FFA15A\",\"#19d3f3\",\"#FF6692\",\"#B6E880\",\"#FF97FF\",\"#FECB52\"],\"font\":{\"color\":\"#2a3f5f\"},\"geo\":{\"bgcolor\":\"white\",\"lakecolor\":\"white\",\"landcolor\":\"#E5ECF6\",\"showlakes\":true,\"showland\":true,\"subunitcolor\":\"white\"},\"hoverlabel\":{\"align\":\"left\"},\"hovermode\":\"closest\",\"mapbox\":{\"style\":\"light\"},\"paper_bgcolor\":\"white\",\"plot_bgcolor\":\"#E5ECF6\",\"polar\":{\"angularaxis\":{\"gridcolor\":\"white\",\"linecolor\":\"white\",\"ticks\":\"\"},\"bgcolor\":\"#E5ECF6\",\"radialaxis\":{\"gridcolor\":\"white\",\"linecolor\":\"white\",\"ticks\":\"\"}},\"scene\":{\"xaxis\":{\"backgroundcolor\":\"#E5ECF6\",\"gridcolor\":\"white\",\"gridwidth\":2,\"linecolor\":\"white\",\"showbackground\":true,\"ticks\":\"\",\"zerolinecolor\":\"white\"},\"yaxis\":{\"backgroundcolor\":\"#E5ECF6\",\"gridcolor\":\"white\",\"gridwidth\":2,\"linecolor\":\"white\",\"showbackground\":true,\"ticks\":\"\",\"zerolinecolor\":\"white\"},\"zaxis\":{\"backgroundcolor\":\"#E5ECF6\",\"gridcolor\":\"white\",\"gridwidth\":2,\"linecolor\":\"white\",\"showbackground\":true,\"ticks\":\"\",\"zerolinecolor\":\"white\"}},\"shapedefaults\":{\"line\":{\"color\":\"#2a3f5f\"}},\"ternary\":{\"aaxis\":{\"gridcolor\":\"white\",\"linecolor\":\"white\",\"ticks\":\"\"},\"baxis\":{\"gridcolor\":\"white\",\"linecolor\":\"white\",\"ticks\":\"\"},\"bgcolor\":\"#E5ECF6\",\"caxis\":{\"gridcolor\":\"white\",\"linecolor\":\"white\",\"ticks\":\"\"}},\"title\":{\"x\":0.05},\"xaxis\":{\"automargin\":true,\"gridcolor\":\"white\",\"linecolor\":\"white\",\"ticks\":\"\",\"title\":{\"standoff\":15},\"zerolinecolor\":\"white\",\"zerolinewidth\":2},\"yaxis\":{\"automargin\":true,\"gridcolor\":\"white\",\"linecolor\":\"white\",\"ticks\":\"\",\"title\":{\"standoff\":15},\"zerolinecolor\":\"white\",\"zerolinewidth\":2}}},\"title\":{\"text\":\"Fake Tweet Count vs Percentage Fake vs Degree for Community 1\"},\"xaxis\":{\"anchor\":\"y\",\"domain\":[0.0,1.0],\"title\":{\"text\":\"Fake Tweet/Retweet Count\"}},\"yaxis\":{\"anchor\":\"x\",\"domain\":[0.0,1.0],\"title\":{\"text\":\"Degree\"}}},                        {\"responsive\": true}                    ).then(function(){\n",
       "                            \n",
       "var gd = document.getElementById('c4f5cc33-a152-4574-8ca2-2baea27de7aa');\n",
       "var x = new MutationObserver(function (mutations, observer) {{\n",
       "        var display = window.getComputedStyle(gd).display;\n",
       "        if (!display || display === 'none') {{\n",
       "            console.log([gd, 'removed!']);\n",
       "            Plotly.purge(gd);\n",
       "            observer.disconnect();\n",
       "        }}\n",
       "}});\n",
       "\n",
       "// Listen for the removal of the full notebook cells\n",
       "var notebookContainer = gd.closest('#notebook-container');\n",
       "if (notebookContainer) {{\n",
       "    x.observe(notebookContainer, {childList: true});\n",
       "}}\n",
       "\n",
       "// Listen for the clearing of the current output cell\n",
       "var outputEl = gd.closest('.output');\n",
       "if (outputEl) {{\n",
       "    x.observe(outputEl, {childList: true});\n",
       "}}\n",
       "\n",
       "                        })                };                });            </script>        </div>"
      ]
     },
     "metadata": {},
     "output_type": "display_data"
    }
   ],
   "source": [
    "fig = px.scatter(com1_metrics, x=\"tweet_retweet_fake_count\", y=\"degree\", size = 'degree', color=\"percentage_fake\",\n",
    "                 hover_name=\"user_id\", log_y=False, size_max=60, color_continuous_scale=px.colors.diverging.Temps,\n",
    "                title=\"Fake Tweet Count vs Percentage Fake vs Degree for Community 1\",\n",
    "                labels={\n",
    "                     \"tweet_retweet_fake_count\": \"Fake Tweet/Retweet Count\",\n",
    "                     \"degree\": \"Degree\",\n",
    "                     \"percentage_fake\": \"Percentage Fake\"\n",
    "                 })\n",
    "fig.layout.plot_bgcolor = 'rgb(255,255,255)'\n",
    "fig.show()"
   ]
  },
  {
   "cell_type": "code",
   "execution_count": 105,
   "id": "d94f716c",
   "metadata": {},
   "outputs": [
    {
     "data": {
      "application/vnd.plotly.v1+json": {
       "config": {
        "plotlyServerURL": "https://plot.ly"
       },
       "data": [
        {
         "hovertemplate": "<b>%{hovertext}</b><br><br>Fake Tweet/Retweet Count=%{x}<br>Degree=%{marker.size}<br>Percentage Fake=%{marker.color}<extra></extra>",
         "hovertext": [
          3772895061,
          24544802,
          790019230389248000,
          550955977,
          42685467,
          3387188439,
          133005157,
          853185504,
          2841714842,
          3271255423,
          1578095880,
          361003801,
          834256554,
          2611066880,
          883334230968684500,
          426321629,
          2790442199,
          1265464230,
          480500298,
          823961264988618800,
          3415287255,
          2197834202,
          241972988,
          765213068,
          755127495775625200,
          797298083914608600,
          4384892902,
          3017703114,
          86378502,
          257097577,
          3870745634,
          237140311,
          1581128899,
          293631912,
          211990186,
          2425874256,
          48704175,
          493926139,
          40708919,
          49424542,
          749828096,
          4866566489,
          45641358,
          159110985,
          3089040558,
          4185510494,
          46684860,
          816641287,
          180986738,
          2873973494,
          2860908597,
          4418684392,
          2903111283,
          4696541605,
          87562484,
          754518774624034800,
          71613350,
          714985182315450400,
          478367964,
          2307253314,
          550487203,
          508116018,
          955588238793695200,
          70320954,
          4826927664,
          256780164,
          1052763846321102800,
          108510851,
          2452466786,
          257234986,
          82616432,
          262715330,
          2167585616,
          1460884393,
          3048173406,
          77248123,
          193589482,
          3097543386,
          207425342,
          3292911462,
          274347607,
          715907016934486000,
          929882659,
          376226841,
          2877712525,
          182362719,
          3682560615,
          117630387,
          3400722723,
          271138145,
          3290370521,
          2375536536,
          2523556454,
          3400552306,
          2784632127,
          3367318187,
          295324253,
          246093638,
          28277850,
          2958832497,
          2595978877,
          302705113,
          2614121611,
          297043846,
          263943142,
          3289838898,
          49790780,
          34704729,
          3707671576,
          759417824062402600,
          787517255324168200,
          797945020405923800,
          798037991050670100,
          80968470,
          834990649027997700,
          84683811,
          848269202892783600,
          85155978,
          872819831745196000,
          873596110065020900,
          873862188,
          876155173906894800,
          921735250597826600,
          936815640,
          948298143061352400,
          950299017296068600,
          958744334773272600,
          98206010,
          758448782560329700,
          758116173154230300,
          756641885079371800,
          502335393,
          375489028,
          385962979,
          423620746,
          46130528,
          4836657221,
          4857707848,
          4860867953,
          49776499,
          51897156,
          742814823340253200,
          52096510,
          54935632,
          557250050,
          563792459,
          67896980,
          701258640460632000,
          702519800363360300,
          714220936724095000,
          233835830,
          112061409,
          2265799817,
          525863715,
          3039131661,
          3051400362,
          3082702335,
          3092264183,
          323666150,
          3267533862,
          3305977777,
          3311944769,
          33256484,
          3351788417,
          34194051,
          365557528,
          3740732783,
          382973958,
          4058164453,
          4265299414,
          4337549712,
          46260456,
          462861372,
          47687096,
          4824179093,
          3018587225,
          3001145196,
          2849529551,
          210556794,
          114770420,
          1289848416,
          1404014400,
          1465857446,
          1689912313,
          1691095927,
          17834762,
          18292048,
          18473274,
          211634104,
          2715841205,
          2202241436,
          2219871019,
          2250689443,
          243050493,
          24448366,
          2575759197,
          2644351377,
          266989727,
          26701846,
          514711223,
          532458706,
          2250680744,
          633441834,
          1009562940,
          1018893332,
          112287707,
          1183799054,
          1190690964,
          121920322,
          1364870234,
          137191685,
          143550623,
          1447529352,
          1536863899,
          15490439,
          162398335,
          164705765,
          166965005,
          1717701356,
          173514323,
          187091075,
          190665083,
          21829541,
          2197894937,
          1002383524496674800,
          983092278,
          956112999315423200,
          780190827507101700,
          67815972,
          695751699710009300,
          708046658748043300,
          711309750445543400,
          716312003283787800,
          730392449407799300,
          742396324969128000,
          765382188787437600,
          774639942953799700,
          791089595945328600,
          953787460445720600,
          812532477055144000,
          815426916572340200,
          858654914,
          872849888328826900,
          882698347836055600,
          889040726,
          896187666,
          904321107112722400,
          950830002,
          98261204
         ],
         "legendgroup": "",
         "marker": {
          "color": [
           0.7368421052631579,
           0.8888888888888888,
           0.2844827586206896,
           1,
           1,
           0.7368421052631579,
           0.9629629629629628,
           0.9,
           0.6730769230769231,
           0.0567375886524822,
           1,
           1,
           1,
           0.6470588235294118,
           0.7777777777777778,
           0.9,
           0.8421052631578947,
           0.6666666666666666,
           0.625,
           0.8333333333333334,
           1,
           0.9411764705882352,
           1,
           0.6666666666666666,
           1,
           1,
           1,
           0.5714285714285714,
           1,
           0.8333333333333334,
           0.75,
           1,
           1,
           1,
           0.5,
           1,
           1,
           1,
           0.75,
           0.5,
           0.875,
           0.6666666666666666,
           0.5555555555555556,
           0.9411764705882352,
           0.6,
           1,
           0.5,
           0.75,
           0.3571428571428571,
           1,
           1,
           0.6,
           1,
           1,
           1,
           1,
           0.5555555555555556,
           1,
           1,
           1,
           1,
           1,
           1,
           0.5555555555555556,
           0.6666666666666666,
           0.6666666666666666,
           1,
           1,
           1,
           0.2857142857142857,
           0.4,
           0.75,
           0.6666666666666666,
           1,
           0.6666666666666666,
           0.6666666666666666,
           0.5,
           0.6666666666666666,
           1,
           0.6666666666666666,
           1,
           1,
           1,
           1,
           0.7142857142857143,
           1,
           0.8333333333333334,
           1,
           0.4,
           1,
           1,
           1,
           1,
           1,
           0.5,
           1,
           0.5,
           1,
           1,
           1,
           0.625,
           1,
           1,
           1,
           1,
           1,
           0.6666666666666666,
           1,
           1,
           1,
           1,
           1,
           1,
           1,
           1,
           1,
           1,
           0.6666666666666666,
           1,
           1,
           1,
           1,
           1,
           0.5,
           1,
           1,
           1,
           1,
           1,
           1,
           1,
           1,
           1,
           0.5,
           1,
           1,
           1,
           1,
           1,
           1,
           1,
           1,
           1,
           0.5,
           1,
           1,
           1,
           1,
           0.7142857142857143,
           1,
           0.6666666666666666,
           1,
           0.5,
           1,
           1,
           1,
           1,
           1,
           0.5,
           1,
           1,
           1,
           1,
           1,
           1,
           1,
           1,
           1,
           1,
           1,
           1,
           0.3333333333333333,
           1,
           1,
           1,
           0.9090909090909092,
           1,
           1,
           1,
           0.6666666666666666,
           0.3333333333333333,
           1,
           1,
           0.5,
           1,
           1,
           1,
           0.8,
           1,
           1,
           1,
           1,
           0.5,
           1,
           1,
           1,
           1,
           0.5,
           0.5,
           1,
           1,
           1,
           1,
           1,
           1,
           1,
           1,
           1,
           1,
           1,
           1,
           1,
           1,
           1,
           1,
           1,
           0.5,
           1,
           1,
           0.5,
           1,
           1,
           0.3333333333333333,
           1,
           0.3333333333333333,
           1,
           1,
           1,
           0.8,
           1,
           1,
           1,
           0.5,
           0.2,
           0.5,
           0.75,
           1,
           0.5,
           1,
           1,
           1,
           1,
           0.5,
           1,
           1,
           1,
           1,
           1,
           1
          ],
          "coloraxis": "coloraxis",
          "size": [
           28,
           23,
           14,
           14,
           14,
           12,
           11,
           9,
           8,
           8,
           7,
           7,
           7,
           7,
           6,
           5,
           5,
           5,
           5,
           5,
           5,
           5,
           4,
           4,
           4,
           4,
           4,
           4,
           4,
           4,
           3,
           3,
           3,
           3,
           3,
           3,
           3,
           3,
           3,
           3,
           3,
           3,
           3,
           3,
           3,
           3,
           3,
           3,
           3,
           3,
           3,
           3,
           2,
           2,
           2,
           2,
           2,
           2,
           2,
           2,
           2,
           2,
           2,
           2,
           2,
           2,
           2,
           2,
           2,
           2,
           2,
           2,
           2,
           2,
           2,
           2,
           2,
           2,
           2,
           2,
           2,
           2,
           2,
           2,
           2,
           2,
           2,
           2,
           2,
           1,
           1,
           1,
           1,
           1,
           1,
           1,
           1,
           1,
           1,
           1,
           1,
           1,
           1,
           1,
           1,
           1,
           1,
           1,
           1,
           1,
           1,
           1,
           1,
           1,
           1,
           1,
           1,
           1,
           1,
           1,
           1,
           1,
           1,
           1,
           1,
           1,
           1,
           1,
           1,
           1,
           1,
           1,
           1,
           1,
           1,
           1,
           1,
           1,
           1,
           1,
           1,
           1,
           1,
           1,
           1,
           1,
           1,
           1,
           1,
           1,
           1,
           1,
           1,
           1,
           1,
           1,
           1,
           1,
           1,
           1,
           1,
           1,
           1,
           1,
           1,
           1,
           1,
           1,
           1,
           1,
           1,
           1,
           1,
           1,
           1,
           1,
           1,
           1,
           1,
           1,
           1,
           1,
           1,
           1,
           1,
           1,
           1,
           1,
           1,
           1,
           1,
           1,
           1,
           1,
           1,
           1,
           1,
           1,
           1,
           1,
           1,
           1,
           1,
           1,
           1,
           1,
           1,
           1,
           1,
           1,
           1,
           1,
           1,
           1,
           1,
           1,
           1,
           1,
           1,
           1,
           1,
           1,
           1,
           1,
           1,
           1,
           1,
           1,
           1,
           1,
           1,
           1,
           1,
           1,
           1,
           1,
           1,
           1,
           1,
           1,
           1,
           1,
           1,
           1,
           1,
           1,
           1,
           1,
           1
          ],
          "sizemode": "area",
          "sizeref": 0.0077777777777777776,
          "symbol": "circle"
         },
         "mode": "markers",
         "name": "",
         "orientation": "v",
         "showlegend": false,
         "type": "scatter",
         "x": [
          42,
          24,
          66,
          36,
          49,
          14,
          26,
          9,
          35,
          8,
          18,
          8,
          31,
          11,
          7,
          9,
          16,
          6,
          5,
          5,
          8,
          16,
          8,
          6,
          4,
          4,
          5,
          4,
          4,
          5,
          3,
          3,
          3,
          7,
          3,
          8,
          3,
          3,
          3,
          5,
          7,
          4,
          5,
          16,
          3,
          4,
          3,
          3,
          5,
          3,
          3,
          3,
          2,
          2,
          2,
          2,
          5,
          2,
          2,
          2,
          3,
          2,
          2,
          5,
          2,
          2,
          2,
          2,
          2,
          2,
          2,
          3,
          2,
          4,
          2,
          2,
          2,
          2,
          2,
          2,
          3,
          2,
          3,
          2,
          5,
          4,
          5,
          2,
          2,
          1,
          1,
          1,
          1,
          1,
          1,
          1,
          1,
          1,
          1,
          2,
          5,
          1,
          6,
          1,
          1,
          1,
          2,
          2,
          1,
          1,
          2,
          1,
          1,
          1,
          1,
          1,
          1,
          2,
          1,
          2,
          1,
          1,
          1,
          1,
          1,
          1,
          1,
          1,
          1,
          1,
          1,
          2,
          2,
          1,
          1,
          1,
          1,
          1,
          1,
          1,
          1,
          1,
          1,
          1,
          1,
          1,
          1,
          1,
          5,
          1,
          2,
          1,
          1,
          2,
          1,
          1,
          1,
          1,
          1,
          1,
          1,
          1,
          5,
          1,
          1,
          1,
          1,
          2,
          6,
          1,
          1,
          1,
          1,
          3,
          1,
          10,
          1,
          1,
          1,
          2,
          1,
          1,
          2,
          1,
          4,
          1,
          2,
          4,
          1,
          1,
          2,
          1,
          1,
          1,
          1,
          1,
          1,
          1,
          1,
          1,
          1,
          1,
          1,
          1,
          1,
          1,
          1,
          1,
          1,
          1,
          1,
          1,
          1,
          1,
          1,
          1,
          1,
          1,
          2,
          1,
          2,
          1,
          1,
          1,
          1,
          2,
          1,
          1,
          4,
          1,
          2,
          1,
          1,
          1,
          1,
          3,
          1,
          1,
          1,
          2,
          1,
          1,
          3,
          1,
          1,
          1,
          1,
          1,
          1
         ],
         "xaxis": "x",
         "y": [
          28,
          23,
          14,
          14,
          14,
          12,
          11,
          9,
          8,
          8,
          7,
          7,
          7,
          7,
          6,
          5,
          5,
          5,
          5,
          5,
          5,
          5,
          4,
          4,
          4,
          4,
          4,
          4,
          4,
          4,
          3,
          3,
          3,
          3,
          3,
          3,
          3,
          3,
          3,
          3,
          3,
          3,
          3,
          3,
          3,
          3,
          3,
          3,
          3,
          3,
          3,
          3,
          2,
          2,
          2,
          2,
          2,
          2,
          2,
          2,
          2,
          2,
          2,
          2,
          2,
          2,
          2,
          2,
          2,
          2,
          2,
          2,
          2,
          2,
          2,
          2,
          2,
          2,
          2,
          2,
          2,
          2,
          2,
          2,
          2,
          2,
          2,
          2,
          2,
          1,
          1,
          1,
          1,
          1,
          1,
          1,
          1,
          1,
          1,
          1,
          1,
          1,
          1,
          1,
          1,
          1,
          1,
          1,
          1,
          1,
          1,
          1,
          1,
          1,
          1,
          1,
          1,
          1,
          1,
          1,
          1,
          1,
          1,
          1,
          1,
          1,
          1,
          1,
          1,
          1,
          1,
          1,
          1,
          1,
          1,
          1,
          1,
          1,
          1,
          1,
          1,
          1,
          1,
          1,
          1,
          1,
          1,
          1,
          1,
          1,
          1,
          1,
          1,
          1,
          1,
          1,
          1,
          1,
          1,
          1,
          1,
          1,
          1,
          1,
          1,
          1,
          1,
          1,
          1,
          1,
          1,
          1,
          1,
          1,
          1,
          1,
          1,
          1,
          1,
          1,
          1,
          1,
          1,
          1,
          1,
          1,
          1,
          1,
          1,
          1,
          1,
          1,
          1,
          1,
          1,
          1,
          1,
          1,
          1,
          1,
          1,
          1,
          1,
          1,
          1,
          1,
          1,
          1,
          1,
          1,
          1,
          1,
          1,
          1,
          1,
          1,
          1,
          1,
          1,
          1,
          1,
          1,
          1,
          1,
          1,
          1,
          1,
          1,
          1,
          1,
          1,
          1,
          1,
          1,
          1,
          1,
          1,
          1,
          1,
          1,
          1,
          1,
          1,
          1,
          1,
          1,
          1,
          1,
          1
         ],
         "yaxis": "y"
        }
       ],
       "layout": {
        "coloraxis": {
         "colorbar": {
          "title": {
           "text": "Percentage Fake"
          }
         },
         "colorscale": [
          [
           0,
           "rgb(0, 147, 146)"
          ],
          [
           0.16666666666666666,
           "rgb(57, 177, 133)"
          ],
          [
           0.3333333333333333,
           "rgb(156, 203, 134)"
          ],
          [
           0.5,
           "rgb(233, 226, 156)"
          ],
          [
           0.6666666666666666,
           "rgb(238, 180, 121)"
          ],
          [
           0.8333333333333334,
           "rgb(232, 132, 113)"
          ],
          [
           1,
           "rgb(207, 89, 126)"
          ]
         ]
        },
        "legend": {
         "itemsizing": "constant",
         "tracegroupgap": 0
        },
        "plot_bgcolor": "rgb(255,255,255)",
        "template": {
         "data": {
          "bar": [
           {
            "error_x": {
             "color": "#2a3f5f"
            },
            "error_y": {
             "color": "#2a3f5f"
            },
            "marker": {
             "line": {
              "color": "#E5ECF6",
              "width": 0.5
             },
             "pattern": {
              "fillmode": "overlay",
              "size": 10,
              "solidity": 0.2
             }
            },
            "type": "bar"
           }
          ],
          "barpolar": [
           {
            "marker": {
             "line": {
              "color": "#E5ECF6",
              "width": 0.5
             },
             "pattern": {
              "fillmode": "overlay",
              "size": 10,
              "solidity": 0.2
             }
            },
            "type": "barpolar"
           }
          ],
          "carpet": [
           {
            "aaxis": {
             "endlinecolor": "#2a3f5f",
             "gridcolor": "white",
             "linecolor": "white",
             "minorgridcolor": "white",
             "startlinecolor": "#2a3f5f"
            },
            "baxis": {
             "endlinecolor": "#2a3f5f",
             "gridcolor": "white",
             "linecolor": "white",
             "minorgridcolor": "white",
             "startlinecolor": "#2a3f5f"
            },
            "type": "carpet"
           }
          ],
          "choropleth": [
           {
            "colorbar": {
             "outlinewidth": 0,
             "ticks": ""
            },
            "type": "choropleth"
           }
          ],
          "contour": [
           {
            "colorbar": {
             "outlinewidth": 0,
             "ticks": ""
            },
            "colorscale": [
             [
              0,
              "#0d0887"
             ],
             [
              0.1111111111111111,
              "#46039f"
             ],
             [
              0.2222222222222222,
              "#7201a8"
             ],
             [
              0.3333333333333333,
              "#9c179e"
             ],
             [
              0.4444444444444444,
              "#bd3786"
             ],
             [
              0.5555555555555556,
              "#d8576b"
             ],
             [
              0.6666666666666666,
              "#ed7953"
             ],
             [
              0.7777777777777778,
              "#fb9f3a"
             ],
             [
              0.8888888888888888,
              "#fdca26"
             ],
             [
              1,
              "#f0f921"
             ]
            ],
            "type": "contour"
           }
          ],
          "contourcarpet": [
           {
            "colorbar": {
             "outlinewidth": 0,
             "ticks": ""
            },
            "type": "contourcarpet"
           }
          ],
          "heatmap": [
           {
            "colorbar": {
             "outlinewidth": 0,
             "ticks": ""
            },
            "colorscale": [
             [
              0,
              "#0d0887"
             ],
             [
              0.1111111111111111,
              "#46039f"
             ],
             [
              0.2222222222222222,
              "#7201a8"
             ],
             [
              0.3333333333333333,
              "#9c179e"
             ],
             [
              0.4444444444444444,
              "#bd3786"
             ],
             [
              0.5555555555555556,
              "#d8576b"
             ],
             [
              0.6666666666666666,
              "#ed7953"
             ],
             [
              0.7777777777777778,
              "#fb9f3a"
             ],
             [
              0.8888888888888888,
              "#fdca26"
             ],
             [
              1,
              "#f0f921"
             ]
            ],
            "type": "heatmap"
           }
          ],
          "heatmapgl": [
           {
            "colorbar": {
             "outlinewidth": 0,
             "ticks": ""
            },
            "colorscale": [
             [
              0,
              "#0d0887"
             ],
             [
              0.1111111111111111,
              "#46039f"
             ],
             [
              0.2222222222222222,
              "#7201a8"
             ],
             [
              0.3333333333333333,
              "#9c179e"
             ],
             [
              0.4444444444444444,
              "#bd3786"
             ],
             [
              0.5555555555555556,
              "#d8576b"
             ],
             [
              0.6666666666666666,
              "#ed7953"
             ],
             [
              0.7777777777777778,
              "#fb9f3a"
             ],
             [
              0.8888888888888888,
              "#fdca26"
             ],
             [
              1,
              "#f0f921"
             ]
            ],
            "type": "heatmapgl"
           }
          ],
          "histogram": [
           {
            "marker": {
             "pattern": {
              "fillmode": "overlay",
              "size": 10,
              "solidity": 0.2
             }
            },
            "type": "histogram"
           }
          ],
          "histogram2d": [
           {
            "colorbar": {
             "outlinewidth": 0,
             "ticks": ""
            },
            "colorscale": [
             [
              0,
              "#0d0887"
             ],
             [
              0.1111111111111111,
              "#46039f"
             ],
             [
              0.2222222222222222,
              "#7201a8"
             ],
             [
              0.3333333333333333,
              "#9c179e"
             ],
             [
              0.4444444444444444,
              "#bd3786"
             ],
             [
              0.5555555555555556,
              "#d8576b"
             ],
             [
              0.6666666666666666,
              "#ed7953"
             ],
             [
              0.7777777777777778,
              "#fb9f3a"
             ],
             [
              0.8888888888888888,
              "#fdca26"
             ],
             [
              1,
              "#f0f921"
             ]
            ],
            "type": "histogram2d"
           }
          ],
          "histogram2dcontour": [
           {
            "colorbar": {
             "outlinewidth": 0,
             "ticks": ""
            },
            "colorscale": [
             [
              0,
              "#0d0887"
             ],
             [
              0.1111111111111111,
              "#46039f"
             ],
             [
              0.2222222222222222,
              "#7201a8"
             ],
             [
              0.3333333333333333,
              "#9c179e"
             ],
             [
              0.4444444444444444,
              "#bd3786"
             ],
             [
              0.5555555555555556,
              "#d8576b"
             ],
             [
              0.6666666666666666,
              "#ed7953"
             ],
             [
              0.7777777777777778,
              "#fb9f3a"
             ],
             [
              0.8888888888888888,
              "#fdca26"
             ],
             [
              1,
              "#f0f921"
             ]
            ],
            "type": "histogram2dcontour"
           }
          ],
          "mesh3d": [
           {
            "colorbar": {
             "outlinewidth": 0,
             "ticks": ""
            },
            "type": "mesh3d"
           }
          ],
          "parcoords": [
           {
            "line": {
             "colorbar": {
              "outlinewidth": 0,
              "ticks": ""
             }
            },
            "type": "parcoords"
           }
          ],
          "pie": [
           {
            "automargin": true,
            "type": "pie"
           }
          ],
          "scatter": [
           {
            "marker": {
             "colorbar": {
              "outlinewidth": 0,
              "ticks": ""
             }
            },
            "type": "scatter"
           }
          ],
          "scatter3d": [
           {
            "line": {
             "colorbar": {
              "outlinewidth": 0,
              "ticks": ""
             }
            },
            "marker": {
             "colorbar": {
              "outlinewidth": 0,
              "ticks": ""
             }
            },
            "type": "scatter3d"
           }
          ],
          "scattercarpet": [
           {
            "marker": {
             "colorbar": {
              "outlinewidth": 0,
              "ticks": ""
             }
            },
            "type": "scattercarpet"
           }
          ],
          "scattergeo": [
           {
            "marker": {
             "colorbar": {
              "outlinewidth": 0,
              "ticks": ""
             }
            },
            "type": "scattergeo"
           }
          ],
          "scattergl": [
           {
            "marker": {
             "colorbar": {
              "outlinewidth": 0,
              "ticks": ""
             }
            },
            "type": "scattergl"
           }
          ],
          "scattermapbox": [
           {
            "marker": {
             "colorbar": {
              "outlinewidth": 0,
              "ticks": ""
             }
            },
            "type": "scattermapbox"
           }
          ],
          "scatterpolar": [
           {
            "marker": {
             "colorbar": {
              "outlinewidth": 0,
              "ticks": ""
             }
            },
            "type": "scatterpolar"
           }
          ],
          "scatterpolargl": [
           {
            "marker": {
             "colorbar": {
              "outlinewidth": 0,
              "ticks": ""
             }
            },
            "type": "scatterpolargl"
           }
          ],
          "scatterternary": [
           {
            "marker": {
             "colorbar": {
              "outlinewidth": 0,
              "ticks": ""
             }
            },
            "type": "scatterternary"
           }
          ],
          "surface": [
           {
            "colorbar": {
             "outlinewidth": 0,
             "ticks": ""
            },
            "colorscale": [
             [
              0,
              "#0d0887"
             ],
             [
              0.1111111111111111,
              "#46039f"
             ],
             [
              0.2222222222222222,
              "#7201a8"
             ],
             [
              0.3333333333333333,
              "#9c179e"
             ],
             [
              0.4444444444444444,
              "#bd3786"
             ],
             [
              0.5555555555555556,
              "#d8576b"
             ],
             [
              0.6666666666666666,
              "#ed7953"
             ],
             [
              0.7777777777777778,
              "#fb9f3a"
             ],
             [
              0.8888888888888888,
              "#fdca26"
             ],
             [
              1,
              "#f0f921"
             ]
            ],
            "type": "surface"
           }
          ],
          "table": [
           {
            "cells": {
             "fill": {
              "color": "#EBF0F8"
             },
             "line": {
              "color": "white"
             }
            },
            "header": {
             "fill": {
              "color": "#C8D4E3"
             },
             "line": {
              "color": "white"
             }
            },
            "type": "table"
           }
          ]
         },
         "layout": {
          "annotationdefaults": {
           "arrowcolor": "#2a3f5f",
           "arrowhead": 0,
           "arrowwidth": 1
          },
          "autotypenumbers": "strict",
          "coloraxis": {
           "colorbar": {
            "outlinewidth": 0,
            "ticks": ""
           }
          },
          "colorscale": {
           "diverging": [
            [
             0,
             "#8e0152"
            ],
            [
             0.1,
             "#c51b7d"
            ],
            [
             0.2,
             "#de77ae"
            ],
            [
             0.3,
             "#f1b6da"
            ],
            [
             0.4,
             "#fde0ef"
            ],
            [
             0.5,
             "#f7f7f7"
            ],
            [
             0.6,
             "#e6f5d0"
            ],
            [
             0.7,
             "#b8e186"
            ],
            [
             0.8,
             "#7fbc41"
            ],
            [
             0.9,
             "#4d9221"
            ],
            [
             1,
             "#276419"
            ]
           ],
           "sequential": [
            [
             0,
             "#0d0887"
            ],
            [
             0.1111111111111111,
             "#46039f"
            ],
            [
             0.2222222222222222,
             "#7201a8"
            ],
            [
             0.3333333333333333,
             "#9c179e"
            ],
            [
             0.4444444444444444,
             "#bd3786"
            ],
            [
             0.5555555555555556,
             "#d8576b"
            ],
            [
             0.6666666666666666,
             "#ed7953"
            ],
            [
             0.7777777777777778,
             "#fb9f3a"
            ],
            [
             0.8888888888888888,
             "#fdca26"
            ],
            [
             1,
             "#f0f921"
            ]
           ],
           "sequentialminus": [
            [
             0,
             "#0d0887"
            ],
            [
             0.1111111111111111,
             "#46039f"
            ],
            [
             0.2222222222222222,
             "#7201a8"
            ],
            [
             0.3333333333333333,
             "#9c179e"
            ],
            [
             0.4444444444444444,
             "#bd3786"
            ],
            [
             0.5555555555555556,
             "#d8576b"
            ],
            [
             0.6666666666666666,
             "#ed7953"
            ],
            [
             0.7777777777777778,
             "#fb9f3a"
            ],
            [
             0.8888888888888888,
             "#fdca26"
            ],
            [
             1,
             "#f0f921"
            ]
           ]
          },
          "colorway": [
           "#636efa",
           "#EF553B",
           "#00cc96",
           "#ab63fa",
           "#FFA15A",
           "#19d3f3",
           "#FF6692",
           "#B6E880",
           "#FF97FF",
           "#FECB52"
          ],
          "font": {
           "color": "#2a3f5f"
          },
          "geo": {
           "bgcolor": "white",
           "lakecolor": "white",
           "landcolor": "#E5ECF6",
           "showlakes": true,
           "showland": true,
           "subunitcolor": "white"
          },
          "hoverlabel": {
           "align": "left"
          },
          "hovermode": "closest",
          "mapbox": {
           "style": "light"
          },
          "paper_bgcolor": "white",
          "plot_bgcolor": "#E5ECF6",
          "polar": {
           "angularaxis": {
            "gridcolor": "white",
            "linecolor": "white",
            "ticks": ""
           },
           "bgcolor": "#E5ECF6",
           "radialaxis": {
            "gridcolor": "white",
            "linecolor": "white",
            "ticks": ""
           }
          },
          "scene": {
           "xaxis": {
            "backgroundcolor": "#E5ECF6",
            "gridcolor": "white",
            "gridwidth": 2,
            "linecolor": "white",
            "showbackground": true,
            "ticks": "",
            "zerolinecolor": "white"
           },
           "yaxis": {
            "backgroundcolor": "#E5ECF6",
            "gridcolor": "white",
            "gridwidth": 2,
            "linecolor": "white",
            "showbackground": true,
            "ticks": "",
            "zerolinecolor": "white"
           },
           "zaxis": {
            "backgroundcolor": "#E5ECF6",
            "gridcolor": "white",
            "gridwidth": 2,
            "linecolor": "white",
            "showbackground": true,
            "ticks": "",
            "zerolinecolor": "white"
           }
          },
          "shapedefaults": {
           "line": {
            "color": "#2a3f5f"
           }
          },
          "ternary": {
           "aaxis": {
            "gridcolor": "white",
            "linecolor": "white",
            "ticks": ""
           },
           "baxis": {
            "gridcolor": "white",
            "linecolor": "white",
            "ticks": ""
           },
           "bgcolor": "#E5ECF6",
           "caxis": {
            "gridcolor": "white",
            "linecolor": "white",
            "ticks": ""
           }
          },
          "title": {
           "x": 0.05
          },
          "xaxis": {
           "automargin": true,
           "gridcolor": "white",
           "linecolor": "white",
           "ticks": "",
           "title": {
            "standoff": 15
           },
           "zerolinecolor": "white",
           "zerolinewidth": 2
          },
          "yaxis": {
           "automargin": true,
           "gridcolor": "white",
           "linecolor": "white",
           "ticks": "",
           "title": {
            "standoff": 15
           },
           "zerolinecolor": "white",
           "zerolinewidth": 2
          }
         }
        },
        "title": {
         "text": "Fake Tweet Count vs Percentage Fake vs Degree for Community 2"
        },
        "xaxis": {
         "anchor": "y",
         "domain": [
          0,
          1
         ],
         "title": {
          "text": "Fake Tweet/Retweet Count"
         }
        },
        "yaxis": {
         "anchor": "x",
         "domain": [
          0,
          1
         ],
         "title": {
          "text": "Degree"
         }
        }
       }
      },
      "text/html": [
       "<div>                            <div id=\"eeea3078-d93d-44a1-ad3d-9fb7d2d49b97\" class=\"plotly-graph-div\" style=\"height:525px; width:100%;\"></div>            <script type=\"text/javascript\">                require([\"plotly\"], function(Plotly) {                    window.PLOTLYENV=window.PLOTLYENV || {};                                    if (document.getElementById(\"eeea3078-d93d-44a1-ad3d-9fb7d2d49b97\")) {                    Plotly.newPlot(                        \"eeea3078-d93d-44a1-ad3d-9fb7d2d49b97\",                        [{\"hovertemplate\":\"<b>%{hovertext}</b><br><br>Fake Tweet/Retweet Count=%{x}<br>Degree=%{marker.size}<br>Percentage Fake=%{marker.color}<extra></extra>\",\"hovertext\":[3772895061.0,24544802.0,7.90019230389248e+17,550955977.0,42685467.0,3387188439.0,133005157.0,853185504.0,2841714842.0,3271255423.0,1578095880.0,361003801.0,834256554.0,2611066880.0,8.833342309686845e+17,426321629.0,2790442199.0,1265464230.0,480500298.0,8.239612649886188e+17,3415287255.0,2197834202.0,241972988.0,765213068.0,7.551274957756252e+17,7.972980839146086e+17,4384892902.0,3017703114.0,86378502.0,257097577.0,3870745634.0,237140311.0,1581128899.0,293631912.0,211990186.0,2425874256.0,48704175.0,493926139.0,40708919.0,49424542.0,749828096.0,4866566489.0,45641358.0,159110985.0,3089040558.0,4185510494.0,46684860.0,816641287.0,180986738.0,2873973494.0,2860908597.0,4418684392.0,2903111283.0,4696541605.0,87562484.0,7.545187746240348e+17,71613350.0,7.149851823154504e+17,478367964.0,2307253314.0,550487203.0,508116018.0,9.555882387936952e+17,70320954.0,4826927664.0,256780164.0,1.0527638463211028e+18,108510851.0,2452466786.0,257234986.0,82616432.0,262715330.0,2167585616.0,1460884393.0,3048173406.0,77248123.0,193589482.0,3097543386.0,207425342.0,3292911462.0,274347607.0,7.15907016934486e+17,929882659.0,376226841.0,2877712525.0,182362719.0,3682560615.0,117630387.0,3400722723.0,271138145.0,3290370521.0,2375536536.0,2523556454.0,3400552306.0,2784632127.0,3367318187.0,295324253.0,246093638.0,28277850.0,2958832497.0,2595978877.0,302705113.0,2614121611.0,297043846.0,263943142.0,3289838898.0,49790780.0,34704729.0,3707671576.0,7.594178240624026e+17,7.875172553241682e+17,7.979450204059238e+17,7.980379910506701e+17,80968470.0,8.349906490279977e+17,84683811.0,8.482692028927836e+17,85155978.0,8.72819831745196e+17,8.735961100650209e+17,873862188.0,8.761551739068948e+17,9.217352505978266e+17,936815640.0,9.482981430613524e+17,9.502990172960686e+17,9.587443347732726e+17,98206010.0,7.584487825603297e+17,7.581161731542303e+17,7.566418850793718e+17,502335393.0,375489028.0,385962979.0,423620746.0,46130528.0,4836657221.0,4857707848.0,4860867953.0,49776499.0,51897156.0,7.428148233402532e+17,52096510.0,54935632.0,557250050.0,563792459.0,67896980.0,7.01258640460632e+17,7.025198003633603e+17,7.14220936724095e+17,233835830.0,112061409.0,2265799817.0,525863715.0,3039131661.0,3051400362.0,3082702335.0,3092264183.0,323666150.0,3267533862.0,3305977777.0,3311944769.0,33256484.0,3351788417.0,34194051.0,365557528.0,3740732783.0,382973958.0,4058164453.0,4265299414.0,4337549712.0,46260456.0,462861372.0,47687096.0,4824179093.0,3018587225.0,3001145196.0,2849529551.0,210556794.0,114770420.0,1289848416.0,1404014400.0,1465857446.0,1689912313.0,1691095927.0,17834762.0,18292048.0,18473274.0,211634104.0,2715841205.0,2202241436.0,2219871019.0,2250689443.0,243050493.0,24448366.0,2575759197.0,2644351377.0,266989727.0,26701846.0,514711223.0,532458706.0,2250680744.0,633441834.0,1009562940.0,1018893332.0,112287707.0,1183799054.0,1190690964.0,121920322.0,1364870234.0,137191685.0,143550623.0,1447529352.0,1536863899.0,15490439.0,162398335.0,164705765.0,166965005.0,1717701356.0,173514323.0,187091075.0,190665083.0,21829541.0,2197894937.0,1.0023835244966748e+18,983092278.0,9.561129993154232e+17,7.801908275071017e+17,67815972.0,6.957516997100093e+17,7.080466587480433e+17,7.113097504455434e+17,7.163120032837878e+17,7.303924494077993e+17,7.42396324969128e+17,7.653821887874376e+17,7.746399429537997e+17,7.910895959453286e+17,9.537874604457206e+17,8.12532477055144e+17,8.154269165723402e+17,858654914.0,8.728498883288269e+17,8.826983478360556e+17,889040726.0,896187666.0,9.043211071127224e+17,950830002.0,98261204.0],\"legendgroup\":\"\",\"marker\":{\"color\":[0.7368421052631579,0.8888888888888888,0.2844827586206896,1.0,1.0,0.7368421052631579,0.9629629629629628,0.9,0.6730769230769231,0.0567375886524822,1.0,1.0,1.0,0.6470588235294118,0.7777777777777778,0.9,0.8421052631578947,0.6666666666666666,0.625,0.8333333333333334,1.0,0.9411764705882352,1.0,0.6666666666666666,1.0,1.0,1.0,0.5714285714285714,1.0,0.8333333333333334,0.75,1.0,1.0,1.0,0.5,1.0,1.0,1.0,0.75,0.5,0.875,0.6666666666666666,0.5555555555555556,0.9411764705882352,0.6,1.0,0.5,0.75,0.3571428571428571,1.0,1.0,0.6,1.0,1.0,1.0,1.0,0.5555555555555556,1.0,1.0,1.0,1.0,1.0,1.0,0.5555555555555556,0.6666666666666666,0.6666666666666666,1.0,1.0,1.0,0.2857142857142857,0.4,0.75,0.6666666666666666,1.0,0.6666666666666666,0.6666666666666666,0.5,0.6666666666666666,1.0,0.6666666666666666,1.0,1.0,1.0,1.0,0.7142857142857143,1.0,0.8333333333333334,1.0,0.4,1.0,1.0,1.0,1.0,1.0,0.5,1.0,0.5,1.0,1.0,1.0,0.625,1.0,1.0,1.0,1.0,1.0,0.6666666666666666,1.0,1.0,1.0,1.0,1.0,1.0,1.0,1.0,1.0,1.0,0.6666666666666666,1.0,1.0,1.0,1.0,1.0,0.5,1.0,1.0,1.0,1.0,1.0,1.0,1.0,1.0,1.0,0.5,1.0,1.0,1.0,1.0,1.0,1.0,1.0,1.0,1.0,0.5,1.0,1.0,1.0,1.0,0.7142857142857143,1.0,0.6666666666666666,1.0,0.5,1.0,1.0,1.0,1.0,1.0,0.5,1.0,1.0,1.0,1.0,1.0,1.0,1.0,1.0,1.0,1.0,1.0,1.0,0.3333333333333333,1.0,1.0,1.0,0.9090909090909092,1.0,1.0,1.0,0.6666666666666666,0.3333333333333333,1.0,1.0,0.5,1.0,1.0,1.0,0.8,1.0,1.0,1.0,1.0,0.5,1.0,1.0,1.0,1.0,0.5,0.5,1.0,1.0,1.0,1.0,1.0,1.0,1.0,1.0,1.0,1.0,1.0,1.0,1.0,1.0,1.0,1.0,1.0,0.5,1.0,1.0,0.5,1.0,1.0,0.3333333333333333,1.0,0.3333333333333333,1.0,1.0,1.0,0.8,1.0,1.0,1.0,0.5,0.2,0.5,0.75,1.0,0.5,1.0,1.0,1.0,1.0,0.5,1.0,1.0,1.0,1.0,1.0,1.0],\"coloraxis\":\"coloraxis\",\"size\":[28,23,14,14,14,12,11,9,8,8,7,7,7,7,6,5,5,5,5,5,5,5,4,4,4,4,4,4,4,4,3,3,3,3,3,3,3,3,3,3,3,3,3,3,3,3,3,3,3,3,3,3,2,2,2,2,2,2,2,2,2,2,2,2,2,2,2,2,2,2,2,2,2,2,2,2,2,2,2,2,2,2,2,2,2,2,2,2,2,1,1,1,1,1,1,1,1,1,1,1,1,1,1,1,1,1,1,1,1,1,1,1,1,1,1,1,1,1,1,1,1,1,1,1,1,1,1,1,1,1,1,1,1,1,1,1,1,1,1,1,1,1,1,1,1,1,1,1,1,1,1,1,1,1,1,1,1,1,1,1,1,1,1,1,1,1,1,1,1,1,1,1,1,1,1,1,1,1,1,1,1,1,1,1,1,1,1,1,1,1,1,1,1,1,1,1,1,1,1,1,1,1,1,1,1,1,1,1,1,1,1,1,1,1,1,1,1,1,1,1,1,1,1,1,1,1,1,1,1,1,1,1,1,1,1,1,1,1,1,1,1,1,1,1,1,1,1,1,1],\"sizemode\":\"area\",\"sizeref\":0.0077777777777777776,\"symbol\":\"circle\"},\"mode\":\"markers\",\"name\":\"\",\"orientation\":\"v\",\"showlegend\":false,\"type\":\"scatter\",\"x\":[42,24,66,36,49,14,26,9,35,8,18,8,31,11,7,9,16,6,5,5,8,16,8,6,4,4,5,4,4,5,3,3,3,7,3,8,3,3,3,5,7,4,5,16,3,4,3,3,5,3,3,3,2,2,2,2,5,2,2,2,3,2,2,5,2,2,2,2,2,2,2,3,2,4,2,2,2,2,2,2,3,2,3,2,5,4,5,2,2,1,1,1,1,1,1,1,1,1,1,2,5,1,6,1,1,1,2,2,1,1,2,1,1,1,1,1,1,2,1,2,1,1,1,1,1,1,1,1,1,1,1,2,2,1,1,1,1,1,1,1,1,1,1,1,1,1,1,1,5,1,2,1,1,2,1,1,1,1,1,1,1,1,5,1,1,1,1,2,6,1,1,1,1,3,1,10,1,1,1,2,1,1,2,1,4,1,2,4,1,1,2,1,1,1,1,1,1,1,1,1,1,1,1,1,1,1,1,1,1,1,1,1,1,1,1,1,1,1,2,1,2,1,1,1,1,2,1,1,4,1,2,1,1,1,1,3,1,1,1,2,1,1,3,1,1,1,1,1,1],\"xaxis\":\"x\",\"y\":[28,23,14,14,14,12,11,9,8,8,7,7,7,7,6,5,5,5,5,5,5,5,4,4,4,4,4,4,4,4,3,3,3,3,3,3,3,3,3,3,3,3,3,3,3,3,3,3,3,3,3,3,2,2,2,2,2,2,2,2,2,2,2,2,2,2,2,2,2,2,2,2,2,2,2,2,2,2,2,2,2,2,2,2,2,2,2,2,2,1,1,1,1,1,1,1,1,1,1,1,1,1,1,1,1,1,1,1,1,1,1,1,1,1,1,1,1,1,1,1,1,1,1,1,1,1,1,1,1,1,1,1,1,1,1,1,1,1,1,1,1,1,1,1,1,1,1,1,1,1,1,1,1,1,1,1,1,1,1,1,1,1,1,1,1,1,1,1,1,1,1,1,1,1,1,1,1,1,1,1,1,1,1,1,1,1,1,1,1,1,1,1,1,1,1,1,1,1,1,1,1,1,1,1,1,1,1,1,1,1,1,1,1,1,1,1,1,1,1,1,1,1,1,1,1,1,1,1,1,1,1,1,1,1,1,1,1,1,1,1,1,1,1,1,1,1,1,1,1],\"yaxis\":\"y\"}],                        {\"coloraxis\":{\"colorbar\":{\"title\":{\"text\":\"Percentage Fake\"}},\"colorscale\":[[0.0,\"rgb(0, 147, 146)\"],[0.16666666666666666,\"rgb(57, 177, 133)\"],[0.3333333333333333,\"rgb(156, 203, 134)\"],[0.5,\"rgb(233, 226, 156)\"],[0.6666666666666666,\"rgb(238, 180, 121)\"],[0.8333333333333334,\"rgb(232, 132, 113)\"],[1.0,\"rgb(207, 89, 126)\"]]},\"legend\":{\"itemsizing\":\"constant\",\"tracegroupgap\":0},\"plot_bgcolor\":\"rgb(255,255,255)\",\"template\":{\"data\":{\"bar\":[{\"error_x\":{\"color\":\"#2a3f5f\"},\"error_y\":{\"color\":\"#2a3f5f\"},\"marker\":{\"line\":{\"color\":\"#E5ECF6\",\"width\":0.5},\"pattern\":{\"fillmode\":\"overlay\",\"size\":10,\"solidity\":0.2}},\"type\":\"bar\"}],\"barpolar\":[{\"marker\":{\"line\":{\"color\":\"#E5ECF6\",\"width\":0.5},\"pattern\":{\"fillmode\":\"overlay\",\"size\":10,\"solidity\":0.2}},\"type\":\"barpolar\"}],\"carpet\":[{\"aaxis\":{\"endlinecolor\":\"#2a3f5f\",\"gridcolor\":\"white\",\"linecolor\":\"white\",\"minorgridcolor\":\"white\",\"startlinecolor\":\"#2a3f5f\"},\"baxis\":{\"endlinecolor\":\"#2a3f5f\",\"gridcolor\":\"white\",\"linecolor\":\"white\",\"minorgridcolor\":\"white\",\"startlinecolor\":\"#2a3f5f\"},\"type\":\"carpet\"}],\"choropleth\":[{\"colorbar\":{\"outlinewidth\":0,\"ticks\":\"\"},\"type\":\"choropleth\"}],\"contour\":[{\"colorbar\":{\"outlinewidth\":0,\"ticks\":\"\"},\"colorscale\":[[0.0,\"#0d0887\"],[0.1111111111111111,\"#46039f\"],[0.2222222222222222,\"#7201a8\"],[0.3333333333333333,\"#9c179e\"],[0.4444444444444444,\"#bd3786\"],[0.5555555555555556,\"#d8576b\"],[0.6666666666666666,\"#ed7953\"],[0.7777777777777778,\"#fb9f3a\"],[0.8888888888888888,\"#fdca26\"],[1.0,\"#f0f921\"]],\"type\":\"contour\"}],\"contourcarpet\":[{\"colorbar\":{\"outlinewidth\":0,\"ticks\":\"\"},\"type\":\"contourcarpet\"}],\"heatmap\":[{\"colorbar\":{\"outlinewidth\":0,\"ticks\":\"\"},\"colorscale\":[[0.0,\"#0d0887\"],[0.1111111111111111,\"#46039f\"],[0.2222222222222222,\"#7201a8\"],[0.3333333333333333,\"#9c179e\"],[0.4444444444444444,\"#bd3786\"],[0.5555555555555556,\"#d8576b\"],[0.6666666666666666,\"#ed7953\"],[0.7777777777777778,\"#fb9f3a\"],[0.8888888888888888,\"#fdca26\"],[1.0,\"#f0f921\"]],\"type\":\"heatmap\"}],\"heatmapgl\":[{\"colorbar\":{\"outlinewidth\":0,\"ticks\":\"\"},\"colorscale\":[[0.0,\"#0d0887\"],[0.1111111111111111,\"#46039f\"],[0.2222222222222222,\"#7201a8\"],[0.3333333333333333,\"#9c179e\"],[0.4444444444444444,\"#bd3786\"],[0.5555555555555556,\"#d8576b\"],[0.6666666666666666,\"#ed7953\"],[0.7777777777777778,\"#fb9f3a\"],[0.8888888888888888,\"#fdca26\"],[1.0,\"#f0f921\"]],\"type\":\"heatmapgl\"}],\"histogram\":[{\"marker\":{\"pattern\":{\"fillmode\":\"overlay\",\"size\":10,\"solidity\":0.2}},\"type\":\"histogram\"}],\"histogram2d\":[{\"colorbar\":{\"outlinewidth\":0,\"ticks\":\"\"},\"colorscale\":[[0.0,\"#0d0887\"],[0.1111111111111111,\"#46039f\"],[0.2222222222222222,\"#7201a8\"],[0.3333333333333333,\"#9c179e\"],[0.4444444444444444,\"#bd3786\"],[0.5555555555555556,\"#d8576b\"],[0.6666666666666666,\"#ed7953\"],[0.7777777777777778,\"#fb9f3a\"],[0.8888888888888888,\"#fdca26\"],[1.0,\"#f0f921\"]],\"type\":\"histogram2d\"}],\"histogram2dcontour\":[{\"colorbar\":{\"outlinewidth\":0,\"ticks\":\"\"},\"colorscale\":[[0.0,\"#0d0887\"],[0.1111111111111111,\"#46039f\"],[0.2222222222222222,\"#7201a8\"],[0.3333333333333333,\"#9c179e\"],[0.4444444444444444,\"#bd3786\"],[0.5555555555555556,\"#d8576b\"],[0.6666666666666666,\"#ed7953\"],[0.7777777777777778,\"#fb9f3a\"],[0.8888888888888888,\"#fdca26\"],[1.0,\"#f0f921\"]],\"type\":\"histogram2dcontour\"}],\"mesh3d\":[{\"colorbar\":{\"outlinewidth\":0,\"ticks\":\"\"},\"type\":\"mesh3d\"}],\"parcoords\":[{\"line\":{\"colorbar\":{\"outlinewidth\":0,\"ticks\":\"\"}},\"type\":\"parcoords\"}],\"pie\":[{\"automargin\":true,\"type\":\"pie\"}],\"scatter\":[{\"marker\":{\"colorbar\":{\"outlinewidth\":0,\"ticks\":\"\"}},\"type\":\"scatter\"}],\"scatter3d\":[{\"line\":{\"colorbar\":{\"outlinewidth\":0,\"ticks\":\"\"}},\"marker\":{\"colorbar\":{\"outlinewidth\":0,\"ticks\":\"\"}},\"type\":\"scatter3d\"}],\"scattercarpet\":[{\"marker\":{\"colorbar\":{\"outlinewidth\":0,\"ticks\":\"\"}},\"type\":\"scattercarpet\"}],\"scattergeo\":[{\"marker\":{\"colorbar\":{\"outlinewidth\":0,\"ticks\":\"\"}},\"type\":\"scattergeo\"}],\"scattergl\":[{\"marker\":{\"colorbar\":{\"outlinewidth\":0,\"ticks\":\"\"}},\"type\":\"scattergl\"}],\"scattermapbox\":[{\"marker\":{\"colorbar\":{\"outlinewidth\":0,\"ticks\":\"\"}},\"type\":\"scattermapbox\"}],\"scatterpolar\":[{\"marker\":{\"colorbar\":{\"outlinewidth\":0,\"ticks\":\"\"}},\"type\":\"scatterpolar\"}],\"scatterpolargl\":[{\"marker\":{\"colorbar\":{\"outlinewidth\":0,\"ticks\":\"\"}},\"type\":\"scatterpolargl\"}],\"scatterternary\":[{\"marker\":{\"colorbar\":{\"outlinewidth\":0,\"ticks\":\"\"}},\"type\":\"scatterternary\"}],\"surface\":[{\"colorbar\":{\"outlinewidth\":0,\"ticks\":\"\"},\"colorscale\":[[0.0,\"#0d0887\"],[0.1111111111111111,\"#46039f\"],[0.2222222222222222,\"#7201a8\"],[0.3333333333333333,\"#9c179e\"],[0.4444444444444444,\"#bd3786\"],[0.5555555555555556,\"#d8576b\"],[0.6666666666666666,\"#ed7953\"],[0.7777777777777778,\"#fb9f3a\"],[0.8888888888888888,\"#fdca26\"],[1.0,\"#f0f921\"]],\"type\":\"surface\"}],\"table\":[{\"cells\":{\"fill\":{\"color\":\"#EBF0F8\"},\"line\":{\"color\":\"white\"}},\"header\":{\"fill\":{\"color\":\"#C8D4E3\"},\"line\":{\"color\":\"white\"}},\"type\":\"table\"}]},\"layout\":{\"annotationdefaults\":{\"arrowcolor\":\"#2a3f5f\",\"arrowhead\":0,\"arrowwidth\":1},\"autotypenumbers\":\"strict\",\"coloraxis\":{\"colorbar\":{\"outlinewidth\":0,\"ticks\":\"\"}},\"colorscale\":{\"diverging\":[[0,\"#8e0152\"],[0.1,\"#c51b7d\"],[0.2,\"#de77ae\"],[0.3,\"#f1b6da\"],[0.4,\"#fde0ef\"],[0.5,\"#f7f7f7\"],[0.6,\"#e6f5d0\"],[0.7,\"#b8e186\"],[0.8,\"#7fbc41\"],[0.9,\"#4d9221\"],[1,\"#276419\"]],\"sequential\":[[0.0,\"#0d0887\"],[0.1111111111111111,\"#46039f\"],[0.2222222222222222,\"#7201a8\"],[0.3333333333333333,\"#9c179e\"],[0.4444444444444444,\"#bd3786\"],[0.5555555555555556,\"#d8576b\"],[0.6666666666666666,\"#ed7953\"],[0.7777777777777778,\"#fb9f3a\"],[0.8888888888888888,\"#fdca26\"],[1.0,\"#f0f921\"]],\"sequentialminus\":[[0.0,\"#0d0887\"],[0.1111111111111111,\"#46039f\"],[0.2222222222222222,\"#7201a8\"],[0.3333333333333333,\"#9c179e\"],[0.4444444444444444,\"#bd3786\"],[0.5555555555555556,\"#d8576b\"],[0.6666666666666666,\"#ed7953\"],[0.7777777777777778,\"#fb9f3a\"],[0.8888888888888888,\"#fdca26\"],[1.0,\"#f0f921\"]]},\"colorway\":[\"#636efa\",\"#EF553B\",\"#00cc96\",\"#ab63fa\",\"#FFA15A\",\"#19d3f3\",\"#FF6692\",\"#B6E880\",\"#FF97FF\",\"#FECB52\"],\"font\":{\"color\":\"#2a3f5f\"},\"geo\":{\"bgcolor\":\"white\",\"lakecolor\":\"white\",\"landcolor\":\"#E5ECF6\",\"showlakes\":true,\"showland\":true,\"subunitcolor\":\"white\"},\"hoverlabel\":{\"align\":\"left\"},\"hovermode\":\"closest\",\"mapbox\":{\"style\":\"light\"},\"paper_bgcolor\":\"white\",\"plot_bgcolor\":\"#E5ECF6\",\"polar\":{\"angularaxis\":{\"gridcolor\":\"white\",\"linecolor\":\"white\",\"ticks\":\"\"},\"bgcolor\":\"#E5ECF6\",\"radialaxis\":{\"gridcolor\":\"white\",\"linecolor\":\"white\",\"ticks\":\"\"}},\"scene\":{\"xaxis\":{\"backgroundcolor\":\"#E5ECF6\",\"gridcolor\":\"white\",\"gridwidth\":2,\"linecolor\":\"white\",\"showbackground\":true,\"ticks\":\"\",\"zerolinecolor\":\"white\"},\"yaxis\":{\"backgroundcolor\":\"#E5ECF6\",\"gridcolor\":\"white\",\"gridwidth\":2,\"linecolor\":\"white\",\"showbackground\":true,\"ticks\":\"\",\"zerolinecolor\":\"white\"},\"zaxis\":{\"backgroundcolor\":\"#E5ECF6\",\"gridcolor\":\"white\",\"gridwidth\":2,\"linecolor\":\"white\",\"showbackground\":true,\"ticks\":\"\",\"zerolinecolor\":\"white\"}},\"shapedefaults\":{\"line\":{\"color\":\"#2a3f5f\"}},\"ternary\":{\"aaxis\":{\"gridcolor\":\"white\",\"linecolor\":\"white\",\"ticks\":\"\"},\"baxis\":{\"gridcolor\":\"white\",\"linecolor\":\"white\",\"ticks\":\"\"},\"bgcolor\":\"#E5ECF6\",\"caxis\":{\"gridcolor\":\"white\",\"linecolor\":\"white\",\"ticks\":\"\"}},\"title\":{\"x\":0.05},\"xaxis\":{\"automargin\":true,\"gridcolor\":\"white\",\"linecolor\":\"white\",\"ticks\":\"\",\"title\":{\"standoff\":15},\"zerolinecolor\":\"white\",\"zerolinewidth\":2},\"yaxis\":{\"automargin\":true,\"gridcolor\":\"white\",\"linecolor\":\"white\",\"ticks\":\"\",\"title\":{\"standoff\":15},\"zerolinecolor\":\"white\",\"zerolinewidth\":2}}},\"title\":{\"text\":\"Fake Tweet Count vs Percentage Fake vs Degree for Community 2\"},\"xaxis\":{\"anchor\":\"y\",\"domain\":[0.0,1.0],\"title\":{\"text\":\"Fake Tweet/Retweet Count\"}},\"yaxis\":{\"anchor\":\"x\",\"domain\":[0.0,1.0],\"title\":{\"text\":\"Degree\"}}},                        {\"responsive\": true}                    ).then(function(){\n",
       "                            \n",
       "var gd = document.getElementById('eeea3078-d93d-44a1-ad3d-9fb7d2d49b97');\n",
       "var x = new MutationObserver(function (mutations, observer) {{\n",
       "        var display = window.getComputedStyle(gd).display;\n",
       "        if (!display || display === 'none') {{\n",
       "            console.log([gd, 'removed!']);\n",
       "            Plotly.purge(gd);\n",
       "            observer.disconnect();\n",
       "        }}\n",
       "}});\n",
       "\n",
       "// Listen for the removal of the full notebook cells\n",
       "var notebookContainer = gd.closest('#notebook-container');\n",
       "if (notebookContainer) {{\n",
       "    x.observe(notebookContainer, {childList: true});\n",
       "}}\n",
       "\n",
       "// Listen for the clearing of the current output cell\n",
       "var outputEl = gd.closest('.output');\n",
       "if (outputEl) {{\n",
       "    x.observe(outputEl, {childList: true});\n",
       "}}\n",
       "\n",
       "                        })                };                });            </script>        </div>"
      ]
     },
     "metadata": {},
     "output_type": "display_data"
    }
   ],
   "source": [
    "fig = px.scatter(com2_metrics, x=\"tweet_retweet_fake_count\", y=\"degree\", size = 'degree', color=\"percentage_fake\",\n",
    "                 hover_name=\"user_id\", log_y=False, size_max=60, color_continuous_scale=px.colors.diverging.Temps,\n",
    "                title=\"Fake Tweet Count vs Percentage Fake vs Degree for Community 2\",\n",
    "                labels={\n",
    "                     \"tweet_retweet_fake_count\": \"Fake Tweet/Retweet Count\",\n",
    "                     \"degree\": \"Degree\",\n",
    "                     \"percentage_fake\": \"Percentage Fake\"\n",
    "                 })\n",
    "fig.layout.plot_bgcolor = 'rgb(255,255,255)'\n",
    "fig.show()"
   ]
  },
  {
   "cell_type": "code",
   "execution_count": 106,
   "id": "26d8322d",
   "metadata": {},
   "outputs": [
    {
     "data": {
      "application/vnd.plotly.v1+json": {
       "config": {
        "plotlyServerURL": "https://plot.ly"
       },
       "data": [
        {
         "hovertemplate": "<b>%{hovertext}</b><br><br>Fake Tweet/Retweet Count=%{x}<br>Degree=%{marker.size}<br>Percentage Fake=%{marker.color}<extra></extra>",
         "hovertext": [
          52572719,
          753776864682999800,
          38863786,
          317223956,
          829735580,
          34991028,
          626503046,
          1426814712,
          292263105,
          311140916,
          2848049341,
          27945987,
          25689113,
          532457531,
          1012808265309347800,
          55381358,
          881579215832760300,
          936545904932327400,
          796863876667207700,
          26453716,
          30644500,
          18291690,
          64008841,
          321632766,
          3892584794,
          4196528835,
          421559457,
          798579983417389000,
          800510390396301300,
          2781121982,
          110681312,
          1057778110307975200,
          1112144912,
          242017731,
          19921268,
          134826601,
          187995023,
          45920157,
          817026870881427500,
          1498573814,
          173119648,
          40510796,
          228118184,
          392371418,
          15973602,
          58808978,
          579791162,
          1426710036,
          1285069740,
          3231834818,
          3227379860,
          26121933,
          808014258,
          2943304486,
          476995113,
          1053184238,
          635004482,
          59736485,
          2949051936,
          23360808,
          24248534,
          509384598,
          39637072,
          798305099634409500,
          893111899348287500,
          116949923,
          20022452,
          262311413,
          270515149,
          25895250,
          770745098,
          785864909942878200,
          475450029,
          802984185816236000,
          787887222,
          25737113,
          2876976288,
          805021003797721100,
          24981827,
          823431491845836800,
          839685855727931400,
          879418650029158400,
          915355028151586800,
          987220009,
          731867938567790600,
          2905390245,
          710296989313994800,
          349027514,
          443654740,
          434442907,
          429571655,
          50035526,
          395491775,
          50880679,
          51284932,
          3674263103,
          568520439,
          3313742461,
          707753739835211800,
          58819354,
          3267268434,
          604717835,
          303341647,
          3003809282,
          63357527,
          2924925248,
          454012489,
          705425662304247800,
          4896792237,
          908136170105778200,
          16081727,
          243363123,
          373938490,
          345484611,
          3355739788,
          3296039808,
          32942732,
          3196558516,
          3104192017,
          308309188,
          29444116,
          2895236803,
          289031581,
          2727390144,
          26206530,
          25722965,
          23035013,
          1605803646,
          2213517019,
          21834528,
          210819177,
          19860107,
          195859173,
          1868465510,
          1846124581,
          1556075358,
          1546656000,
          1514355565,
          139189262,
          124967582,
          1169054324,
          115392787,
          400399269,
          41238350,
          431901670,
          443943237,
          1411902361,
          134838419,
          1305807127,
          1029937717700964400,
          946921770069631000,
          930838712400973800,
          916787959,
          1066204172,
          826165491605569500,
          774757798026485800,
          765103513,
          756576589178175500,
          744359248100917200,
          73672728,
          703254026272559100,
          702963029521076200,
          631932457,
          61776145,
          615169482,
          586724399,
          545128446,
          532198406,
          511041846,
          495382516,
          49115079,
          4886325111,
          474999990,
          4659654224,
          4627221853,
          991650668048998400
         ],
         "legendgroup": "",
         "marker": {
          "color": [
           0.9701492537313432,
           1,
           1,
           0.8666666666666667,
           0.6470588235294118,
           0.75,
           0.4727272727272727,
           1,
           0.4827586206896552,
           0.6666666666666666,
           0.75,
           1,
           1,
           1,
           1,
           0.5714285714285714,
           0.8461538461538461,
           0.8,
           0.8181818181818182,
           1,
           0.8,
           0.9285714285714286,
           0.625,
           0.8,
           0.75,
           0.8,
           1,
           1,
           1,
           1,
           0.945945945945946,
           0.4285714285714285,
           1,
           1,
           0.75,
           1,
           0.8,
           0.9090909090909092,
           1,
           0.6666666666666666,
           1,
           0.0671641791044776,
           0.75,
           1,
           0.75,
           0.5,
           1,
           0.5,
           0.6,
           1,
           1,
           1,
           0.6666666666666666,
           1,
           0.6666666666666666,
           1,
           0.6666666666666666,
           0.6666666666666666,
           0.6666666666666666,
           0.6666666666666666,
           1,
           1,
           0.6666666666666666,
           0.3333333333333333,
           1,
           0.8,
           0.8,
           0.5,
           1,
           1,
           1,
           1,
           1,
           1,
           0.3333333333333333,
           1,
           1,
           1,
           1,
           1,
           1,
           1,
           1,
           1,
           0.5,
           1,
           1,
           0.3333333333333333,
           1,
           1,
           1,
           1,
           1,
           0.3333333333333333,
           1,
           1,
           1,
           1,
           0.5,
           0.25,
           1,
           1,
           1,
           1,
           1,
           0.5,
           1,
           1,
           0.5,
           1,
           1,
           0.5,
           1,
           1,
           0.3333333333333333,
           1,
           1,
           1,
           1,
           1,
           1,
           1,
           0.5,
           1,
           1,
           0.6,
           1,
           1,
           1,
           1,
           1,
           1,
           1,
           1,
           1,
           0.5,
           1,
           0.5,
           1,
           1,
           1,
           0.875,
           1,
           0.5,
           0.3333333333333333,
           1,
           0.5,
           1,
           1,
           1,
           1,
           1,
           1,
           0.5,
           1,
           1,
           0.5,
           0.5,
           1,
           0.5,
           1,
           1,
           0.5,
           0.5,
           1,
           1,
           1,
           1,
           1,
           1,
           1,
           1,
           1,
           1,
           1,
           0.5
          ],
          "coloraxis": "coloraxis",
          "size": [
           31,
           18,
           11,
           10,
           9,
           9,
           9,
           8,
           7,
           6,
           6,
           5,
           5,
           5,
           5,
           4,
           4,
           4,
           4,
           4,
           4,
           3,
           3,
           3,
           3,
           3,
           3,
           3,
           3,
           3,
           3,
           3,
           3,
           3,
           3,
           3,
           3,
           3,
           3,
           2,
           2,
           2,
           2,
           2,
           2,
           2,
           2,
           2,
           2,
           2,
           2,
           2,
           2,
           2,
           2,
           2,
           2,
           2,
           2,
           2,
           2,
           2,
           2,
           2,
           2,
           2,
           2,
           1,
           1,
           1,
           1,
           1,
           1,
           1,
           1,
           1,
           1,
           1,
           1,
           1,
           1,
           1,
           1,
           1,
           1,
           1,
           1,
           1,
           1,
           1,
           1,
           1,
           1,
           1,
           1,
           1,
           1,
           1,
           1,
           1,
           1,
           1,
           1,
           1,
           1,
           1,
           1,
           1,
           1,
           1,
           1,
           1,
           1,
           1,
           1,
           1,
           1,
           1,
           1,
           1,
           1,
           1,
           1,
           1,
           1,
           1,
           1,
           1,
           1,
           1,
           1,
           1,
           1,
           1,
           1,
           1,
           1,
           1,
           1,
           1,
           1,
           1,
           1,
           1,
           1,
           1,
           1,
           1,
           1,
           1,
           1,
           1,
           1,
           1,
           1,
           1,
           1,
           1,
           1,
           1,
           1,
           1,
           1,
           1,
           1,
           1,
           1,
           1,
           1,
           1,
           1,
           1,
           1,
           1,
           1,
           1
          ],
          "sizemode": "area",
          "sizeref": 0.008611111111111111,
          "symbol": "circle"
         },
         "mode": "markers",
         "name": "",
         "orientation": "v",
         "showlegend": false,
         "type": "scatter",
         "x": [
          65,
          19,
          32,
          13,
          11,
          9,
          26,
          19,
          14,
          8,
          6,
          12,
          9,
          7,
          5,
          4,
          11,
          4,
          9,
          4,
          4,
          13,
          5,
          4,
          3,
          4,
          3,
          3,
          4,
          7,
          35,
          3,
          3,
          5,
          3,
          3,
          12,
          10,
          3,
          2,
          2,
          9,
          3,
          2,
          3,
          3,
          10,
          2,
          3,
          2,
          2,
          13,
          2,
          2,
          2,
          2,
          10,
          2,
          2,
          2,
          2,
          2,
          2,
          2,
          2,
          4,
          4,
          1,
          1,
          1,
          1,
          1,
          5,
          1,
          1,
          1,
          1,
          1,
          3,
          1,
          1,
          1,
          1,
          3,
          1,
          2,
          2,
          1,
          1,
          1,
          46,
          1,
          2,
          1,
          1,
          1,
          1,
          1,
          1,
          1,
          4,
          7,
          1,
          4,
          1,
          1,
          1,
          1,
          1,
          1,
          1,
          1,
          1,
          1,
          1,
          1,
          6,
          1,
          1,
          1,
          1,
          1,
          1,
          1,
          1,
          3,
          1,
          1,
          1,
          1,
          3,
          13,
          1,
          1,
          1,
          3,
          1,
          1,
          2,
          1,
          1,
          14,
          1,
          1,
          1,
          1,
          1,
          2,
          1,
          1,
          1,
          1,
          1,
          1,
          1,
          1,
          1,
          2,
          1,
          1,
          1,
          1,
          1,
          1,
          1,
          3,
          1,
          1,
          5,
          3,
          1,
          1,
          2,
          1,
          1,
          1
         ],
         "xaxis": "x",
         "y": [
          31,
          18,
          11,
          10,
          9,
          9,
          9,
          8,
          7,
          6,
          6,
          5,
          5,
          5,
          5,
          4,
          4,
          4,
          4,
          4,
          4,
          3,
          3,
          3,
          3,
          3,
          3,
          3,
          3,
          3,
          3,
          3,
          3,
          3,
          3,
          3,
          3,
          3,
          3,
          2,
          2,
          2,
          2,
          2,
          2,
          2,
          2,
          2,
          2,
          2,
          2,
          2,
          2,
          2,
          2,
          2,
          2,
          2,
          2,
          2,
          2,
          2,
          2,
          2,
          2,
          2,
          2,
          1,
          1,
          1,
          1,
          1,
          1,
          1,
          1,
          1,
          1,
          1,
          1,
          1,
          1,
          1,
          1,
          1,
          1,
          1,
          1,
          1,
          1,
          1,
          1,
          1,
          1,
          1,
          1,
          1,
          1,
          1,
          1,
          1,
          1,
          1,
          1,
          1,
          1,
          1,
          1,
          1,
          1,
          1,
          1,
          1,
          1,
          1,
          1,
          1,
          1,
          1,
          1,
          1,
          1,
          1,
          1,
          1,
          1,
          1,
          1,
          1,
          1,
          1,
          1,
          1,
          1,
          1,
          1,
          1,
          1,
          1,
          1,
          1,
          1,
          1,
          1,
          1,
          1,
          1,
          1,
          1,
          1,
          1,
          1,
          1,
          1,
          1,
          1,
          1,
          1,
          1,
          1,
          1,
          1,
          1,
          1,
          1,
          1,
          1,
          1,
          1,
          1,
          1,
          1,
          1,
          1,
          1,
          1,
          1
         ],
         "yaxis": "y"
        }
       ],
       "layout": {
        "coloraxis": {
         "colorbar": {
          "title": {
           "text": "Percentage Fake"
          }
         },
         "colorscale": [
          [
           0,
           "rgb(0, 147, 146)"
          ],
          [
           0.16666666666666666,
           "rgb(57, 177, 133)"
          ],
          [
           0.3333333333333333,
           "rgb(156, 203, 134)"
          ],
          [
           0.5,
           "rgb(233, 226, 156)"
          ],
          [
           0.6666666666666666,
           "rgb(238, 180, 121)"
          ],
          [
           0.8333333333333334,
           "rgb(232, 132, 113)"
          ],
          [
           1,
           "rgb(207, 89, 126)"
          ]
         ]
        },
        "legend": {
         "itemsizing": "constant",
         "tracegroupgap": 0
        },
        "plot_bgcolor": "rgb(255,255,255)",
        "template": {
         "data": {
          "bar": [
           {
            "error_x": {
             "color": "#2a3f5f"
            },
            "error_y": {
             "color": "#2a3f5f"
            },
            "marker": {
             "line": {
              "color": "#E5ECF6",
              "width": 0.5
             },
             "pattern": {
              "fillmode": "overlay",
              "size": 10,
              "solidity": 0.2
             }
            },
            "type": "bar"
           }
          ],
          "barpolar": [
           {
            "marker": {
             "line": {
              "color": "#E5ECF6",
              "width": 0.5
             },
             "pattern": {
              "fillmode": "overlay",
              "size": 10,
              "solidity": 0.2
             }
            },
            "type": "barpolar"
           }
          ],
          "carpet": [
           {
            "aaxis": {
             "endlinecolor": "#2a3f5f",
             "gridcolor": "white",
             "linecolor": "white",
             "minorgridcolor": "white",
             "startlinecolor": "#2a3f5f"
            },
            "baxis": {
             "endlinecolor": "#2a3f5f",
             "gridcolor": "white",
             "linecolor": "white",
             "minorgridcolor": "white",
             "startlinecolor": "#2a3f5f"
            },
            "type": "carpet"
           }
          ],
          "choropleth": [
           {
            "colorbar": {
             "outlinewidth": 0,
             "ticks": ""
            },
            "type": "choropleth"
           }
          ],
          "contour": [
           {
            "colorbar": {
             "outlinewidth": 0,
             "ticks": ""
            },
            "colorscale": [
             [
              0,
              "#0d0887"
             ],
             [
              0.1111111111111111,
              "#46039f"
             ],
             [
              0.2222222222222222,
              "#7201a8"
             ],
             [
              0.3333333333333333,
              "#9c179e"
             ],
             [
              0.4444444444444444,
              "#bd3786"
             ],
             [
              0.5555555555555556,
              "#d8576b"
             ],
             [
              0.6666666666666666,
              "#ed7953"
             ],
             [
              0.7777777777777778,
              "#fb9f3a"
             ],
             [
              0.8888888888888888,
              "#fdca26"
             ],
             [
              1,
              "#f0f921"
             ]
            ],
            "type": "contour"
           }
          ],
          "contourcarpet": [
           {
            "colorbar": {
             "outlinewidth": 0,
             "ticks": ""
            },
            "type": "contourcarpet"
           }
          ],
          "heatmap": [
           {
            "colorbar": {
             "outlinewidth": 0,
             "ticks": ""
            },
            "colorscale": [
             [
              0,
              "#0d0887"
             ],
             [
              0.1111111111111111,
              "#46039f"
             ],
             [
              0.2222222222222222,
              "#7201a8"
             ],
             [
              0.3333333333333333,
              "#9c179e"
             ],
             [
              0.4444444444444444,
              "#bd3786"
             ],
             [
              0.5555555555555556,
              "#d8576b"
             ],
             [
              0.6666666666666666,
              "#ed7953"
             ],
             [
              0.7777777777777778,
              "#fb9f3a"
             ],
             [
              0.8888888888888888,
              "#fdca26"
             ],
             [
              1,
              "#f0f921"
             ]
            ],
            "type": "heatmap"
           }
          ],
          "heatmapgl": [
           {
            "colorbar": {
             "outlinewidth": 0,
             "ticks": ""
            },
            "colorscale": [
             [
              0,
              "#0d0887"
             ],
             [
              0.1111111111111111,
              "#46039f"
             ],
             [
              0.2222222222222222,
              "#7201a8"
             ],
             [
              0.3333333333333333,
              "#9c179e"
             ],
             [
              0.4444444444444444,
              "#bd3786"
             ],
             [
              0.5555555555555556,
              "#d8576b"
             ],
             [
              0.6666666666666666,
              "#ed7953"
             ],
             [
              0.7777777777777778,
              "#fb9f3a"
             ],
             [
              0.8888888888888888,
              "#fdca26"
             ],
             [
              1,
              "#f0f921"
             ]
            ],
            "type": "heatmapgl"
           }
          ],
          "histogram": [
           {
            "marker": {
             "pattern": {
              "fillmode": "overlay",
              "size": 10,
              "solidity": 0.2
             }
            },
            "type": "histogram"
           }
          ],
          "histogram2d": [
           {
            "colorbar": {
             "outlinewidth": 0,
             "ticks": ""
            },
            "colorscale": [
             [
              0,
              "#0d0887"
             ],
             [
              0.1111111111111111,
              "#46039f"
             ],
             [
              0.2222222222222222,
              "#7201a8"
             ],
             [
              0.3333333333333333,
              "#9c179e"
             ],
             [
              0.4444444444444444,
              "#bd3786"
             ],
             [
              0.5555555555555556,
              "#d8576b"
             ],
             [
              0.6666666666666666,
              "#ed7953"
             ],
             [
              0.7777777777777778,
              "#fb9f3a"
             ],
             [
              0.8888888888888888,
              "#fdca26"
             ],
             [
              1,
              "#f0f921"
             ]
            ],
            "type": "histogram2d"
           }
          ],
          "histogram2dcontour": [
           {
            "colorbar": {
             "outlinewidth": 0,
             "ticks": ""
            },
            "colorscale": [
             [
              0,
              "#0d0887"
             ],
             [
              0.1111111111111111,
              "#46039f"
             ],
             [
              0.2222222222222222,
              "#7201a8"
             ],
             [
              0.3333333333333333,
              "#9c179e"
             ],
             [
              0.4444444444444444,
              "#bd3786"
             ],
             [
              0.5555555555555556,
              "#d8576b"
             ],
             [
              0.6666666666666666,
              "#ed7953"
             ],
             [
              0.7777777777777778,
              "#fb9f3a"
             ],
             [
              0.8888888888888888,
              "#fdca26"
             ],
             [
              1,
              "#f0f921"
             ]
            ],
            "type": "histogram2dcontour"
           }
          ],
          "mesh3d": [
           {
            "colorbar": {
             "outlinewidth": 0,
             "ticks": ""
            },
            "type": "mesh3d"
           }
          ],
          "parcoords": [
           {
            "line": {
             "colorbar": {
              "outlinewidth": 0,
              "ticks": ""
             }
            },
            "type": "parcoords"
           }
          ],
          "pie": [
           {
            "automargin": true,
            "type": "pie"
           }
          ],
          "scatter": [
           {
            "marker": {
             "colorbar": {
              "outlinewidth": 0,
              "ticks": ""
             }
            },
            "type": "scatter"
           }
          ],
          "scatter3d": [
           {
            "line": {
             "colorbar": {
              "outlinewidth": 0,
              "ticks": ""
             }
            },
            "marker": {
             "colorbar": {
              "outlinewidth": 0,
              "ticks": ""
             }
            },
            "type": "scatter3d"
           }
          ],
          "scattercarpet": [
           {
            "marker": {
             "colorbar": {
              "outlinewidth": 0,
              "ticks": ""
             }
            },
            "type": "scattercarpet"
           }
          ],
          "scattergeo": [
           {
            "marker": {
             "colorbar": {
              "outlinewidth": 0,
              "ticks": ""
             }
            },
            "type": "scattergeo"
           }
          ],
          "scattergl": [
           {
            "marker": {
             "colorbar": {
              "outlinewidth": 0,
              "ticks": ""
             }
            },
            "type": "scattergl"
           }
          ],
          "scattermapbox": [
           {
            "marker": {
             "colorbar": {
              "outlinewidth": 0,
              "ticks": ""
             }
            },
            "type": "scattermapbox"
           }
          ],
          "scatterpolar": [
           {
            "marker": {
             "colorbar": {
              "outlinewidth": 0,
              "ticks": ""
             }
            },
            "type": "scatterpolar"
           }
          ],
          "scatterpolargl": [
           {
            "marker": {
             "colorbar": {
              "outlinewidth": 0,
              "ticks": ""
             }
            },
            "type": "scatterpolargl"
           }
          ],
          "scatterternary": [
           {
            "marker": {
             "colorbar": {
              "outlinewidth": 0,
              "ticks": ""
             }
            },
            "type": "scatterternary"
           }
          ],
          "surface": [
           {
            "colorbar": {
             "outlinewidth": 0,
             "ticks": ""
            },
            "colorscale": [
             [
              0,
              "#0d0887"
             ],
             [
              0.1111111111111111,
              "#46039f"
             ],
             [
              0.2222222222222222,
              "#7201a8"
             ],
             [
              0.3333333333333333,
              "#9c179e"
             ],
             [
              0.4444444444444444,
              "#bd3786"
             ],
             [
              0.5555555555555556,
              "#d8576b"
             ],
             [
              0.6666666666666666,
              "#ed7953"
             ],
             [
              0.7777777777777778,
              "#fb9f3a"
             ],
             [
              0.8888888888888888,
              "#fdca26"
             ],
             [
              1,
              "#f0f921"
             ]
            ],
            "type": "surface"
           }
          ],
          "table": [
           {
            "cells": {
             "fill": {
              "color": "#EBF0F8"
             },
             "line": {
              "color": "white"
             }
            },
            "header": {
             "fill": {
              "color": "#C8D4E3"
             },
             "line": {
              "color": "white"
             }
            },
            "type": "table"
           }
          ]
         },
         "layout": {
          "annotationdefaults": {
           "arrowcolor": "#2a3f5f",
           "arrowhead": 0,
           "arrowwidth": 1
          },
          "autotypenumbers": "strict",
          "coloraxis": {
           "colorbar": {
            "outlinewidth": 0,
            "ticks": ""
           }
          },
          "colorscale": {
           "diverging": [
            [
             0,
             "#8e0152"
            ],
            [
             0.1,
             "#c51b7d"
            ],
            [
             0.2,
             "#de77ae"
            ],
            [
             0.3,
             "#f1b6da"
            ],
            [
             0.4,
             "#fde0ef"
            ],
            [
             0.5,
             "#f7f7f7"
            ],
            [
             0.6,
             "#e6f5d0"
            ],
            [
             0.7,
             "#b8e186"
            ],
            [
             0.8,
             "#7fbc41"
            ],
            [
             0.9,
             "#4d9221"
            ],
            [
             1,
             "#276419"
            ]
           ],
           "sequential": [
            [
             0,
             "#0d0887"
            ],
            [
             0.1111111111111111,
             "#46039f"
            ],
            [
             0.2222222222222222,
             "#7201a8"
            ],
            [
             0.3333333333333333,
             "#9c179e"
            ],
            [
             0.4444444444444444,
             "#bd3786"
            ],
            [
             0.5555555555555556,
             "#d8576b"
            ],
            [
             0.6666666666666666,
             "#ed7953"
            ],
            [
             0.7777777777777778,
             "#fb9f3a"
            ],
            [
             0.8888888888888888,
             "#fdca26"
            ],
            [
             1,
             "#f0f921"
            ]
           ],
           "sequentialminus": [
            [
             0,
             "#0d0887"
            ],
            [
             0.1111111111111111,
             "#46039f"
            ],
            [
             0.2222222222222222,
             "#7201a8"
            ],
            [
             0.3333333333333333,
             "#9c179e"
            ],
            [
             0.4444444444444444,
             "#bd3786"
            ],
            [
             0.5555555555555556,
             "#d8576b"
            ],
            [
             0.6666666666666666,
             "#ed7953"
            ],
            [
             0.7777777777777778,
             "#fb9f3a"
            ],
            [
             0.8888888888888888,
             "#fdca26"
            ],
            [
             1,
             "#f0f921"
            ]
           ]
          },
          "colorway": [
           "#636efa",
           "#EF553B",
           "#00cc96",
           "#ab63fa",
           "#FFA15A",
           "#19d3f3",
           "#FF6692",
           "#B6E880",
           "#FF97FF",
           "#FECB52"
          ],
          "font": {
           "color": "#2a3f5f"
          },
          "geo": {
           "bgcolor": "white",
           "lakecolor": "white",
           "landcolor": "#E5ECF6",
           "showlakes": true,
           "showland": true,
           "subunitcolor": "white"
          },
          "hoverlabel": {
           "align": "left"
          },
          "hovermode": "closest",
          "mapbox": {
           "style": "light"
          },
          "paper_bgcolor": "white",
          "plot_bgcolor": "#E5ECF6",
          "polar": {
           "angularaxis": {
            "gridcolor": "white",
            "linecolor": "white",
            "ticks": ""
           },
           "bgcolor": "#E5ECF6",
           "radialaxis": {
            "gridcolor": "white",
            "linecolor": "white",
            "ticks": ""
           }
          },
          "scene": {
           "xaxis": {
            "backgroundcolor": "#E5ECF6",
            "gridcolor": "white",
            "gridwidth": 2,
            "linecolor": "white",
            "showbackground": true,
            "ticks": "",
            "zerolinecolor": "white"
           },
           "yaxis": {
            "backgroundcolor": "#E5ECF6",
            "gridcolor": "white",
            "gridwidth": 2,
            "linecolor": "white",
            "showbackground": true,
            "ticks": "",
            "zerolinecolor": "white"
           },
           "zaxis": {
            "backgroundcolor": "#E5ECF6",
            "gridcolor": "white",
            "gridwidth": 2,
            "linecolor": "white",
            "showbackground": true,
            "ticks": "",
            "zerolinecolor": "white"
           }
          },
          "shapedefaults": {
           "line": {
            "color": "#2a3f5f"
           }
          },
          "ternary": {
           "aaxis": {
            "gridcolor": "white",
            "linecolor": "white",
            "ticks": ""
           },
           "baxis": {
            "gridcolor": "white",
            "linecolor": "white",
            "ticks": ""
           },
           "bgcolor": "#E5ECF6",
           "caxis": {
            "gridcolor": "white",
            "linecolor": "white",
            "ticks": ""
           }
          },
          "title": {
           "x": 0.05
          },
          "xaxis": {
           "automargin": true,
           "gridcolor": "white",
           "linecolor": "white",
           "ticks": "",
           "title": {
            "standoff": 15
           },
           "zerolinecolor": "white",
           "zerolinewidth": 2
          },
          "yaxis": {
           "automargin": true,
           "gridcolor": "white",
           "linecolor": "white",
           "ticks": "",
           "title": {
            "standoff": 15
           },
           "zerolinecolor": "white",
           "zerolinewidth": 2
          }
         }
        },
        "title": {
         "text": "Fake Tweet Count vs Percentage Fake vs Degree for Community 3"
        },
        "xaxis": {
         "anchor": "y",
         "domain": [
          0,
          1
         ],
         "title": {
          "text": "Fake Tweet/Retweet Count"
         }
        },
        "yaxis": {
         "anchor": "x",
         "domain": [
          0,
          1
         ],
         "title": {
          "text": "Degree"
         }
        }
       }
      },
      "text/html": [
       "<div>                            <div id=\"cc0bc160-ad2d-4f7f-8b01-b1641c1b4687\" class=\"plotly-graph-div\" style=\"height:525px; width:100%;\"></div>            <script type=\"text/javascript\">                require([\"plotly\"], function(Plotly) {                    window.PLOTLYENV=window.PLOTLYENV || {};                                    if (document.getElementById(\"cc0bc160-ad2d-4f7f-8b01-b1641c1b4687\")) {                    Plotly.newPlot(                        \"cc0bc160-ad2d-4f7f-8b01-b1641c1b4687\",                        [{\"hovertemplate\":\"<b>%{hovertext}</b><br><br>Fake Tweet/Retweet Count=%{x}<br>Degree=%{marker.size}<br>Percentage Fake=%{marker.color}<extra></extra>\",\"hovertext\":[52572719.0,7.537768646829998e+17,38863786.0,317223956.0,829735580.0,34991028.0,626503046.0,1426814712.0,292263105.0,311140916.0,2848049341.0,27945987.0,25689113.0,532457531.0,1.0128082653093478e+18,55381358.0,8.815792158327603e+17,9.365459049323274e+17,7.968638766672077e+17,26453716.0,30644500.0,18291690.0,64008841.0,321632766.0,3892584794.0,4196528835.0,421559457.0,7.98579983417389e+17,8.005103903963013e+17,2781121982.0,110681312.0,1.0577781103079752e+18,1112144912.0,242017731.0,19921268.0,134826601.0,187995023.0,45920157.0,8.170268708814275e+17,1498573814.0,173119648.0,40510796.0,228118184.0,392371418.0,15973602.0,58808978.0,579791162.0,1426710036.0,1285069740.0,3231834818.0,3227379860.0,26121933.0,808014258.0,2943304486.0,476995113.0,1053184238.0,635004482.0,59736485.0,2949051936.0,23360808.0,24248534.0,509384598.0,39637072.0,7.983050996344095e+17,8.931118993482875e+17,116949923.0,20022452.0,262311413.0,270515149.0,25895250.0,770745098.0,7.858649099428782e+17,475450029.0,8.02984185816236e+17,787887222.0,25737113.0,2876976288.0,8.050210037977211e+17,24981827.0,8.234314918458368e+17,8.396858557279314e+17,8.794186500291584e+17,9.153550281515868e+17,987220009.0,7.318679385677906e+17,2905390245.0,7.102969893139948e+17,349027514.0,443654740.0,434442907.0,429571655.0,50035526.0,395491775.0,50880679.0,51284932.0,3674263103.0,568520439.0,3313742461.0,7.077537398352118e+17,58819354.0,3267268434.0,604717835.0,303341647.0,3003809282.0,63357527.0,2924925248.0,454012489.0,7.054256623042478e+17,4896792237.0,9.081361701057782e+17,16081727.0,243363123.0,373938490.0,345484611.0,3355739788.0,3296039808.0,32942732.0,3196558516.0,3104192017.0,308309188.0,29444116.0,2895236803.0,289031581.0,2727390144.0,26206530.0,25722965.0,23035013.0,1605803646.0,2213517019.0,21834528.0,210819177.0,19860107.0,195859173.0,1868465510.0,1846124581.0,1556075358.0,1546656000.0,1514355565.0,139189262.0,124967582.0,1169054324.0,115392787.0,400399269.0,41238350.0,431901670.0,443943237.0,1411902361.0,134838419.0,1305807127.0,1.0299377177009644e+18,9.46921770069631e+17,9.308387124009738e+17,916787959.0,1066204172.0,8.261654916055695e+17,7.747577980264858e+17,765103513.0,7.565765891781755e+17,7.443592481009172e+17,73672728.0,7.032540262725591e+17,7.029630295210762e+17,631932457.0,61776145.0,615169482.0,586724399.0,545128446.0,532198406.0,511041846.0,495382516.0,49115079.0,4886325111.0,474999990.0,4659654224.0,4627221853.0,9.916506680489984e+17],\"legendgroup\":\"\",\"marker\":{\"color\":[0.9701492537313432,1.0,1.0,0.8666666666666667,0.6470588235294118,0.75,0.4727272727272727,1.0,0.4827586206896552,0.6666666666666666,0.75,1.0,1.0,1.0,1.0,0.5714285714285714,0.8461538461538461,0.8,0.8181818181818182,1.0,0.8,0.9285714285714286,0.625,0.8,0.75,0.8,1.0,1.0,1.0,1.0,0.945945945945946,0.4285714285714285,1.0,1.0,0.75,1.0,0.8,0.9090909090909092,1.0,0.6666666666666666,1.0,0.0671641791044776,0.75,1.0,0.75,0.5,1.0,0.5,0.6,1.0,1.0,1.0,0.6666666666666666,1.0,0.6666666666666666,1.0,0.6666666666666666,0.6666666666666666,0.6666666666666666,0.6666666666666666,1.0,1.0,0.6666666666666666,0.3333333333333333,1.0,0.8,0.8,0.5,1.0,1.0,1.0,1.0,1.0,1.0,0.3333333333333333,1.0,1.0,1.0,1.0,1.0,1.0,1.0,1.0,1.0,0.5,1.0,1.0,0.3333333333333333,1.0,1.0,1.0,1.0,1.0,0.3333333333333333,1.0,1.0,1.0,1.0,0.5,0.25,1.0,1.0,1.0,1.0,1.0,0.5,1.0,1.0,0.5,1.0,1.0,0.5,1.0,1.0,0.3333333333333333,1.0,1.0,1.0,1.0,1.0,1.0,1.0,0.5,1.0,1.0,0.6,1.0,1.0,1.0,1.0,1.0,1.0,1.0,1.0,1.0,0.5,1.0,0.5,1.0,1.0,1.0,0.875,1.0,0.5,0.3333333333333333,1.0,0.5,1.0,1.0,1.0,1.0,1.0,1.0,0.5,1.0,1.0,0.5,0.5,1.0,0.5,1.0,1.0,0.5,0.5,1.0,1.0,1.0,1.0,1.0,1.0,1.0,1.0,1.0,1.0,1.0,0.5],\"coloraxis\":\"coloraxis\",\"size\":[31,18,11,10,9,9,9,8,7,6,6,5,5,5,5,4,4,4,4,4,4,3,3,3,3,3,3,3,3,3,3,3,3,3,3,3,3,3,3,2,2,2,2,2,2,2,2,2,2,2,2,2,2,2,2,2,2,2,2,2,2,2,2,2,2,2,2,1,1,1,1,1,1,1,1,1,1,1,1,1,1,1,1,1,1,1,1,1,1,1,1,1,1,1,1,1,1,1,1,1,1,1,1,1,1,1,1,1,1,1,1,1,1,1,1,1,1,1,1,1,1,1,1,1,1,1,1,1,1,1,1,1,1,1,1,1,1,1,1,1,1,1,1,1,1,1,1,1,1,1,1,1,1,1,1,1,1,1,1,1,1,1,1,1,1,1,1,1,1,1,1,1,1,1,1,1],\"sizemode\":\"area\",\"sizeref\":0.008611111111111111,\"symbol\":\"circle\"},\"mode\":\"markers\",\"name\":\"\",\"orientation\":\"v\",\"showlegend\":false,\"type\":\"scatter\",\"x\":[65,19,32,13,11,9,26,19,14,8,6,12,9,7,5,4,11,4,9,4,4,13,5,4,3,4,3,3,4,7,35,3,3,5,3,3,12,10,3,2,2,9,3,2,3,3,10,2,3,2,2,13,2,2,2,2,10,2,2,2,2,2,2,2,2,4,4,1,1,1,1,1,5,1,1,1,1,1,3,1,1,1,1,3,1,2,2,1,1,1,46,1,2,1,1,1,1,1,1,1,4,7,1,4,1,1,1,1,1,1,1,1,1,1,1,1,6,1,1,1,1,1,1,1,1,3,1,1,1,1,3,13,1,1,1,3,1,1,2,1,1,14,1,1,1,1,1,2,1,1,1,1,1,1,1,1,1,2,1,1,1,1,1,1,1,3,1,1,5,3,1,1,2,1,1,1],\"xaxis\":\"x\",\"y\":[31,18,11,10,9,9,9,8,7,6,6,5,5,5,5,4,4,4,4,4,4,3,3,3,3,3,3,3,3,3,3,3,3,3,3,3,3,3,3,2,2,2,2,2,2,2,2,2,2,2,2,2,2,2,2,2,2,2,2,2,2,2,2,2,2,2,2,1,1,1,1,1,1,1,1,1,1,1,1,1,1,1,1,1,1,1,1,1,1,1,1,1,1,1,1,1,1,1,1,1,1,1,1,1,1,1,1,1,1,1,1,1,1,1,1,1,1,1,1,1,1,1,1,1,1,1,1,1,1,1,1,1,1,1,1,1,1,1,1,1,1,1,1,1,1,1,1,1,1,1,1,1,1,1,1,1,1,1,1,1,1,1,1,1,1,1,1,1,1,1,1,1,1,1,1,1],\"yaxis\":\"y\"}],                        {\"coloraxis\":{\"colorbar\":{\"title\":{\"text\":\"Percentage Fake\"}},\"colorscale\":[[0.0,\"rgb(0, 147, 146)\"],[0.16666666666666666,\"rgb(57, 177, 133)\"],[0.3333333333333333,\"rgb(156, 203, 134)\"],[0.5,\"rgb(233, 226, 156)\"],[0.6666666666666666,\"rgb(238, 180, 121)\"],[0.8333333333333334,\"rgb(232, 132, 113)\"],[1.0,\"rgb(207, 89, 126)\"]]},\"legend\":{\"itemsizing\":\"constant\",\"tracegroupgap\":0},\"plot_bgcolor\":\"rgb(255,255,255)\",\"template\":{\"data\":{\"bar\":[{\"error_x\":{\"color\":\"#2a3f5f\"},\"error_y\":{\"color\":\"#2a3f5f\"},\"marker\":{\"line\":{\"color\":\"#E5ECF6\",\"width\":0.5},\"pattern\":{\"fillmode\":\"overlay\",\"size\":10,\"solidity\":0.2}},\"type\":\"bar\"}],\"barpolar\":[{\"marker\":{\"line\":{\"color\":\"#E5ECF6\",\"width\":0.5},\"pattern\":{\"fillmode\":\"overlay\",\"size\":10,\"solidity\":0.2}},\"type\":\"barpolar\"}],\"carpet\":[{\"aaxis\":{\"endlinecolor\":\"#2a3f5f\",\"gridcolor\":\"white\",\"linecolor\":\"white\",\"minorgridcolor\":\"white\",\"startlinecolor\":\"#2a3f5f\"},\"baxis\":{\"endlinecolor\":\"#2a3f5f\",\"gridcolor\":\"white\",\"linecolor\":\"white\",\"minorgridcolor\":\"white\",\"startlinecolor\":\"#2a3f5f\"},\"type\":\"carpet\"}],\"choropleth\":[{\"colorbar\":{\"outlinewidth\":0,\"ticks\":\"\"},\"type\":\"choropleth\"}],\"contour\":[{\"colorbar\":{\"outlinewidth\":0,\"ticks\":\"\"},\"colorscale\":[[0.0,\"#0d0887\"],[0.1111111111111111,\"#46039f\"],[0.2222222222222222,\"#7201a8\"],[0.3333333333333333,\"#9c179e\"],[0.4444444444444444,\"#bd3786\"],[0.5555555555555556,\"#d8576b\"],[0.6666666666666666,\"#ed7953\"],[0.7777777777777778,\"#fb9f3a\"],[0.8888888888888888,\"#fdca26\"],[1.0,\"#f0f921\"]],\"type\":\"contour\"}],\"contourcarpet\":[{\"colorbar\":{\"outlinewidth\":0,\"ticks\":\"\"},\"type\":\"contourcarpet\"}],\"heatmap\":[{\"colorbar\":{\"outlinewidth\":0,\"ticks\":\"\"},\"colorscale\":[[0.0,\"#0d0887\"],[0.1111111111111111,\"#46039f\"],[0.2222222222222222,\"#7201a8\"],[0.3333333333333333,\"#9c179e\"],[0.4444444444444444,\"#bd3786\"],[0.5555555555555556,\"#d8576b\"],[0.6666666666666666,\"#ed7953\"],[0.7777777777777778,\"#fb9f3a\"],[0.8888888888888888,\"#fdca26\"],[1.0,\"#f0f921\"]],\"type\":\"heatmap\"}],\"heatmapgl\":[{\"colorbar\":{\"outlinewidth\":0,\"ticks\":\"\"},\"colorscale\":[[0.0,\"#0d0887\"],[0.1111111111111111,\"#46039f\"],[0.2222222222222222,\"#7201a8\"],[0.3333333333333333,\"#9c179e\"],[0.4444444444444444,\"#bd3786\"],[0.5555555555555556,\"#d8576b\"],[0.6666666666666666,\"#ed7953\"],[0.7777777777777778,\"#fb9f3a\"],[0.8888888888888888,\"#fdca26\"],[1.0,\"#f0f921\"]],\"type\":\"heatmapgl\"}],\"histogram\":[{\"marker\":{\"pattern\":{\"fillmode\":\"overlay\",\"size\":10,\"solidity\":0.2}},\"type\":\"histogram\"}],\"histogram2d\":[{\"colorbar\":{\"outlinewidth\":0,\"ticks\":\"\"},\"colorscale\":[[0.0,\"#0d0887\"],[0.1111111111111111,\"#46039f\"],[0.2222222222222222,\"#7201a8\"],[0.3333333333333333,\"#9c179e\"],[0.4444444444444444,\"#bd3786\"],[0.5555555555555556,\"#d8576b\"],[0.6666666666666666,\"#ed7953\"],[0.7777777777777778,\"#fb9f3a\"],[0.8888888888888888,\"#fdca26\"],[1.0,\"#f0f921\"]],\"type\":\"histogram2d\"}],\"histogram2dcontour\":[{\"colorbar\":{\"outlinewidth\":0,\"ticks\":\"\"},\"colorscale\":[[0.0,\"#0d0887\"],[0.1111111111111111,\"#46039f\"],[0.2222222222222222,\"#7201a8\"],[0.3333333333333333,\"#9c179e\"],[0.4444444444444444,\"#bd3786\"],[0.5555555555555556,\"#d8576b\"],[0.6666666666666666,\"#ed7953\"],[0.7777777777777778,\"#fb9f3a\"],[0.8888888888888888,\"#fdca26\"],[1.0,\"#f0f921\"]],\"type\":\"histogram2dcontour\"}],\"mesh3d\":[{\"colorbar\":{\"outlinewidth\":0,\"ticks\":\"\"},\"type\":\"mesh3d\"}],\"parcoords\":[{\"line\":{\"colorbar\":{\"outlinewidth\":0,\"ticks\":\"\"}},\"type\":\"parcoords\"}],\"pie\":[{\"automargin\":true,\"type\":\"pie\"}],\"scatter\":[{\"marker\":{\"colorbar\":{\"outlinewidth\":0,\"ticks\":\"\"}},\"type\":\"scatter\"}],\"scatter3d\":[{\"line\":{\"colorbar\":{\"outlinewidth\":0,\"ticks\":\"\"}},\"marker\":{\"colorbar\":{\"outlinewidth\":0,\"ticks\":\"\"}},\"type\":\"scatter3d\"}],\"scattercarpet\":[{\"marker\":{\"colorbar\":{\"outlinewidth\":0,\"ticks\":\"\"}},\"type\":\"scattercarpet\"}],\"scattergeo\":[{\"marker\":{\"colorbar\":{\"outlinewidth\":0,\"ticks\":\"\"}},\"type\":\"scattergeo\"}],\"scattergl\":[{\"marker\":{\"colorbar\":{\"outlinewidth\":0,\"ticks\":\"\"}},\"type\":\"scattergl\"}],\"scattermapbox\":[{\"marker\":{\"colorbar\":{\"outlinewidth\":0,\"ticks\":\"\"}},\"type\":\"scattermapbox\"}],\"scatterpolar\":[{\"marker\":{\"colorbar\":{\"outlinewidth\":0,\"ticks\":\"\"}},\"type\":\"scatterpolar\"}],\"scatterpolargl\":[{\"marker\":{\"colorbar\":{\"outlinewidth\":0,\"ticks\":\"\"}},\"type\":\"scatterpolargl\"}],\"scatterternary\":[{\"marker\":{\"colorbar\":{\"outlinewidth\":0,\"ticks\":\"\"}},\"type\":\"scatterternary\"}],\"surface\":[{\"colorbar\":{\"outlinewidth\":0,\"ticks\":\"\"},\"colorscale\":[[0.0,\"#0d0887\"],[0.1111111111111111,\"#46039f\"],[0.2222222222222222,\"#7201a8\"],[0.3333333333333333,\"#9c179e\"],[0.4444444444444444,\"#bd3786\"],[0.5555555555555556,\"#d8576b\"],[0.6666666666666666,\"#ed7953\"],[0.7777777777777778,\"#fb9f3a\"],[0.8888888888888888,\"#fdca26\"],[1.0,\"#f0f921\"]],\"type\":\"surface\"}],\"table\":[{\"cells\":{\"fill\":{\"color\":\"#EBF0F8\"},\"line\":{\"color\":\"white\"}},\"header\":{\"fill\":{\"color\":\"#C8D4E3\"},\"line\":{\"color\":\"white\"}},\"type\":\"table\"}]},\"layout\":{\"annotationdefaults\":{\"arrowcolor\":\"#2a3f5f\",\"arrowhead\":0,\"arrowwidth\":1},\"autotypenumbers\":\"strict\",\"coloraxis\":{\"colorbar\":{\"outlinewidth\":0,\"ticks\":\"\"}},\"colorscale\":{\"diverging\":[[0,\"#8e0152\"],[0.1,\"#c51b7d\"],[0.2,\"#de77ae\"],[0.3,\"#f1b6da\"],[0.4,\"#fde0ef\"],[0.5,\"#f7f7f7\"],[0.6,\"#e6f5d0\"],[0.7,\"#b8e186\"],[0.8,\"#7fbc41\"],[0.9,\"#4d9221\"],[1,\"#276419\"]],\"sequential\":[[0.0,\"#0d0887\"],[0.1111111111111111,\"#46039f\"],[0.2222222222222222,\"#7201a8\"],[0.3333333333333333,\"#9c179e\"],[0.4444444444444444,\"#bd3786\"],[0.5555555555555556,\"#d8576b\"],[0.6666666666666666,\"#ed7953\"],[0.7777777777777778,\"#fb9f3a\"],[0.8888888888888888,\"#fdca26\"],[1.0,\"#f0f921\"]],\"sequentialminus\":[[0.0,\"#0d0887\"],[0.1111111111111111,\"#46039f\"],[0.2222222222222222,\"#7201a8\"],[0.3333333333333333,\"#9c179e\"],[0.4444444444444444,\"#bd3786\"],[0.5555555555555556,\"#d8576b\"],[0.6666666666666666,\"#ed7953\"],[0.7777777777777778,\"#fb9f3a\"],[0.8888888888888888,\"#fdca26\"],[1.0,\"#f0f921\"]]},\"colorway\":[\"#636efa\",\"#EF553B\",\"#00cc96\",\"#ab63fa\",\"#FFA15A\",\"#19d3f3\",\"#FF6692\",\"#B6E880\",\"#FF97FF\",\"#FECB52\"],\"font\":{\"color\":\"#2a3f5f\"},\"geo\":{\"bgcolor\":\"white\",\"lakecolor\":\"white\",\"landcolor\":\"#E5ECF6\",\"showlakes\":true,\"showland\":true,\"subunitcolor\":\"white\"},\"hoverlabel\":{\"align\":\"left\"},\"hovermode\":\"closest\",\"mapbox\":{\"style\":\"light\"},\"paper_bgcolor\":\"white\",\"plot_bgcolor\":\"#E5ECF6\",\"polar\":{\"angularaxis\":{\"gridcolor\":\"white\",\"linecolor\":\"white\",\"ticks\":\"\"},\"bgcolor\":\"#E5ECF6\",\"radialaxis\":{\"gridcolor\":\"white\",\"linecolor\":\"white\",\"ticks\":\"\"}},\"scene\":{\"xaxis\":{\"backgroundcolor\":\"#E5ECF6\",\"gridcolor\":\"white\",\"gridwidth\":2,\"linecolor\":\"white\",\"showbackground\":true,\"ticks\":\"\",\"zerolinecolor\":\"white\"},\"yaxis\":{\"backgroundcolor\":\"#E5ECF6\",\"gridcolor\":\"white\",\"gridwidth\":2,\"linecolor\":\"white\",\"showbackground\":true,\"ticks\":\"\",\"zerolinecolor\":\"white\"},\"zaxis\":{\"backgroundcolor\":\"#E5ECF6\",\"gridcolor\":\"white\",\"gridwidth\":2,\"linecolor\":\"white\",\"showbackground\":true,\"ticks\":\"\",\"zerolinecolor\":\"white\"}},\"shapedefaults\":{\"line\":{\"color\":\"#2a3f5f\"}},\"ternary\":{\"aaxis\":{\"gridcolor\":\"white\",\"linecolor\":\"white\",\"ticks\":\"\"},\"baxis\":{\"gridcolor\":\"white\",\"linecolor\":\"white\",\"ticks\":\"\"},\"bgcolor\":\"#E5ECF6\",\"caxis\":{\"gridcolor\":\"white\",\"linecolor\":\"white\",\"ticks\":\"\"}},\"title\":{\"x\":0.05},\"xaxis\":{\"automargin\":true,\"gridcolor\":\"white\",\"linecolor\":\"white\",\"ticks\":\"\",\"title\":{\"standoff\":15},\"zerolinecolor\":\"white\",\"zerolinewidth\":2},\"yaxis\":{\"automargin\":true,\"gridcolor\":\"white\",\"linecolor\":\"white\",\"ticks\":\"\",\"title\":{\"standoff\":15},\"zerolinecolor\":\"white\",\"zerolinewidth\":2}}},\"title\":{\"text\":\"Fake Tweet Count vs Percentage Fake vs Degree for Community 3\"},\"xaxis\":{\"anchor\":\"y\",\"domain\":[0.0,1.0],\"title\":{\"text\":\"Fake Tweet/Retweet Count\"}},\"yaxis\":{\"anchor\":\"x\",\"domain\":[0.0,1.0],\"title\":{\"text\":\"Degree\"}}},                        {\"responsive\": true}                    ).then(function(){\n",
       "                            \n",
       "var gd = document.getElementById('cc0bc160-ad2d-4f7f-8b01-b1641c1b4687');\n",
       "var x = new MutationObserver(function (mutations, observer) {{\n",
       "        var display = window.getComputedStyle(gd).display;\n",
       "        if (!display || display === 'none') {{\n",
       "            console.log([gd, 'removed!']);\n",
       "            Plotly.purge(gd);\n",
       "            observer.disconnect();\n",
       "        }}\n",
       "}});\n",
       "\n",
       "// Listen for the removal of the full notebook cells\n",
       "var notebookContainer = gd.closest('#notebook-container');\n",
       "if (notebookContainer) {{\n",
       "    x.observe(notebookContainer, {childList: true});\n",
       "}}\n",
       "\n",
       "// Listen for the clearing of the current output cell\n",
       "var outputEl = gd.closest('.output');\n",
       "if (outputEl) {{\n",
       "    x.observe(outputEl, {childList: true});\n",
       "}}\n",
       "\n",
       "                        })                };                });            </script>        </div>"
      ]
     },
     "metadata": {},
     "output_type": "display_data"
    }
   ],
   "source": [
    "fig = px.scatter(com3_metrics, x=\"tweet_retweet_fake_count\", y=\"degree\", size = 'degree', color=\"percentage_fake\",\n",
    "                 hover_name=\"user_id\", log_y=False, size_max=60, color_continuous_scale=px.colors.diverging.Temps,\n",
    "                title=\"Fake Tweet Count vs Percentage Fake vs Degree for Community 3\",\n",
    "                labels={\n",
    "                     \"tweet_retweet_fake_count\": \"Fake Tweet/Retweet Count\",\n",
    "                     \"degree\": \"Degree\",\n",
    "                     \"percentage_fake\": \"Percentage Fake\"\n",
    "                 })\n",
    "fig.layout.plot_bgcolor = 'rgb(255,255,255)'\n",
    "fig.show()"
   ]
  },
  {
   "cell_type": "code",
   "execution_count": 107,
   "id": "fd3cb3bf",
   "metadata": {},
   "outputs": [
    {
     "data": {
      "application/vnd.plotly.v1+json": {
       "config": {
        "plotlyServerURL": "https://plot.ly"
       },
       "data": [
        {
         "hovertemplate": "<b>%{hovertext}</b><br><br>Fake Tweet/Retweet Count=%{x}<br>Degree=%{marker.size}<br>Percentage Fake=%{marker.color}<extra></extra>",
         "hovertext": [
          3291556676,
          2406059855,
          125128428,
          634330366,
          3481965513,
          4521330855,
          19043568,
          46455464,
          3401254649,
          885960937,
          275276082,
          3947091915,
          98416337,
          3247993823,
          851059680,
          826208943261167600,
          1655766132,
          407955785,
          4865974714,
          712690051201695700,
          81438841,
          3628257623,
          3997870336,
          3260501809,
          2882929383,
          4547821336,
          789113916102180900,
          4230384973,
          1493843796,
          41830267,
          715474256889385000,
          915137490,
          2991153401,
          2262620679,
          2178882809,
          14189931,
          711004350513094700,
          854121167405371400,
          762341258689966100,
          754115413034737700,
          4799694132,
          425418920,
          816463685715632100,
          360386911,
          18557659,
          33084318,
          3286796496,
          887373558,
          928755127,
          2965246645,
          283664467,
          882742051883937800,
          17148456,
          21283587,
          353996180,
          220676094,
          3247188550,
          23332368,
          223989188,
          256481089,
          209667075,
          4100312963,
          4072644732,
          2212677454,
          4222061685,
          218090155,
          444449581,
          4457518527,
          36048547,
          45699453,
          336313972,
          348323009,
          461426400,
          2247787315,
          330121407,
          2348358406,
          2415253009,
          241592876,
          2440969560,
          248024430,
          2732987812,
          2601445215,
          250937927,
          45256733,
          4645471333,
          2652435918,
          758253864,
          911535238391713800,
          1305192181,
          860566802,
          1451828646,
          837920790645395500,
          833065154027753500,
          1583065752,
          785645577346256900,
          780512899504668700,
          776793682204819500,
          771355544129040400,
          1718901722,
          755031012,
          466244714,
          179250417,
          752359089338998800,
          748253412064636900,
          740684938744303600,
          739944055241617400,
          18067164,
          702316442474012700,
          67503749,
          531396192,
          527009772,
          4875483489,
          18090080,
          240974612,
          2320870573,
          23480929,
          41977714,
          3435638633,
          824089455342428200,
          823258650080907300,
          820765130321489900,
          816523406392709100,
          3483157934,
          791092651898445800,
          781346850473439200,
          780565408076095500,
          776556558469697500,
          757596279866290200,
          757529564,
          752155702215340000,
          734832111891456000,
          360694503,
          70940944,
          704306828,
          3834777028,
          61793937,
          60468824,
          60089996,
          596329092,
          540152825,
          528627957,
          522377082,
          506641461,
          40898836,
          835335841270595600,
          3430474763,
          87603897,
          1382852515,
          2280896059,
          2245087139,
          2192887524,
          20998770,
          27051634,
          281537076,
          175131510,
          285489489,
          163861649,
          3046903142,
          1426253114,
          3092878870,
          1366429513,
          879379021145841700,
          3095458611,
          118342823,
          1172798233,
          102083912,
          976802158623576000,
          963985629607469000,
          937671869444051000,
          32712105,
          892130999454257200,
          3317055925,
          1193212386,
          881522095045333000,
          1096394166
         ],
         "legendgroup": "",
         "marker": {
          "color": [
           1,
           0.9850746268656716,
           1,
           1,
           0.8125,
           0.1842105263157894,
           1,
           0.9047619047619048,
           0.875,
           1,
           0.4615384615384615,
           0.6666666666666666,
           0.8333333333333334,
           0.5,
           1,
           0.8333333333333334,
           1,
           1,
           0.8333333333333334,
           1,
           1,
           1,
           0.4444444444444444,
           0.6666666666666666,
           1,
           1,
           0.875,
           0.6666666666666666,
           0.7142857142857143,
           0.6666666666666666,
           1,
           0.6,
           0.75,
           0.8333333333333334,
           0.75,
           0.8571428571428571,
           1,
           0.6666666666666666,
           0.75,
           0.6666666666666666,
           1,
           0.6666666666666666,
           1,
           1,
           1,
           1,
           0.6666666666666666,
           1,
           1,
           1,
           0.6666666666666666,
           0.6666666666666666,
           1,
           0.75,
           0.6666666666666666,
           0.5,
           0.6666666666666666,
           0.8333333333333334,
           0.8,
           1,
           1,
           1,
           1,
           1,
           1,
           1,
           1,
           1,
           1,
           1,
           1,
           1,
           1,
           1,
           0.96,
           0.5,
           1,
           1,
           1,
           0.5,
           1,
           1,
           0.5,
           1,
           1,
           1,
           1,
           1,
           1,
           1,
           1,
           1,
           1,
           1,
           0.4,
           0.5,
           1,
           1,
           1,
           1,
           1,
           1,
           1,
           0.5,
           1,
           1,
           1,
           1,
           1,
           1,
           1,
           1,
           0.3333333333333333,
           1,
           1,
           1,
           0.5,
           1,
           1,
           1,
           1,
           0.5,
           1,
           1,
           1,
           1,
           1,
           1,
           1,
           1,
           1,
           1,
           1,
           0.5,
           0.5,
           1,
           1,
           0.5,
           0.5,
           1,
           1,
           1,
           1,
           0.75,
           1,
           1,
           0.2,
           1,
           1,
           1,
           0.5,
           0.3333333333333333,
           0.4,
           0.3333333333333333,
           0.0833333333333333,
           1,
           1,
           1,
           1,
           1,
           1,
           1,
           0.5,
           0.5,
           1,
           1,
           1,
           1,
           1,
           1,
           1,
           0.5,
           0.8888888888888888,
           1,
           1
          ],
          "coloraxis": "coloraxis",
          "size": [
           19,
           12,
           10,
           10,
           10,
           7,
           7,
           7,
           6,
           6,
           6,
           6,
           5,
           5,
           5,
           5,
           5,
           5,
           5,
           5,
           5,
           4,
           4,
           4,
           4,
           4,
           4,
           4,
           3,
           3,
           3,
           3,
           3,
           3,
           3,
           2,
           2,
           2,
           2,
           2,
           2,
           2,
           2,
           2,
           2,
           2,
           2,
           2,
           2,
           2,
           2,
           2,
           2,
           2,
           2,
           2,
           2,
           2,
           2,
           2,
           2,
           1,
           1,
           1,
           1,
           1,
           1,
           1,
           1,
           1,
           1,
           1,
           1,
           1,
           1,
           1,
           1,
           1,
           1,
           1,
           1,
           1,
           1,
           1,
           1,
           1,
           1,
           1,
           1,
           1,
           1,
           1,
           1,
           1,
           1,
           1,
           1,
           1,
           1,
           1,
           1,
           1,
           1,
           1,
           1,
           1,
           1,
           1,
           1,
           1,
           1,
           1,
           1,
           1,
           1,
           1,
           1,
           1,
           1,
           1,
           1,
           1,
           1,
           1,
           1,
           1,
           1,
           1,
           1,
           1,
           1,
           1,
           1,
           1,
           1,
           1,
           1,
           1,
           1,
           1,
           1,
           1,
           1,
           1,
           1,
           1,
           1,
           1,
           1,
           1,
           1,
           1,
           1,
           1,
           1,
           1,
           1,
           1,
           1,
           1,
           1,
           1,
           1,
           1,
           1,
           1,
           1,
           1,
           1,
           1,
           1,
           1,
           1,
           1,
           1
          ],
          "sizemode": "area",
          "sizeref": 0.005277777777777778,
          "symbol": "circle"
         },
         "mode": "markers",
         "name": "",
         "orientation": "v",
         "showlegend": false,
         "type": "scatter",
         "x": [
          23,
          66,
          14,
          11,
          13,
          7,
          10,
          19,
          7,
          12,
          6,
          8,
          5,
          12,
          7,
          5,
          7,
          8,
          5,
          5,
          10,
          4,
          4,
          4,
          4,
          4,
          7,
          4,
          5,
          4,
          3,
          3,
          3,
          5,
          3,
          6,
          2,
          2,
          6,
          2,
          2,
          2,
          2,
          2,
          2,
          2,
          2,
          2,
          2,
          2,
          2,
          2,
          2,
          3,
          2,
          2,
          2,
          5,
          4,
          2,
          2,
          1,
          1,
          2,
          2,
          1,
          1,
          1,
          1,
          1,
          1,
          1,
          1,
          1,
          24,
          1,
          2,
          1,
          1,
          1,
          1,
          1,
          1,
          1,
          1,
          1,
          1,
          1,
          1,
          1,
          1,
          1,
          1,
          2,
          2,
          1,
          1,
          1,
          1,
          1,
          1,
          4,
          2,
          1,
          3,
          2,
          2,
          1,
          1,
          1,
          1,
          1,
          1,
          1,
          1,
          3,
          1,
          3,
          1,
          1,
          1,
          1,
          2,
          1,
          1,
          1,
          1,
          1,
          1,
          1,
          1,
          1,
          2,
          1,
          1,
          2,
          2,
          1,
          1,
          1,
          1,
          1,
          1,
          3,
          1,
          1,
          1,
          1,
          1,
          1,
          1,
          1,
          2,
          1,
          1,
          1,
          4,
          1,
          1,
          4,
          2,
          1,
          1,
          3,
          1,
          1,
          1,
          1,
          1,
          1,
          1,
          1,
          8,
          1,
          1
         ],
         "xaxis": "x",
         "y": [
          19,
          12,
          10,
          10,
          10,
          7,
          7,
          7,
          6,
          6,
          6,
          6,
          5,
          5,
          5,
          5,
          5,
          5,
          5,
          5,
          5,
          4,
          4,
          4,
          4,
          4,
          4,
          4,
          3,
          3,
          3,
          3,
          3,
          3,
          3,
          2,
          2,
          2,
          2,
          2,
          2,
          2,
          2,
          2,
          2,
          2,
          2,
          2,
          2,
          2,
          2,
          2,
          2,
          2,
          2,
          2,
          2,
          2,
          2,
          2,
          2,
          1,
          1,
          1,
          1,
          1,
          1,
          1,
          1,
          1,
          1,
          1,
          1,
          1,
          1,
          1,
          1,
          1,
          1,
          1,
          1,
          1,
          1,
          1,
          1,
          1,
          1,
          1,
          1,
          1,
          1,
          1,
          1,
          1,
          1,
          1,
          1,
          1,
          1,
          1,
          1,
          1,
          1,
          1,
          1,
          1,
          1,
          1,
          1,
          1,
          1,
          1,
          1,
          1,
          1,
          1,
          1,
          1,
          1,
          1,
          1,
          1,
          1,
          1,
          1,
          1,
          1,
          1,
          1,
          1,
          1,
          1,
          1,
          1,
          1,
          1,
          1,
          1,
          1,
          1,
          1,
          1,
          1,
          1,
          1,
          1,
          1,
          1,
          1,
          1,
          1,
          1,
          1,
          1,
          1,
          1,
          1,
          1,
          1,
          1,
          1,
          1,
          1,
          1,
          1,
          1,
          1,
          1,
          1,
          1,
          1,
          1,
          1,
          1,
          1
         ],
         "yaxis": "y"
        }
       ],
       "layout": {
        "coloraxis": {
         "colorbar": {
          "title": {
           "text": "Percentage Fake"
          }
         },
         "colorscale": [
          [
           0,
           "rgb(0, 147, 146)"
          ],
          [
           0.16666666666666666,
           "rgb(57, 177, 133)"
          ],
          [
           0.3333333333333333,
           "rgb(156, 203, 134)"
          ],
          [
           0.5,
           "rgb(233, 226, 156)"
          ],
          [
           0.6666666666666666,
           "rgb(238, 180, 121)"
          ],
          [
           0.8333333333333334,
           "rgb(232, 132, 113)"
          ],
          [
           1,
           "rgb(207, 89, 126)"
          ]
         ]
        },
        "legend": {
         "itemsizing": "constant",
         "tracegroupgap": 0
        },
        "plot_bgcolor": "rgb(255,255,255)",
        "template": {
         "data": {
          "bar": [
           {
            "error_x": {
             "color": "#2a3f5f"
            },
            "error_y": {
             "color": "#2a3f5f"
            },
            "marker": {
             "line": {
              "color": "#E5ECF6",
              "width": 0.5
             },
             "pattern": {
              "fillmode": "overlay",
              "size": 10,
              "solidity": 0.2
             }
            },
            "type": "bar"
           }
          ],
          "barpolar": [
           {
            "marker": {
             "line": {
              "color": "#E5ECF6",
              "width": 0.5
             },
             "pattern": {
              "fillmode": "overlay",
              "size": 10,
              "solidity": 0.2
             }
            },
            "type": "barpolar"
           }
          ],
          "carpet": [
           {
            "aaxis": {
             "endlinecolor": "#2a3f5f",
             "gridcolor": "white",
             "linecolor": "white",
             "minorgridcolor": "white",
             "startlinecolor": "#2a3f5f"
            },
            "baxis": {
             "endlinecolor": "#2a3f5f",
             "gridcolor": "white",
             "linecolor": "white",
             "minorgridcolor": "white",
             "startlinecolor": "#2a3f5f"
            },
            "type": "carpet"
           }
          ],
          "choropleth": [
           {
            "colorbar": {
             "outlinewidth": 0,
             "ticks": ""
            },
            "type": "choropleth"
           }
          ],
          "contour": [
           {
            "colorbar": {
             "outlinewidth": 0,
             "ticks": ""
            },
            "colorscale": [
             [
              0,
              "#0d0887"
             ],
             [
              0.1111111111111111,
              "#46039f"
             ],
             [
              0.2222222222222222,
              "#7201a8"
             ],
             [
              0.3333333333333333,
              "#9c179e"
             ],
             [
              0.4444444444444444,
              "#bd3786"
             ],
             [
              0.5555555555555556,
              "#d8576b"
             ],
             [
              0.6666666666666666,
              "#ed7953"
             ],
             [
              0.7777777777777778,
              "#fb9f3a"
             ],
             [
              0.8888888888888888,
              "#fdca26"
             ],
             [
              1,
              "#f0f921"
             ]
            ],
            "type": "contour"
           }
          ],
          "contourcarpet": [
           {
            "colorbar": {
             "outlinewidth": 0,
             "ticks": ""
            },
            "type": "contourcarpet"
           }
          ],
          "heatmap": [
           {
            "colorbar": {
             "outlinewidth": 0,
             "ticks": ""
            },
            "colorscale": [
             [
              0,
              "#0d0887"
             ],
             [
              0.1111111111111111,
              "#46039f"
             ],
             [
              0.2222222222222222,
              "#7201a8"
             ],
             [
              0.3333333333333333,
              "#9c179e"
             ],
             [
              0.4444444444444444,
              "#bd3786"
             ],
             [
              0.5555555555555556,
              "#d8576b"
             ],
             [
              0.6666666666666666,
              "#ed7953"
             ],
             [
              0.7777777777777778,
              "#fb9f3a"
             ],
             [
              0.8888888888888888,
              "#fdca26"
             ],
             [
              1,
              "#f0f921"
             ]
            ],
            "type": "heatmap"
           }
          ],
          "heatmapgl": [
           {
            "colorbar": {
             "outlinewidth": 0,
             "ticks": ""
            },
            "colorscale": [
             [
              0,
              "#0d0887"
             ],
             [
              0.1111111111111111,
              "#46039f"
             ],
             [
              0.2222222222222222,
              "#7201a8"
             ],
             [
              0.3333333333333333,
              "#9c179e"
             ],
             [
              0.4444444444444444,
              "#bd3786"
             ],
             [
              0.5555555555555556,
              "#d8576b"
             ],
             [
              0.6666666666666666,
              "#ed7953"
             ],
             [
              0.7777777777777778,
              "#fb9f3a"
             ],
             [
              0.8888888888888888,
              "#fdca26"
             ],
             [
              1,
              "#f0f921"
             ]
            ],
            "type": "heatmapgl"
           }
          ],
          "histogram": [
           {
            "marker": {
             "pattern": {
              "fillmode": "overlay",
              "size": 10,
              "solidity": 0.2
             }
            },
            "type": "histogram"
           }
          ],
          "histogram2d": [
           {
            "colorbar": {
             "outlinewidth": 0,
             "ticks": ""
            },
            "colorscale": [
             [
              0,
              "#0d0887"
             ],
             [
              0.1111111111111111,
              "#46039f"
             ],
             [
              0.2222222222222222,
              "#7201a8"
             ],
             [
              0.3333333333333333,
              "#9c179e"
             ],
             [
              0.4444444444444444,
              "#bd3786"
             ],
             [
              0.5555555555555556,
              "#d8576b"
             ],
             [
              0.6666666666666666,
              "#ed7953"
             ],
             [
              0.7777777777777778,
              "#fb9f3a"
             ],
             [
              0.8888888888888888,
              "#fdca26"
             ],
             [
              1,
              "#f0f921"
             ]
            ],
            "type": "histogram2d"
           }
          ],
          "histogram2dcontour": [
           {
            "colorbar": {
             "outlinewidth": 0,
             "ticks": ""
            },
            "colorscale": [
             [
              0,
              "#0d0887"
             ],
             [
              0.1111111111111111,
              "#46039f"
             ],
             [
              0.2222222222222222,
              "#7201a8"
             ],
             [
              0.3333333333333333,
              "#9c179e"
             ],
             [
              0.4444444444444444,
              "#bd3786"
             ],
             [
              0.5555555555555556,
              "#d8576b"
             ],
             [
              0.6666666666666666,
              "#ed7953"
             ],
             [
              0.7777777777777778,
              "#fb9f3a"
             ],
             [
              0.8888888888888888,
              "#fdca26"
             ],
             [
              1,
              "#f0f921"
             ]
            ],
            "type": "histogram2dcontour"
           }
          ],
          "mesh3d": [
           {
            "colorbar": {
             "outlinewidth": 0,
             "ticks": ""
            },
            "type": "mesh3d"
           }
          ],
          "parcoords": [
           {
            "line": {
             "colorbar": {
              "outlinewidth": 0,
              "ticks": ""
             }
            },
            "type": "parcoords"
           }
          ],
          "pie": [
           {
            "automargin": true,
            "type": "pie"
           }
          ],
          "scatter": [
           {
            "marker": {
             "colorbar": {
              "outlinewidth": 0,
              "ticks": ""
             }
            },
            "type": "scatter"
           }
          ],
          "scatter3d": [
           {
            "line": {
             "colorbar": {
              "outlinewidth": 0,
              "ticks": ""
             }
            },
            "marker": {
             "colorbar": {
              "outlinewidth": 0,
              "ticks": ""
             }
            },
            "type": "scatter3d"
           }
          ],
          "scattercarpet": [
           {
            "marker": {
             "colorbar": {
              "outlinewidth": 0,
              "ticks": ""
             }
            },
            "type": "scattercarpet"
           }
          ],
          "scattergeo": [
           {
            "marker": {
             "colorbar": {
              "outlinewidth": 0,
              "ticks": ""
             }
            },
            "type": "scattergeo"
           }
          ],
          "scattergl": [
           {
            "marker": {
             "colorbar": {
              "outlinewidth": 0,
              "ticks": ""
             }
            },
            "type": "scattergl"
           }
          ],
          "scattermapbox": [
           {
            "marker": {
             "colorbar": {
              "outlinewidth": 0,
              "ticks": ""
             }
            },
            "type": "scattermapbox"
           }
          ],
          "scatterpolar": [
           {
            "marker": {
             "colorbar": {
              "outlinewidth": 0,
              "ticks": ""
             }
            },
            "type": "scatterpolar"
           }
          ],
          "scatterpolargl": [
           {
            "marker": {
             "colorbar": {
              "outlinewidth": 0,
              "ticks": ""
             }
            },
            "type": "scatterpolargl"
           }
          ],
          "scatterternary": [
           {
            "marker": {
             "colorbar": {
              "outlinewidth": 0,
              "ticks": ""
             }
            },
            "type": "scatterternary"
           }
          ],
          "surface": [
           {
            "colorbar": {
             "outlinewidth": 0,
             "ticks": ""
            },
            "colorscale": [
             [
              0,
              "#0d0887"
             ],
             [
              0.1111111111111111,
              "#46039f"
             ],
             [
              0.2222222222222222,
              "#7201a8"
             ],
             [
              0.3333333333333333,
              "#9c179e"
             ],
             [
              0.4444444444444444,
              "#bd3786"
             ],
             [
              0.5555555555555556,
              "#d8576b"
             ],
             [
              0.6666666666666666,
              "#ed7953"
             ],
             [
              0.7777777777777778,
              "#fb9f3a"
             ],
             [
              0.8888888888888888,
              "#fdca26"
             ],
             [
              1,
              "#f0f921"
             ]
            ],
            "type": "surface"
           }
          ],
          "table": [
           {
            "cells": {
             "fill": {
              "color": "#EBF0F8"
             },
             "line": {
              "color": "white"
             }
            },
            "header": {
             "fill": {
              "color": "#C8D4E3"
             },
             "line": {
              "color": "white"
             }
            },
            "type": "table"
           }
          ]
         },
         "layout": {
          "annotationdefaults": {
           "arrowcolor": "#2a3f5f",
           "arrowhead": 0,
           "arrowwidth": 1
          },
          "autotypenumbers": "strict",
          "coloraxis": {
           "colorbar": {
            "outlinewidth": 0,
            "ticks": ""
           }
          },
          "colorscale": {
           "diverging": [
            [
             0,
             "#8e0152"
            ],
            [
             0.1,
             "#c51b7d"
            ],
            [
             0.2,
             "#de77ae"
            ],
            [
             0.3,
             "#f1b6da"
            ],
            [
             0.4,
             "#fde0ef"
            ],
            [
             0.5,
             "#f7f7f7"
            ],
            [
             0.6,
             "#e6f5d0"
            ],
            [
             0.7,
             "#b8e186"
            ],
            [
             0.8,
             "#7fbc41"
            ],
            [
             0.9,
             "#4d9221"
            ],
            [
             1,
             "#276419"
            ]
           ],
           "sequential": [
            [
             0,
             "#0d0887"
            ],
            [
             0.1111111111111111,
             "#46039f"
            ],
            [
             0.2222222222222222,
             "#7201a8"
            ],
            [
             0.3333333333333333,
             "#9c179e"
            ],
            [
             0.4444444444444444,
             "#bd3786"
            ],
            [
             0.5555555555555556,
             "#d8576b"
            ],
            [
             0.6666666666666666,
             "#ed7953"
            ],
            [
             0.7777777777777778,
             "#fb9f3a"
            ],
            [
             0.8888888888888888,
             "#fdca26"
            ],
            [
             1,
             "#f0f921"
            ]
           ],
           "sequentialminus": [
            [
             0,
             "#0d0887"
            ],
            [
             0.1111111111111111,
             "#46039f"
            ],
            [
             0.2222222222222222,
             "#7201a8"
            ],
            [
             0.3333333333333333,
             "#9c179e"
            ],
            [
             0.4444444444444444,
             "#bd3786"
            ],
            [
             0.5555555555555556,
             "#d8576b"
            ],
            [
             0.6666666666666666,
             "#ed7953"
            ],
            [
             0.7777777777777778,
             "#fb9f3a"
            ],
            [
             0.8888888888888888,
             "#fdca26"
            ],
            [
             1,
             "#f0f921"
            ]
           ]
          },
          "colorway": [
           "#636efa",
           "#EF553B",
           "#00cc96",
           "#ab63fa",
           "#FFA15A",
           "#19d3f3",
           "#FF6692",
           "#B6E880",
           "#FF97FF",
           "#FECB52"
          ],
          "font": {
           "color": "#2a3f5f"
          },
          "geo": {
           "bgcolor": "white",
           "lakecolor": "white",
           "landcolor": "#E5ECF6",
           "showlakes": true,
           "showland": true,
           "subunitcolor": "white"
          },
          "hoverlabel": {
           "align": "left"
          },
          "hovermode": "closest",
          "mapbox": {
           "style": "light"
          },
          "paper_bgcolor": "white",
          "plot_bgcolor": "#E5ECF6",
          "polar": {
           "angularaxis": {
            "gridcolor": "white",
            "linecolor": "white",
            "ticks": ""
           },
           "bgcolor": "#E5ECF6",
           "radialaxis": {
            "gridcolor": "white",
            "linecolor": "white",
            "ticks": ""
           }
          },
          "scene": {
           "xaxis": {
            "backgroundcolor": "#E5ECF6",
            "gridcolor": "white",
            "gridwidth": 2,
            "linecolor": "white",
            "showbackground": true,
            "ticks": "",
            "zerolinecolor": "white"
           },
           "yaxis": {
            "backgroundcolor": "#E5ECF6",
            "gridcolor": "white",
            "gridwidth": 2,
            "linecolor": "white",
            "showbackground": true,
            "ticks": "",
            "zerolinecolor": "white"
           },
           "zaxis": {
            "backgroundcolor": "#E5ECF6",
            "gridcolor": "white",
            "gridwidth": 2,
            "linecolor": "white",
            "showbackground": true,
            "ticks": "",
            "zerolinecolor": "white"
           }
          },
          "shapedefaults": {
           "line": {
            "color": "#2a3f5f"
           }
          },
          "ternary": {
           "aaxis": {
            "gridcolor": "white",
            "linecolor": "white",
            "ticks": ""
           },
           "baxis": {
            "gridcolor": "white",
            "linecolor": "white",
            "ticks": ""
           },
           "bgcolor": "#E5ECF6",
           "caxis": {
            "gridcolor": "white",
            "linecolor": "white",
            "ticks": ""
           }
          },
          "title": {
           "x": 0.05
          },
          "xaxis": {
           "automargin": true,
           "gridcolor": "white",
           "linecolor": "white",
           "ticks": "",
           "title": {
            "standoff": 15
           },
           "zerolinecolor": "white",
           "zerolinewidth": 2
          },
          "yaxis": {
           "automargin": true,
           "gridcolor": "white",
           "linecolor": "white",
           "ticks": "",
           "title": {
            "standoff": 15
           },
           "zerolinecolor": "white",
           "zerolinewidth": 2
          }
         }
        },
        "title": {
         "text": "Fake Tweet Count vs Percentage Fake vs Degree for Community 4"
        },
        "xaxis": {
         "anchor": "y",
         "domain": [
          0,
          1
         ],
         "title": {
          "text": "Fake Tweet/Retweet Count"
         }
        },
        "yaxis": {
         "anchor": "x",
         "domain": [
          0,
          1
         ],
         "title": {
          "text": "Degree"
         }
        }
       }
      },
      "text/html": [
       "<div>                            <div id=\"db1c61ac-5ddc-49cf-a628-20cdb1d86caf\" class=\"plotly-graph-div\" style=\"height:525px; width:100%;\"></div>            <script type=\"text/javascript\">                require([\"plotly\"], function(Plotly) {                    window.PLOTLYENV=window.PLOTLYENV || {};                                    if (document.getElementById(\"db1c61ac-5ddc-49cf-a628-20cdb1d86caf\")) {                    Plotly.newPlot(                        \"db1c61ac-5ddc-49cf-a628-20cdb1d86caf\",                        [{\"hovertemplate\":\"<b>%{hovertext}</b><br><br>Fake Tweet/Retweet Count=%{x}<br>Degree=%{marker.size}<br>Percentage Fake=%{marker.color}<extra></extra>\",\"hovertext\":[3291556676.0,2406059855.0,125128428.0,634330366.0,3481965513.0,4521330855.0,19043568.0,46455464.0,3401254649.0,885960937.0,275276082.0,3947091915.0,98416337.0,3247993823.0,851059680.0,8.262089432611676e+17,1655766132.0,407955785.0,4865974714.0,7.126900512016957e+17,81438841.0,3628257623.0,3997870336.0,3260501809.0,2882929383.0,4547821336.0,7.891139161021809e+17,4230384973.0,1493843796.0,41830267.0,7.15474256889385e+17,915137490.0,2991153401.0,2262620679.0,2178882809.0,14189931.0,7.110043505130947e+17,8.541211674053714e+17,7.623412586899661e+17,7.541154130347377e+17,4799694132.0,425418920.0,8.164636857156321e+17,360386911.0,18557659.0,33084318.0,3286796496.0,887373558.0,928755127.0,2965246645.0,283664467.0,8.827420518839378e+17,17148456.0,21283587.0,353996180.0,220676094.0,3247188550.0,23332368.0,223989188.0,256481089.0,209667075.0,4100312963.0,4072644732.0,2212677454.0,4222061685.0,218090155.0,444449581.0,4457518527.0,36048547.0,45699453.0,336313972.0,348323009.0,461426400.0,2247787315.0,330121407.0,2348358406.0,2415253009.0,241592876.0,2440969560.0,248024430.0,2732987812.0,2601445215.0,250937927.0,45256733.0,4645471333.0,2652435918.0,758253864.0,9.115352383917138e+17,1305192181.0,860566802.0,1451828646.0,8.379207906453955e+17,8.330651540277535e+17,1583065752.0,7.856455773462569e+17,7.805128995046687e+17,7.767936822048195e+17,7.713555441290404e+17,1718901722.0,755031012.0,466244714.0,179250417.0,7.523590893389988e+17,7.482534120646369e+17,7.406849387443036e+17,7.399440552416174e+17,18067164.0,7.023164424740127e+17,67503749.0,531396192.0,527009772.0,4875483489.0,18090080.0,240974612.0,2320870573.0,23480929.0,41977714.0,3435638633.0,8.240894553424282e+17,8.232586500809073e+17,8.207651303214899e+17,8.165234063927091e+17,3483157934.0,7.910926518984458e+17,7.813468504734392e+17,7.805654080760955e+17,7.765565584696975e+17,7.575962798662902e+17,757529564.0,7.5215570221534e+17,7.34832111891456e+17,360694503.0,70940944.0,704306828.0,3834777028.0,61793937.0,60468824.0,60089996.0,596329092.0,540152825.0,528627957.0,522377082.0,506641461.0,40898836.0,8.353358412705956e+17,3430474763.0,87603897.0,1382852515.0,2280896059.0,2245087139.0,2192887524.0,20998770.0,27051634.0,281537076.0,175131510.0,285489489.0,163861649.0,3046903142.0,1426253114.0,3092878870.0,1366429513.0,8.793790211458417e+17,3095458611.0,118342823.0,1172798233.0,102083912.0,9.76802158623576e+17,9.63985629607469e+17,9.37671869444051e+17,32712105.0,8.921309994542572e+17,3317055925.0,1193212386.0,8.81522095045333e+17,1096394166.0],\"legendgroup\":\"\",\"marker\":{\"color\":[1.0,0.9850746268656716,1.0,1.0,0.8125,0.1842105263157894,1.0,0.9047619047619048,0.875,1.0,0.4615384615384615,0.6666666666666666,0.8333333333333334,0.5,1.0,0.8333333333333334,1.0,1.0,0.8333333333333334,1.0,1.0,1.0,0.4444444444444444,0.6666666666666666,1.0,1.0,0.875,0.6666666666666666,0.7142857142857143,0.6666666666666666,1.0,0.6,0.75,0.8333333333333334,0.75,0.8571428571428571,1.0,0.6666666666666666,0.75,0.6666666666666666,1.0,0.6666666666666666,1.0,1.0,1.0,1.0,0.6666666666666666,1.0,1.0,1.0,0.6666666666666666,0.6666666666666666,1.0,0.75,0.6666666666666666,0.5,0.6666666666666666,0.8333333333333334,0.8,1.0,1.0,1.0,1.0,1.0,1.0,1.0,1.0,1.0,1.0,1.0,1.0,1.0,1.0,1.0,0.96,0.5,1.0,1.0,1.0,0.5,1.0,1.0,0.5,1.0,1.0,1.0,1.0,1.0,1.0,1.0,1.0,1.0,1.0,1.0,0.4,0.5,1.0,1.0,1.0,1.0,1.0,1.0,1.0,0.5,1.0,1.0,1.0,1.0,1.0,1.0,1.0,1.0,0.3333333333333333,1.0,1.0,1.0,0.5,1.0,1.0,1.0,1.0,0.5,1.0,1.0,1.0,1.0,1.0,1.0,1.0,1.0,1.0,1.0,1.0,0.5,0.5,1.0,1.0,0.5,0.5,1.0,1.0,1.0,1.0,0.75,1.0,1.0,0.2,1.0,1.0,1.0,0.5,0.3333333333333333,0.4,0.3333333333333333,0.0833333333333333,1.0,1.0,1.0,1.0,1.0,1.0,1.0,0.5,0.5,1.0,1.0,1.0,1.0,1.0,1.0,1.0,0.5,0.8888888888888888,1.0,1.0],\"coloraxis\":\"coloraxis\",\"size\":[19,12,10,10,10,7,7,7,6,6,6,6,5,5,5,5,5,5,5,5,5,4,4,4,4,4,4,4,3,3,3,3,3,3,3,2,2,2,2,2,2,2,2,2,2,2,2,2,2,2,2,2,2,2,2,2,2,2,2,2,2,1,1,1,1,1,1,1,1,1,1,1,1,1,1,1,1,1,1,1,1,1,1,1,1,1,1,1,1,1,1,1,1,1,1,1,1,1,1,1,1,1,1,1,1,1,1,1,1,1,1,1,1,1,1,1,1,1,1,1,1,1,1,1,1,1,1,1,1,1,1,1,1,1,1,1,1,1,1,1,1,1,1,1,1,1,1,1,1,1,1,1,1,1,1,1,1,1,1,1,1,1,1,1,1,1,1,1,1,1,1,1,1,1,1],\"sizemode\":\"area\",\"sizeref\":0.005277777777777778,\"symbol\":\"circle\"},\"mode\":\"markers\",\"name\":\"\",\"orientation\":\"v\",\"showlegend\":false,\"type\":\"scatter\",\"x\":[23,66,14,11,13,7,10,19,7,12,6,8,5,12,7,5,7,8,5,5,10,4,4,4,4,4,7,4,5,4,3,3,3,5,3,6,2,2,6,2,2,2,2,2,2,2,2,2,2,2,2,2,2,3,2,2,2,5,4,2,2,1,1,2,2,1,1,1,1,1,1,1,1,1,24,1,2,1,1,1,1,1,1,1,1,1,1,1,1,1,1,1,1,2,2,1,1,1,1,1,1,4,2,1,3,2,2,1,1,1,1,1,1,1,1,3,1,3,1,1,1,1,2,1,1,1,1,1,1,1,1,1,2,1,1,2,2,1,1,1,1,1,1,3,1,1,1,1,1,1,1,1,2,1,1,1,4,1,1,4,2,1,1,3,1,1,1,1,1,1,1,1,8,1,1],\"xaxis\":\"x\",\"y\":[19,12,10,10,10,7,7,7,6,6,6,6,5,5,5,5,5,5,5,5,5,4,4,4,4,4,4,4,3,3,3,3,3,3,3,2,2,2,2,2,2,2,2,2,2,2,2,2,2,2,2,2,2,2,2,2,2,2,2,2,2,1,1,1,1,1,1,1,1,1,1,1,1,1,1,1,1,1,1,1,1,1,1,1,1,1,1,1,1,1,1,1,1,1,1,1,1,1,1,1,1,1,1,1,1,1,1,1,1,1,1,1,1,1,1,1,1,1,1,1,1,1,1,1,1,1,1,1,1,1,1,1,1,1,1,1,1,1,1,1,1,1,1,1,1,1,1,1,1,1,1,1,1,1,1,1,1,1,1,1,1,1,1,1,1,1,1,1,1,1,1,1,1,1,1],\"yaxis\":\"y\"}],                        {\"coloraxis\":{\"colorbar\":{\"title\":{\"text\":\"Percentage Fake\"}},\"colorscale\":[[0.0,\"rgb(0, 147, 146)\"],[0.16666666666666666,\"rgb(57, 177, 133)\"],[0.3333333333333333,\"rgb(156, 203, 134)\"],[0.5,\"rgb(233, 226, 156)\"],[0.6666666666666666,\"rgb(238, 180, 121)\"],[0.8333333333333334,\"rgb(232, 132, 113)\"],[1.0,\"rgb(207, 89, 126)\"]]},\"legend\":{\"itemsizing\":\"constant\",\"tracegroupgap\":0},\"plot_bgcolor\":\"rgb(255,255,255)\",\"template\":{\"data\":{\"bar\":[{\"error_x\":{\"color\":\"#2a3f5f\"},\"error_y\":{\"color\":\"#2a3f5f\"},\"marker\":{\"line\":{\"color\":\"#E5ECF6\",\"width\":0.5},\"pattern\":{\"fillmode\":\"overlay\",\"size\":10,\"solidity\":0.2}},\"type\":\"bar\"}],\"barpolar\":[{\"marker\":{\"line\":{\"color\":\"#E5ECF6\",\"width\":0.5},\"pattern\":{\"fillmode\":\"overlay\",\"size\":10,\"solidity\":0.2}},\"type\":\"barpolar\"}],\"carpet\":[{\"aaxis\":{\"endlinecolor\":\"#2a3f5f\",\"gridcolor\":\"white\",\"linecolor\":\"white\",\"minorgridcolor\":\"white\",\"startlinecolor\":\"#2a3f5f\"},\"baxis\":{\"endlinecolor\":\"#2a3f5f\",\"gridcolor\":\"white\",\"linecolor\":\"white\",\"minorgridcolor\":\"white\",\"startlinecolor\":\"#2a3f5f\"},\"type\":\"carpet\"}],\"choropleth\":[{\"colorbar\":{\"outlinewidth\":0,\"ticks\":\"\"},\"type\":\"choropleth\"}],\"contour\":[{\"colorbar\":{\"outlinewidth\":0,\"ticks\":\"\"},\"colorscale\":[[0.0,\"#0d0887\"],[0.1111111111111111,\"#46039f\"],[0.2222222222222222,\"#7201a8\"],[0.3333333333333333,\"#9c179e\"],[0.4444444444444444,\"#bd3786\"],[0.5555555555555556,\"#d8576b\"],[0.6666666666666666,\"#ed7953\"],[0.7777777777777778,\"#fb9f3a\"],[0.8888888888888888,\"#fdca26\"],[1.0,\"#f0f921\"]],\"type\":\"contour\"}],\"contourcarpet\":[{\"colorbar\":{\"outlinewidth\":0,\"ticks\":\"\"},\"type\":\"contourcarpet\"}],\"heatmap\":[{\"colorbar\":{\"outlinewidth\":0,\"ticks\":\"\"},\"colorscale\":[[0.0,\"#0d0887\"],[0.1111111111111111,\"#46039f\"],[0.2222222222222222,\"#7201a8\"],[0.3333333333333333,\"#9c179e\"],[0.4444444444444444,\"#bd3786\"],[0.5555555555555556,\"#d8576b\"],[0.6666666666666666,\"#ed7953\"],[0.7777777777777778,\"#fb9f3a\"],[0.8888888888888888,\"#fdca26\"],[1.0,\"#f0f921\"]],\"type\":\"heatmap\"}],\"heatmapgl\":[{\"colorbar\":{\"outlinewidth\":0,\"ticks\":\"\"},\"colorscale\":[[0.0,\"#0d0887\"],[0.1111111111111111,\"#46039f\"],[0.2222222222222222,\"#7201a8\"],[0.3333333333333333,\"#9c179e\"],[0.4444444444444444,\"#bd3786\"],[0.5555555555555556,\"#d8576b\"],[0.6666666666666666,\"#ed7953\"],[0.7777777777777778,\"#fb9f3a\"],[0.8888888888888888,\"#fdca26\"],[1.0,\"#f0f921\"]],\"type\":\"heatmapgl\"}],\"histogram\":[{\"marker\":{\"pattern\":{\"fillmode\":\"overlay\",\"size\":10,\"solidity\":0.2}},\"type\":\"histogram\"}],\"histogram2d\":[{\"colorbar\":{\"outlinewidth\":0,\"ticks\":\"\"},\"colorscale\":[[0.0,\"#0d0887\"],[0.1111111111111111,\"#46039f\"],[0.2222222222222222,\"#7201a8\"],[0.3333333333333333,\"#9c179e\"],[0.4444444444444444,\"#bd3786\"],[0.5555555555555556,\"#d8576b\"],[0.6666666666666666,\"#ed7953\"],[0.7777777777777778,\"#fb9f3a\"],[0.8888888888888888,\"#fdca26\"],[1.0,\"#f0f921\"]],\"type\":\"histogram2d\"}],\"histogram2dcontour\":[{\"colorbar\":{\"outlinewidth\":0,\"ticks\":\"\"},\"colorscale\":[[0.0,\"#0d0887\"],[0.1111111111111111,\"#46039f\"],[0.2222222222222222,\"#7201a8\"],[0.3333333333333333,\"#9c179e\"],[0.4444444444444444,\"#bd3786\"],[0.5555555555555556,\"#d8576b\"],[0.6666666666666666,\"#ed7953\"],[0.7777777777777778,\"#fb9f3a\"],[0.8888888888888888,\"#fdca26\"],[1.0,\"#f0f921\"]],\"type\":\"histogram2dcontour\"}],\"mesh3d\":[{\"colorbar\":{\"outlinewidth\":0,\"ticks\":\"\"},\"type\":\"mesh3d\"}],\"parcoords\":[{\"line\":{\"colorbar\":{\"outlinewidth\":0,\"ticks\":\"\"}},\"type\":\"parcoords\"}],\"pie\":[{\"automargin\":true,\"type\":\"pie\"}],\"scatter\":[{\"marker\":{\"colorbar\":{\"outlinewidth\":0,\"ticks\":\"\"}},\"type\":\"scatter\"}],\"scatter3d\":[{\"line\":{\"colorbar\":{\"outlinewidth\":0,\"ticks\":\"\"}},\"marker\":{\"colorbar\":{\"outlinewidth\":0,\"ticks\":\"\"}},\"type\":\"scatter3d\"}],\"scattercarpet\":[{\"marker\":{\"colorbar\":{\"outlinewidth\":0,\"ticks\":\"\"}},\"type\":\"scattercarpet\"}],\"scattergeo\":[{\"marker\":{\"colorbar\":{\"outlinewidth\":0,\"ticks\":\"\"}},\"type\":\"scattergeo\"}],\"scattergl\":[{\"marker\":{\"colorbar\":{\"outlinewidth\":0,\"ticks\":\"\"}},\"type\":\"scattergl\"}],\"scattermapbox\":[{\"marker\":{\"colorbar\":{\"outlinewidth\":0,\"ticks\":\"\"}},\"type\":\"scattermapbox\"}],\"scatterpolar\":[{\"marker\":{\"colorbar\":{\"outlinewidth\":0,\"ticks\":\"\"}},\"type\":\"scatterpolar\"}],\"scatterpolargl\":[{\"marker\":{\"colorbar\":{\"outlinewidth\":0,\"ticks\":\"\"}},\"type\":\"scatterpolargl\"}],\"scatterternary\":[{\"marker\":{\"colorbar\":{\"outlinewidth\":0,\"ticks\":\"\"}},\"type\":\"scatterternary\"}],\"surface\":[{\"colorbar\":{\"outlinewidth\":0,\"ticks\":\"\"},\"colorscale\":[[0.0,\"#0d0887\"],[0.1111111111111111,\"#46039f\"],[0.2222222222222222,\"#7201a8\"],[0.3333333333333333,\"#9c179e\"],[0.4444444444444444,\"#bd3786\"],[0.5555555555555556,\"#d8576b\"],[0.6666666666666666,\"#ed7953\"],[0.7777777777777778,\"#fb9f3a\"],[0.8888888888888888,\"#fdca26\"],[1.0,\"#f0f921\"]],\"type\":\"surface\"}],\"table\":[{\"cells\":{\"fill\":{\"color\":\"#EBF0F8\"},\"line\":{\"color\":\"white\"}},\"header\":{\"fill\":{\"color\":\"#C8D4E3\"},\"line\":{\"color\":\"white\"}},\"type\":\"table\"}]},\"layout\":{\"annotationdefaults\":{\"arrowcolor\":\"#2a3f5f\",\"arrowhead\":0,\"arrowwidth\":1},\"autotypenumbers\":\"strict\",\"coloraxis\":{\"colorbar\":{\"outlinewidth\":0,\"ticks\":\"\"}},\"colorscale\":{\"diverging\":[[0,\"#8e0152\"],[0.1,\"#c51b7d\"],[0.2,\"#de77ae\"],[0.3,\"#f1b6da\"],[0.4,\"#fde0ef\"],[0.5,\"#f7f7f7\"],[0.6,\"#e6f5d0\"],[0.7,\"#b8e186\"],[0.8,\"#7fbc41\"],[0.9,\"#4d9221\"],[1,\"#276419\"]],\"sequential\":[[0.0,\"#0d0887\"],[0.1111111111111111,\"#46039f\"],[0.2222222222222222,\"#7201a8\"],[0.3333333333333333,\"#9c179e\"],[0.4444444444444444,\"#bd3786\"],[0.5555555555555556,\"#d8576b\"],[0.6666666666666666,\"#ed7953\"],[0.7777777777777778,\"#fb9f3a\"],[0.8888888888888888,\"#fdca26\"],[1.0,\"#f0f921\"]],\"sequentialminus\":[[0.0,\"#0d0887\"],[0.1111111111111111,\"#46039f\"],[0.2222222222222222,\"#7201a8\"],[0.3333333333333333,\"#9c179e\"],[0.4444444444444444,\"#bd3786\"],[0.5555555555555556,\"#d8576b\"],[0.6666666666666666,\"#ed7953\"],[0.7777777777777778,\"#fb9f3a\"],[0.8888888888888888,\"#fdca26\"],[1.0,\"#f0f921\"]]},\"colorway\":[\"#636efa\",\"#EF553B\",\"#00cc96\",\"#ab63fa\",\"#FFA15A\",\"#19d3f3\",\"#FF6692\",\"#B6E880\",\"#FF97FF\",\"#FECB52\"],\"font\":{\"color\":\"#2a3f5f\"},\"geo\":{\"bgcolor\":\"white\",\"lakecolor\":\"white\",\"landcolor\":\"#E5ECF6\",\"showlakes\":true,\"showland\":true,\"subunitcolor\":\"white\"},\"hoverlabel\":{\"align\":\"left\"},\"hovermode\":\"closest\",\"mapbox\":{\"style\":\"light\"},\"paper_bgcolor\":\"white\",\"plot_bgcolor\":\"#E5ECF6\",\"polar\":{\"angularaxis\":{\"gridcolor\":\"white\",\"linecolor\":\"white\",\"ticks\":\"\"},\"bgcolor\":\"#E5ECF6\",\"radialaxis\":{\"gridcolor\":\"white\",\"linecolor\":\"white\",\"ticks\":\"\"}},\"scene\":{\"xaxis\":{\"backgroundcolor\":\"#E5ECF6\",\"gridcolor\":\"white\",\"gridwidth\":2,\"linecolor\":\"white\",\"showbackground\":true,\"ticks\":\"\",\"zerolinecolor\":\"white\"},\"yaxis\":{\"backgroundcolor\":\"#E5ECF6\",\"gridcolor\":\"white\",\"gridwidth\":2,\"linecolor\":\"white\",\"showbackground\":true,\"ticks\":\"\",\"zerolinecolor\":\"white\"},\"zaxis\":{\"backgroundcolor\":\"#E5ECF6\",\"gridcolor\":\"white\",\"gridwidth\":2,\"linecolor\":\"white\",\"showbackground\":true,\"ticks\":\"\",\"zerolinecolor\":\"white\"}},\"shapedefaults\":{\"line\":{\"color\":\"#2a3f5f\"}},\"ternary\":{\"aaxis\":{\"gridcolor\":\"white\",\"linecolor\":\"white\",\"ticks\":\"\"},\"baxis\":{\"gridcolor\":\"white\",\"linecolor\":\"white\",\"ticks\":\"\"},\"bgcolor\":\"#E5ECF6\",\"caxis\":{\"gridcolor\":\"white\",\"linecolor\":\"white\",\"ticks\":\"\"}},\"title\":{\"x\":0.05},\"xaxis\":{\"automargin\":true,\"gridcolor\":\"white\",\"linecolor\":\"white\",\"ticks\":\"\",\"title\":{\"standoff\":15},\"zerolinecolor\":\"white\",\"zerolinewidth\":2},\"yaxis\":{\"automargin\":true,\"gridcolor\":\"white\",\"linecolor\":\"white\",\"ticks\":\"\",\"title\":{\"standoff\":15},\"zerolinecolor\":\"white\",\"zerolinewidth\":2}}},\"title\":{\"text\":\"Fake Tweet Count vs Percentage Fake vs Degree for Community 4\"},\"xaxis\":{\"anchor\":\"y\",\"domain\":[0.0,1.0],\"title\":{\"text\":\"Fake Tweet/Retweet Count\"}},\"yaxis\":{\"anchor\":\"x\",\"domain\":[0.0,1.0],\"title\":{\"text\":\"Degree\"}}},                        {\"responsive\": true}                    ).then(function(){\n",
       "                            \n",
       "var gd = document.getElementById('db1c61ac-5ddc-49cf-a628-20cdb1d86caf');\n",
       "var x = new MutationObserver(function (mutations, observer) {{\n",
       "        var display = window.getComputedStyle(gd).display;\n",
       "        if (!display || display === 'none') {{\n",
       "            console.log([gd, 'removed!']);\n",
       "            Plotly.purge(gd);\n",
       "            observer.disconnect();\n",
       "        }}\n",
       "}});\n",
       "\n",
       "// Listen for the removal of the full notebook cells\n",
       "var notebookContainer = gd.closest('#notebook-container');\n",
       "if (notebookContainer) {{\n",
       "    x.observe(notebookContainer, {childList: true});\n",
       "}}\n",
       "\n",
       "// Listen for the clearing of the current output cell\n",
       "var outputEl = gd.closest('.output');\n",
       "if (outputEl) {{\n",
       "    x.observe(outputEl, {childList: true});\n",
       "}}\n",
       "\n",
       "                        })                };                });            </script>        </div>"
      ]
     },
     "metadata": {},
     "output_type": "display_data"
    }
   ],
   "source": [
    "fig = px.scatter(com4_metrics, x=\"tweet_retweet_fake_count\", y=\"degree\", size = 'degree', color=\"percentage_fake\",\n",
    "                 hover_name=\"user_id\", log_y=False, size_max=60, color_continuous_scale=px.colors.diverging.Temps,\n",
    "                title=\"Fake Tweet Count vs Percentage Fake vs Degree for Community 4\",\n",
    "                labels={\n",
    "                     \"tweet_retweet_fake_count\": \"Fake Tweet/Retweet Count\",\n",
    "                     \"degree\": \"Degree\",\n",
    "                     \"percentage_fake\": \"Percentage Fake\"\n",
    "                 })\n",
    "fig.layout.plot_bgcolor = 'rgb(255,255,255)'\n",
    "fig.show()"
   ]
  },
  {
   "cell_type": "code",
   "execution_count": 103,
   "id": "dd85b5ad",
   "metadata": {},
   "outputs": [
    {
     "data": {
      "application/vnd.plotly.v1+json": {
       "config": {
        "plotlyServerURL": "https://plot.ly"
       },
       "data": [
        {
         "hovertemplate": "<b>%{hovertext}</b><br><br>Fake Tweet/Retweet Count=%{x}<br>Degree=%{marker.size}<br>Percentage Fake=%{marker.color}<extra></extra>",
         "hovertext": [
          55312746,
          234126951,
          314536920,
          16634544,
          4781576424,
          3518486666,
          109623426,
          2790292676,
          40988391,
          3020455940,
          175828319,
          1093982809,
          36156490,
          486882714,
          148628139,
          64357440,
          710516179354259500,
          47019337,
          898767493,
          1289704663,
          947024822327918600,
          16199232,
          465290310,
          4063985534,
          114711796,
          575935050,
          15161367,
          782083003950460900,
          824719742875402200,
          766279737387978800,
          37127042,
          2927706565,
          2207787422,
          218348332,
          2422329920,
          2575780104,
          1596234775,
          1415550662,
          109441206,
          3260503620,
          3151825386,
          928996263957352400,
          1868287897,
          74247792,
          578963077,
          3358911393,
          466864852,
          2225747204,
          214046074,
          796523629,
          807264773381488600,
          104893909,
          4236584177,
          2890103754,
          4748634793,
          343578504,
          273531670,
          3064998581,
          1694502342,
          2955151219,
          2595894727,
          18512153,
          275068772,
          165443183,
          4774933922,
          389853513,
          3950598676,
          91116664,
          906855901,
          898860337,
          125896734,
          876258768820080600,
          874972292,
          872688145,
          842751561117978600,
          816755024940277800,
          785541000613724200,
          781287614263488500,
          136953019,
          65615656,
          582697898,
          56937536,
          568151409,
          4912642362,
          46435868,
          4615965259,
          433524788,
          4311982647,
          257681227,
          260337572,
          2557741327,
          793138718324432900,
          78010122,
          775298638348116000,
          763127590932602900,
          757616784,
          709040768,
          2284527962,
          568308565,
          2316237907,
          54717966,
          525028644,
          49475369,
          491822279,
          483139441,
          231883124,
          430883587,
          248115178,
          405286275,
          3931177994,
          391852168,
          35662894,
          317558232,
          2583355837,
          3015967577,
          781916611926192100,
          800331414117883900,
          24355721,
          800460612119642100,
          204447658,
          1902151532,
          26219530,
          182675273,
          17915515,
          1618380482,
          152687079,
          1479917724,
          1371968256,
          11895882,
          1154011676,
          944539963,
          925902874915336200,
          90498713,
          892787982075256800,
          883116053248606200,
          882024042173255700,
          874886498,
          862353008,
          833311885743255600,
          824420374351863800,
          822423872,
          801991902409146400,
          183520216
         ],
         "legendgroup": "",
         "marker": {
          "color": [
           1,
           0.9473684210526316,
           0.72,
           0.925925925925926,
           1,
           0.875,
           1,
           1,
           1,
           0.4,
           1,
           0.9545454545454546,
           1,
           0.5714285714285714,
           0.7333333333333333,
           1,
           1,
           1,
           0.6666666666666666,
           0.9375,
           0.4444444444444444,
           1,
           1,
           1,
           0.875,
           1,
           0.5,
           1,
           0.75,
           1,
           1,
           1,
           1,
           1,
           0.8846153846153846,
           1,
           0.375,
           0.6,
           1,
           1,
           1,
           1,
           1,
           0.375,
           0.6666666666666666,
           1,
           0.6,
           1,
           1,
           0.4,
           1,
           1,
           1,
           0.5,
           1,
           1,
           1,
           1,
           1,
           1,
           1,
           0.8,
           1,
           1,
           0.5,
           0.5,
           1,
           1,
           1,
           1,
           1,
           1,
           1,
           1,
           1,
           1,
           1,
           1,
           1,
           1,
           1,
           0.5,
           0.3333333333333333,
           1,
           0.5,
           1,
           1,
           1,
           1,
           1,
           1,
           1,
           1,
           0.75,
           1,
           1,
           1,
           0.5,
           0.5,
           1,
           1,
           0.5,
           0.875,
           1,
           1,
           1,
           1,
           1,
           1,
           1,
           1,
           1,
           0.5,
           1,
           1,
           1,
           0.5,
           0.25,
           0.3333333333333333,
           1,
           0.3333333333333333,
           1,
           1,
           1,
           0.3333333333333333,
           1,
           1,
           1,
           1,
           1,
           1,
           1,
           1,
           1,
           1,
           1,
           0.6666666666666666,
           0.5,
           1,
           0.0833333333333333,
           1,
           1,
           1
          ],
          "coloraxis": "coloraxis",
          "size": [
           16,
           13,
           13,
           8,
           8,
           7,
           7,
           6,
           6,
           5,
           5,
           5,
           4,
           4,
           4,
           4,
           4,
           4,
           4,
           4,
           4,
           4,
           3,
           3,
           3,
           3,
           3,
           3,
           3,
           3,
           3,
           3,
           3,
           2,
           2,
           2,
           2,
           2,
           2,
           2,
           2,
           2,
           2,
           2,
           2,
           2,
           2,
           2,
           2,
           2,
           2,
           2,
           2,
           2,
           2,
           1,
           1,
           1,
           1,
           1,
           1,
           1,
           1,
           1,
           1,
           1,
           1,
           1,
           1,
           1,
           1,
           1,
           1,
           1,
           1,
           1,
           1,
           1,
           1,
           1,
           1,
           1,
           1,
           1,
           1,
           1,
           1,
           1,
           1,
           1,
           1,
           1,
           1,
           1,
           1,
           1,
           1,
           1,
           1,
           1,
           1,
           1,
           1,
           1,
           1,
           1,
           1,
           1,
           1,
           1,
           1,
           1,
           1,
           1,
           1,
           1,
           1,
           1,
           1,
           1,
           1,
           1,
           1,
           1,
           1,
           1,
           1,
           1,
           1,
           1,
           1,
           1,
           1,
           1,
           1,
           1,
           1,
           1,
           1,
           1,
           1,
           1,
           1
          ],
          "sizemode": "area",
          "sizeref": 0.0044444444444444444,
          "symbol": "circle"
         },
         "mode": "markers",
         "name": "",
         "orientation": "v",
         "showlegend": false,
         "type": "scatter",
         "x": [
          16,
          18,
          18,
          25,
          13,
          7,
          7,
          6,
          8,
          6,
          16,
          21,
          6,
          4,
          11,
          8,
          11,
          5,
          4,
          15,
          4,
          10,
          5,
          3,
          7,
          3,
          3,
          3,
          3,
          3,
          5,
          3,
          3,
          3,
          23,
          2,
          3,
          3,
          2,
          2,
          2,
          2,
          2,
          3,
          2,
          2,
          3,
          2,
          2,
          2,
          51,
          2,
          7,
          2,
          4,
          1,
          1,
          1,
          1,
          1,
          3,
          4,
          7,
          1,
          2,
          1,
          1,
          2,
          1,
          1,
          1,
          1,
          1,
          1,
          1,
          2,
          1,
          1,
          1,
          1,
          1,
          1,
          1,
          1,
          1,
          2,
          41,
          2,
          1,
          1,
          1,
          1,
          1,
          3,
          1,
          1,
          7,
          1,
          1,
          1,
          1,
          1,
          7,
          1,
          2,
          1,
          1,
          7,
          1,
          1,
          1,
          1,
          1,
          1,
          1,
          1,
          1,
          1,
          1,
          1,
          1,
          1,
          2,
          1,
          1,
          1,
          4,
          1,
          1,
          1,
          1,
          1,
          2,
          1,
          1,
          1,
          2,
          1,
          2,
          1,
          1,
          1,
          1
         ],
         "xaxis": "x",
         "y": [
          16,
          13,
          13,
          8,
          8,
          7,
          7,
          6,
          6,
          5,
          5,
          5,
          4,
          4,
          4,
          4,
          4,
          4,
          4,
          4,
          4,
          4,
          3,
          3,
          3,
          3,
          3,
          3,
          3,
          3,
          3,
          3,
          3,
          2,
          2,
          2,
          2,
          2,
          2,
          2,
          2,
          2,
          2,
          2,
          2,
          2,
          2,
          2,
          2,
          2,
          2,
          2,
          2,
          2,
          2,
          1,
          1,
          1,
          1,
          1,
          1,
          1,
          1,
          1,
          1,
          1,
          1,
          1,
          1,
          1,
          1,
          1,
          1,
          1,
          1,
          1,
          1,
          1,
          1,
          1,
          1,
          1,
          1,
          1,
          1,
          1,
          1,
          1,
          1,
          1,
          1,
          1,
          1,
          1,
          1,
          1,
          1,
          1,
          1,
          1,
          1,
          1,
          1,
          1,
          1,
          1,
          1,
          1,
          1,
          1,
          1,
          1,
          1,
          1,
          1,
          1,
          1,
          1,
          1,
          1,
          1,
          1,
          1,
          1,
          1,
          1,
          1,
          1,
          1,
          1,
          1,
          1,
          1,
          1,
          1,
          1,
          1,
          1,
          1,
          1,
          1,
          1,
          1
         ],
         "yaxis": "y"
        }
       ],
       "layout": {
        "coloraxis": {
         "colorbar": {
          "title": {
           "text": "Percentage Fake"
          }
         },
         "colorscale": [
          [
           0,
           "rgb(0, 147, 146)"
          ],
          [
           0.16666666666666666,
           "rgb(57, 177, 133)"
          ],
          [
           0.3333333333333333,
           "rgb(156, 203, 134)"
          ],
          [
           0.5,
           "rgb(233, 226, 156)"
          ],
          [
           0.6666666666666666,
           "rgb(238, 180, 121)"
          ],
          [
           0.8333333333333334,
           "rgb(232, 132, 113)"
          ],
          [
           1,
           "rgb(207, 89, 126)"
          ]
         ]
        },
        "legend": {
         "itemsizing": "constant",
         "tracegroupgap": 0
        },
        "plot_bgcolor": "rgb(255,255,255)",
        "template": {
         "data": {
          "bar": [
           {
            "error_x": {
             "color": "#2a3f5f"
            },
            "error_y": {
             "color": "#2a3f5f"
            },
            "marker": {
             "line": {
              "color": "#E5ECF6",
              "width": 0.5
             },
             "pattern": {
              "fillmode": "overlay",
              "size": 10,
              "solidity": 0.2
             }
            },
            "type": "bar"
           }
          ],
          "barpolar": [
           {
            "marker": {
             "line": {
              "color": "#E5ECF6",
              "width": 0.5
             },
             "pattern": {
              "fillmode": "overlay",
              "size": 10,
              "solidity": 0.2
             }
            },
            "type": "barpolar"
           }
          ],
          "carpet": [
           {
            "aaxis": {
             "endlinecolor": "#2a3f5f",
             "gridcolor": "white",
             "linecolor": "white",
             "minorgridcolor": "white",
             "startlinecolor": "#2a3f5f"
            },
            "baxis": {
             "endlinecolor": "#2a3f5f",
             "gridcolor": "white",
             "linecolor": "white",
             "minorgridcolor": "white",
             "startlinecolor": "#2a3f5f"
            },
            "type": "carpet"
           }
          ],
          "choropleth": [
           {
            "colorbar": {
             "outlinewidth": 0,
             "ticks": ""
            },
            "type": "choropleth"
           }
          ],
          "contour": [
           {
            "colorbar": {
             "outlinewidth": 0,
             "ticks": ""
            },
            "colorscale": [
             [
              0,
              "#0d0887"
             ],
             [
              0.1111111111111111,
              "#46039f"
             ],
             [
              0.2222222222222222,
              "#7201a8"
             ],
             [
              0.3333333333333333,
              "#9c179e"
             ],
             [
              0.4444444444444444,
              "#bd3786"
             ],
             [
              0.5555555555555556,
              "#d8576b"
             ],
             [
              0.6666666666666666,
              "#ed7953"
             ],
             [
              0.7777777777777778,
              "#fb9f3a"
             ],
             [
              0.8888888888888888,
              "#fdca26"
             ],
             [
              1,
              "#f0f921"
             ]
            ],
            "type": "contour"
           }
          ],
          "contourcarpet": [
           {
            "colorbar": {
             "outlinewidth": 0,
             "ticks": ""
            },
            "type": "contourcarpet"
           }
          ],
          "heatmap": [
           {
            "colorbar": {
             "outlinewidth": 0,
             "ticks": ""
            },
            "colorscale": [
             [
              0,
              "#0d0887"
             ],
             [
              0.1111111111111111,
              "#46039f"
             ],
             [
              0.2222222222222222,
              "#7201a8"
             ],
             [
              0.3333333333333333,
              "#9c179e"
             ],
             [
              0.4444444444444444,
              "#bd3786"
             ],
             [
              0.5555555555555556,
              "#d8576b"
             ],
             [
              0.6666666666666666,
              "#ed7953"
             ],
             [
              0.7777777777777778,
              "#fb9f3a"
             ],
             [
              0.8888888888888888,
              "#fdca26"
             ],
             [
              1,
              "#f0f921"
             ]
            ],
            "type": "heatmap"
           }
          ],
          "heatmapgl": [
           {
            "colorbar": {
             "outlinewidth": 0,
             "ticks": ""
            },
            "colorscale": [
             [
              0,
              "#0d0887"
             ],
             [
              0.1111111111111111,
              "#46039f"
             ],
             [
              0.2222222222222222,
              "#7201a8"
             ],
             [
              0.3333333333333333,
              "#9c179e"
             ],
             [
              0.4444444444444444,
              "#bd3786"
             ],
             [
              0.5555555555555556,
              "#d8576b"
             ],
             [
              0.6666666666666666,
              "#ed7953"
             ],
             [
              0.7777777777777778,
              "#fb9f3a"
             ],
             [
              0.8888888888888888,
              "#fdca26"
             ],
             [
              1,
              "#f0f921"
             ]
            ],
            "type": "heatmapgl"
           }
          ],
          "histogram": [
           {
            "marker": {
             "pattern": {
              "fillmode": "overlay",
              "size": 10,
              "solidity": 0.2
             }
            },
            "type": "histogram"
           }
          ],
          "histogram2d": [
           {
            "colorbar": {
             "outlinewidth": 0,
             "ticks": ""
            },
            "colorscale": [
             [
              0,
              "#0d0887"
             ],
             [
              0.1111111111111111,
              "#46039f"
             ],
             [
              0.2222222222222222,
              "#7201a8"
             ],
             [
              0.3333333333333333,
              "#9c179e"
             ],
             [
              0.4444444444444444,
              "#bd3786"
             ],
             [
              0.5555555555555556,
              "#d8576b"
             ],
             [
              0.6666666666666666,
              "#ed7953"
             ],
             [
              0.7777777777777778,
              "#fb9f3a"
             ],
             [
              0.8888888888888888,
              "#fdca26"
             ],
             [
              1,
              "#f0f921"
             ]
            ],
            "type": "histogram2d"
           }
          ],
          "histogram2dcontour": [
           {
            "colorbar": {
             "outlinewidth": 0,
             "ticks": ""
            },
            "colorscale": [
             [
              0,
              "#0d0887"
             ],
             [
              0.1111111111111111,
              "#46039f"
             ],
             [
              0.2222222222222222,
              "#7201a8"
             ],
             [
              0.3333333333333333,
              "#9c179e"
             ],
             [
              0.4444444444444444,
              "#bd3786"
             ],
             [
              0.5555555555555556,
              "#d8576b"
             ],
             [
              0.6666666666666666,
              "#ed7953"
             ],
             [
              0.7777777777777778,
              "#fb9f3a"
             ],
             [
              0.8888888888888888,
              "#fdca26"
             ],
             [
              1,
              "#f0f921"
             ]
            ],
            "type": "histogram2dcontour"
           }
          ],
          "mesh3d": [
           {
            "colorbar": {
             "outlinewidth": 0,
             "ticks": ""
            },
            "type": "mesh3d"
           }
          ],
          "parcoords": [
           {
            "line": {
             "colorbar": {
              "outlinewidth": 0,
              "ticks": ""
             }
            },
            "type": "parcoords"
           }
          ],
          "pie": [
           {
            "automargin": true,
            "type": "pie"
           }
          ],
          "scatter": [
           {
            "marker": {
             "colorbar": {
              "outlinewidth": 0,
              "ticks": ""
             }
            },
            "type": "scatter"
           }
          ],
          "scatter3d": [
           {
            "line": {
             "colorbar": {
              "outlinewidth": 0,
              "ticks": ""
             }
            },
            "marker": {
             "colorbar": {
              "outlinewidth": 0,
              "ticks": ""
             }
            },
            "type": "scatter3d"
           }
          ],
          "scattercarpet": [
           {
            "marker": {
             "colorbar": {
              "outlinewidth": 0,
              "ticks": ""
             }
            },
            "type": "scattercarpet"
           }
          ],
          "scattergeo": [
           {
            "marker": {
             "colorbar": {
              "outlinewidth": 0,
              "ticks": ""
             }
            },
            "type": "scattergeo"
           }
          ],
          "scattergl": [
           {
            "marker": {
             "colorbar": {
              "outlinewidth": 0,
              "ticks": ""
             }
            },
            "type": "scattergl"
           }
          ],
          "scattermapbox": [
           {
            "marker": {
             "colorbar": {
              "outlinewidth": 0,
              "ticks": ""
             }
            },
            "type": "scattermapbox"
           }
          ],
          "scatterpolar": [
           {
            "marker": {
             "colorbar": {
              "outlinewidth": 0,
              "ticks": ""
             }
            },
            "type": "scatterpolar"
           }
          ],
          "scatterpolargl": [
           {
            "marker": {
             "colorbar": {
              "outlinewidth": 0,
              "ticks": ""
             }
            },
            "type": "scatterpolargl"
           }
          ],
          "scatterternary": [
           {
            "marker": {
             "colorbar": {
              "outlinewidth": 0,
              "ticks": ""
             }
            },
            "type": "scatterternary"
           }
          ],
          "surface": [
           {
            "colorbar": {
             "outlinewidth": 0,
             "ticks": ""
            },
            "colorscale": [
             [
              0,
              "#0d0887"
             ],
             [
              0.1111111111111111,
              "#46039f"
             ],
             [
              0.2222222222222222,
              "#7201a8"
             ],
             [
              0.3333333333333333,
              "#9c179e"
             ],
             [
              0.4444444444444444,
              "#bd3786"
             ],
             [
              0.5555555555555556,
              "#d8576b"
             ],
             [
              0.6666666666666666,
              "#ed7953"
             ],
             [
              0.7777777777777778,
              "#fb9f3a"
             ],
             [
              0.8888888888888888,
              "#fdca26"
             ],
             [
              1,
              "#f0f921"
             ]
            ],
            "type": "surface"
           }
          ],
          "table": [
           {
            "cells": {
             "fill": {
              "color": "#EBF0F8"
             },
             "line": {
              "color": "white"
             }
            },
            "header": {
             "fill": {
              "color": "#C8D4E3"
             },
             "line": {
              "color": "white"
             }
            },
            "type": "table"
           }
          ]
         },
         "layout": {
          "annotationdefaults": {
           "arrowcolor": "#2a3f5f",
           "arrowhead": 0,
           "arrowwidth": 1
          },
          "autotypenumbers": "strict",
          "coloraxis": {
           "colorbar": {
            "outlinewidth": 0,
            "ticks": ""
           }
          },
          "colorscale": {
           "diverging": [
            [
             0,
             "#8e0152"
            ],
            [
             0.1,
             "#c51b7d"
            ],
            [
             0.2,
             "#de77ae"
            ],
            [
             0.3,
             "#f1b6da"
            ],
            [
             0.4,
             "#fde0ef"
            ],
            [
             0.5,
             "#f7f7f7"
            ],
            [
             0.6,
             "#e6f5d0"
            ],
            [
             0.7,
             "#b8e186"
            ],
            [
             0.8,
             "#7fbc41"
            ],
            [
             0.9,
             "#4d9221"
            ],
            [
             1,
             "#276419"
            ]
           ],
           "sequential": [
            [
             0,
             "#0d0887"
            ],
            [
             0.1111111111111111,
             "#46039f"
            ],
            [
             0.2222222222222222,
             "#7201a8"
            ],
            [
             0.3333333333333333,
             "#9c179e"
            ],
            [
             0.4444444444444444,
             "#bd3786"
            ],
            [
             0.5555555555555556,
             "#d8576b"
            ],
            [
             0.6666666666666666,
             "#ed7953"
            ],
            [
             0.7777777777777778,
             "#fb9f3a"
            ],
            [
             0.8888888888888888,
             "#fdca26"
            ],
            [
             1,
             "#f0f921"
            ]
           ],
           "sequentialminus": [
            [
             0,
             "#0d0887"
            ],
            [
             0.1111111111111111,
             "#46039f"
            ],
            [
             0.2222222222222222,
             "#7201a8"
            ],
            [
             0.3333333333333333,
             "#9c179e"
            ],
            [
             0.4444444444444444,
             "#bd3786"
            ],
            [
             0.5555555555555556,
             "#d8576b"
            ],
            [
             0.6666666666666666,
             "#ed7953"
            ],
            [
             0.7777777777777778,
             "#fb9f3a"
            ],
            [
             0.8888888888888888,
             "#fdca26"
            ],
            [
             1,
             "#f0f921"
            ]
           ]
          },
          "colorway": [
           "#636efa",
           "#EF553B",
           "#00cc96",
           "#ab63fa",
           "#FFA15A",
           "#19d3f3",
           "#FF6692",
           "#B6E880",
           "#FF97FF",
           "#FECB52"
          ],
          "font": {
           "color": "#2a3f5f"
          },
          "geo": {
           "bgcolor": "white",
           "lakecolor": "white",
           "landcolor": "#E5ECF6",
           "showlakes": true,
           "showland": true,
           "subunitcolor": "white"
          },
          "hoverlabel": {
           "align": "left"
          },
          "hovermode": "closest",
          "mapbox": {
           "style": "light"
          },
          "paper_bgcolor": "white",
          "plot_bgcolor": "#E5ECF6",
          "polar": {
           "angularaxis": {
            "gridcolor": "white",
            "linecolor": "white",
            "ticks": ""
           },
           "bgcolor": "#E5ECF6",
           "radialaxis": {
            "gridcolor": "white",
            "linecolor": "white",
            "ticks": ""
           }
          },
          "scene": {
           "xaxis": {
            "backgroundcolor": "#E5ECF6",
            "gridcolor": "white",
            "gridwidth": 2,
            "linecolor": "white",
            "showbackground": true,
            "ticks": "",
            "zerolinecolor": "white"
           },
           "yaxis": {
            "backgroundcolor": "#E5ECF6",
            "gridcolor": "white",
            "gridwidth": 2,
            "linecolor": "white",
            "showbackground": true,
            "ticks": "",
            "zerolinecolor": "white"
           },
           "zaxis": {
            "backgroundcolor": "#E5ECF6",
            "gridcolor": "white",
            "gridwidth": 2,
            "linecolor": "white",
            "showbackground": true,
            "ticks": "",
            "zerolinecolor": "white"
           }
          },
          "shapedefaults": {
           "line": {
            "color": "#2a3f5f"
           }
          },
          "ternary": {
           "aaxis": {
            "gridcolor": "white",
            "linecolor": "white",
            "ticks": ""
           },
           "baxis": {
            "gridcolor": "white",
            "linecolor": "white",
            "ticks": ""
           },
           "bgcolor": "#E5ECF6",
           "caxis": {
            "gridcolor": "white",
            "linecolor": "white",
            "ticks": ""
           }
          },
          "title": {
           "x": 0.05
          },
          "xaxis": {
           "automargin": true,
           "gridcolor": "white",
           "linecolor": "white",
           "ticks": "",
           "title": {
            "standoff": 15
           },
           "zerolinecolor": "white",
           "zerolinewidth": 2
          },
          "yaxis": {
           "automargin": true,
           "gridcolor": "white",
           "linecolor": "white",
           "ticks": "",
           "title": {
            "standoff": 15
           },
           "zerolinecolor": "white",
           "zerolinewidth": 2
          }
         }
        },
        "title": {
         "text": "Fake Tweet Count vs Percentage Fake vs Degree for Community 5"
        },
        "xaxis": {
         "anchor": "y",
         "color": "rgb(0,0,0)",
         "domain": [
          0,
          1
         ],
         "title": {
          "text": "Fake Tweet/Retweet Count"
         }
        },
        "yaxis": {
         "anchor": "x",
         "domain": [
          0,
          1
         ],
         "title": {
          "text": "Degree"
         }
        }
       }
      },
      "text/html": [
       "<div>                            <div id=\"ef4d9c67-51be-4602-a865-2a06b22ab1bf\" class=\"plotly-graph-div\" style=\"height:525px; width:100%;\"></div>            <script type=\"text/javascript\">                require([\"plotly\"], function(Plotly) {                    window.PLOTLYENV=window.PLOTLYENV || {};                                    if (document.getElementById(\"ef4d9c67-51be-4602-a865-2a06b22ab1bf\")) {                    Plotly.newPlot(                        \"ef4d9c67-51be-4602-a865-2a06b22ab1bf\",                        [{\"hovertemplate\":\"<b>%{hovertext}</b><br><br>Fake Tweet/Retweet Count=%{x}<br>Degree=%{marker.size}<br>Percentage Fake=%{marker.color}<extra></extra>\",\"hovertext\":[55312746.0,234126951.0,314536920.0,16634544.0,4781576424.0,3518486666.0,109623426.0,2790292676.0,40988391.0,3020455940.0,175828319.0,1093982809.0,36156490.0,486882714.0,148628139.0,64357440.0,7.105161793542595e+17,47019337.0,898767493.0,1289704663.0,9.470248223279186e+17,16199232.0,465290310.0,4063985534.0,114711796.0,575935050.0,15161367.0,7.820830039504609e+17,8.247197428754022e+17,7.662797373879788e+17,37127042.0,2927706565.0,2207787422.0,218348332.0,2422329920.0,2575780104.0,1596234775.0,1415550662.0,109441206.0,3260503620.0,3151825386.0,9.289962639573524e+17,1868287897.0,74247792.0,578963077.0,3358911393.0,466864852.0,2225747204.0,214046074.0,796523629.0,8.072647733814886e+17,104893909.0,4236584177.0,2890103754.0,4748634793.0,343578504.0,273531670.0,3064998581.0,1694502342.0,2955151219.0,2595894727.0,18512153.0,275068772.0,165443183.0,4774933922.0,389853513.0,3950598676.0,91116664.0,906855901.0,898860337.0,125896734.0,8.762587688200806e+17,874972292.0,872688145.0,8.427515611179786e+17,8.167550249402778e+17,7.855410006137242e+17,7.812876142634885e+17,136953019.0,65615656.0,582697898.0,56937536.0,568151409.0,4912642362.0,46435868.0,4615965259.0,433524788.0,4311982647.0,257681227.0,260337572.0,2557741327.0,7.931387183244329e+17,78010122.0,7.75298638348116e+17,7.631275909326029e+17,757616784.0,709040768.0,2284527962.0,568308565.0,2316237907.0,54717966.0,525028644.0,49475369.0,491822279.0,483139441.0,231883124.0,430883587.0,248115178.0,405286275.0,3931177994.0,391852168.0,35662894.0,317558232.0,2583355837.0,3015967577.0,7.819166119261921e+17,8.003314141178839e+17,24355721.0,8.004606121196421e+17,204447658.0,1902151532.0,26219530.0,182675273.0,17915515.0,1618380482.0,152687079.0,1479917724.0,1371968256.0,11895882.0,1154011676.0,944539963.0,9.259028749153362e+17,90498713.0,8.927879820752568e+17,8.831160532486062e+17,8.820240421732557e+17,874886498.0,862353008.0,8.333118857432556e+17,8.244203743518638e+17,822423872.0,8.019919024091464e+17,183520216.0],\"legendgroup\":\"\",\"marker\":{\"color\":[1.0,0.9473684210526316,0.72,0.925925925925926,1.0,0.875,1.0,1.0,1.0,0.4,1.0,0.9545454545454546,1.0,0.5714285714285714,0.7333333333333333,1.0,1.0,1.0,0.6666666666666666,0.9375,0.4444444444444444,1.0,1.0,1.0,0.875,1.0,0.5,1.0,0.75,1.0,1.0,1.0,1.0,1.0,0.8846153846153846,1.0,0.375,0.6,1.0,1.0,1.0,1.0,1.0,0.375,0.6666666666666666,1.0,0.6,1.0,1.0,0.4,1.0,1.0,1.0,0.5,1.0,1.0,1.0,1.0,1.0,1.0,1.0,0.8,1.0,1.0,0.5,0.5,1.0,1.0,1.0,1.0,1.0,1.0,1.0,1.0,1.0,1.0,1.0,1.0,1.0,1.0,1.0,0.5,0.3333333333333333,1.0,0.5,1.0,1.0,1.0,1.0,1.0,1.0,1.0,1.0,0.75,1.0,1.0,1.0,0.5,0.5,1.0,1.0,0.5,0.875,1.0,1.0,1.0,1.0,1.0,1.0,1.0,1.0,1.0,0.5,1.0,1.0,1.0,0.5,0.25,0.3333333333333333,1.0,0.3333333333333333,1.0,1.0,1.0,0.3333333333333333,1.0,1.0,1.0,1.0,1.0,1.0,1.0,1.0,1.0,1.0,1.0,0.6666666666666666,0.5,1.0,0.0833333333333333,1.0,1.0,1.0],\"coloraxis\":\"coloraxis\",\"size\":[16,13,13,8,8,7,7,6,6,5,5,5,4,4,4,4,4,4,4,4,4,4,3,3,3,3,3,3,3,3,3,3,3,2,2,2,2,2,2,2,2,2,2,2,2,2,2,2,2,2,2,2,2,2,2,1,1,1,1,1,1,1,1,1,1,1,1,1,1,1,1,1,1,1,1,1,1,1,1,1,1,1,1,1,1,1,1,1,1,1,1,1,1,1,1,1,1,1,1,1,1,1,1,1,1,1,1,1,1,1,1,1,1,1,1,1,1,1,1,1,1,1,1,1,1,1,1,1,1,1,1,1,1,1,1,1,1,1,1,1,1,1,1],\"sizemode\":\"area\",\"sizeref\":0.0044444444444444444,\"symbol\":\"circle\"},\"mode\":\"markers\",\"name\":\"\",\"orientation\":\"v\",\"showlegend\":false,\"type\":\"scatter\",\"x\":[16,18,18,25,13,7,7,6,8,6,16,21,6,4,11,8,11,5,4,15,4,10,5,3,7,3,3,3,3,3,5,3,3,3,23,2,3,3,2,2,2,2,2,3,2,2,3,2,2,2,51,2,7,2,4,1,1,1,1,1,3,4,7,1,2,1,1,2,1,1,1,1,1,1,1,2,1,1,1,1,1,1,1,1,1,2,41,2,1,1,1,1,1,3,1,1,7,1,1,1,1,1,7,1,2,1,1,7,1,1,1,1,1,1,1,1,1,1,1,1,1,1,2,1,1,1,4,1,1,1,1,1,2,1,1,1,2,1,2,1,1,1,1],\"xaxis\":\"x\",\"y\":[16,13,13,8,8,7,7,6,6,5,5,5,4,4,4,4,4,4,4,4,4,4,3,3,3,3,3,3,3,3,3,3,3,2,2,2,2,2,2,2,2,2,2,2,2,2,2,2,2,2,2,2,2,2,2,1,1,1,1,1,1,1,1,1,1,1,1,1,1,1,1,1,1,1,1,1,1,1,1,1,1,1,1,1,1,1,1,1,1,1,1,1,1,1,1,1,1,1,1,1,1,1,1,1,1,1,1,1,1,1,1,1,1,1,1,1,1,1,1,1,1,1,1,1,1,1,1,1,1,1,1,1,1,1,1,1,1,1,1,1,1,1,1],\"yaxis\":\"y\"}],                        {\"coloraxis\":{\"colorbar\":{\"title\":{\"text\":\"Percentage Fake\"}},\"colorscale\":[[0.0,\"rgb(0, 147, 146)\"],[0.16666666666666666,\"rgb(57, 177, 133)\"],[0.3333333333333333,\"rgb(156, 203, 134)\"],[0.5,\"rgb(233, 226, 156)\"],[0.6666666666666666,\"rgb(238, 180, 121)\"],[0.8333333333333334,\"rgb(232, 132, 113)\"],[1.0,\"rgb(207, 89, 126)\"]]},\"legend\":{\"itemsizing\":\"constant\",\"tracegroupgap\":0},\"plot_bgcolor\":\"rgb(255,255,255)\",\"template\":{\"data\":{\"bar\":[{\"error_x\":{\"color\":\"#2a3f5f\"},\"error_y\":{\"color\":\"#2a3f5f\"},\"marker\":{\"line\":{\"color\":\"#E5ECF6\",\"width\":0.5},\"pattern\":{\"fillmode\":\"overlay\",\"size\":10,\"solidity\":0.2}},\"type\":\"bar\"}],\"barpolar\":[{\"marker\":{\"line\":{\"color\":\"#E5ECF6\",\"width\":0.5},\"pattern\":{\"fillmode\":\"overlay\",\"size\":10,\"solidity\":0.2}},\"type\":\"barpolar\"}],\"carpet\":[{\"aaxis\":{\"endlinecolor\":\"#2a3f5f\",\"gridcolor\":\"white\",\"linecolor\":\"white\",\"minorgridcolor\":\"white\",\"startlinecolor\":\"#2a3f5f\"},\"baxis\":{\"endlinecolor\":\"#2a3f5f\",\"gridcolor\":\"white\",\"linecolor\":\"white\",\"minorgridcolor\":\"white\",\"startlinecolor\":\"#2a3f5f\"},\"type\":\"carpet\"}],\"choropleth\":[{\"colorbar\":{\"outlinewidth\":0,\"ticks\":\"\"},\"type\":\"choropleth\"}],\"contour\":[{\"colorbar\":{\"outlinewidth\":0,\"ticks\":\"\"},\"colorscale\":[[0.0,\"#0d0887\"],[0.1111111111111111,\"#46039f\"],[0.2222222222222222,\"#7201a8\"],[0.3333333333333333,\"#9c179e\"],[0.4444444444444444,\"#bd3786\"],[0.5555555555555556,\"#d8576b\"],[0.6666666666666666,\"#ed7953\"],[0.7777777777777778,\"#fb9f3a\"],[0.8888888888888888,\"#fdca26\"],[1.0,\"#f0f921\"]],\"type\":\"contour\"}],\"contourcarpet\":[{\"colorbar\":{\"outlinewidth\":0,\"ticks\":\"\"},\"type\":\"contourcarpet\"}],\"heatmap\":[{\"colorbar\":{\"outlinewidth\":0,\"ticks\":\"\"},\"colorscale\":[[0.0,\"#0d0887\"],[0.1111111111111111,\"#46039f\"],[0.2222222222222222,\"#7201a8\"],[0.3333333333333333,\"#9c179e\"],[0.4444444444444444,\"#bd3786\"],[0.5555555555555556,\"#d8576b\"],[0.6666666666666666,\"#ed7953\"],[0.7777777777777778,\"#fb9f3a\"],[0.8888888888888888,\"#fdca26\"],[1.0,\"#f0f921\"]],\"type\":\"heatmap\"}],\"heatmapgl\":[{\"colorbar\":{\"outlinewidth\":0,\"ticks\":\"\"},\"colorscale\":[[0.0,\"#0d0887\"],[0.1111111111111111,\"#46039f\"],[0.2222222222222222,\"#7201a8\"],[0.3333333333333333,\"#9c179e\"],[0.4444444444444444,\"#bd3786\"],[0.5555555555555556,\"#d8576b\"],[0.6666666666666666,\"#ed7953\"],[0.7777777777777778,\"#fb9f3a\"],[0.8888888888888888,\"#fdca26\"],[1.0,\"#f0f921\"]],\"type\":\"heatmapgl\"}],\"histogram\":[{\"marker\":{\"pattern\":{\"fillmode\":\"overlay\",\"size\":10,\"solidity\":0.2}},\"type\":\"histogram\"}],\"histogram2d\":[{\"colorbar\":{\"outlinewidth\":0,\"ticks\":\"\"},\"colorscale\":[[0.0,\"#0d0887\"],[0.1111111111111111,\"#46039f\"],[0.2222222222222222,\"#7201a8\"],[0.3333333333333333,\"#9c179e\"],[0.4444444444444444,\"#bd3786\"],[0.5555555555555556,\"#d8576b\"],[0.6666666666666666,\"#ed7953\"],[0.7777777777777778,\"#fb9f3a\"],[0.8888888888888888,\"#fdca26\"],[1.0,\"#f0f921\"]],\"type\":\"histogram2d\"}],\"histogram2dcontour\":[{\"colorbar\":{\"outlinewidth\":0,\"ticks\":\"\"},\"colorscale\":[[0.0,\"#0d0887\"],[0.1111111111111111,\"#46039f\"],[0.2222222222222222,\"#7201a8\"],[0.3333333333333333,\"#9c179e\"],[0.4444444444444444,\"#bd3786\"],[0.5555555555555556,\"#d8576b\"],[0.6666666666666666,\"#ed7953\"],[0.7777777777777778,\"#fb9f3a\"],[0.8888888888888888,\"#fdca26\"],[1.0,\"#f0f921\"]],\"type\":\"histogram2dcontour\"}],\"mesh3d\":[{\"colorbar\":{\"outlinewidth\":0,\"ticks\":\"\"},\"type\":\"mesh3d\"}],\"parcoords\":[{\"line\":{\"colorbar\":{\"outlinewidth\":0,\"ticks\":\"\"}},\"type\":\"parcoords\"}],\"pie\":[{\"automargin\":true,\"type\":\"pie\"}],\"scatter\":[{\"marker\":{\"colorbar\":{\"outlinewidth\":0,\"ticks\":\"\"}},\"type\":\"scatter\"}],\"scatter3d\":[{\"line\":{\"colorbar\":{\"outlinewidth\":0,\"ticks\":\"\"}},\"marker\":{\"colorbar\":{\"outlinewidth\":0,\"ticks\":\"\"}},\"type\":\"scatter3d\"}],\"scattercarpet\":[{\"marker\":{\"colorbar\":{\"outlinewidth\":0,\"ticks\":\"\"}},\"type\":\"scattercarpet\"}],\"scattergeo\":[{\"marker\":{\"colorbar\":{\"outlinewidth\":0,\"ticks\":\"\"}},\"type\":\"scattergeo\"}],\"scattergl\":[{\"marker\":{\"colorbar\":{\"outlinewidth\":0,\"ticks\":\"\"}},\"type\":\"scattergl\"}],\"scattermapbox\":[{\"marker\":{\"colorbar\":{\"outlinewidth\":0,\"ticks\":\"\"}},\"type\":\"scattermapbox\"}],\"scatterpolar\":[{\"marker\":{\"colorbar\":{\"outlinewidth\":0,\"ticks\":\"\"}},\"type\":\"scatterpolar\"}],\"scatterpolargl\":[{\"marker\":{\"colorbar\":{\"outlinewidth\":0,\"ticks\":\"\"}},\"type\":\"scatterpolargl\"}],\"scatterternary\":[{\"marker\":{\"colorbar\":{\"outlinewidth\":0,\"ticks\":\"\"}},\"type\":\"scatterternary\"}],\"surface\":[{\"colorbar\":{\"outlinewidth\":0,\"ticks\":\"\"},\"colorscale\":[[0.0,\"#0d0887\"],[0.1111111111111111,\"#46039f\"],[0.2222222222222222,\"#7201a8\"],[0.3333333333333333,\"#9c179e\"],[0.4444444444444444,\"#bd3786\"],[0.5555555555555556,\"#d8576b\"],[0.6666666666666666,\"#ed7953\"],[0.7777777777777778,\"#fb9f3a\"],[0.8888888888888888,\"#fdca26\"],[1.0,\"#f0f921\"]],\"type\":\"surface\"}],\"table\":[{\"cells\":{\"fill\":{\"color\":\"#EBF0F8\"},\"line\":{\"color\":\"white\"}},\"header\":{\"fill\":{\"color\":\"#C8D4E3\"},\"line\":{\"color\":\"white\"}},\"type\":\"table\"}]},\"layout\":{\"annotationdefaults\":{\"arrowcolor\":\"#2a3f5f\",\"arrowhead\":0,\"arrowwidth\":1},\"autotypenumbers\":\"strict\",\"coloraxis\":{\"colorbar\":{\"outlinewidth\":0,\"ticks\":\"\"}},\"colorscale\":{\"diverging\":[[0,\"#8e0152\"],[0.1,\"#c51b7d\"],[0.2,\"#de77ae\"],[0.3,\"#f1b6da\"],[0.4,\"#fde0ef\"],[0.5,\"#f7f7f7\"],[0.6,\"#e6f5d0\"],[0.7,\"#b8e186\"],[0.8,\"#7fbc41\"],[0.9,\"#4d9221\"],[1,\"#276419\"]],\"sequential\":[[0.0,\"#0d0887\"],[0.1111111111111111,\"#46039f\"],[0.2222222222222222,\"#7201a8\"],[0.3333333333333333,\"#9c179e\"],[0.4444444444444444,\"#bd3786\"],[0.5555555555555556,\"#d8576b\"],[0.6666666666666666,\"#ed7953\"],[0.7777777777777778,\"#fb9f3a\"],[0.8888888888888888,\"#fdca26\"],[1.0,\"#f0f921\"]],\"sequentialminus\":[[0.0,\"#0d0887\"],[0.1111111111111111,\"#46039f\"],[0.2222222222222222,\"#7201a8\"],[0.3333333333333333,\"#9c179e\"],[0.4444444444444444,\"#bd3786\"],[0.5555555555555556,\"#d8576b\"],[0.6666666666666666,\"#ed7953\"],[0.7777777777777778,\"#fb9f3a\"],[0.8888888888888888,\"#fdca26\"],[1.0,\"#f0f921\"]]},\"colorway\":[\"#636efa\",\"#EF553B\",\"#00cc96\",\"#ab63fa\",\"#FFA15A\",\"#19d3f3\",\"#FF6692\",\"#B6E880\",\"#FF97FF\",\"#FECB52\"],\"font\":{\"color\":\"#2a3f5f\"},\"geo\":{\"bgcolor\":\"white\",\"lakecolor\":\"white\",\"landcolor\":\"#E5ECF6\",\"showlakes\":true,\"showland\":true,\"subunitcolor\":\"white\"},\"hoverlabel\":{\"align\":\"left\"},\"hovermode\":\"closest\",\"mapbox\":{\"style\":\"light\"},\"paper_bgcolor\":\"white\",\"plot_bgcolor\":\"#E5ECF6\",\"polar\":{\"angularaxis\":{\"gridcolor\":\"white\",\"linecolor\":\"white\",\"ticks\":\"\"},\"bgcolor\":\"#E5ECF6\",\"radialaxis\":{\"gridcolor\":\"white\",\"linecolor\":\"white\",\"ticks\":\"\"}},\"scene\":{\"xaxis\":{\"backgroundcolor\":\"#E5ECF6\",\"gridcolor\":\"white\",\"gridwidth\":2,\"linecolor\":\"white\",\"showbackground\":true,\"ticks\":\"\",\"zerolinecolor\":\"white\"},\"yaxis\":{\"backgroundcolor\":\"#E5ECF6\",\"gridcolor\":\"white\",\"gridwidth\":2,\"linecolor\":\"white\",\"showbackground\":true,\"ticks\":\"\",\"zerolinecolor\":\"white\"},\"zaxis\":{\"backgroundcolor\":\"#E5ECF6\",\"gridcolor\":\"white\",\"gridwidth\":2,\"linecolor\":\"white\",\"showbackground\":true,\"ticks\":\"\",\"zerolinecolor\":\"white\"}},\"shapedefaults\":{\"line\":{\"color\":\"#2a3f5f\"}},\"ternary\":{\"aaxis\":{\"gridcolor\":\"white\",\"linecolor\":\"white\",\"ticks\":\"\"},\"baxis\":{\"gridcolor\":\"white\",\"linecolor\":\"white\",\"ticks\":\"\"},\"bgcolor\":\"#E5ECF6\",\"caxis\":{\"gridcolor\":\"white\",\"linecolor\":\"white\",\"ticks\":\"\"}},\"title\":{\"x\":0.05},\"xaxis\":{\"automargin\":true,\"gridcolor\":\"white\",\"linecolor\":\"white\",\"ticks\":\"\",\"title\":{\"standoff\":15},\"zerolinecolor\":\"white\",\"zerolinewidth\":2},\"yaxis\":{\"automargin\":true,\"gridcolor\":\"white\",\"linecolor\":\"white\",\"ticks\":\"\",\"title\":{\"standoff\":15},\"zerolinecolor\":\"white\",\"zerolinewidth\":2}}},\"title\":{\"text\":\"Fake Tweet Count vs Percentage Fake vs Degree for Community 5\"},\"xaxis\":{\"anchor\":\"y\",\"color\":\"rgb(0,0,0)\",\"domain\":[0.0,1.0],\"title\":{\"text\":\"Fake Tweet/Retweet Count\"}},\"yaxis\":{\"anchor\":\"x\",\"domain\":[0.0,1.0],\"title\":{\"text\":\"Degree\"}}},                        {\"responsive\": true}                    ).then(function(){\n",
       "                            \n",
       "var gd = document.getElementById('ef4d9c67-51be-4602-a865-2a06b22ab1bf');\n",
       "var x = new MutationObserver(function (mutations, observer) {{\n",
       "        var display = window.getComputedStyle(gd).display;\n",
       "        if (!display || display === 'none') {{\n",
       "            console.log([gd, 'removed!']);\n",
       "            Plotly.purge(gd);\n",
       "            observer.disconnect();\n",
       "        }}\n",
       "}});\n",
       "\n",
       "// Listen for the removal of the full notebook cells\n",
       "var notebookContainer = gd.closest('#notebook-container');\n",
       "if (notebookContainer) {{\n",
       "    x.observe(notebookContainer, {childList: true});\n",
       "}}\n",
       "\n",
       "// Listen for the clearing of the current output cell\n",
       "var outputEl = gd.closest('.output');\n",
       "if (outputEl) {{\n",
       "    x.observe(outputEl, {childList: true});\n",
       "}}\n",
       "\n",
       "                        })                };                });            </script>        </div>"
      ]
     },
     "metadata": {},
     "output_type": "display_data"
    }
   ],
   "source": [
    "fig = px.scatter(com5_metrics, x=\"tweet_retweet_fake_count\", y=\"degree\", size = 'degree', color=\"percentage_fake\",\n",
    "                 hover_name=\"user_id\", log_y=False, size_max=60, color_continuous_scale=px.colors.diverging.Temps,\n",
    "                title=\"Fake Tweet Count vs Percentage Fake vs Degree for Community 5\",\n",
    "                labels={\n",
    "                     \"tweet_retweet_fake_count\": \"Fake Tweet/Retweet Count\",\n",
    "                     \"degree\": \"Degree\",\n",
    "                     \"percentage_fake\": \"Percentage Fake\"\n",
    "                 })\n",
    "fig.layout.plot_bgcolor = 'rgb(255,255,255)'\n",
    "fig.layout.xaxis.color = 'rgb(0,0,0)'\n",
    "fig.show()"
   ]
  },
  {
   "cell_type": "code",
   "execution_count": null,
   "id": "50504898",
   "metadata": {},
   "outputs": [],
   "source": []
  }
 ],
 "metadata": {
  "kernelspec": {
   "display_name": "Python 3 (ipykernel)",
   "language": "python",
   "name": "python3"
  },
  "language_info": {
   "codemirror_mode": {
    "name": "ipython",
    "version": 3
   },
   "file_extension": ".py",
   "mimetype": "text/x-python",
   "name": "python",
   "nbconvert_exporter": "python",
   "pygments_lexer": "ipython3",
   "version": "3.8.5"
  }
 },
 "nbformat": 4,
 "nbformat_minor": 5
}
